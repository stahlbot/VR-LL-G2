{
 "cells": [
  {
   "cell_type": "code",
   "execution_count": 1,
   "id": "51a7ba80-f39d-4bde-9845-1ac9b84131b8",
   "metadata": {},
   "outputs": [],
   "source": [
    "import pymongo"
   ]
  },
  {
   "cell_type": "code",
   "execution_count": 16,
   "id": "92c6fae8-ae34-4ed4-8ed4-485767e6eaeb",
   "metadata": {},
   "outputs": [],
   "source": [
    "myclient = pymongo.MongoClient(\"mongodb://localhost:27017/\")\n",
    "mydb = myclient[\"MMM_Task\"]\n",
    "meta_col = mydb[\"MMM_Task.meta\"]\n",
    "time_col = mydb[\"MMM_G26_T\"]"
   ]
  },
  {
   "cell_type": "code",
   "execution_count": null,
   "id": "f901ab01-c9a5-4897-88c7-d6fe41f2ef1d",
   "metadata": {},
   "outputs": [],
   "source": [
    "myQuery = {'timestamp': 0.40833351016044617}"
   ]
  },
  {
   "cell_type": "code",
   "execution_count": 45,
   "id": "b27586ba-a0fd-4cff-b7ca-a4ff055a9cf5",
   "metadata": {},
   "outputs": [
    {
     "name": "stderr",
     "output_type": "stream",
     "text": [
      "IOPub data rate exceeded.\n",
      "The Jupyter server will temporarily stop sending output\n",
      "to the client in order to avoid crashing it.\n",
      "To change this limit, set the config variable\n",
      "`--ServerApp.iopub_data_rate_limit`.\n",
      "\n",
      "Current values:\n",
      "ServerApp.iopub_data_rate_limit=1000000.0 (bytes/sec)\n",
      "ServerApp.rate_limit_window=3.0 (secs)\n",
      "\n"
     ]
    }
   ],
   "source": [
    "x = time_col.find({\"timestamp\": {\"$gt\": 0}})\n",
    "print(*x)\n",
    "\n",
    "{\"$$individual.id\": { \"$in\": [ja_milch_id]}}"
   ]
  },
  {
   "cell_type": "code",
   "execution_count": 122,
   "id": "9fdb1f67-5906-4ec8-8d44-c11971071882",
   "metadata": {},
   "outputs": [
    {
     "name": "stdout",
     "output_type": "stream",
     "text": [
      "{'id': 'DmFHsC85_km-ff0qxLoXtQ', 'locations': [[-38.24079132080078, 367.6930236816406, 130.5958251953125, 1.5169340372085571], [-38.24079132080078, 367.6930236816406, 130.5958251953125, 1.5726712942123413], [-38.24079132080078, 367.6930236816406, 130.5958251953125, 1.6280999183654785], [-38.24079132080078, 367.6930236816406, 130.5958251953125, 1.6839064359664917], [-38.24079132080078, 367.6930236816406, 130.5958251953125, 1.7383676767349243], [-38.24079132080078, 367.6930236816406, 130.5958251953125, 1.7909387350082397], [-38.24079132080078, 367.6930236816406, 130.5958251953125, 1.8136649131774902], [-38.24079132080078, 367.6930236816406, 130.5958251953125, 1.8358211517333984], [-38.24079132080078, 367.6930236816406, 130.5958251953125, 1.8571341037750244], [-38.24079132080078, 367.6930236816406, 130.5958251953125, 1.8790242671966553], [-38.24079132080078, 367.6930236816406, 130.5958251953125, 1.902084231376648], [-38.24079132080078, 367.6930236816406, 130.5958251953125, 1.9250571727752686], [-38.24079132080078, 367.6930236816406, 130.5958251953125, 1.9458484649658203], [-38.24079132080078, 367.6930236816406, 130.5958251953125, 1.9686404466629028], [-38.24079132080078, 367.6930236816406, 130.5958251953125, 1.990531086921692]]}\n",
      "{'id': '_pI9DAGyIUGSpUuDn8rEHQ', 'locations': [[180.97891235351562, 270.853515625, 93.53721618652344, 1.5169340372085571], [180.97891235351562, 270.853515625, 93.53721618652344, 1.5726712942123413], [180.97891235351562, 270.853515625, 93.53721618652344, 1.6280999183654785], [180.97891235351562, 270.853515625, 93.53721618652344, 1.6839064359664917], [180.97891235351562, 270.853515625, 93.53721618652344, 1.7383676767349243], [180.97891235351562, 270.853515625, 93.53721618652344, 1.7909387350082397], [180.97891235351562, 270.853515625, 93.53721618652344, 1.8136649131774902], [180.97891235351562, 270.853515625, 93.53721618652344, 1.8358211517333984], [180.97891235351562, 270.853515625, 93.53721618652344, 1.8571341037750244], [180.97891235351562, 270.853515625, 93.53721618652344, 1.8790242671966553], [180.97891235351562, 270.853515625, 93.53721618652344, 1.902084231376648], [180.97891235351562, 270.853515625, 93.53721618652344, 1.9250571727752686], [180.97891235351562, 270.853515625, 93.53721618652344, 1.9458484649658203], [180.97891235351562, 270.853515625, 93.53721618652344, 1.9686404466629028], [180.97891235351562, 270.853515625, 93.53721618652344, 1.990531086921692]]}\n"
     ]
    }
   ],
   "source": [
    "start_time = 1.5\n",
    "end_time = 2\n",
    "ids = ['_pI9DAGyIUGSpUuDn8rEHQ', 'DmFHsC85_km-ff0qxLoXtQ']\n",
    "result = time_col.aggregate([\n",
    "    {\n",
    "        \"$match\": {\"timestamp\": {\"$lte\": end_time, \"$gte\": start_time}}\n",
    "    },\n",
    "    {\n",
    "        \"$project\" : {\n",
    "            \"timestamp\": 1, \n",
    "            \"individuals\": {\n",
    "                \"$filter\": {\n",
    "                    \"input\": \"$individuals\",\n",
    "                    \"as\": \"individual\",\n",
    "                    \"cond\": {\"$in\": [\"$$individual.id\", ids]}\n",
    "                }\n",
    "            }\n",
    "        }\n",
    "    },\n",
    "    {\n",
    "        \"$unwind\": \"$individuals\"\n",
    "    },\n",
    "    {\n",
    "        \"$project\" : {\"id\": \"$individuals.id\", \"timestamp\": 1, \"loc\": \"$individuals.loc\"}\n",
    "    },\n",
    "    {\n",
    "        \"$group\": \n",
    "        {\n",
    "            \"_id\": \"$id\",\n",
    "            \"locations\": {\"$push\": {\"x\": \"$loc.x\", \"y\": \"$loc.y\", \"z\": \"$loc.z\", \"time\": \"$timestamp\"}}\n",
    "        }\n",
    "    },\n",
    "        {\n",
    "        \"$project\": {\"_id\": 0, \"id\": \"$_id\", \"timestamps\": 1, \"locations\": \n",
    "                     {\n",
    "                         \"$map\": {\n",
    "                             \"input\": \"$locations\",\n",
    "                             \"as\": \"location\",\n",
    "                             \"in\": [\"$$location.x\", \"$$location.y\",\"$$location.z\", \"$$location.time\"]\n",
    "                         }\n",
    "                     }\n",
    "                    }\n",
    "    }\n",
    "])\n",
    "\n",
    "for i in result:\n",
    "    print(i)"
   ]
  },
  {
   "cell_type": "code",
   "execution_count": null,
   "id": "b73fe241-04cc-4c4b-b074-f319329ef2ee",
   "metadata": {},
   "outputs": [],
   "source": []
  }
 ],
 "metadata": {
  "kernelspec": {
   "display_name": "Python 3 (ipykernel)",
   "language": "python",
   "name": "python3"
  },
  "language_info": {
   "codemirror_mode": {
    "name": "ipython",
    "version": 3
   },
   "file_extension": ".py",
   "mimetype": "text/x-python",
   "name": "python",
   "nbconvert_exporter": "python",
   "pygments_lexer": "ipython3",
   "version": "3.11.0"
  }
 },
 "nbformat": 4,
 "nbformat_minor": 5
}
