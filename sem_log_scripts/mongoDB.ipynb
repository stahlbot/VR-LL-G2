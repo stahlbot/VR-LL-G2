{
 "cells": [
  {
   "cell_type": "code",
   "execution_count": 114,
   "id": "51a7ba80-f39d-4bde-9845-1ac9b84131b8",
   "metadata": {},
   "outputs": [],
   "source": [
    "import pymongo\n",
    "import plotly.express as px\n",
    "import pandas as pd\n",
    "from owlready2 import *"
   ]
  },
  {
   "cell_type": "code",
   "execution_count": 2,
   "id": "92c6fae8-ae34-4ed4-8ed4-485767e6eaeb",
   "metadata": {},
   "outputs": [],
   "source": [
    "myclient = pymongo.MongoClient(\"mongodb://localhost:27017/\")\n",
    "mydb = myclient[\"MMM_Task\"]\n",
    "meta_col = mydb[\"MMM_Task.meta\"]\n",
    "time_col = mydb[\"MMM_G26_T\"]"
   ]
  },
  {
   "cell_type": "code",
   "execution_count": 6,
   "id": "4bbac3d0-2f91-4e70-914c-17f76e4a2a6d",
   "metadata": {},
   "outputs": [],
   "source": [
    "def get_trajectory(ids, start_time, end_time):\n",
    "    result = time_col.aggregate([\n",
    "        {\n",
    "            \"$match\": {\"timestamp\": {\"$lte\": end_time, \"$gte\": start_time}}\n",
    "        },\n",
    "        {\n",
    "            \"$project\" : {\n",
    "                \"timestamp\": 1, \n",
    "                \"individuals\": {\n",
    "                    \"$filter\": {\n",
    "                        \"input\": \"$individuals\",\n",
    "                        \"as\": \"individual\",\n",
    "                        \"cond\": {\"$in\": [\"$$individual.id\", ids]}\n",
    "                    }\n",
    "                }\n",
    "            }\n",
    "        },\n",
    "        {\n",
    "            \"$unwind\": \"$individuals\"\n",
    "        },\n",
    "        {\n",
    "            \"$project\" : {\"id\": \"$individuals.id\", \"timestamp\": 1, \"loc\": \"$individuals.loc\"}\n",
    "        },\n",
    "        {\n",
    "            \"$group\": \n",
    "            {\n",
    "                \"_id\": \"$id\",\n",
    "                \"locations\": {\"$push\": {\"x\": \"$loc.x\", \"y\": \"$loc.y\", \"z\": \"$loc.z\", \"time\": \"$timestamp\"}}\n",
    "            }\n",
    "        },\n",
    "            {\n",
    "            \"$project\": {\"_id\": 0, \"id\": \"$_id\", \"timestamps\": 1, \"locations\": \n",
    "                         {\n",
    "                             \"$map\": {\n",
    "                                 \"input\": \"$locations\",\n",
    "                                 \"as\": \"location\",\n",
    "                                 \"in\": [\"$$location.x\", \"$$location.y\",\"$$location.z\", \"$$location.time\"]\n",
    "                             }\n",
    "                         }\n",
    "                        }\n",
    "        },\n",
    "        {\n",
    "            \"$lookup\":\n",
    "            {\n",
    "                \"from\": \"MMM_Task.meta\",\n",
    "                \"let\": {\"id\": \"$id\"},\n",
    "                \"pipeline\": \n",
    "                [\n",
    "                    {\"$unwind\": \"$individuals\"},\n",
    "                    {\"$project\": \n",
    "                     {\n",
    "                         \"_id\": \"$individuals.id\",\n",
    "                         \"className\": \"$individuals.class\",\n",
    "                     }\n",
    "                    },\n",
    "                    {\"$match\":{\"$expr\": {\"$eq\": [\"$_id\", \"$$id\"]}}},\n",
    "                ],\n",
    "                \"as\": \"className\"\n",
    "            }\n",
    "        },\n",
    "        {\n",
    "            \"$project\": {\"id\": 1, \"locations\": 1, \"className\": \n",
    "                         {\n",
    "                             \"$first\": \"$className\"\n",
    "                         }\n",
    "                        }\n",
    "        },\n",
    "        {\n",
    "            \"$project\": {\"id\": 1, \"locations\": 1, \"className\": \"$className.className\"\n",
    "                        }\n",
    "        }\n",
    "    ])\n",
    "    return result"
   ]
  },
  {
   "cell_type": "code",
   "execution_count": 115,
   "id": "b73fe241-04cc-4c4b-b074-f319329ef2ee",
   "metadata": {},
   "outputs": [],
   "source": [
    "# Works with a List of Object IDs and plots the trajectory of each object in a plot in it's own color\n",
    "def plot_trajectories(object_ids, start_time=0, end_time=sys.maxsize):\n",
    "    pf = pd.DataFrame(columns=['X', 'Y', 'Z', 'Time', 'ID'])\n",
    "    \n",
    "    data = list(get_trajectory(object_ids, start_time, end_time))\n",
    "    \n",
    "    for individual in data:\n",
    "        individual_id = individual[\"id\"]\n",
    "        individual_class = individual[\"className\"]\n",
    "        trajectory = individual[\"locations\"]\n",
    "        df =  pd.DataFrame(trajectory, columns=['X', 'Y', 'Z', 'Time'])\n",
    "        df['ID'] = f\"{individual_class}: {individual_id}\"\n",
    "        pf = pd.concat([df, pf])\n",
    "    \n",
    "      \n",
    "    fig = px.line_3d(pf, x='X', y='Y', z='Z', color='ID', hover_name=\"Time\", width=1000, height=600)\n",
    "    # fig = px.scatter_3d(df, x='X', y='Y', z='Z',color='Time')\n",
    "    fig.show()"
   ]
  },
  {
   "cell_type": "code",
   "execution_count": 116,
   "id": "efb636d0-6799-4989-9ebf-46bed43a2789",
   "metadata": {},
   "outputs": [
    {
     "data": {
      "text/plain": [
       "get_ontology(\"http://knowrob.org/kb/ameva_log.owl#\")"
      ]
     },
     "execution_count": 116,
     "metadata": {},
     "output_type": "execute_result"
    }
   ],
   "source": [
    "onto_path.append(\"./SL_Files/\")\n",
    "onto = get_ontology(\"file:///Users/timonstahlbock/Desktop/VR-LL-G2/sem_log_scripts/SL_Files/Tasks/MMM_Task/MMM_G26_T_ED.owl\")\n",
    "onto.load()"
   ]
  },
  {
   "cell_type": "code",
   "execution_count": 106,
   "id": "22b37a2c-a501-4633-9763-32449d191a8c",
   "metadata": {},
   "outputs": [
    {
     "name": "stdout",
     "output_type": "stream",
     "text": [
      "[{'start_time': 0.476154, 'end_time': 0.907067, 'objects': ['AuP-SAqPu02Vrgu6df6Txg', '9jrJzTZvSkqUjwIvPEavYA']}, {'start_time': 0.476154, 'end_time': 1.017507, 'objects': ['BENamAV8rkibLIBc8asHhQ', '9jrJzTZvSkqUjwIvPEavYA']}, {'start_time': 6.940023, 'end_time': 7.406918, 'objects': ['BENamAV8rkibLIBc8asHhQ', 'XYIgNjEFVU6q-71AupPIzQ']}, {'start_time': 6.917599, 'end_time': 7.651025, 'objects': ['BENamAV8rkibLIBc8asHhQ', '_pI9DAGyIUGSpUuDn8rEHQ']}, {'start_time': 0.511947, 'end_time': 9.961789, 'objects': ['_pI9DAGyIUGSpUuDn8rEHQ', 'XYIgNjEFVU6q-71AupPIzQ']}, {'start_time': 9.895282, 'end_time': 10.273262, 'objects': ['BENamAV8rkibLIBc8asHhQ', '_pI9DAGyIUGSpUuDn8rEHQ']}, {'start_time': 10.472583, 'end_time': 13.094099, 'objects': ['_pI9DAGyIUGSpUuDn8rEHQ', '9jrJzTZvSkqUjwIvPEavYA']}]\n"
     ]
    }
   ],
   "source": [
    "touching_situations = []\n",
    "for event in onto.individuals():\n",
    "    \n",
    "    # print(event.get_properties())\n",
    "    # print(*i.get_inverse_properties())\n",
    "\n",
    "    if ((event.is_a[0]).name == \"TouchingSituation\"):\n",
    "        event_data = {}\n",
    "        event_data[\"start_time\"] = float((event.startTime[0]).name.replace(\"timepoint_\", \"\"))\n",
    "        event_data[\"end_time\"] = float((event.endTime[0]).name.replace(\"timepoint_\", \"\"))\n",
    "        event_data[\"objects\"] =  [obj.replace(\"http://knowrob.org/kb/ameva_log.owl#\", \"\") for obj in list(event.inContact)]\n",
    "        touching_situations.append(event_data)\n",
    "        \n",
    "print(touching_situations)"
   ]
  },
  {
   "cell_type": "code",
   "execution_count": 120,
   "id": "e5da743b-ee19-4955-8834-47e0bd81b078",
   "metadata": {},
   "outputs": [
    {
     "name": "stdout",
     "output_type": "stream",
     "text": [
      "Ids: ['AuP-SAqPu02Vrgu6df6Txg', '9jrJzTZvSkqUjwIvPEavYA'], Start time: 0.476154, End time: 0.907067\n"
     ]
    },
    {
     "data": {
      "application/vnd.plotly.v1+json": {
       "config": {
        "plotlyServerURL": "https://plot.ly"
       },
       "data": [
        {
         "hovertemplate": "<b>%{hovertext}</b><br><br>ID=GenesisLeftHand: AuP-SAqPu02Vrgu6df6Txg<br>X=%{x}<br>Y=%{y}<br>Z=%{z}<extra></extra>",
         "hovertext": [
          0.4927282929420471,
          0.5119469165802002,
          0.5286951065063477,
          0.555486798286438,
          0.5719873905181885,
          0.6048904061317444,
          0.6224220991134644,
          0.639313817024231,
          0.6552737355232239,
          0.6720486283302307,
          0.6892425417900085,
          0.7055651545524597,
          0.7225918769836426,
          0.7398342490196228,
          0.7577523589134216,
          0.7939863801002502,
          0.850547194480896,
          0.9070668816566467
         ],
         "legendgroup": "GenesisLeftHand: AuP-SAqPu02Vrgu6df6Txg",
         "line": {
          "color": "#636efa",
          "dash": "solid"
         },
         "marker": {
          "symbol": "circle"
         },
         "mode": "lines",
         "name": "GenesisLeftHand: AuP-SAqPu02Vrgu6df6Txg",
         "scene": "scene",
         "showlegend": true,
         "type": "scatter3d",
         "x": [
          84.5570068359375,
          82.90589141845703,
          84.01782989501953,
          82.75798797607422,
          84.43769836425781,
          83.86964416503906,
          79.44232940673828,
          77.60169219970703,
          77.21464538574219,
          76.34915924072266,
          76.51602935791016,
          73.36689758300781,
          73.7904281616211,
          72.45392608642578,
          70.32173156738281,
          69.94466400146484,
          73.43392181396484,
          76.53883361816406
         ],
         "y": [
          159.15679931640625,
          159.98553466796875,
          162.0458984375,
          170.8837432861328,
          170.76649475097656,
          171.12637329101562,
          170.7522735595703,
          169.94857788085938,
          170.78176879882812,
          169.6625518798828,
          170.9016571044922,
          170.36155700683594,
          172.2806396484375,
          174.3214569091797,
          177.12722778320312,
          178.66854858398438,
          184.1344757080078,
          185.9252471923828
         ],
         "z": [
          0.8724517822265625,
          3.6552693843841553,
          7.4388203620910645,
          10.61941909790039,
          15.656387329101562,
          18.625871658325195,
          22.38587188720703,
          22.18062973022461,
          24.0810546875,
          23.402626037597656,
          24.688968658447266,
          23.719003677368164,
          24.16712760925293,
          24.28194236755371,
          24.06303596496582,
          25.163040161132812,
          31.363147735595703,
          40.21400451660156
         ]
        },
        {
         "hovertemplate": "<b>%{hovertext}</b><br><br>ID=IAILabFloor: 9jrJzTZvSkqUjwIvPEavYA<br>X=%{x}<br>Y=%{y}<br>Z=%{z}<extra></extra>",
         "hovertext": [
          0.4927282929420471,
          0.5119469165802002,
          0.5286951065063477,
          0.555486798286438,
          0.5719873905181885,
          0.6048904061317444,
          0.6224220991134644,
          0.639313817024231,
          0.6552737355232239,
          0.6720486283302307,
          0.6892425417900085,
          0.7055651545524597,
          0.7225918769836426,
          0.7398342490196228,
          0.7577523589134216,
          0.7939863801002502,
          0.850547194480896,
          0.9070668816566467
         ],
         "legendgroup": "IAILabFloor: 9jrJzTZvSkqUjwIvPEavYA",
         "line": {
          "color": "#EF553B",
          "dash": "solid"
         },
         "marker": {
          "symbol": "circle"
         },
         "mode": "lines",
         "name": "IAILabFloor: 9jrJzTZvSkqUjwIvPEavYA",
         "scene": "scene",
         "showlegend": true,
         "type": "scatter3d",
         "x": [
          454.7149353027344,
          454.7149353027344,
          454.7149353027344,
          454.7149353027344,
          454.7149353027344,
          454.7149353027344,
          454.7149353027344,
          454.7149353027344,
          454.7149353027344,
          454.7149353027344,
          454.7149353027344,
          454.7149353027344,
          454.7149353027344,
          454.7149353027344,
          454.7149353027344,
          454.7149353027344,
          454.7149353027344,
          454.7149353027344
         ],
         "y": [
          -186.34361267089844,
          -186.34361267089844,
          -186.34361267089844,
          -186.34361267089844,
          -186.34361267089844,
          -186.34361267089844,
          -186.34361267089844,
          -186.34361267089844,
          -186.34361267089844,
          -186.34361267089844,
          -186.34361267089844,
          -186.34361267089844,
          -186.34361267089844,
          -186.34361267089844,
          -186.34361267089844,
          -186.34361267089844,
          -186.34361267089844,
          -186.34361267089844
         ],
         "z": [
          -1.0001287460327148,
          -1.0001287460327148,
          -1.0001287460327148,
          -1.0001287460327148,
          -1.0001287460327148,
          -1.0001287460327148,
          -1.0001287460327148,
          -1.0001287460327148,
          -1.0001287460327148,
          -1.0001287460327148,
          -1.0001287460327148,
          -1.0001287460327148,
          -1.0001287460327148,
          -1.0001287460327148,
          -1.0001287460327148,
          -1.0001287460327148,
          -1.0001287460327148,
          -1.0001287460327148
         ]
        }
       ],
       "layout": {
        "height": 600,
        "legend": {
         "title": {
          "text": "ID"
         },
         "tracegroupgap": 0
        },
        "margin": {
         "t": 60
        },
        "scene": {
         "aspectmode": "auto",
         "aspectratio": {
          "x": 1,
          "y": 1,
          "z": 1
         },
         "domain": {
          "x": [
           0,
           1
          ],
          "y": [
           0,
           1
          ]
         },
         "xaxis": {
          "title": {
           "text": "X"
          },
          "type": "linear"
         },
         "yaxis": {
          "title": {
           "text": "Y"
          },
          "type": "linear"
         },
         "zaxis": {
          "title": {
           "text": "Z"
          },
          "type": "linear"
         }
        },
        "template": {
         "data": {
          "bar": [
           {
            "error_x": {
             "color": "#2a3f5f"
            },
            "error_y": {
             "color": "#2a3f5f"
            },
            "marker": {
             "line": {
              "color": "#E5ECF6",
              "width": 0.5
             },
             "pattern": {
              "fillmode": "overlay",
              "size": 10,
              "solidity": 0.2
             }
            },
            "type": "bar"
           }
          ],
          "barpolar": [
           {
            "marker": {
             "line": {
              "color": "#E5ECF6",
              "width": 0.5
             },
             "pattern": {
              "fillmode": "overlay",
              "size": 10,
              "solidity": 0.2
             }
            },
            "type": "barpolar"
           }
          ],
          "carpet": [
           {
            "aaxis": {
             "endlinecolor": "#2a3f5f",
             "gridcolor": "white",
             "linecolor": "white",
             "minorgridcolor": "white",
             "startlinecolor": "#2a3f5f"
            },
            "baxis": {
             "endlinecolor": "#2a3f5f",
             "gridcolor": "white",
             "linecolor": "white",
             "minorgridcolor": "white",
             "startlinecolor": "#2a3f5f"
            },
            "type": "carpet"
           }
          ],
          "choropleth": [
           {
            "colorbar": {
             "outlinewidth": 0,
             "ticks": ""
            },
            "type": "choropleth"
           }
          ],
          "contour": [
           {
            "colorbar": {
             "outlinewidth": 0,
             "ticks": ""
            },
            "colorscale": [
             [
              0,
              "#0d0887"
             ],
             [
              0.1111111111111111,
              "#46039f"
             ],
             [
              0.2222222222222222,
              "#7201a8"
             ],
             [
              0.3333333333333333,
              "#9c179e"
             ],
             [
              0.4444444444444444,
              "#bd3786"
             ],
             [
              0.5555555555555556,
              "#d8576b"
             ],
             [
              0.6666666666666666,
              "#ed7953"
             ],
             [
              0.7777777777777778,
              "#fb9f3a"
             ],
             [
              0.8888888888888888,
              "#fdca26"
             ],
             [
              1,
              "#f0f921"
             ]
            ],
            "type": "contour"
           }
          ],
          "contourcarpet": [
           {
            "colorbar": {
             "outlinewidth": 0,
             "ticks": ""
            },
            "type": "contourcarpet"
           }
          ],
          "heatmap": [
           {
            "colorbar": {
             "outlinewidth": 0,
             "ticks": ""
            },
            "colorscale": [
             [
              0,
              "#0d0887"
             ],
             [
              0.1111111111111111,
              "#46039f"
             ],
             [
              0.2222222222222222,
              "#7201a8"
             ],
             [
              0.3333333333333333,
              "#9c179e"
             ],
             [
              0.4444444444444444,
              "#bd3786"
             ],
             [
              0.5555555555555556,
              "#d8576b"
             ],
             [
              0.6666666666666666,
              "#ed7953"
             ],
             [
              0.7777777777777778,
              "#fb9f3a"
             ],
             [
              0.8888888888888888,
              "#fdca26"
             ],
             [
              1,
              "#f0f921"
             ]
            ],
            "type": "heatmap"
           }
          ],
          "heatmapgl": [
           {
            "colorbar": {
             "outlinewidth": 0,
             "ticks": ""
            },
            "colorscale": [
             [
              0,
              "#0d0887"
             ],
             [
              0.1111111111111111,
              "#46039f"
             ],
             [
              0.2222222222222222,
              "#7201a8"
             ],
             [
              0.3333333333333333,
              "#9c179e"
             ],
             [
              0.4444444444444444,
              "#bd3786"
             ],
             [
              0.5555555555555556,
              "#d8576b"
             ],
             [
              0.6666666666666666,
              "#ed7953"
             ],
             [
              0.7777777777777778,
              "#fb9f3a"
             ],
             [
              0.8888888888888888,
              "#fdca26"
             ],
             [
              1,
              "#f0f921"
             ]
            ],
            "type": "heatmapgl"
           }
          ],
          "histogram": [
           {
            "marker": {
             "pattern": {
              "fillmode": "overlay",
              "size": 10,
              "solidity": 0.2
             }
            },
            "type": "histogram"
           }
          ],
          "histogram2d": [
           {
            "colorbar": {
             "outlinewidth": 0,
             "ticks": ""
            },
            "colorscale": [
             [
              0,
              "#0d0887"
             ],
             [
              0.1111111111111111,
              "#46039f"
             ],
             [
              0.2222222222222222,
              "#7201a8"
             ],
             [
              0.3333333333333333,
              "#9c179e"
             ],
             [
              0.4444444444444444,
              "#bd3786"
             ],
             [
              0.5555555555555556,
              "#d8576b"
             ],
             [
              0.6666666666666666,
              "#ed7953"
             ],
             [
              0.7777777777777778,
              "#fb9f3a"
             ],
             [
              0.8888888888888888,
              "#fdca26"
             ],
             [
              1,
              "#f0f921"
             ]
            ],
            "type": "histogram2d"
           }
          ],
          "histogram2dcontour": [
           {
            "colorbar": {
             "outlinewidth": 0,
             "ticks": ""
            },
            "colorscale": [
             [
              0,
              "#0d0887"
             ],
             [
              0.1111111111111111,
              "#46039f"
             ],
             [
              0.2222222222222222,
              "#7201a8"
             ],
             [
              0.3333333333333333,
              "#9c179e"
             ],
             [
              0.4444444444444444,
              "#bd3786"
             ],
             [
              0.5555555555555556,
              "#d8576b"
             ],
             [
              0.6666666666666666,
              "#ed7953"
             ],
             [
              0.7777777777777778,
              "#fb9f3a"
             ],
             [
              0.8888888888888888,
              "#fdca26"
             ],
             [
              1,
              "#f0f921"
             ]
            ],
            "type": "histogram2dcontour"
           }
          ],
          "mesh3d": [
           {
            "colorbar": {
             "outlinewidth": 0,
             "ticks": ""
            },
            "type": "mesh3d"
           }
          ],
          "parcoords": [
           {
            "line": {
             "colorbar": {
              "outlinewidth": 0,
              "ticks": ""
             }
            },
            "type": "parcoords"
           }
          ],
          "pie": [
           {
            "automargin": true,
            "type": "pie"
           }
          ],
          "scatter": [
           {
            "fillpattern": {
             "fillmode": "overlay",
             "size": 10,
             "solidity": 0.2
            },
            "type": "scatter"
           }
          ],
          "scatter3d": [
           {
            "line": {
             "colorbar": {
              "outlinewidth": 0,
              "ticks": ""
             }
            },
            "marker": {
             "colorbar": {
              "outlinewidth": 0,
              "ticks": ""
             }
            },
            "type": "scatter3d"
           }
          ],
          "scattercarpet": [
           {
            "marker": {
             "colorbar": {
              "outlinewidth": 0,
              "ticks": ""
             }
            },
            "type": "scattercarpet"
           }
          ],
          "scattergeo": [
           {
            "marker": {
             "colorbar": {
              "outlinewidth": 0,
              "ticks": ""
             }
            },
            "type": "scattergeo"
           }
          ],
          "scattergl": [
           {
            "marker": {
             "colorbar": {
              "outlinewidth": 0,
              "ticks": ""
             }
            },
            "type": "scattergl"
           }
          ],
          "scattermapbox": [
           {
            "marker": {
             "colorbar": {
              "outlinewidth": 0,
              "ticks": ""
             }
            },
            "type": "scattermapbox"
           }
          ],
          "scatterpolar": [
           {
            "marker": {
             "colorbar": {
              "outlinewidth": 0,
              "ticks": ""
             }
            },
            "type": "scatterpolar"
           }
          ],
          "scatterpolargl": [
           {
            "marker": {
             "colorbar": {
              "outlinewidth": 0,
              "ticks": ""
             }
            },
            "type": "scatterpolargl"
           }
          ],
          "scatterternary": [
           {
            "marker": {
             "colorbar": {
              "outlinewidth": 0,
              "ticks": ""
             }
            },
            "type": "scatterternary"
           }
          ],
          "surface": [
           {
            "colorbar": {
             "outlinewidth": 0,
             "ticks": ""
            },
            "colorscale": [
             [
              0,
              "#0d0887"
             ],
             [
              0.1111111111111111,
              "#46039f"
             ],
             [
              0.2222222222222222,
              "#7201a8"
             ],
             [
              0.3333333333333333,
              "#9c179e"
             ],
             [
              0.4444444444444444,
              "#bd3786"
             ],
             [
              0.5555555555555556,
              "#d8576b"
             ],
             [
              0.6666666666666666,
              "#ed7953"
             ],
             [
              0.7777777777777778,
              "#fb9f3a"
             ],
             [
              0.8888888888888888,
              "#fdca26"
             ],
             [
              1,
              "#f0f921"
             ]
            ],
            "type": "surface"
           }
          ],
          "table": [
           {
            "cells": {
             "fill": {
              "color": "#EBF0F8"
             },
             "line": {
              "color": "white"
             }
            },
            "header": {
             "fill": {
              "color": "#C8D4E3"
             },
             "line": {
              "color": "white"
             }
            },
            "type": "table"
           }
          ]
         },
         "layout": {
          "annotationdefaults": {
           "arrowcolor": "#2a3f5f",
           "arrowhead": 0,
           "arrowwidth": 1
          },
          "autotypenumbers": "strict",
          "coloraxis": {
           "colorbar": {
            "outlinewidth": 0,
            "ticks": ""
           }
          },
          "colorscale": {
           "diverging": [
            [
             0,
             "#8e0152"
            ],
            [
             0.1,
             "#c51b7d"
            ],
            [
             0.2,
             "#de77ae"
            ],
            [
             0.3,
             "#f1b6da"
            ],
            [
             0.4,
             "#fde0ef"
            ],
            [
             0.5,
             "#f7f7f7"
            ],
            [
             0.6,
             "#e6f5d0"
            ],
            [
             0.7,
             "#b8e186"
            ],
            [
             0.8,
             "#7fbc41"
            ],
            [
             0.9,
             "#4d9221"
            ],
            [
             1,
             "#276419"
            ]
           ],
           "sequential": [
            [
             0,
             "#0d0887"
            ],
            [
             0.1111111111111111,
             "#46039f"
            ],
            [
             0.2222222222222222,
             "#7201a8"
            ],
            [
             0.3333333333333333,
             "#9c179e"
            ],
            [
             0.4444444444444444,
             "#bd3786"
            ],
            [
             0.5555555555555556,
             "#d8576b"
            ],
            [
             0.6666666666666666,
             "#ed7953"
            ],
            [
             0.7777777777777778,
             "#fb9f3a"
            ],
            [
             0.8888888888888888,
             "#fdca26"
            ],
            [
             1,
             "#f0f921"
            ]
           ],
           "sequentialminus": [
            [
             0,
             "#0d0887"
            ],
            [
             0.1111111111111111,
             "#46039f"
            ],
            [
             0.2222222222222222,
             "#7201a8"
            ],
            [
             0.3333333333333333,
             "#9c179e"
            ],
            [
             0.4444444444444444,
             "#bd3786"
            ],
            [
             0.5555555555555556,
             "#d8576b"
            ],
            [
             0.6666666666666666,
             "#ed7953"
            ],
            [
             0.7777777777777778,
             "#fb9f3a"
            ],
            [
             0.8888888888888888,
             "#fdca26"
            ],
            [
             1,
             "#f0f921"
            ]
           ]
          },
          "colorway": [
           "#636efa",
           "#EF553B",
           "#00cc96",
           "#ab63fa",
           "#FFA15A",
           "#19d3f3",
           "#FF6692",
           "#B6E880",
           "#FF97FF",
           "#FECB52"
          ],
          "font": {
           "color": "#2a3f5f"
          },
          "geo": {
           "bgcolor": "white",
           "lakecolor": "white",
           "landcolor": "#E5ECF6",
           "showlakes": true,
           "showland": true,
           "subunitcolor": "white"
          },
          "hoverlabel": {
           "align": "left"
          },
          "hovermode": "closest",
          "mapbox": {
           "style": "light"
          },
          "paper_bgcolor": "white",
          "plot_bgcolor": "#E5ECF6",
          "polar": {
           "angularaxis": {
            "gridcolor": "white",
            "linecolor": "white",
            "ticks": ""
           },
           "bgcolor": "#E5ECF6",
           "radialaxis": {
            "gridcolor": "white",
            "linecolor": "white",
            "ticks": ""
           }
          },
          "scene": {
           "xaxis": {
            "backgroundcolor": "#E5ECF6",
            "gridcolor": "white",
            "gridwidth": 2,
            "linecolor": "white",
            "showbackground": true,
            "ticks": "",
            "zerolinecolor": "white"
           },
           "yaxis": {
            "backgroundcolor": "#E5ECF6",
            "gridcolor": "white",
            "gridwidth": 2,
            "linecolor": "white",
            "showbackground": true,
            "ticks": "",
            "zerolinecolor": "white"
           },
           "zaxis": {
            "backgroundcolor": "#E5ECF6",
            "gridcolor": "white",
            "gridwidth": 2,
            "linecolor": "white",
            "showbackground": true,
            "ticks": "",
            "zerolinecolor": "white"
           }
          },
          "shapedefaults": {
           "line": {
            "color": "#2a3f5f"
           }
          },
          "ternary": {
           "aaxis": {
            "gridcolor": "white",
            "linecolor": "white",
            "ticks": ""
           },
           "baxis": {
            "gridcolor": "white",
            "linecolor": "white",
            "ticks": ""
           },
           "bgcolor": "#E5ECF6",
           "caxis": {
            "gridcolor": "white",
            "linecolor": "white",
            "ticks": ""
           }
          },
          "title": {
           "x": 0.05
          },
          "xaxis": {
           "automargin": true,
           "gridcolor": "white",
           "linecolor": "white",
           "ticks": "",
           "title": {
            "standoff": 15
           },
           "zerolinecolor": "white",
           "zerolinewidth": 2
          },
          "yaxis": {
           "automargin": true,
           "gridcolor": "white",
           "linecolor": "white",
           "ticks": "",
           "title": {
            "standoff": 15
           },
           "zerolinecolor": "white",
           "zerolinewidth": 2
          }
         }
        },
        "width": 1000
       }
      },
      "text/html": [
       "<div>                            <div id=\"841856db-6564-4dd5-9b99-428ccbf1f15a\" class=\"plotly-graph-div\" style=\"height:600px; width:1000px;\"></div>            <script type=\"text/javascript\">                require([\"plotly\"], function(Plotly) {                    window.PLOTLYENV=window.PLOTLYENV || {};                                    if (document.getElementById(\"841856db-6564-4dd5-9b99-428ccbf1f15a\")) {                    Plotly.newPlot(                        \"841856db-6564-4dd5-9b99-428ccbf1f15a\",                        [{\"hovertemplate\":\"<b>%{hovertext}</b><br><br>ID=GenesisLeftHand: AuP-SAqPu02Vrgu6df6Txg<br>X=%{x}<br>Y=%{y}<br>Z=%{z}<extra></extra>\",\"hovertext\":[0.4927282929420471,0.5119469165802002,0.5286951065063477,0.555486798286438,0.5719873905181885,0.6048904061317444,0.6224220991134644,0.639313817024231,0.6552737355232239,0.6720486283302307,0.6892425417900085,0.7055651545524597,0.7225918769836426,0.7398342490196228,0.7577523589134216,0.7939863801002502,0.850547194480896,0.9070668816566467],\"legendgroup\":\"GenesisLeftHand: AuP-SAqPu02Vrgu6df6Txg\",\"line\":{\"color\":\"#636efa\",\"dash\":\"solid\"},\"marker\":{\"symbol\":\"circle\"},\"mode\":\"lines\",\"name\":\"GenesisLeftHand: AuP-SAqPu02Vrgu6df6Txg\",\"scene\":\"scene\",\"showlegend\":true,\"x\":[84.5570068359375,82.90589141845703,84.01782989501953,82.75798797607422,84.43769836425781,83.86964416503906,79.44232940673828,77.60169219970703,77.21464538574219,76.34915924072266,76.51602935791016,73.36689758300781,73.7904281616211,72.45392608642578,70.32173156738281,69.94466400146484,73.43392181396484,76.53883361816406],\"y\":[159.15679931640625,159.98553466796875,162.0458984375,170.8837432861328,170.76649475097656,171.12637329101562,170.7522735595703,169.94857788085938,170.78176879882812,169.6625518798828,170.9016571044922,170.36155700683594,172.2806396484375,174.3214569091797,177.12722778320312,178.66854858398438,184.1344757080078,185.9252471923828],\"z\":[0.8724517822265625,3.6552693843841553,7.4388203620910645,10.61941909790039,15.656387329101562,18.625871658325195,22.38587188720703,22.18062973022461,24.0810546875,23.402626037597656,24.688968658447266,23.719003677368164,24.16712760925293,24.28194236755371,24.06303596496582,25.163040161132812,31.363147735595703,40.21400451660156],\"type\":\"scatter3d\"},{\"hovertemplate\":\"<b>%{hovertext}</b><br><br>ID=IAILabFloor: 9jrJzTZvSkqUjwIvPEavYA<br>X=%{x}<br>Y=%{y}<br>Z=%{z}<extra></extra>\",\"hovertext\":[0.4927282929420471,0.5119469165802002,0.5286951065063477,0.555486798286438,0.5719873905181885,0.6048904061317444,0.6224220991134644,0.639313817024231,0.6552737355232239,0.6720486283302307,0.6892425417900085,0.7055651545524597,0.7225918769836426,0.7398342490196228,0.7577523589134216,0.7939863801002502,0.850547194480896,0.9070668816566467],\"legendgroup\":\"IAILabFloor: 9jrJzTZvSkqUjwIvPEavYA\",\"line\":{\"color\":\"#EF553B\",\"dash\":\"solid\"},\"marker\":{\"symbol\":\"circle\"},\"mode\":\"lines\",\"name\":\"IAILabFloor: 9jrJzTZvSkqUjwIvPEavYA\",\"scene\":\"scene\",\"showlegend\":true,\"x\":[454.7149353027344,454.7149353027344,454.7149353027344,454.7149353027344,454.7149353027344,454.7149353027344,454.7149353027344,454.7149353027344,454.7149353027344,454.7149353027344,454.7149353027344,454.7149353027344,454.7149353027344,454.7149353027344,454.7149353027344,454.7149353027344,454.7149353027344,454.7149353027344],\"y\":[-186.34361267089844,-186.34361267089844,-186.34361267089844,-186.34361267089844,-186.34361267089844,-186.34361267089844,-186.34361267089844,-186.34361267089844,-186.34361267089844,-186.34361267089844,-186.34361267089844,-186.34361267089844,-186.34361267089844,-186.34361267089844,-186.34361267089844,-186.34361267089844,-186.34361267089844,-186.34361267089844],\"z\":[-1.0001287460327148,-1.0001287460327148,-1.0001287460327148,-1.0001287460327148,-1.0001287460327148,-1.0001287460327148,-1.0001287460327148,-1.0001287460327148,-1.0001287460327148,-1.0001287460327148,-1.0001287460327148,-1.0001287460327148,-1.0001287460327148,-1.0001287460327148,-1.0001287460327148,-1.0001287460327148,-1.0001287460327148,-1.0001287460327148],\"type\":\"scatter3d\"}],                        {\"template\":{\"data\":{\"histogram2dcontour\":[{\"type\":\"histogram2dcontour\",\"colorbar\":{\"outlinewidth\":0,\"ticks\":\"\"},\"colorscale\":[[0.0,\"#0d0887\"],[0.1111111111111111,\"#46039f\"],[0.2222222222222222,\"#7201a8\"],[0.3333333333333333,\"#9c179e\"],[0.4444444444444444,\"#bd3786\"],[0.5555555555555556,\"#d8576b\"],[0.6666666666666666,\"#ed7953\"],[0.7777777777777778,\"#fb9f3a\"],[0.8888888888888888,\"#fdca26\"],[1.0,\"#f0f921\"]]}],\"choropleth\":[{\"type\":\"choropleth\",\"colorbar\":{\"outlinewidth\":0,\"ticks\":\"\"}}],\"histogram2d\":[{\"type\":\"histogram2d\",\"colorbar\":{\"outlinewidth\":0,\"ticks\":\"\"},\"colorscale\":[[0.0,\"#0d0887\"],[0.1111111111111111,\"#46039f\"],[0.2222222222222222,\"#7201a8\"],[0.3333333333333333,\"#9c179e\"],[0.4444444444444444,\"#bd3786\"],[0.5555555555555556,\"#d8576b\"],[0.6666666666666666,\"#ed7953\"],[0.7777777777777778,\"#fb9f3a\"],[0.8888888888888888,\"#fdca26\"],[1.0,\"#f0f921\"]]}],\"heatmap\":[{\"type\":\"heatmap\",\"colorbar\":{\"outlinewidth\":0,\"ticks\":\"\"},\"colorscale\":[[0.0,\"#0d0887\"],[0.1111111111111111,\"#46039f\"],[0.2222222222222222,\"#7201a8\"],[0.3333333333333333,\"#9c179e\"],[0.4444444444444444,\"#bd3786\"],[0.5555555555555556,\"#d8576b\"],[0.6666666666666666,\"#ed7953\"],[0.7777777777777778,\"#fb9f3a\"],[0.8888888888888888,\"#fdca26\"],[1.0,\"#f0f921\"]]}],\"heatmapgl\":[{\"type\":\"heatmapgl\",\"colorbar\":{\"outlinewidth\":0,\"ticks\":\"\"},\"colorscale\":[[0.0,\"#0d0887\"],[0.1111111111111111,\"#46039f\"],[0.2222222222222222,\"#7201a8\"],[0.3333333333333333,\"#9c179e\"],[0.4444444444444444,\"#bd3786\"],[0.5555555555555556,\"#d8576b\"],[0.6666666666666666,\"#ed7953\"],[0.7777777777777778,\"#fb9f3a\"],[0.8888888888888888,\"#fdca26\"],[1.0,\"#f0f921\"]]}],\"contourcarpet\":[{\"type\":\"contourcarpet\",\"colorbar\":{\"outlinewidth\":0,\"ticks\":\"\"}}],\"contour\":[{\"type\":\"contour\",\"colorbar\":{\"outlinewidth\":0,\"ticks\":\"\"},\"colorscale\":[[0.0,\"#0d0887\"],[0.1111111111111111,\"#46039f\"],[0.2222222222222222,\"#7201a8\"],[0.3333333333333333,\"#9c179e\"],[0.4444444444444444,\"#bd3786\"],[0.5555555555555556,\"#d8576b\"],[0.6666666666666666,\"#ed7953\"],[0.7777777777777778,\"#fb9f3a\"],[0.8888888888888888,\"#fdca26\"],[1.0,\"#f0f921\"]]}],\"surface\":[{\"type\":\"surface\",\"colorbar\":{\"outlinewidth\":0,\"ticks\":\"\"},\"colorscale\":[[0.0,\"#0d0887\"],[0.1111111111111111,\"#46039f\"],[0.2222222222222222,\"#7201a8\"],[0.3333333333333333,\"#9c179e\"],[0.4444444444444444,\"#bd3786\"],[0.5555555555555556,\"#d8576b\"],[0.6666666666666666,\"#ed7953\"],[0.7777777777777778,\"#fb9f3a\"],[0.8888888888888888,\"#fdca26\"],[1.0,\"#f0f921\"]]}],\"mesh3d\":[{\"type\":\"mesh3d\",\"colorbar\":{\"outlinewidth\":0,\"ticks\":\"\"}}],\"scatter\":[{\"fillpattern\":{\"fillmode\":\"overlay\",\"size\":10,\"solidity\":0.2},\"type\":\"scatter\"}],\"parcoords\":[{\"type\":\"parcoords\",\"line\":{\"colorbar\":{\"outlinewidth\":0,\"ticks\":\"\"}}}],\"scatterpolargl\":[{\"type\":\"scatterpolargl\",\"marker\":{\"colorbar\":{\"outlinewidth\":0,\"ticks\":\"\"}}}],\"bar\":[{\"error_x\":{\"color\":\"#2a3f5f\"},\"error_y\":{\"color\":\"#2a3f5f\"},\"marker\":{\"line\":{\"color\":\"#E5ECF6\",\"width\":0.5},\"pattern\":{\"fillmode\":\"overlay\",\"size\":10,\"solidity\":0.2}},\"type\":\"bar\"}],\"scattergeo\":[{\"type\":\"scattergeo\",\"marker\":{\"colorbar\":{\"outlinewidth\":0,\"ticks\":\"\"}}}],\"scatterpolar\":[{\"type\":\"scatterpolar\",\"marker\":{\"colorbar\":{\"outlinewidth\":0,\"ticks\":\"\"}}}],\"histogram\":[{\"marker\":{\"pattern\":{\"fillmode\":\"overlay\",\"size\":10,\"solidity\":0.2}},\"type\":\"histogram\"}],\"scattergl\":[{\"type\":\"scattergl\",\"marker\":{\"colorbar\":{\"outlinewidth\":0,\"ticks\":\"\"}}}],\"scatter3d\":[{\"type\":\"scatter3d\",\"line\":{\"colorbar\":{\"outlinewidth\":0,\"ticks\":\"\"}},\"marker\":{\"colorbar\":{\"outlinewidth\":0,\"ticks\":\"\"}}}],\"scattermapbox\":[{\"type\":\"scattermapbox\",\"marker\":{\"colorbar\":{\"outlinewidth\":0,\"ticks\":\"\"}}}],\"scatterternary\":[{\"type\":\"scatterternary\",\"marker\":{\"colorbar\":{\"outlinewidth\":0,\"ticks\":\"\"}}}],\"scattercarpet\":[{\"type\":\"scattercarpet\",\"marker\":{\"colorbar\":{\"outlinewidth\":0,\"ticks\":\"\"}}}],\"carpet\":[{\"aaxis\":{\"endlinecolor\":\"#2a3f5f\",\"gridcolor\":\"white\",\"linecolor\":\"white\",\"minorgridcolor\":\"white\",\"startlinecolor\":\"#2a3f5f\"},\"baxis\":{\"endlinecolor\":\"#2a3f5f\",\"gridcolor\":\"white\",\"linecolor\":\"white\",\"minorgridcolor\":\"white\",\"startlinecolor\":\"#2a3f5f\"},\"type\":\"carpet\"}],\"table\":[{\"cells\":{\"fill\":{\"color\":\"#EBF0F8\"},\"line\":{\"color\":\"white\"}},\"header\":{\"fill\":{\"color\":\"#C8D4E3\"},\"line\":{\"color\":\"white\"}},\"type\":\"table\"}],\"barpolar\":[{\"marker\":{\"line\":{\"color\":\"#E5ECF6\",\"width\":0.5},\"pattern\":{\"fillmode\":\"overlay\",\"size\":10,\"solidity\":0.2}},\"type\":\"barpolar\"}],\"pie\":[{\"automargin\":true,\"type\":\"pie\"}]},\"layout\":{\"autotypenumbers\":\"strict\",\"colorway\":[\"#636efa\",\"#EF553B\",\"#00cc96\",\"#ab63fa\",\"#FFA15A\",\"#19d3f3\",\"#FF6692\",\"#B6E880\",\"#FF97FF\",\"#FECB52\"],\"font\":{\"color\":\"#2a3f5f\"},\"hovermode\":\"closest\",\"hoverlabel\":{\"align\":\"left\"},\"paper_bgcolor\":\"white\",\"plot_bgcolor\":\"#E5ECF6\",\"polar\":{\"bgcolor\":\"#E5ECF6\",\"angularaxis\":{\"gridcolor\":\"white\",\"linecolor\":\"white\",\"ticks\":\"\"},\"radialaxis\":{\"gridcolor\":\"white\",\"linecolor\":\"white\",\"ticks\":\"\"}},\"ternary\":{\"bgcolor\":\"#E5ECF6\",\"aaxis\":{\"gridcolor\":\"white\",\"linecolor\":\"white\",\"ticks\":\"\"},\"baxis\":{\"gridcolor\":\"white\",\"linecolor\":\"white\",\"ticks\":\"\"},\"caxis\":{\"gridcolor\":\"white\",\"linecolor\":\"white\",\"ticks\":\"\"}},\"coloraxis\":{\"colorbar\":{\"outlinewidth\":0,\"ticks\":\"\"}},\"colorscale\":{\"sequential\":[[0.0,\"#0d0887\"],[0.1111111111111111,\"#46039f\"],[0.2222222222222222,\"#7201a8\"],[0.3333333333333333,\"#9c179e\"],[0.4444444444444444,\"#bd3786\"],[0.5555555555555556,\"#d8576b\"],[0.6666666666666666,\"#ed7953\"],[0.7777777777777778,\"#fb9f3a\"],[0.8888888888888888,\"#fdca26\"],[1.0,\"#f0f921\"]],\"sequentialminus\":[[0.0,\"#0d0887\"],[0.1111111111111111,\"#46039f\"],[0.2222222222222222,\"#7201a8\"],[0.3333333333333333,\"#9c179e\"],[0.4444444444444444,\"#bd3786\"],[0.5555555555555556,\"#d8576b\"],[0.6666666666666666,\"#ed7953\"],[0.7777777777777778,\"#fb9f3a\"],[0.8888888888888888,\"#fdca26\"],[1.0,\"#f0f921\"]],\"diverging\":[[0,\"#8e0152\"],[0.1,\"#c51b7d\"],[0.2,\"#de77ae\"],[0.3,\"#f1b6da\"],[0.4,\"#fde0ef\"],[0.5,\"#f7f7f7\"],[0.6,\"#e6f5d0\"],[0.7,\"#b8e186\"],[0.8,\"#7fbc41\"],[0.9,\"#4d9221\"],[1,\"#276419\"]]},\"xaxis\":{\"gridcolor\":\"white\",\"linecolor\":\"white\",\"ticks\":\"\",\"title\":{\"standoff\":15},\"zerolinecolor\":\"white\",\"automargin\":true,\"zerolinewidth\":2},\"yaxis\":{\"gridcolor\":\"white\",\"linecolor\":\"white\",\"ticks\":\"\",\"title\":{\"standoff\":15},\"zerolinecolor\":\"white\",\"automargin\":true,\"zerolinewidth\":2},\"scene\":{\"xaxis\":{\"backgroundcolor\":\"#E5ECF6\",\"gridcolor\":\"white\",\"linecolor\":\"white\",\"showbackground\":true,\"ticks\":\"\",\"zerolinecolor\":\"white\",\"gridwidth\":2},\"yaxis\":{\"backgroundcolor\":\"#E5ECF6\",\"gridcolor\":\"white\",\"linecolor\":\"white\",\"showbackground\":true,\"ticks\":\"\",\"zerolinecolor\":\"white\",\"gridwidth\":2},\"zaxis\":{\"backgroundcolor\":\"#E5ECF6\",\"gridcolor\":\"white\",\"linecolor\":\"white\",\"showbackground\":true,\"ticks\":\"\",\"zerolinecolor\":\"white\",\"gridwidth\":2}},\"shapedefaults\":{\"line\":{\"color\":\"#2a3f5f\"}},\"annotationdefaults\":{\"arrowcolor\":\"#2a3f5f\",\"arrowhead\":0,\"arrowwidth\":1},\"geo\":{\"bgcolor\":\"white\",\"landcolor\":\"#E5ECF6\",\"subunitcolor\":\"white\",\"showland\":true,\"showlakes\":true,\"lakecolor\":\"white\"},\"title\":{\"x\":0.05},\"mapbox\":{\"style\":\"light\"}}},\"scene\":{\"domain\":{\"x\":[0.0,1.0],\"y\":[0.0,1.0]},\"xaxis\":{\"title\":{\"text\":\"X\"}},\"yaxis\":{\"title\":{\"text\":\"Y\"}},\"zaxis\":{\"title\":{\"text\":\"Z\"}}},\"legend\":{\"title\":{\"text\":\"ID\"},\"tracegroupgap\":0},\"margin\":{\"t\":60},\"height\":600,\"width\":1000},                        {\"responsive\": true}                    ).then(function(){\n",
       "                            \n",
       "var gd = document.getElementById('841856db-6564-4dd5-9b99-428ccbf1f15a');\n",
       "var x = new MutationObserver(function (mutations, observer) {{\n",
       "        var display = window.getComputedStyle(gd).display;\n",
       "        if (!display || display === 'none') {{\n",
       "            console.log([gd, 'removed!']);\n",
       "            Plotly.purge(gd);\n",
       "            observer.disconnect();\n",
       "        }}\n",
       "}});\n",
       "\n",
       "// Listen for the removal of the full notebook cells\n",
       "var notebookContainer = gd.closest('#notebook-container');\n",
       "if (notebookContainer) {{\n",
       "    x.observe(notebookContainer, {childList: true});\n",
       "}}\n",
       "\n",
       "// Listen for the clearing of the current output cell\n",
       "var outputEl = gd.closest('.output');\n",
       "if (outputEl) {{\n",
       "    x.observe(outputEl, {childList: true});\n",
       "}}\n",
       "\n",
       "                        })                };                });            </script>        </div>"
      ]
     },
     "metadata": {},
     "output_type": "display_data"
    },
    {
     "name": "stdout",
     "output_type": "stream",
     "text": [
      "Ids: ['BENamAV8rkibLIBc8asHhQ', '9jrJzTZvSkqUjwIvPEavYA'], Start time: 0.476154, End time: 1.017507\n"
     ]
    },
    {
     "data": {
      "application/vnd.plotly.v1+json": {
       "config": {
        "plotlyServerURL": "https://plot.ly"
       },
       "data": [
        {
         "hovertemplate": "<b>%{hovertext}</b><br><br>ID=GenesisRightHand: BENamAV8rkibLIBc8asHhQ<br>X=%{x}<br>Y=%{y}<br>Z=%{z}<extra></extra>",
         "hovertext": [
          0.4927282929420471,
          0.5119469165802002,
          0.5286951065063477,
          0.555486798286438,
          0.5719873905181885,
          0.6048904061317444,
          0.6224220991134644,
          0.639313817024231,
          0.6552737355232239,
          0.6720486283302307,
          0.6892425417900085,
          0.7055651545524597,
          0.7225918769836426,
          0.7398342490196228,
          0.7577523589134216,
          0.7939863801002502,
          0.850547194480896,
          0.9070668816566467,
          0.9616253972053528
         ],
         "legendgroup": "GenesisRightHand: BENamAV8rkibLIBc8asHhQ",
         "line": {
          "color": "#636efa",
          "dash": "solid"
         },
         "marker": {
          "symbol": "circle"
         },
         "mode": "lines",
         "name": "GenesisRightHand: BENamAV8rkibLIBc8asHhQ",
         "scene": "scene",
         "showlegend": true,
         "type": "scatter3d",
         "x": [
          84.5570068359375,
          84.27703857421875,
          84.36717224121094,
          84.57232666015625,
          87.40735626220703,
          87.14100646972656,
          86.10401916503906,
          85.27899932861328,
          84.26030731201172,
          83.83814239501953,
          81.23577117919922,
          80.10386657714844,
          76.39495849609375,
          75.12732696533203,
          72.7920913696289,
          68.47810363769531,
          58.709232330322266,
          54.58325958251953,
          56.335121154785156
         ],
         "y": [
          159.15679931640625,
          160.3285675048828,
          163.1338653564453,
          170.91070556640625,
          170.1215362548828,
          172.0528106689453,
          172.7870635986328,
          172.56439208984375,
          172.36083984375,
          172.0509490966797,
          171.8772430419922,
          169.8319091796875,
          171.89639282226562,
          171.88525390625,
          172.5573272705078,
          175.6267852783203,
          183.07823181152344,
          188.69912719726562,
          194.20794677734375
         ],
         "z": [
          0.8724517822265625,
          7.065043926239014,
          11.565799713134766,
          15.814009666442871,
          20.389070510864258,
          23.341991424560547,
          24.02730941772461,
          23.842679977416992,
          24.192115783691406,
          24.609811782836914,
          23.85980796813965,
          24.88179588317871,
          26.441057205200195,
          26.88035774230957,
          29.095508575439453,
          32.24333953857422,
          40.301307678222656,
          47.44733810424805,
          57.4526481628418
         ]
        },
        {
         "hovertemplate": "<b>%{hovertext}</b><br><br>ID=IAILabFloor: 9jrJzTZvSkqUjwIvPEavYA<br>X=%{x}<br>Y=%{y}<br>Z=%{z}<extra></extra>",
         "hovertext": [
          0.4927282929420471,
          0.5119469165802002,
          0.5286951065063477,
          0.555486798286438,
          0.5719873905181885,
          0.6048904061317444,
          0.6224220991134644,
          0.639313817024231,
          0.6552737355232239,
          0.6720486283302307,
          0.6892425417900085,
          0.7055651545524597,
          0.7225918769836426,
          0.7398342490196228,
          0.7577523589134216,
          0.7939863801002502,
          0.850547194480896,
          0.9070668816566467,
          0.9616253972053528
         ],
         "legendgroup": "IAILabFloor: 9jrJzTZvSkqUjwIvPEavYA",
         "line": {
          "color": "#EF553B",
          "dash": "solid"
         },
         "marker": {
          "symbol": "circle"
         },
         "mode": "lines",
         "name": "IAILabFloor: 9jrJzTZvSkqUjwIvPEavYA",
         "scene": "scene",
         "showlegend": true,
         "type": "scatter3d",
         "x": [
          454.7149353027344,
          454.7149353027344,
          454.7149353027344,
          454.7149353027344,
          454.7149353027344,
          454.7149353027344,
          454.7149353027344,
          454.7149353027344,
          454.7149353027344,
          454.7149353027344,
          454.7149353027344,
          454.7149353027344,
          454.7149353027344,
          454.7149353027344,
          454.7149353027344,
          454.7149353027344,
          454.7149353027344,
          454.7149353027344,
          454.7149353027344
         ],
         "y": [
          -186.34361267089844,
          -186.34361267089844,
          -186.34361267089844,
          -186.34361267089844,
          -186.34361267089844,
          -186.34361267089844,
          -186.34361267089844,
          -186.34361267089844,
          -186.34361267089844,
          -186.34361267089844,
          -186.34361267089844,
          -186.34361267089844,
          -186.34361267089844,
          -186.34361267089844,
          -186.34361267089844,
          -186.34361267089844,
          -186.34361267089844,
          -186.34361267089844,
          -186.34361267089844
         ],
         "z": [
          -1.0001287460327148,
          -1.0001287460327148,
          -1.0001287460327148,
          -1.0001287460327148,
          -1.0001287460327148,
          -1.0001287460327148,
          -1.0001287460327148,
          -1.0001287460327148,
          -1.0001287460327148,
          -1.0001287460327148,
          -1.0001287460327148,
          -1.0001287460327148,
          -1.0001287460327148,
          -1.0001287460327148,
          -1.0001287460327148,
          -1.0001287460327148,
          -1.0001287460327148,
          -1.0001287460327148,
          -1.0001287460327148
         ]
        }
       ],
       "layout": {
        "height": 600,
        "legend": {
         "title": {
          "text": "ID"
         },
         "tracegroupgap": 0
        },
        "margin": {
         "t": 60
        },
        "scene": {
         "aspectmode": "auto",
         "aspectratio": {
          "x": 1,
          "y": 1,
          "z": 1
         },
         "domain": {
          "x": [
           0,
           1
          ],
          "y": [
           0,
           1
          ]
         },
         "xaxis": {
          "title": {
           "text": "X"
          },
          "type": "linear"
         },
         "yaxis": {
          "title": {
           "text": "Y"
          },
          "type": "linear"
         },
         "zaxis": {
          "title": {
           "text": "Z"
          },
          "type": "linear"
         }
        },
        "template": {
         "data": {
          "bar": [
           {
            "error_x": {
             "color": "#2a3f5f"
            },
            "error_y": {
             "color": "#2a3f5f"
            },
            "marker": {
             "line": {
              "color": "#E5ECF6",
              "width": 0.5
             },
             "pattern": {
              "fillmode": "overlay",
              "size": 10,
              "solidity": 0.2
             }
            },
            "type": "bar"
           }
          ],
          "barpolar": [
           {
            "marker": {
             "line": {
              "color": "#E5ECF6",
              "width": 0.5
             },
             "pattern": {
              "fillmode": "overlay",
              "size": 10,
              "solidity": 0.2
             }
            },
            "type": "barpolar"
           }
          ],
          "carpet": [
           {
            "aaxis": {
             "endlinecolor": "#2a3f5f",
             "gridcolor": "white",
             "linecolor": "white",
             "minorgridcolor": "white",
             "startlinecolor": "#2a3f5f"
            },
            "baxis": {
             "endlinecolor": "#2a3f5f",
             "gridcolor": "white",
             "linecolor": "white",
             "minorgridcolor": "white",
             "startlinecolor": "#2a3f5f"
            },
            "type": "carpet"
           }
          ],
          "choropleth": [
           {
            "colorbar": {
             "outlinewidth": 0,
             "ticks": ""
            },
            "type": "choropleth"
           }
          ],
          "contour": [
           {
            "colorbar": {
             "outlinewidth": 0,
             "ticks": ""
            },
            "colorscale": [
             [
              0,
              "#0d0887"
             ],
             [
              0.1111111111111111,
              "#46039f"
             ],
             [
              0.2222222222222222,
              "#7201a8"
             ],
             [
              0.3333333333333333,
              "#9c179e"
             ],
             [
              0.4444444444444444,
              "#bd3786"
             ],
             [
              0.5555555555555556,
              "#d8576b"
             ],
             [
              0.6666666666666666,
              "#ed7953"
             ],
             [
              0.7777777777777778,
              "#fb9f3a"
             ],
             [
              0.8888888888888888,
              "#fdca26"
             ],
             [
              1,
              "#f0f921"
             ]
            ],
            "type": "contour"
           }
          ],
          "contourcarpet": [
           {
            "colorbar": {
             "outlinewidth": 0,
             "ticks": ""
            },
            "type": "contourcarpet"
           }
          ],
          "heatmap": [
           {
            "colorbar": {
             "outlinewidth": 0,
             "ticks": ""
            },
            "colorscale": [
             [
              0,
              "#0d0887"
             ],
             [
              0.1111111111111111,
              "#46039f"
             ],
             [
              0.2222222222222222,
              "#7201a8"
             ],
             [
              0.3333333333333333,
              "#9c179e"
             ],
             [
              0.4444444444444444,
              "#bd3786"
             ],
             [
              0.5555555555555556,
              "#d8576b"
             ],
             [
              0.6666666666666666,
              "#ed7953"
             ],
             [
              0.7777777777777778,
              "#fb9f3a"
             ],
             [
              0.8888888888888888,
              "#fdca26"
             ],
             [
              1,
              "#f0f921"
             ]
            ],
            "type": "heatmap"
           }
          ],
          "heatmapgl": [
           {
            "colorbar": {
             "outlinewidth": 0,
             "ticks": ""
            },
            "colorscale": [
             [
              0,
              "#0d0887"
             ],
             [
              0.1111111111111111,
              "#46039f"
             ],
             [
              0.2222222222222222,
              "#7201a8"
             ],
             [
              0.3333333333333333,
              "#9c179e"
             ],
             [
              0.4444444444444444,
              "#bd3786"
             ],
             [
              0.5555555555555556,
              "#d8576b"
             ],
             [
              0.6666666666666666,
              "#ed7953"
             ],
             [
              0.7777777777777778,
              "#fb9f3a"
             ],
             [
              0.8888888888888888,
              "#fdca26"
             ],
             [
              1,
              "#f0f921"
             ]
            ],
            "type": "heatmapgl"
           }
          ],
          "histogram": [
           {
            "marker": {
             "pattern": {
              "fillmode": "overlay",
              "size": 10,
              "solidity": 0.2
             }
            },
            "type": "histogram"
           }
          ],
          "histogram2d": [
           {
            "colorbar": {
             "outlinewidth": 0,
             "ticks": ""
            },
            "colorscale": [
             [
              0,
              "#0d0887"
             ],
             [
              0.1111111111111111,
              "#46039f"
             ],
             [
              0.2222222222222222,
              "#7201a8"
             ],
             [
              0.3333333333333333,
              "#9c179e"
             ],
             [
              0.4444444444444444,
              "#bd3786"
             ],
             [
              0.5555555555555556,
              "#d8576b"
             ],
             [
              0.6666666666666666,
              "#ed7953"
             ],
             [
              0.7777777777777778,
              "#fb9f3a"
             ],
             [
              0.8888888888888888,
              "#fdca26"
             ],
             [
              1,
              "#f0f921"
             ]
            ],
            "type": "histogram2d"
           }
          ],
          "histogram2dcontour": [
           {
            "colorbar": {
             "outlinewidth": 0,
             "ticks": ""
            },
            "colorscale": [
             [
              0,
              "#0d0887"
             ],
             [
              0.1111111111111111,
              "#46039f"
             ],
             [
              0.2222222222222222,
              "#7201a8"
             ],
             [
              0.3333333333333333,
              "#9c179e"
             ],
             [
              0.4444444444444444,
              "#bd3786"
             ],
             [
              0.5555555555555556,
              "#d8576b"
             ],
             [
              0.6666666666666666,
              "#ed7953"
             ],
             [
              0.7777777777777778,
              "#fb9f3a"
             ],
             [
              0.8888888888888888,
              "#fdca26"
             ],
             [
              1,
              "#f0f921"
             ]
            ],
            "type": "histogram2dcontour"
           }
          ],
          "mesh3d": [
           {
            "colorbar": {
             "outlinewidth": 0,
             "ticks": ""
            },
            "type": "mesh3d"
           }
          ],
          "parcoords": [
           {
            "line": {
             "colorbar": {
              "outlinewidth": 0,
              "ticks": ""
             }
            },
            "type": "parcoords"
           }
          ],
          "pie": [
           {
            "automargin": true,
            "type": "pie"
           }
          ],
          "scatter": [
           {
            "fillpattern": {
             "fillmode": "overlay",
             "size": 10,
             "solidity": 0.2
            },
            "type": "scatter"
           }
          ],
          "scatter3d": [
           {
            "line": {
             "colorbar": {
              "outlinewidth": 0,
              "ticks": ""
             }
            },
            "marker": {
             "colorbar": {
              "outlinewidth": 0,
              "ticks": ""
             }
            },
            "type": "scatter3d"
           }
          ],
          "scattercarpet": [
           {
            "marker": {
             "colorbar": {
              "outlinewidth": 0,
              "ticks": ""
             }
            },
            "type": "scattercarpet"
           }
          ],
          "scattergeo": [
           {
            "marker": {
             "colorbar": {
              "outlinewidth": 0,
              "ticks": ""
             }
            },
            "type": "scattergeo"
           }
          ],
          "scattergl": [
           {
            "marker": {
             "colorbar": {
              "outlinewidth": 0,
              "ticks": ""
             }
            },
            "type": "scattergl"
           }
          ],
          "scattermapbox": [
           {
            "marker": {
             "colorbar": {
              "outlinewidth": 0,
              "ticks": ""
             }
            },
            "type": "scattermapbox"
           }
          ],
          "scatterpolar": [
           {
            "marker": {
             "colorbar": {
              "outlinewidth": 0,
              "ticks": ""
             }
            },
            "type": "scatterpolar"
           }
          ],
          "scatterpolargl": [
           {
            "marker": {
             "colorbar": {
              "outlinewidth": 0,
              "ticks": ""
             }
            },
            "type": "scatterpolargl"
           }
          ],
          "scatterternary": [
           {
            "marker": {
             "colorbar": {
              "outlinewidth": 0,
              "ticks": ""
             }
            },
            "type": "scatterternary"
           }
          ],
          "surface": [
           {
            "colorbar": {
             "outlinewidth": 0,
             "ticks": ""
            },
            "colorscale": [
             [
              0,
              "#0d0887"
             ],
             [
              0.1111111111111111,
              "#46039f"
             ],
             [
              0.2222222222222222,
              "#7201a8"
             ],
             [
              0.3333333333333333,
              "#9c179e"
             ],
             [
              0.4444444444444444,
              "#bd3786"
             ],
             [
              0.5555555555555556,
              "#d8576b"
             ],
             [
              0.6666666666666666,
              "#ed7953"
             ],
             [
              0.7777777777777778,
              "#fb9f3a"
             ],
             [
              0.8888888888888888,
              "#fdca26"
             ],
             [
              1,
              "#f0f921"
             ]
            ],
            "type": "surface"
           }
          ],
          "table": [
           {
            "cells": {
             "fill": {
              "color": "#EBF0F8"
             },
             "line": {
              "color": "white"
             }
            },
            "header": {
             "fill": {
              "color": "#C8D4E3"
             },
             "line": {
              "color": "white"
             }
            },
            "type": "table"
           }
          ]
         },
         "layout": {
          "annotationdefaults": {
           "arrowcolor": "#2a3f5f",
           "arrowhead": 0,
           "arrowwidth": 1
          },
          "autotypenumbers": "strict",
          "coloraxis": {
           "colorbar": {
            "outlinewidth": 0,
            "ticks": ""
           }
          },
          "colorscale": {
           "diverging": [
            [
             0,
             "#8e0152"
            ],
            [
             0.1,
             "#c51b7d"
            ],
            [
             0.2,
             "#de77ae"
            ],
            [
             0.3,
             "#f1b6da"
            ],
            [
             0.4,
             "#fde0ef"
            ],
            [
             0.5,
             "#f7f7f7"
            ],
            [
             0.6,
             "#e6f5d0"
            ],
            [
             0.7,
             "#b8e186"
            ],
            [
             0.8,
             "#7fbc41"
            ],
            [
             0.9,
             "#4d9221"
            ],
            [
             1,
             "#276419"
            ]
           ],
           "sequential": [
            [
             0,
             "#0d0887"
            ],
            [
             0.1111111111111111,
             "#46039f"
            ],
            [
             0.2222222222222222,
             "#7201a8"
            ],
            [
             0.3333333333333333,
             "#9c179e"
            ],
            [
             0.4444444444444444,
             "#bd3786"
            ],
            [
             0.5555555555555556,
             "#d8576b"
            ],
            [
             0.6666666666666666,
             "#ed7953"
            ],
            [
             0.7777777777777778,
             "#fb9f3a"
            ],
            [
             0.8888888888888888,
             "#fdca26"
            ],
            [
             1,
             "#f0f921"
            ]
           ],
           "sequentialminus": [
            [
             0,
             "#0d0887"
            ],
            [
             0.1111111111111111,
             "#46039f"
            ],
            [
             0.2222222222222222,
             "#7201a8"
            ],
            [
             0.3333333333333333,
             "#9c179e"
            ],
            [
             0.4444444444444444,
             "#bd3786"
            ],
            [
             0.5555555555555556,
             "#d8576b"
            ],
            [
             0.6666666666666666,
             "#ed7953"
            ],
            [
             0.7777777777777778,
             "#fb9f3a"
            ],
            [
             0.8888888888888888,
             "#fdca26"
            ],
            [
             1,
             "#f0f921"
            ]
           ]
          },
          "colorway": [
           "#636efa",
           "#EF553B",
           "#00cc96",
           "#ab63fa",
           "#FFA15A",
           "#19d3f3",
           "#FF6692",
           "#B6E880",
           "#FF97FF",
           "#FECB52"
          ],
          "font": {
           "color": "#2a3f5f"
          },
          "geo": {
           "bgcolor": "white",
           "lakecolor": "white",
           "landcolor": "#E5ECF6",
           "showlakes": true,
           "showland": true,
           "subunitcolor": "white"
          },
          "hoverlabel": {
           "align": "left"
          },
          "hovermode": "closest",
          "mapbox": {
           "style": "light"
          },
          "paper_bgcolor": "white",
          "plot_bgcolor": "#E5ECF6",
          "polar": {
           "angularaxis": {
            "gridcolor": "white",
            "linecolor": "white",
            "ticks": ""
           },
           "bgcolor": "#E5ECF6",
           "radialaxis": {
            "gridcolor": "white",
            "linecolor": "white",
            "ticks": ""
           }
          },
          "scene": {
           "xaxis": {
            "backgroundcolor": "#E5ECF6",
            "gridcolor": "white",
            "gridwidth": 2,
            "linecolor": "white",
            "showbackground": true,
            "ticks": "",
            "zerolinecolor": "white"
           },
           "yaxis": {
            "backgroundcolor": "#E5ECF6",
            "gridcolor": "white",
            "gridwidth": 2,
            "linecolor": "white",
            "showbackground": true,
            "ticks": "",
            "zerolinecolor": "white"
           },
           "zaxis": {
            "backgroundcolor": "#E5ECF6",
            "gridcolor": "white",
            "gridwidth": 2,
            "linecolor": "white",
            "showbackground": true,
            "ticks": "",
            "zerolinecolor": "white"
           }
          },
          "shapedefaults": {
           "line": {
            "color": "#2a3f5f"
           }
          },
          "ternary": {
           "aaxis": {
            "gridcolor": "white",
            "linecolor": "white",
            "ticks": ""
           },
           "baxis": {
            "gridcolor": "white",
            "linecolor": "white",
            "ticks": ""
           },
           "bgcolor": "#E5ECF6",
           "caxis": {
            "gridcolor": "white",
            "linecolor": "white",
            "ticks": ""
           }
          },
          "title": {
           "x": 0.05
          },
          "xaxis": {
           "automargin": true,
           "gridcolor": "white",
           "linecolor": "white",
           "ticks": "",
           "title": {
            "standoff": 15
           },
           "zerolinecolor": "white",
           "zerolinewidth": 2
          },
          "yaxis": {
           "automargin": true,
           "gridcolor": "white",
           "linecolor": "white",
           "ticks": "",
           "title": {
            "standoff": 15
           },
           "zerolinecolor": "white",
           "zerolinewidth": 2
          }
         }
        },
        "width": 1000
       }
      },
      "text/html": [
       "<div>                            <div id=\"75370a08-4b62-4be3-a433-08fa785497ec\" class=\"plotly-graph-div\" style=\"height:600px; width:1000px;\"></div>            <script type=\"text/javascript\">                require([\"plotly\"], function(Plotly) {                    window.PLOTLYENV=window.PLOTLYENV || {};                                    if (document.getElementById(\"75370a08-4b62-4be3-a433-08fa785497ec\")) {                    Plotly.newPlot(                        \"75370a08-4b62-4be3-a433-08fa785497ec\",                        [{\"hovertemplate\":\"<b>%{hovertext}</b><br><br>ID=GenesisRightHand: BENamAV8rkibLIBc8asHhQ<br>X=%{x}<br>Y=%{y}<br>Z=%{z}<extra></extra>\",\"hovertext\":[0.4927282929420471,0.5119469165802002,0.5286951065063477,0.555486798286438,0.5719873905181885,0.6048904061317444,0.6224220991134644,0.639313817024231,0.6552737355232239,0.6720486283302307,0.6892425417900085,0.7055651545524597,0.7225918769836426,0.7398342490196228,0.7577523589134216,0.7939863801002502,0.850547194480896,0.9070668816566467,0.9616253972053528],\"legendgroup\":\"GenesisRightHand: BENamAV8rkibLIBc8asHhQ\",\"line\":{\"color\":\"#636efa\",\"dash\":\"solid\"},\"marker\":{\"symbol\":\"circle\"},\"mode\":\"lines\",\"name\":\"GenesisRightHand: BENamAV8rkibLIBc8asHhQ\",\"scene\":\"scene\",\"showlegend\":true,\"x\":[84.5570068359375,84.27703857421875,84.36717224121094,84.57232666015625,87.40735626220703,87.14100646972656,86.10401916503906,85.27899932861328,84.26030731201172,83.83814239501953,81.23577117919922,80.10386657714844,76.39495849609375,75.12732696533203,72.7920913696289,68.47810363769531,58.709232330322266,54.58325958251953,56.335121154785156],\"y\":[159.15679931640625,160.3285675048828,163.1338653564453,170.91070556640625,170.1215362548828,172.0528106689453,172.7870635986328,172.56439208984375,172.36083984375,172.0509490966797,171.8772430419922,169.8319091796875,171.89639282226562,171.88525390625,172.5573272705078,175.6267852783203,183.07823181152344,188.69912719726562,194.20794677734375],\"z\":[0.8724517822265625,7.065043926239014,11.565799713134766,15.814009666442871,20.389070510864258,23.341991424560547,24.02730941772461,23.842679977416992,24.192115783691406,24.609811782836914,23.85980796813965,24.88179588317871,26.441057205200195,26.88035774230957,29.095508575439453,32.24333953857422,40.301307678222656,47.44733810424805,57.4526481628418],\"type\":\"scatter3d\"},{\"hovertemplate\":\"<b>%{hovertext}</b><br><br>ID=IAILabFloor: 9jrJzTZvSkqUjwIvPEavYA<br>X=%{x}<br>Y=%{y}<br>Z=%{z}<extra></extra>\",\"hovertext\":[0.4927282929420471,0.5119469165802002,0.5286951065063477,0.555486798286438,0.5719873905181885,0.6048904061317444,0.6224220991134644,0.639313817024231,0.6552737355232239,0.6720486283302307,0.6892425417900085,0.7055651545524597,0.7225918769836426,0.7398342490196228,0.7577523589134216,0.7939863801002502,0.850547194480896,0.9070668816566467,0.9616253972053528],\"legendgroup\":\"IAILabFloor: 9jrJzTZvSkqUjwIvPEavYA\",\"line\":{\"color\":\"#EF553B\",\"dash\":\"solid\"},\"marker\":{\"symbol\":\"circle\"},\"mode\":\"lines\",\"name\":\"IAILabFloor: 9jrJzTZvSkqUjwIvPEavYA\",\"scene\":\"scene\",\"showlegend\":true,\"x\":[454.7149353027344,454.7149353027344,454.7149353027344,454.7149353027344,454.7149353027344,454.7149353027344,454.7149353027344,454.7149353027344,454.7149353027344,454.7149353027344,454.7149353027344,454.7149353027344,454.7149353027344,454.7149353027344,454.7149353027344,454.7149353027344,454.7149353027344,454.7149353027344,454.7149353027344],\"y\":[-186.34361267089844,-186.34361267089844,-186.34361267089844,-186.34361267089844,-186.34361267089844,-186.34361267089844,-186.34361267089844,-186.34361267089844,-186.34361267089844,-186.34361267089844,-186.34361267089844,-186.34361267089844,-186.34361267089844,-186.34361267089844,-186.34361267089844,-186.34361267089844,-186.34361267089844,-186.34361267089844,-186.34361267089844],\"z\":[-1.0001287460327148,-1.0001287460327148,-1.0001287460327148,-1.0001287460327148,-1.0001287460327148,-1.0001287460327148,-1.0001287460327148,-1.0001287460327148,-1.0001287460327148,-1.0001287460327148,-1.0001287460327148,-1.0001287460327148,-1.0001287460327148,-1.0001287460327148,-1.0001287460327148,-1.0001287460327148,-1.0001287460327148,-1.0001287460327148,-1.0001287460327148],\"type\":\"scatter3d\"}],                        {\"template\":{\"data\":{\"histogram2dcontour\":[{\"type\":\"histogram2dcontour\",\"colorbar\":{\"outlinewidth\":0,\"ticks\":\"\"},\"colorscale\":[[0.0,\"#0d0887\"],[0.1111111111111111,\"#46039f\"],[0.2222222222222222,\"#7201a8\"],[0.3333333333333333,\"#9c179e\"],[0.4444444444444444,\"#bd3786\"],[0.5555555555555556,\"#d8576b\"],[0.6666666666666666,\"#ed7953\"],[0.7777777777777778,\"#fb9f3a\"],[0.8888888888888888,\"#fdca26\"],[1.0,\"#f0f921\"]]}],\"choropleth\":[{\"type\":\"choropleth\",\"colorbar\":{\"outlinewidth\":0,\"ticks\":\"\"}}],\"histogram2d\":[{\"type\":\"histogram2d\",\"colorbar\":{\"outlinewidth\":0,\"ticks\":\"\"},\"colorscale\":[[0.0,\"#0d0887\"],[0.1111111111111111,\"#46039f\"],[0.2222222222222222,\"#7201a8\"],[0.3333333333333333,\"#9c179e\"],[0.4444444444444444,\"#bd3786\"],[0.5555555555555556,\"#d8576b\"],[0.6666666666666666,\"#ed7953\"],[0.7777777777777778,\"#fb9f3a\"],[0.8888888888888888,\"#fdca26\"],[1.0,\"#f0f921\"]]}],\"heatmap\":[{\"type\":\"heatmap\",\"colorbar\":{\"outlinewidth\":0,\"ticks\":\"\"},\"colorscale\":[[0.0,\"#0d0887\"],[0.1111111111111111,\"#46039f\"],[0.2222222222222222,\"#7201a8\"],[0.3333333333333333,\"#9c179e\"],[0.4444444444444444,\"#bd3786\"],[0.5555555555555556,\"#d8576b\"],[0.6666666666666666,\"#ed7953\"],[0.7777777777777778,\"#fb9f3a\"],[0.8888888888888888,\"#fdca26\"],[1.0,\"#f0f921\"]]}],\"heatmapgl\":[{\"type\":\"heatmapgl\",\"colorbar\":{\"outlinewidth\":0,\"ticks\":\"\"},\"colorscale\":[[0.0,\"#0d0887\"],[0.1111111111111111,\"#46039f\"],[0.2222222222222222,\"#7201a8\"],[0.3333333333333333,\"#9c179e\"],[0.4444444444444444,\"#bd3786\"],[0.5555555555555556,\"#d8576b\"],[0.6666666666666666,\"#ed7953\"],[0.7777777777777778,\"#fb9f3a\"],[0.8888888888888888,\"#fdca26\"],[1.0,\"#f0f921\"]]}],\"contourcarpet\":[{\"type\":\"contourcarpet\",\"colorbar\":{\"outlinewidth\":0,\"ticks\":\"\"}}],\"contour\":[{\"type\":\"contour\",\"colorbar\":{\"outlinewidth\":0,\"ticks\":\"\"},\"colorscale\":[[0.0,\"#0d0887\"],[0.1111111111111111,\"#46039f\"],[0.2222222222222222,\"#7201a8\"],[0.3333333333333333,\"#9c179e\"],[0.4444444444444444,\"#bd3786\"],[0.5555555555555556,\"#d8576b\"],[0.6666666666666666,\"#ed7953\"],[0.7777777777777778,\"#fb9f3a\"],[0.8888888888888888,\"#fdca26\"],[1.0,\"#f0f921\"]]}],\"surface\":[{\"type\":\"surface\",\"colorbar\":{\"outlinewidth\":0,\"ticks\":\"\"},\"colorscale\":[[0.0,\"#0d0887\"],[0.1111111111111111,\"#46039f\"],[0.2222222222222222,\"#7201a8\"],[0.3333333333333333,\"#9c179e\"],[0.4444444444444444,\"#bd3786\"],[0.5555555555555556,\"#d8576b\"],[0.6666666666666666,\"#ed7953\"],[0.7777777777777778,\"#fb9f3a\"],[0.8888888888888888,\"#fdca26\"],[1.0,\"#f0f921\"]]}],\"mesh3d\":[{\"type\":\"mesh3d\",\"colorbar\":{\"outlinewidth\":0,\"ticks\":\"\"}}],\"scatter\":[{\"fillpattern\":{\"fillmode\":\"overlay\",\"size\":10,\"solidity\":0.2},\"type\":\"scatter\"}],\"parcoords\":[{\"type\":\"parcoords\",\"line\":{\"colorbar\":{\"outlinewidth\":0,\"ticks\":\"\"}}}],\"scatterpolargl\":[{\"type\":\"scatterpolargl\",\"marker\":{\"colorbar\":{\"outlinewidth\":0,\"ticks\":\"\"}}}],\"bar\":[{\"error_x\":{\"color\":\"#2a3f5f\"},\"error_y\":{\"color\":\"#2a3f5f\"},\"marker\":{\"line\":{\"color\":\"#E5ECF6\",\"width\":0.5},\"pattern\":{\"fillmode\":\"overlay\",\"size\":10,\"solidity\":0.2}},\"type\":\"bar\"}],\"scattergeo\":[{\"type\":\"scattergeo\",\"marker\":{\"colorbar\":{\"outlinewidth\":0,\"ticks\":\"\"}}}],\"scatterpolar\":[{\"type\":\"scatterpolar\",\"marker\":{\"colorbar\":{\"outlinewidth\":0,\"ticks\":\"\"}}}],\"histogram\":[{\"marker\":{\"pattern\":{\"fillmode\":\"overlay\",\"size\":10,\"solidity\":0.2}},\"type\":\"histogram\"}],\"scattergl\":[{\"type\":\"scattergl\",\"marker\":{\"colorbar\":{\"outlinewidth\":0,\"ticks\":\"\"}}}],\"scatter3d\":[{\"type\":\"scatter3d\",\"line\":{\"colorbar\":{\"outlinewidth\":0,\"ticks\":\"\"}},\"marker\":{\"colorbar\":{\"outlinewidth\":0,\"ticks\":\"\"}}}],\"scattermapbox\":[{\"type\":\"scattermapbox\",\"marker\":{\"colorbar\":{\"outlinewidth\":0,\"ticks\":\"\"}}}],\"scatterternary\":[{\"type\":\"scatterternary\",\"marker\":{\"colorbar\":{\"outlinewidth\":0,\"ticks\":\"\"}}}],\"scattercarpet\":[{\"type\":\"scattercarpet\",\"marker\":{\"colorbar\":{\"outlinewidth\":0,\"ticks\":\"\"}}}],\"carpet\":[{\"aaxis\":{\"endlinecolor\":\"#2a3f5f\",\"gridcolor\":\"white\",\"linecolor\":\"white\",\"minorgridcolor\":\"white\",\"startlinecolor\":\"#2a3f5f\"},\"baxis\":{\"endlinecolor\":\"#2a3f5f\",\"gridcolor\":\"white\",\"linecolor\":\"white\",\"minorgridcolor\":\"white\",\"startlinecolor\":\"#2a3f5f\"},\"type\":\"carpet\"}],\"table\":[{\"cells\":{\"fill\":{\"color\":\"#EBF0F8\"},\"line\":{\"color\":\"white\"}},\"header\":{\"fill\":{\"color\":\"#C8D4E3\"},\"line\":{\"color\":\"white\"}},\"type\":\"table\"}],\"barpolar\":[{\"marker\":{\"line\":{\"color\":\"#E5ECF6\",\"width\":0.5},\"pattern\":{\"fillmode\":\"overlay\",\"size\":10,\"solidity\":0.2}},\"type\":\"barpolar\"}],\"pie\":[{\"automargin\":true,\"type\":\"pie\"}]},\"layout\":{\"autotypenumbers\":\"strict\",\"colorway\":[\"#636efa\",\"#EF553B\",\"#00cc96\",\"#ab63fa\",\"#FFA15A\",\"#19d3f3\",\"#FF6692\",\"#B6E880\",\"#FF97FF\",\"#FECB52\"],\"font\":{\"color\":\"#2a3f5f\"},\"hovermode\":\"closest\",\"hoverlabel\":{\"align\":\"left\"},\"paper_bgcolor\":\"white\",\"plot_bgcolor\":\"#E5ECF6\",\"polar\":{\"bgcolor\":\"#E5ECF6\",\"angularaxis\":{\"gridcolor\":\"white\",\"linecolor\":\"white\",\"ticks\":\"\"},\"radialaxis\":{\"gridcolor\":\"white\",\"linecolor\":\"white\",\"ticks\":\"\"}},\"ternary\":{\"bgcolor\":\"#E5ECF6\",\"aaxis\":{\"gridcolor\":\"white\",\"linecolor\":\"white\",\"ticks\":\"\"},\"baxis\":{\"gridcolor\":\"white\",\"linecolor\":\"white\",\"ticks\":\"\"},\"caxis\":{\"gridcolor\":\"white\",\"linecolor\":\"white\",\"ticks\":\"\"}},\"coloraxis\":{\"colorbar\":{\"outlinewidth\":0,\"ticks\":\"\"}},\"colorscale\":{\"sequential\":[[0.0,\"#0d0887\"],[0.1111111111111111,\"#46039f\"],[0.2222222222222222,\"#7201a8\"],[0.3333333333333333,\"#9c179e\"],[0.4444444444444444,\"#bd3786\"],[0.5555555555555556,\"#d8576b\"],[0.6666666666666666,\"#ed7953\"],[0.7777777777777778,\"#fb9f3a\"],[0.8888888888888888,\"#fdca26\"],[1.0,\"#f0f921\"]],\"sequentialminus\":[[0.0,\"#0d0887\"],[0.1111111111111111,\"#46039f\"],[0.2222222222222222,\"#7201a8\"],[0.3333333333333333,\"#9c179e\"],[0.4444444444444444,\"#bd3786\"],[0.5555555555555556,\"#d8576b\"],[0.6666666666666666,\"#ed7953\"],[0.7777777777777778,\"#fb9f3a\"],[0.8888888888888888,\"#fdca26\"],[1.0,\"#f0f921\"]],\"diverging\":[[0,\"#8e0152\"],[0.1,\"#c51b7d\"],[0.2,\"#de77ae\"],[0.3,\"#f1b6da\"],[0.4,\"#fde0ef\"],[0.5,\"#f7f7f7\"],[0.6,\"#e6f5d0\"],[0.7,\"#b8e186\"],[0.8,\"#7fbc41\"],[0.9,\"#4d9221\"],[1,\"#276419\"]]},\"xaxis\":{\"gridcolor\":\"white\",\"linecolor\":\"white\",\"ticks\":\"\",\"title\":{\"standoff\":15},\"zerolinecolor\":\"white\",\"automargin\":true,\"zerolinewidth\":2},\"yaxis\":{\"gridcolor\":\"white\",\"linecolor\":\"white\",\"ticks\":\"\",\"title\":{\"standoff\":15},\"zerolinecolor\":\"white\",\"automargin\":true,\"zerolinewidth\":2},\"scene\":{\"xaxis\":{\"backgroundcolor\":\"#E5ECF6\",\"gridcolor\":\"white\",\"linecolor\":\"white\",\"showbackground\":true,\"ticks\":\"\",\"zerolinecolor\":\"white\",\"gridwidth\":2},\"yaxis\":{\"backgroundcolor\":\"#E5ECF6\",\"gridcolor\":\"white\",\"linecolor\":\"white\",\"showbackground\":true,\"ticks\":\"\",\"zerolinecolor\":\"white\",\"gridwidth\":2},\"zaxis\":{\"backgroundcolor\":\"#E5ECF6\",\"gridcolor\":\"white\",\"linecolor\":\"white\",\"showbackground\":true,\"ticks\":\"\",\"zerolinecolor\":\"white\",\"gridwidth\":2}},\"shapedefaults\":{\"line\":{\"color\":\"#2a3f5f\"}},\"annotationdefaults\":{\"arrowcolor\":\"#2a3f5f\",\"arrowhead\":0,\"arrowwidth\":1},\"geo\":{\"bgcolor\":\"white\",\"landcolor\":\"#E5ECF6\",\"subunitcolor\":\"white\",\"showland\":true,\"showlakes\":true,\"lakecolor\":\"white\"},\"title\":{\"x\":0.05},\"mapbox\":{\"style\":\"light\"}}},\"scene\":{\"domain\":{\"x\":[0.0,1.0],\"y\":[0.0,1.0]},\"xaxis\":{\"title\":{\"text\":\"X\"}},\"yaxis\":{\"title\":{\"text\":\"Y\"}},\"zaxis\":{\"title\":{\"text\":\"Z\"}}},\"legend\":{\"title\":{\"text\":\"ID\"},\"tracegroupgap\":0},\"margin\":{\"t\":60},\"height\":600,\"width\":1000},                        {\"responsive\": true}                    ).then(function(){\n",
       "                            \n",
       "var gd = document.getElementById('75370a08-4b62-4be3-a433-08fa785497ec');\n",
       "var x = new MutationObserver(function (mutations, observer) {{\n",
       "        var display = window.getComputedStyle(gd).display;\n",
       "        if (!display || display === 'none') {{\n",
       "            console.log([gd, 'removed!']);\n",
       "            Plotly.purge(gd);\n",
       "            observer.disconnect();\n",
       "        }}\n",
       "}});\n",
       "\n",
       "// Listen for the removal of the full notebook cells\n",
       "var notebookContainer = gd.closest('#notebook-container');\n",
       "if (notebookContainer) {{\n",
       "    x.observe(notebookContainer, {childList: true});\n",
       "}}\n",
       "\n",
       "// Listen for the clearing of the current output cell\n",
       "var outputEl = gd.closest('.output');\n",
       "if (outputEl) {{\n",
       "    x.observe(outputEl, {childList: true});\n",
       "}}\n",
       "\n",
       "                        })                };                });            </script>        </div>"
      ]
     },
     "metadata": {},
     "output_type": "display_data"
    },
    {
     "name": "stdout",
     "output_type": "stream",
     "text": [
      "Ids: ['BENamAV8rkibLIBc8asHhQ', 'XYIgNjEFVU6q-71AupPIzQ'], Start time: 6.940023, End time: 7.406918\n"
     ]
    },
    {
     "data": {
      "application/vnd.plotly.v1+json": {
       "config": {
        "plotlyServerURL": "https://plot.ly"
       },
       "data": [
        {
         "hovertemplate": "<b>%{hovertext}</b><br><br>ID=GenesisRightHand: BENamAV8rkibLIBc8asHhQ<br>X=%{x}<br>Y=%{y}<br>Z=%{z}<extra></extra>",
         "hovertext": [
          6.940023422241211,
          6.9624199867248535,
          6.983786106109619,
          7.0070881843566895,
          7.02901554107666,
          7.0508246421813965,
          7.072983741760254,
          7.095508098602295,
          7.117720127105713,
          7.139720439910889,
          7.162418842315674,
          7.184325695037842,
          7.206518173217773,
          7.228107452392578,
          7.251306533813477,
          7.273608684539795,
          7.295102596282959,
          7.318037033081055,
          7.340132236480713,
          7.361849784851074,
          7.3836164474487305,
          7.406917572021484
         ],
         "legendgroup": "GenesisRightHand: BENamAV8rkibLIBc8asHhQ",
         "line": {
          "color": "#636efa",
          "dash": "solid"
         },
         "marker": {
          "symbol": "circle"
         },
         "mode": "lines",
         "name": "GenesisRightHand: BENamAV8rkibLIBc8asHhQ",
         "scene": "scene",
         "showlegend": true,
         "type": "scatter3d",
         "x": [
          165.01536560058594,
          164.89170837402344,
          164.81283569335938,
          164.69943237304688,
          164.47572326660156,
          164.30055236816406,
          164.1510772705078,
          164.05055236816406,
          163.91981506347656,
          163.8223876953125,
          163.7969970703125,
          163.83702087402344,
          163.73513793945312,
          163.6439208984375,
          164.3218231201172,
          167.32289123535156,
          172.87693786621094,
          175.38427734375,
          175.7934112548828,
          174.08163452148438,
          172.3435516357422,
          171.32196044921875
         ],
         "y": [
          278.11932373046875,
          278.4715270996094,
          278.6487731933594,
          278.65692138671875,
          279.0542297363281,
          279.5215148925781,
          280.0511779785156,
          280.3471374511719,
          280.2025451660156,
          280.6158447265625,
          281.4747619628906,
          282.6974792480469,
          282.72515869140625,
          281.22052001953125,
          277.96435546875,
          271.6704406738281,
          266.0427551269531,
          263.0250244140625,
          259.0028381347656,
          254.43690490722656,
          249.1360626220703,
          242.72195434570312
         ],
         "z": [
          93.84833526611328,
          93.99813842773438,
          94.10991668701172,
          94.16368865966797,
          94.1617202758789,
          94.09883880615234,
          93.97236633300781,
          93.99089050292969,
          94.24557495117188,
          94.5044937133789,
          95.04159545898438,
          95.43238067626953,
          95.72438049316406,
          95.54737091064453,
          95.01289367675781,
          94.27349853515625,
          95.0101318359375,
          95.7681884765625,
          97.13707733154297,
          97.70076751708984,
          98.56053924560547,
          98.87995147705078
         ]
        },
        {
         "hovertemplate": "<b>%{hovertext}</b><br><br>ID=IAIIslandArea: XYIgNjEFVU6q-71AupPIzQ<br>X=%{x}<br>Y=%{y}<br>Z=%{z}<extra></extra>",
         "hovertext": [
          6.940023422241211,
          6.9624199867248535,
          6.983786106109619,
          7.0070881843566895,
          7.02901554107666,
          7.0508246421813965,
          7.072983741760254,
          7.095508098602295,
          7.117720127105713,
          7.139720439910889,
          7.162418842315674,
          7.184325695037842,
          7.206518173217773,
          7.228107452392578,
          7.251306533813477,
          7.273608684539795,
          7.295102596282959,
          7.318037033081055,
          7.340132236480713,
          7.361849784851074,
          7.3836164474487305,
          7.406917572021484
         ],
         "legendgroup": "IAIIslandArea: XYIgNjEFVU6q-71AupPIzQ",
         "line": {
          "color": "#EF553B",
          "dash": "solid"
         },
         "marker": {
          "symbol": "circle"
         },
         "mode": "lines",
         "name": "IAIIslandArea: XYIgNjEFVU6q-71AupPIzQ",
         "scene": "scene",
         "showlegend": true,
         "type": "scatter3d",
         "x": [
          192.9720458984375,
          192.9720458984375,
          192.9720458984375,
          192.9720458984375,
          192.9720458984375,
          192.9720458984375,
          192.9720458984375,
          192.9720458984375,
          192.9720458984375,
          192.9720458984375,
          192.9720458984375,
          192.9720458984375,
          192.9720458984375,
          192.9720458984375,
          192.9720458984375,
          192.9720458984375,
          192.9720458984375,
          192.9720458984375,
          192.9720458984375,
          192.9720458984375,
          192.9720458984375,
          192.9720458984375
         ],
         "y": [
          345.48675537109375,
          345.48675537109375,
          345.48675537109375,
          345.48675537109375,
          345.48675537109375,
          345.48675537109375,
          345.48675537109375,
          345.48675537109375,
          345.48675537109375,
          345.48675537109375,
          345.48675537109375,
          345.48675537109375,
          345.48675537109375,
          345.48675537109375,
          345.48675537109375,
          345.48675537109375,
          345.48675537109375,
          345.48675537109375,
          345.48675537109375,
          345.48675537109375,
          345.48675537109375,
          345.48675537109375
         ],
         "z": [
          42.812705993652344,
          42.812705993652344,
          42.812705993652344,
          42.812705993652344,
          42.812705993652344,
          42.812705993652344,
          42.812705993652344,
          42.812705993652344,
          42.812705993652344,
          42.812705993652344,
          42.812705993652344,
          42.812705993652344,
          42.812705993652344,
          42.812705993652344,
          42.812705993652344,
          42.812705993652344,
          42.812705993652344,
          42.812705993652344,
          42.812705993652344,
          42.812705993652344,
          42.812705993652344,
          42.812705993652344
         ]
        }
       ],
       "layout": {
        "height": 600,
        "legend": {
         "title": {
          "text": "ID"
         },
         "tracegroupgap": 0
        },
        "margin": {
         "t": 60
        },
        "scene": {
         "aspectmode": "auto",
         "aspectratio": {
          "x": 0.5304832355429553,
          "y": 1.8587960924156326,
          "z": 1.014136900739967
         },
         "camera": {
          "center": {
           "x": 0,
           "y": 0,
           "z": 0
          },
          "eye": {
           "x": 1.9730998190640014,
           "y": 0.09529341806888064,
           "z": 0.8861694355383481
          },
          "projection": {
           "type": "perspective"
          },
          "up": {
           "x": 0,
           "y": 0,
           "z": 1
          }
         },
         "domain": {
          "x": [
           0,
           1
          ],
          "y": [
           0,
           1
          ]
         },
         "xaxis": {
          "title": {
           "text": "X"
          },
          "type": "linear"
         },
         "yaxis": {
          "title": {
           "text": "Y"
          },
          "type": "linear"
         },
         "zaxis": {
          "title": {
           "text": "Z"
          },
          "type": "linear"
         }
        },
        "template": {
         "data": {
          "bar": [
           {
            "error_x": {
             "color": "#2a3f5f"
            },
            "error_y": {
             "color": "#2a3f5f"
            },
            "marker": {
             "line": {
              "color": "#E5ECF6",
              "width": 0.5
             },
             "pattern": {
              "fillmode": "overlay",
              "size": 10,
              "solidity": 0.2
             }
            },
            "type": "bar"
           }
          ],
          "barpolar": [
           {
            "marker": {
             "line": {
              "color": "#E5ECF6",
              "width": 0.5
             },
             "pattern": {
              "fillmode": "overlay",
              "size": 10,
              "solidity": 0.2
             }
            },
            "type": "barpolar"
           }
          ],
          "carpet": [
           {
            "aaxis": {
             "endlinecolor": "#2a3f5f",
             "gridcolor": "white",
             "linecolor": "white",
             "minorgridcolor": "white",
             "startlinecolor": "#2a3f5f"
            },
            "baxis": {
             "endlinecolor": "#2a3f5f",
             "gridcolor": "white",
             "linecolor": "white",
             "minorgridcolor": "white",
             "startlinecolor": "#2a3f5f"
            },
            "type": "carpet"
           }
          ],
          "choropleth": [
           {
            "colorbar": {
             "outlinewidth": 0,
             "ticks": ""
            },
            "type": "choropleth"
           }
          ],
          "contour": [
           {
            "colorbar": {
             "outlinewidth": 0,
             "ticks": ""
            },
            "colorscale": [
             [
              0,
              "#0d0887"
             ],
             [
              0.1111111111111111,
              "#46039f"
             ],
             [
              0.2222222222222222,
              "#7201a8"
             ],
             [
              0.3333333333333333,
              "#9c179e"
             ],
             [
              0.4444444444444444,
              "#bd3786"
             ],
             [
              0.5555555555555556,
              "#d8576b"
             ],
             [
              0.6666666666666666,
              "#ed7953"
             ],
             [
              0.7777777777777778,
              "#fb9f3a"
             ],
             [
              0.8888888888888888,
              "#fdca26"
             ],
             [
              1,
              "#f0f921"
             ]
            ],
            "type": "contour"
           }
          ],
          "contourcarpet": [
           {
            "colorbar": {
             "outlinewidth": 0,
             "ticks": ""
            },
            "type": "contourcarpet"
           }
          ],
          "heatmap": [
           {
            "colorbar": {
             "outlinewidth": 0,
             "ticks": ""
            },
            "colorscale": [
             [
              0,
              "#0d0887"
             ],
             [
              0.1111111111111111,
              "#46039f"
             ],
             [
              0.2222222222222222,
              "#7201a8"
             ],
             [
              0.3333333333333333,
              "#9c179e"
             ],
             [
              0.4444444444444444,
              "#bd3786"
             ],
             [
              0.5555555555555556,
              "#d8576b"
             ],
             [
              0.6666666666666666,
              "#ed7953"
             ],
             [
              0.7777777777777778,
              "#fb9f3a"
             ],
             [
              0.8888888888888888,
              "#fdca26"
             ],
             [
              1,
              "#f0f921"
             ]
            ],
            "type": "heatmap"
           }
          ],
          "heatmapgl": [
           {
            "colorbar": {
             "outlinewidth": 0,
             "ticks": ""
            },
            "colorscale": [
             [
              0,
              "#0d0887"
             ],
             [
              0.1111111111111111,
              "#46039f"
             ],
             [
              0.2222222222222222,
              "#7201a8"
             ],
             [
              0.3333333333333333,
              "#9c179e"
             ],
             [
              0.4444444444444444,
              "#bd3786"
             ],
             [
              0.5555555555555556,
              "#d8576b"
             ],
             [
              0.6666666666666666,
              "#ed7953"
             ],
             [
              0.7777777777777778,
              "#fb9f3a"
             ],
             [
              0.8888888888888888,
              "#fdca26"
             ],
             [
              1,
              "#f0f921"
             ]
            ],
            "type": "heatmapgl"
           }
          ],
          "histogram": [
           {
            "marker": {
             "pattern": {
              "fillmode": "overlay",
              "size": 10,
              "solidity": 0.2
             }
            },
            "type": "histogram"
           }
          ],
          "histogram2d": [
           {
            "colorbar": {
             "outlinewidth": 0,
             "ticks": ""
            },
            "colorscale": [
             [
              0,
              "#0d0887"
             ],
             [
              0.1111111111111111,
              "#46039f"
             ],
             [
              0.2222222222222222,
              "#7201a8"
             ],
             [
              0.3333333333333333,
              "#9c179e"
             ],
             [
              0.4444444444444444,
              "#bd3786"
             ],
             [
              0.5555555555555556,
              "#d8576b"
             ],
             [
              0.6666666666666666,
              "#ed7953"
             ],
             [
              0.7777777777777778,
              "#fb9f3a"
             ],
             [
              0.8888888888888888,
              "#fdca26"
             ],
             [
              1,
              "#f0f921"
             ]
            ],
            "type": "histogram2d"
           }
          ],
          "histogram2dcontour": [
           {
            "colorbar": {
             "outlinewidth": 0,
             "ticks": ""
            },
            "colorscale": [
             [
              0,
              "#0d0887"
             ],
             [
              0.1111111111111111,
              "#46039f"
             ],
             [
              0.2222222222222222,
              "#7201a8"
             ],
             [
              0.3333333333333333,
              "#9c179e"
             ],
             [
              0.4444444444444444,
              "#bd3786"
             ],
             [
              0.5555555555555556,
              "#d8576b"
             ],
             [
              0.6666666666666666,
              "#ed7953"
             ],
             [
              0.7777777777777778,
              "#fb9f3a"
             ],
             [
              0.8888888888888888,
              "#fdca26"
             ],
             [
              1,
              "#f0f921"
             ]
            ],
            "type": "histogram2dcontour"
           }
          ],
          "mesh3d": [
           {
            "colorbar": {
             "outlinewidth": 0,
             "ticks": ""
            },
            "type": "mesh3d"
           }
          ],
          "parcoords": [
           {
            "line": {
             "colorbar": {
              "outlinewidth": 0,
              "ticks": ""
             }
            },
            "type": "parcoords"
           }
          ],
          "pie": [
           {
            "automargin": true,
            "type": "pie"
           }
          ],
          "scatter": [
           {
            "fillpattern": {
             "fillmode": "overlay",
             "size": 10,
             "solidity": 0.2
            },
            "type": "scatter"
           }
          ],
          "scatter3d": [
           {
            "line": {
             "colorbar": {
              "outlinewidth": 0,
              "ticks": ""
             }
            },
            "marker": {
             "colorbar": {
              "outlinewidth": 0,
              "ticks": ""
             }
            },
            "type": "scatter3d"
           }
          ],
          "scattercarpet": [
           {
            "marker": {
             "colorbar": {
              "outlinewidth": 0,
              "ticks": ""
             }
            },
            "type": "scattercarpet"
           }
          ],
          "scattergeo": [
           {
            "marker": {
             "colorbar": {
              "outlinewidth": 0,
              "ticks": ""
             }
            },
            "type": "scattergeo"
           }
          ],
          "scattergl": [
           {
            "marker": {
             "colorbar": {
              "outlinewidth": 0,
              "ticks": ""
             }
            },
            "type": "scattergl"
           }
          ],
          "scattermapbox": [
           {
            "marker": {
             "colorbar": {
              "outlinewidth": 0,
              "ticks": ""
             }
            },
            "type": "scattermapbox"
           }
          ],
          "scatterpolar": [
           {
            "marker": {
             "colorbar": {
              "outlinewidth": 0,
              "ticks": ""
             }
            },
            "type": "scatterpolar"
           }
          ],
          "scatterpolargl": [
           {
            "marker": {
             "colorbar": {
              "outlinewidth": 0,
              "ticks": ""
             }
            },
            "type": "scatterpolargl"
           }
          ],
          "scatterternary": [
           {
            "marker": {
             "colorbar": {
              "outlinewidth": 0,
              "ticks": ""
             }
            },
            "type": "scatterternary"
           }
          ],
          "surface": [
           {
            "colorbar": {
             "outlinewidth": 0,
             "ticks": ""
            },
            "colorscale": [
             [
              0,
              "#0d0887"
             ],
             [
              0.1111111111111111,
              "#46039f"
             ],
             [
              0.2222222222222222,
              "#7201a8"
             ],
             [
              0.3333333333333333,
              "#9c179e"
             ],
             [
              0.4444444444444444,
              "#bd3786"
             ],
             [
              0.5555555555555556,
              "#d8576b"
             ],
             [
              0.6666666666666666,
              "#ed7953"
             ],
             [
              0.7777777777777778,
              "#fb9f3a"
             ],
             [
              0.8888888888888888,
              "#fdca26"
             ],
             [
              1,
              "#f0f921"
             ]
            ],
            "type": "surface"
           }
          ],
          "table": [
           {
            "cells": {
             "fill": {
              "color": "#EBF0F8"
             },
             "line": {
              "color": "white"
             }
            },
            "header": {
             "fill": {
              "color": "#C8D4E3"
             },
             "line": {
              "color": "white"
             }
            },
            "type": "table"
           }
          ]
         },
         "layout": {
          "annotationdefaults": {
           "arrowcolor": "#2a3f5f",
           "arrowhead": 0,
           "arrowwidth": 1
          },
          "autotypenumbers": "strict",
          "coloraxis": {
           "colorbar": {
            "outlinewidth": 0,
            "ticks": ""
           }
          },
          "colorscale": {
           "diverging": [
            [
             0,
             "#8e0152"
            ],
            [
             0.1,
             "#c51b7d"
            ],
            [
             0.2,
             "#de77ae"
            ],
            [
             0.3,
             "#f1b6da"
            ],
            [
             0.4,
             "#fde0ef"
            ],
            [
             0.5,
             "#f7f7f7"
            ],
            [
             0.6,
             "#e6f5d0"
            ],
            [
             0.7,
             "#b8e186"
            ],
            [
             0.8,
             "#7fbc41"
            ],
            [
             0.9,
             "#4d9221"
            ],
            [
             1,
             "#276419"
            ]
           ],
           "sequential": [
            [
             0,
             "#0d0887"
            ],
            [
             0.1111111111111111,
             "#46039f"
            ],
            [
             0.2222222222222222,
             "#7201a8"
            ],
            [
             0.3333333333333333,
             "#9c179e"
            ],
            [
             0.4444444444444444,
             "#bd3786"
            ],
            [
             0.5555555555555556,
             "#d8576b"
            ],
            [
             0.6666666666666666,
             "#ed7953"
            ],
            [
             0.7777777777777778,
             "#fb9f3a"
            ],
            [
             0.8888888888888888,
             "#fdca26"
            ],
            [
             1,
             "#f0f921"
            ]
           ],
           "sequentialminus": [
            [
             0,
             "#0d0887"
            ],
            [
             0.1111111111111111,
             "#46039f"
            ],
            [
             0.2222222222222222,
             "#7201a8"
            ],
            [
             0.3333333333333333,
             "#9c179e"
            ],
            [
             0.4444444444444444,
             "#bd3786"
            ],
            [
             0.5555555555555556,
             "#d8576b"
            ],
            [
             0.6666666666666666,
             "#ed7953"
            ],
            [
             0.7777777777777778,
             "#fb9f3a"
            ],
            [
             0.8888888888888888,
             "#fdca26"
            ],
            [
             1,
             "#f0f921"
            ]
           ]
          },
          "colorway": [
           "#636efa",
           "#EF553B",
           "#00cc96",
           "#ab63fa",
           "#FFA15A",
           "#19d3f3",
           "#FF6692",
           "#B6E880",
           "#FF97FF",
           "#FECB52"
          ],
          "font": {
           "color": "#2a3f5f"
          },
          "geo": {
           "bgcolor": "white",
           "lakecolor": "white",
           "landcolor": "#E5ECF6",
           "showlakes": true,
           "showland": true,
           "subunitcolor": "white"
          },
          "hoverlabel": {
           "align": "left"
          },
          "hovermode": "closest",
          "mapbox": {
           "style": "light"
          },
          "paper_bgcolor": "white",
          "plot_bgcolor": "#E5ECF6",
          "polar": {
           "angularaxis": {
            "gridcolor": "white",
            "linecolor": "white",
            "ticks": ""
           },
           "bgcolor": "#E5ECF6",
           "radialaxis": {
            "gridcolor": "white",
            "linecolor": "white",
            "ticks": ""
           }
          },
          "scene": {
           "xaxis": {
            "backgroundcolor": "#E5ECF6",
            "gridcolor": "white",
            "gridwidth": 2,
            "linecolor": "white",
            "showbackground": true,
            "ticks": "",
            "zerolinecolor": "white"
           },
           "yaxis": {
            "backgroundcolor": "#E5ECF6",
            "gridcolor": "white",
            "gridwidth": 2,
            "linecolor": "white",
            "showbackground": true,
            "ticks": "",
            "zerolinecolor": "white"
           },
           "zaxis": {
            "backgroundcolor": "#E5ECF6",
            "gridcolor": "white",
            "gridwidth": 2,
            "linecolor": "white",
            "showbackground": true,
            "ticks": "",
            "zerolinecolor": "white"
           }
          },
          "shapedefaults": {
           "line": {
            "color": "#2a3f5f"
           }
          },
          "ternary": {
           "aaxis": {
            "gridcolor": "white",
            "linecolor": "white",
            "ticks": ""
           },
           "baxis": {
            "gridcolor": "white",
            "linecolor": "white",
            "ticks": ""
           },
           "bgcolor": "#E5ECF6",
           "caxis": {
            "gridcolor": "white",
            "linecolor": "white",
            "ticks": ""
           }
          },
          "title": {
           "x": 0.05
          },
          "xaxis": {
           "automargin": true,
           "gridcolor": "white",
           "linecolor": "white",
           "ticks": "",
           "title": {
            "standoff": 15
           },
           "zerolinecolor": "white",
           "zerolinewidth": 2
          },
          "yaxis": {
           "automargin": true,
           "gridcolor": "white",
           "linecolor": "white",
           "ticks": "",
           "title": {
            "standoff": 15
           },
           "zerolinecolor": "white",
           "zerolinewidth": 2
          }
         }
        },
        "width": 1000
       }
      },
      "text/html": [
       "<div>                            <div id=\"95d2a206-b373-4c1d-a811-fa419e6c1247\" class=\"plotly-graph-div\" style=\"height:600px; width:1000px;\"></div>            <script type=\"text/javascript\">                require([\"plotly\"], function(Plotly) {                    window.PLOTLYENV=window.PLOTLYENV || {};                                    if (document.getElementById(\"95d2a206-b373-4c1d-a811-fa419e6c1247\")) {                    Plotly.newPlot(                        \"95d2a206-b373-4c1d-a811-fa419e6c1247\",                        [{\"hovertemplate\":\"<b>%{hovertext}</b><br><br>ID=GenesisRightHand: BENamAV8rkibLIBc8asHhQ<br>X=%{x}<br>Y=%{y}<br>Z=%{z}<extra></extra>\",\"hovertext\":[6.940023422241211,6.9624199867248535,6.983786106109619,7.0070881843566895,7.02901554107666,7.0508246421813965,7.072983741760254,7.095508098602295,7.117720127105713,7.139720439910889,7.162418842315674,7.184325695037842,7.206518173217773,7.228107452392578,7.251306533813477,7.273608684539795,7.295102596282959,7.318037033081055,7.340132236480713,7.361849784851074,7.3836164474487305,7.406917572021484],\"legendgroup\":\"GenesisRightHand: BENamAV8rkibLIBc8asHhQ\",\"line\":{\"color\":\"#636efa\",\"dash\":\"solid\"},\"marker\":{\"symbol\":\"circle\"},\"mode\":\"lines\",\"name\":\"GenesisRightHand: BENamAV8rkibLIBc8asHhQ\",\"scene\":\"scene\",\"showlegend\":true,\"x\":[165.01536560058594,164.89170837402344,164.81283569335938,164.69943237304688,164.47572326660156,164.30055236816406,164.1510772705078,164.05055236816406,163.91981506347656,163.8223876953125,163.7969970703125,163.83702087402344,163.73513793945312,163.6439208984375,164.3218231201172,167.32289123535156,172.87693786621094,175.38427734375,175.7934112548828,174.08163452148438,172.3435516357422,171.32196044921875],\"y\":[278.11932373046875,278.4715270996094,278.6487731933594,278.65692138671875,279.0542297363281,279.5215148925781,280.0511779785156,280.3471374511719,280.2025451660156,280.6158447265625,281.4747619628906,282.6974792480469,282.72515869140625,281.22052001953125,277.96435546875,271.6704406738281,266.0427551269531,263.0250244140625,259.0028381347656,254.43690490722656,249.1360626220703,242.72195434570312],\"z\":[93.84833526611328,93.99813842773438,94.10991668701172,94.16368865966797,94.1617202758789,94.09883880615234,93.97236633300781,93.99089050292969,94.24557495117188,94.5044937133789,95.04159545898438,95.43238067626953,95.72438049316406,95.54737091064453,95.01289367675781,94.27349853515625,95.0101318359375,95.7681884765625,97.13707733154297,97.70076751708984,98.56053924560547,98.87995147705078],\"type\":\"scatter3d\"},{\"hovertemplate\":\"<b>%{hovertext}</b><br><br>ID=IAIIslandArea: XYIgNjEFVU6q-71AupPIzQ<br>X=%{x}<br>Y=%{y}<br>Z=%{z}<extra></extra>\",\"hovertext\":[6.940023422241211,6.9624199867248535,6.983786106109619,7.0070881843566895,7.02901554107666,7.0508246421813965,7.072983741760254,7.095508098602295,7.117720127105713,7.139720439910889,7.162418842315674,7.184325695037842,7.206518173217773,7.228107452392578,7.251306533813477,7.273608684539795,7.295102596282959,7.318037033081055,7.340132236480713,7.361849784851074,7.3836164474487305,7.406917572021484],\"legendgroup\":\"IAIIslandArea: XYIgNjEFVU6q-71AupPIzQ\",\"line\":{\"color\":\"#EF553B\",\"dash\":\"solid\"},\"marker\":{\"symbol\":\"circle\"},\"mode\":\"lines\",\"name\":\"IAIIslandArea: XYIgNjEFVU6q-71AupPIzQ\",\"scene\":\"scene\",\"showlegend\":true,\"x\":[192.9720458984375,192.9720458984375,192.9720458984375,192.9720458984375,192.9720458984375,192.9720458984375,192.9720458984375,192.9720458984375,192.9720458984375,192.9720458984375,192.9720458984375,192.9720458984375,192.9720458984375,192.9720458984375,192.9720458984375,192.9720458984375,192.9720458984375,192.9720458984375,192.9720458984375,192.9720458984375,192.9720458984375,192.9720458984375],\"y\":[345.48675537109375,345.48675537109375,345.48675537109375,345.48675537109375,345.48675537109375,345.48675537109375,345.48675537109375,345.48675537109375,345.48675537109375,345.48675537109375,345.48675537109375,345.48675537109375,345.48675537109375,345.48675537109375,345.48675537109375,345.48675537109375,345.48675537109375,345.48675537109375,345.48675537109375,345.48675537109375,345.48675537109375,345.48675537109375],\"z\":[42.812705993652344,42.812705993652344,42.812705993652344,42.812705993652344,42.812705993652344,42.812705993652344,42.812705993652344,42.812705993652344,42.812705993652344,42.812705993652344,42.812705993652344,42.812705993652344,42.812705993652344,42.812705993652344,42.812705993652344,42.812705993652344,42.812705993652344,42.812705993652344,42.812705993652344,42.812705993652344,42.812705993652344,42.812705993652344],\"type\":\"scatter3d\"}],                        {\"template\":{\"data\":{\"histogram2dcontour\":[{\"type\":\"histogram2dcontour\",\"colorbar\":{\"outlinewidth\":0,\"ticks\":\"\"},\"colorscale\":[[0.0,\"#0d0887\"],[0.1111111111111111,\"#46039f\"],[0.2222222222222222,\"#7201a8\"],[0.3333333333333333,\"#9c179e\"],[0.4444444444444444,\"#bd3786\"],[0.5555555555555556,\"#d8576b\"],[0.6666666666666666,\"#ed7953\"],[0.7777777777777778,\"#fb9f3a\"],[0.8888888888888888,\"#fdca26\"],[1.0,\"#f0f921\"]]}],\"choropleth\":[{\"type\":\"choropleth\",\"colorbar\":{\"outlinewidth\":0,\"ticks\":\"\"}}],\"histogram2d\":[{\"type\":\"histogram2d\",\"colorbar\":{\"outlinewidth\":0,\"ticks\":\"\"},\"colorscale\":[[0.0,\"#0d0887\"],[0.1111111111111111,\"#46039f\"],[0.2222222222222222,\"#7201a8\"],[0.3333333333333333,\"#9c179e\"],[0.4444444444444444,\"#bd3786\"],[0.5555555555555556,\"#d8576b\"],[0.6666666666666666,\"#ed7953\"],[0.7777777777777778,\"#fb9f3a\"],[0.8888888888888888,\"#fdca26\"],[1.0,\"#f0f921\"]]}],\"heatmap\":[{\"type\":\"heatmap\",\"colorbar\":{\"outlinewidth\":0,\"ticks\":\"\"},\"colorscale\":[[0.0,\"#0d0887\"],[0.1111111111111111,\"#46039f\"],[0.2222222222222222,\"#7201a8\"],[0.3333333333333333,\"#9c179e\"],[0.4444444444444444,\"#bd3786\"],[0.5555555555555556,\"#d8576b\"],[0.6666666666666666,\"#ed7953\"],[0.7777777777777778,\"#fb9f3a\"],[0.8888888888888888,\"#fdca26\"],[1.0,\"#f0f921\"]]}],\"heatmapgl\":[{\"type\":\"heatmapgl\",\"colorbar\":{\"outlinewidth\":0,\"ticks\":\"\"},\"colorscale\":[[0.0,\"#0d0887\"],[0.1111111111111111,\"#46039f\"],[0.2222222222222222,\"#7201a8\"],[0.3333333333333333,\"#9c179e\"],[0.4444444444444444,\"#bd3786\"],[0.5555555555555556,\"#d8576b\"],[0.6666666666666666,\"#ed7953\"],[0.7777777777777778,\"#fb9f3a\"],[0.8888888888888888,\"#fdca26\"],[1.0,\"#f0f921\"]]}],\"contourcarpet\":[{\"type\":\"contourcarpet\",\"colorbar\":{\"outlinewidth\":0,\"ticks\":\"\"}}],\"contour\":[{\"type\":\"contour\",\"colorbar\":{\"outlinewidth\":0,\"ticks\":\"\"},\"colorscale\":[[0.0,\"#0d0887\"],[0.1111111111111111,\"#46039f\"],[0.2222222222222222,\"#7201a8\"],[0.3333333333333333,\"#9c179e\"],[0.4444444444444444,\"#bd3786\"],[0.5555555555555556,\"#d8576b\"],[0.6666666666666666,\"#ed7953\"],[0.7777777777777778,\"#fb9f3a\"],[0.8888888888888888,\"#fdca26\"],[1.0,\"#f0f921\"]]}],\"surface\":[{\"type\":\"surface\",\"colorbar\":{\"outlinewidth\":0,\"ticks\":\"\"},\"colorscale\":[[0.0,\"#0d0887\"],[0.1111111111111111,\"#46039f\"],[0.2222222222222222,\"#7201a8\"],[0.3333333333333333,\"#9c179e\"],[0.4444444444444444,\"#bd3786\"],[0.5555555555555556,\"#d8576b\"],[0.6666666666666666,\"#ed7953\"],[0.7777777777777778,\"#fb9f3a\"],[0.8888888888888888,\"#fdca26\"],[1.0,\"#f0f921\"]]}],\"mesh3d\":[{\"type\":\"mesh3d\",\"colorbar\":{\"outlinewidth\":0,\"ticks\":\"\"}}],\"scatter\":[{\"fillpattern\":{\"fillmode\":\"overlay\",\"size\":10,\"solidity\":0.2},\"type\":\"scatter\"}],\"parcoords\":[{\"type\":\"parcoords\",\"line\":{\"colorbar\":{\"outlinewidth\":0,\"ticks\":\"\"}}}],\"scatterpolargl\":[{\"type\":\"scatterpolargl\",\"marker\":{\"colorbar\":{\"outlinewidth\":0,\"ticks\":\"\"}}}],\"bar\":[{\"error_x\":{\"color\":\"#2a3f5f\"},\"error_y\":{\"color\":\"#2a3f5f\"},\"marker\":{\"line\":{\"color\":\"#E5ECF6\",\"width\":0.5},\"pattern\":{\"fillmode\":\"overlay\",\"size\":10,\"solidity\":0.2}},\"type\":\"bar\"}],\"scattergeo\":[{\"type\":\"scattergeo\",\"marker\":{\"colorbar\":{\"outlinewidth\":0,\"ticks\":\"\"}}}],\"scatterpolar\":[{\"type\":\"scatterpolar\",\"marker\":{\"colorbar\":{\"outlinewidth\":0,\"ticks\":\"\"}}}],\"histogram\":[{\"marker\":{\"pattern\":{\"fillmode\":\"overlay\",\"size\":10,\"solidity\":0.2}},\"type\":\"histogram\"}],\"scattergl\":[{\"type\":\"scattergl\",\"marker\":{\"colorbar\":{\"outlinewidth\":0,\"ticks\":\"\"}}}],\"scatter3d\":[{\"type\":\"scatter3d\",\"line\":{\"colorbar\":{\"outlinewidth\":0,\"ticks\":\"\"}},\"marker\":{\"colorbar\":{\"outlinewidth\":0,\"ticks\":\"\"}}}],\"scattermapbox\":[{\"type\":\"scattermapbox\",\"marker\":{\"colorbar\":{\"outlinewidth\":0,\"ticks\":\"\"}}}],\"scatterternary\":[{\"type\":\"scatterternary\",\"marker\":{\"colorbar\":{\"outlinewidth\":0,\"ticks\":\"\"}}}],\"scattercarpet\":[{\"type\":\"scattercarpet\",\"marker\":{\"colorbar\":{\"outlinewidth\":0,\"ticks\":\"\"}}}],\"carpet\":[{\"aaxis\":{\"endlinecolor\":\"#2a3f5f\",\"gridcolor\":\"white\",\"linecolor\":\"white\",\"minorgridcolor\":\"white\",\"startlinecolor\":\"#2a3f5f\"},\"baxis\":{\"endlinecolor\":\"#2a3f5f\",\"gridcolor\":\"white\",\"linecolor\":\"white\",\"minorgridcolor\":\"white\",\"startlinecolor\":\"#2a3f5f\"},\"type\":\"carpet\"}],\"table\":[{\"cells\":{\"fill\":{\"color\":\"#EBF0F8\"},\"line\":{\"color\":\"white\"}},\"header\":{\"fill\":{\"color\":\"#C8D4E3\"},\"line\":{\"color\":\"white\"}},\"type\":\"table\"}],\"barpolar\":[{\"marker\":{\"line\":{\"color\":\"#E5ECF6\",\"width\":0.5},\"pattern\":{\"fillmode\":\"overlay\",\"size\":10,\"solidity\":0.2}},\"type\":\"barpolar\"}],\"pie\":[{\"automargin\":true,\"type\":\"pie\"}]},\"layout\":{\"autotypenumbers\":\"strict\",\"colorway\":[\"#636efa\",\"#EF553B\",\"#00cc96\",\"#ab63fa\",\"#FFA15A\",\"#19d3f3\",\"#FF6692\",\"#B6E880\",\"#FF97FF\",\"#FECB52\"],\"font\":{\"color\":\"#2a3f5f\"},\"hovermode\":\"closest\",\"hoverlabel\":{\"align\":\"left\"},\"paper_bgcolor\":\"white\",\"plot_bgcolor\":\"#E5ECF6\",\"polar\":{\"bgcolor\":\"#E5ECF6\",\"angularaxis\":{\"gridcolor\":\"white\",\"linecolor\":\"white\",\"ticks\":\"\"},\"radialaxis\":{\"gridcolor\":\"white\",\"linecolor\":\"white\",\"ticks\":\"\"}},\"ternary\":{\"bgcolor\":\"#E5ECF6\",\"aaxis\":{\"gridcolor\":\"white\",\"linecolor\":\"white\",\"ticks\":\"\"},\"baxis\":{\"gridcolor\":\"white\",\"linecolor\":\"white\",\"ticks\":\"\"},\"caxis\":{\"gridcolor\":\"white\",\"linecolor\":\"white\",\"ticks\":\"\"}},\"coloraxis\":{\"colorbar\":{\"outlinewidth\":0,\"ticks\":\"\"}},\"colorscale\":{\"sequential\":[[0.0,\"#0d0887\"],[0.1111111111111111,\"#46039f\"],[0.2222222222222222,\"#7201a8\"],[0.3333333333333333,\"#9c179e\"],[0.4444444444444444,\"#bd3786\"],[0.5555555555555556,\"#d8576b\"],[0.6666666666666666,\"#ed7953\"],[0.7777777777777778,\"#fb9f3a\"],[0.8888888888888888,\"#fdca26\"],[1.0,\"#f0f921\"]],\"sequentialminus\":[[0.0,\"#0d0887\"],[0.1111111111111111,\"#46039f\"],[0.2222222222222222,\"#7201a8\"],[0.3333333333333333,\"#9c179e\"],[0.4444444444444444,\"#bd3786\"],[0.5555555555555556,\"#d8576b\"],[0.6666666666666666,\"#ed7953\"],[0.7777777777777778,\"#fb9f3a\"],[0.8888888888888888,\"#fdca26\"],[1.0,\"#f0f921\"]],\"diverging\":[[0,\"#8e0152\"],[0.1,\"#c51b7d\"],[0.2,\"#de77ae\"],[0.3,\"#f1b6da\"],[0.4,\"#fde0ef\"],[0.5,\"#f7f7f7\"],[0.6,\"#e6f5d0\"],[0.7,\"#b8e186\"],[0.8,\"#7fbc41\"],[0.9,\"#4d9221\"],[1,\"#276419\"]]},\"xaxis\":{\"gridcolor\":\"white\",\"linecolor\":\"white\",\"ticks\":\"\",\"title\":{\"standoff\":15},\"zerolinecolor\":\"white\",\"automargin\":true,\"zerolinewidth\":2},\"yaxis\":{\"gridcolor\":\"white\",\"linecolor\":\"white\",\"ticks\":\"\",\"title\":{\"standoff\":15},\"zerolinecolor\":\"white\",\"automargin\":true,\"zerolinewidth\":2},\"scene\":{\"xaxis\":{\"backgroundcolor\":\"#E5ECF6\",\"gridcolor\":\"white\",\"linecolor\":\"white\",\"showbackground\":true,\"ticks\":\"\",\"zerolinecolor\":\"white\",\"gridwidth\":2},\"yaxis\":{\"backgroundcolor\":\"#E5ECF6\",\"gridcolor\":\"white\",\"linecolor\":\"white\",\"showbackground\":true,\"ticks\":\"\",\"zerolinecolor\":\"white\",\"gridwidth\":2},\"zaxis\":{\"backgroundcolor\":\"#E5ECF6\",\"gridcolor\":\"white\",\"linecolor\":\"white\",\"showbackground\":true,\"ticks\":\"\",\"zerolinecolor\":\"white\",\"gridwidth\":2}},\"shapedefaults\":{\"line\":{\"color\":\"#2a3f5f\"}},\"annotationdefaults\":{\"arrowcolor\":\"#2a3f5f\",\"arrowhead\":0,\"arrowwidth\":1},\"geo\":{\"bgcolor\":\"white\",\"landcolor\":\"#E5ECF6\",\"subunitcolor\":\"white\",\"showland\":true,\"showlakes\":true,\"lakecolor\":\"white\"},\"title\":{\"x\":0.05},\"mapbox\":{\"style\":\"light\"}}},\"scene\":{\"domain\":{\"x\":[0.0,1.0],\"y\":[0.0,1.0]},\"xaxis\":{\"title\":{\"text\":\"X\"}},\"yaxis\":{\"title\":{\"text\":\"Y\"}},\"zaxis\":{\"title\":{\"text\":\"Z\"}}},\"legend\":{\"title\":{\"text\":\"ID\"},\"tracegroupgap\":0},\"margin\":{\"t\":60},\"height\":600,\"width\":1000},                        {\"responsive\": true}                    ).then(function(){\n",
       "                            \n",
       "var gd = document.getElementById('95d2a206-b373-4c1d-a811-fa419e6c1247');\n",
       "var x = new MutationObserver(function (mutations, observer) {{\n",
       "        var display = window.getComputedStyle(gd).display;\n",
       "        if (!display || display === 'none') {{\n",
       "            console.log([gd, 'removed!']);\n",
       "            Plotly.purge(gd);\n",
       "            observer.disconnect();\n",
       "        }}\n",
       "}});\n",
       "\n",
       "// Listen for the removal of the full notebook cells\n",
       "var notebookContainer = gd.closest('#notebook-container');\n",
       "if (notebookContainer) {{\n",
       "    x.observe(notebookContainer, {childList: true});\n",
       "}}\n",
       "\n",
       "// Listen for the clearing of the current output cell\n",
       "var outputEl = gd.closest('.output');\n",
       "if (outputEl) {{\n",
       "    x.observe(outputEl, {childList: true});\n",
       "}}\n",
       "\n",
       "                        })                };                });            </script>        </div>"
      ]
     },
     "metadata": {},
     "output_type": "display_data"
    },
    {
     "name": "stdout",
     "output_type": "stream",
     "text": [
      "Ids: ['BENamAV8rkibLIBc8asHhQ', '_pI9DAGyIUGSpUuDn8rEHQ'], Start time: 6.917599, End time: 7.651025\n"
     ]
    },
    {
     "data": {
      "application/vnd.plotly.v1+json": {
       "config": {
        "plotlyServerURL": "https://plot.ly"
       },
       "data": [
        {
         "hovertemplate": "<b>%{hovertext}</b><br><br>ID=GenesisRightHand: BENamAV8rkibLIBc8asHhQ<br>X=%{x}<br>Y=%{y}<br>Z=%{z}<extra></extra>",
         "hovertext": [
          6.917599201202393,
          6.940023422241211,
          6.9624199867248535,
          6.983786106109619,
          7.0070881843566895,
          7.02901554107666,
          7.0508246421813965,
          7.072983741760254,
          7.095508098602295,
          7.117720127105713,
          7.139720439910889,
          7.162418842315674,
          7.184325695037842,
          7.206518173217773,
          7.228107452392578,
          7.251306533813477,
          7.273608684539795,
          7.295102596282959,
          7.318037033081055,
          7.340132236480713,
          7.361849784851074,
          7.3836164474487305,
          7.406917572021484,
          7.42883825302124,
          7.450610160827637,
          7.473577499389648,
          7.4955668449401855,
          7.517750263214111,
          7.539588451385498,
          7.5623393058776855,
          7.584631443023682,
          7.605971336364746,
          7.628307819366455,
          7.65102481842041
         ],
         "legendgroup": "GenesisRightHand: BENamAV8rkibLIBc8asHhQ",
         "line": {
          "color": "#636efa",
          "dash": "solid"
         },
         "marker": {
          "symbol": "circle"
         },
         "mode": "lines",
         "name": "GenesisRightHand: BENamAV8rkibLIBc8asHhQ",
         "scene": "scene",
         "showlegend": true,
         "type": "scatter3d",
         "x": [
          165.27859497070312,
          165.01536560058594,
          164.89170837402344,
          164.81283569335938,
          164.69943237304688,
          164.47572326660156,
          164.30055236816406,
          164.1510772705078,
          164.05055236816406,
          163.91981506347656,
          163.8223876953125,
          163.7969970703125,
          163.83702087402344,
          163.73513793945312,
          163.6439208984375,
          164.3218231201172,
          167.32289123535156,
          172.87693786621094,
          175.38427734375,
          175.7934112548828,
          174.08163452148438,
          172.3435516357422,
          171.32196044921875,
          169.89947509765625,
          168.3509063720703,
          167.14280700683594,
          166.17532348632812,
          165.59747314453125,
          164.7826690673828,
          164.36129760742188,
          164.0431365966797,
          163.86436462402344,
          163.8582000732422,
          164.69430541992188
         ],
         "y": [
          277.7369079589844,
          278.11932373046875,
          278.4715270996094,
          278.6487731933594,
          278.65692138671875,
          279.0542297363281,
          279.5215148925781,
          280.0511779785156,
          280.3471374511719,
          280.2025451660156,
          280.6158447265625,
          281.4747619628906,
          282.6974792480469,
          282.72515869140625,
          281.22052001953125,
          277.96435546875,
          271.6704406738281,
          266.0427551269531,
          263.0250244140625,
          259.0028381347656,
          254.43690490722656,
          249.1360626220703,
          242.72195434570312,
          235.75875854492188,
          230.08554077148438,
          225.44004821777344,
          221.4889678955078,
          218.9482421875,
          217.5041961669922,
          216.79730224609375,
          215.57521057128906,
          214.18019104003906,
          213.77919006347656,
          214.00006103515625
         ],
         "z": [
          93.95269775390625,
          93.84833526611328,
          93.99813842773438,
          94.10991668701172,
          94.16368865966797,
          94.1617202758789,
          94.09883880615234,
          93.97236633300781,
          93.99089050292969,
          94.24557495117188,
          94.5044937133789,
          95.04159545898438,
          95.43238067626953,
          95.72438049316406,
          95.54737091064453,
          95.01289367675781,
          94.27349853515625,
          95.0101318359375,
          95.7681884765625,
          97.13707733154297,
          97.70076751708984,
          98.56053924560547,
          98.87995147705078,
          99.84151458740234,
          101.2558822631836,
          102.68875885009766,
          103.38661193847656,
          103.70610046386719,
          103.57054901123047,
          103.54481506347656,
          103.4541015625,
          103.81961822509766,
          104.10303497314453,
          104.08638763427734
         ]
        },
        {
         "hovertemplate": "<b>%{hovertext}</b><br><br>ID=JaMilch: _pI9DAGyIUGSpUuDn8rEHQ<br>X=%{x}<br>Y=%{y}<br>Z=%{z}<extra></extra>",
         "hovertext": [
          6.917599201202393,
          6.940023422241211,
          6.9624199867248535,
          6.983786106109619,
          7.0070881843566895,
          7.02901554107666,
          7.0508246421813965,
          7.072983741760254,
          7.095508098602295,
          7.117720127105713,
          7.139720439910889,
          7.162418842315674,
          7.184325695037842,
          7.206518173217773,
          7.228107452392578,
          7.251306533813477,
          7.273608684539795,
          7.295102596282959,
          7.318037033081055,
          7.340132236480713,
          7.361849784851074,
          7.3836164474487305,
          7.406917572021484,
          7.42883825302124,
          7.450610160827637,
          7.473577499389648,
          7.4955668449401855,
          7.517750263214111,
          7.539588451385498,
          7.5623393058776855,
          7.584631443023682,
          7.605971336364746,
          7.628307819366455,
          7.65102481842041
         ],
         "legendgroup": "JaMilch: _pI9DAGyIUGSpUuDn8rEHQ",
         "line": {
          "color": "#EF553B",
          "dash": "solid"
         },
         "marker": {
          "symbol": "circle"
         },
         "mode": "lines",
         "name": "JaMilch: _pI9DAGyIUGSpUuDn8rEHQ",
         "scene": "scene",
         "showlegend": true,
         "type": "scatter3d",
         "x": [
          180.97891235351562,
          180.97891235351562,
          180.97891235351562,
          180.97891235351562,
          180.97891235351562,
          180.97891235351562,
          180.97891235351562,
          180.97891235351562,
          180.97891235351562,
          180.97891235351562,
          180.97891235351562,
          180.97891235351562,
          180.97891235351562,
          180.97891235351562,
          180.97891235351562,
          180.97891235351562,
          180.97891235351562,
          182.0947723388672,
          185.0079803466797,
          187.85067749023438,
          190.62831115722656,
          193.39413452148438,
          195.6480712890625,
          197.49549865722656,
          199.19932556152344,
          200.9104766845703,
          202.04067993164062,
          203.21011352539062,
          204.51998901367188,
          205.95626831054688,
          207.6061553955078,
          209.35203552246094,
          211.05406188964844,
          212.89053344726562
         ],
         "y": [
          270.853515625,
          270.853515625,
          270.853515625,
          270.853515625,
          270.853515625,
          270.853515625,
          270.853515625,
          270.853515625,
          270.853515625,
          270.853515625,
          270.853515625,
          270.853515625,
          270.853515625,
          270.853515625,
          270.853515625,
          270.853515625,
          270.853515625,
          270.1676330566406,
          267.570556640625,
          264.9284973144531,
          262.3893737792969,
          259.9072570800781,
          258.0958251953125,
          255.8150634765625,
          253.60446166992188,
          251.34471130371094,
          249.7445831298828,
          248.1395721435547,
          246.43234252929688,
          244.70123291015625,
          242.89035034179688,
          241.1551055908203,
          240.79197692871094,
          240.65966796875
         ],
         "z": [
          93.53721618652344,
          93.53721618652344,
          93.53721618652344,
          93.53721618652344,
          93.53721618652344,
          93.53721618652344,
          93.53721618652344,
          93.53721618652344,
          93.53721618652344,
          93.53721618652344,
          93.53721618652344,
          93.53721618652344,
          93.53721618652344,
          93.53721618652344,
          93.53721618652344,
          93.53721618652344,
          93.53721618652344,
          94.28599548339844,
          94.90885162353516,
          95.04689025878906,
          94.71533966064453,
          93.93971252441406,
          94.34290313720703,
          94.83106231689453,
          94.84868621826172,
          94.42518615722656,
          95.1697769165039,
          95.55992889404297,
          95.49638366699219,
          94.94990539550781,
          93.81436157226562,
          92.12347412109375,
          91.82411193847656,
          91.06761932373047
         ]
        }
       ],
       "layout": {
        "height": 600,
        "legend": {
         "title": {
          "text": "ID"
         },
         "tracegroupgap": 0
        },
        "margin": {
         "t": 60
        },
        "scene": {
         "aspectmode": "auto",
         "aspectratio": {
          "x": 1,
          "y": 1,
          "z": 1
         },
         "domain": {
          "x": [
           0,
           1
          ],
          "y": [
           0,
           1
          ]
         },
         "xaxis": {
          "title": {
           "text": "X"
          },
          "type": "linear"
         },
         "yaxis": {
          "title": {
           "text": "Y"
          },
          "type": "linear"
         },
         "zaxis": {
          "title": {
           "text": "Z"
          },
          "type": "linear"
         }
        },
        "template": {
         "data": {
          "bar": [
           {
            "error_x": {
             "color": "#2a3f5f"
            },
            "error_y": {
             "color": "#2a3f5f"
            },
            "marker": {
             "line": {
              "color": "#E5ECF6",
              "width": 0.5
             },
             "pattern": {
              "fillmode": "overlay",
              "size": 10,
              "solidity": 0.2
             }
            },
            "type": "bar"
           }
          ],
          "barpolar": [
           {
            "marker": {
             "line": {
              "color": "#E5ECF6",
              "width": 0.5
             },
             "pattern": {
              "fillmode": "overlay",
              "size": 10,
              "solidity": 0.2
             }
            },
            "type": "barpolar"
           }
          ],
          "carpet": [
           {
            "aaxis": {
             "endlinecolor": "#2a3f5f",
             "gridcolor": "white",
             "linecolor": "white",
             "minorgridcolor": "white",
             "startlinecolor": "#2a3f5f"
            },
            "baxis": {
             "endlinecolor": "#2a3f5f",
             "gridcolor": "white",
             "linecolor": "white",
             "minorgridcolor": "white",
             "startlinecolor": "#2a3f5f"
            },
            "type": "carpet"
           }
          ],
          "choropleth": [
           {
            "colorbar": {
             "outlinewidth": 0,
             "ticks": ""
            },
            "type": "choropleth"
           }
          ],
          "contour": [
           {
            "colorbar": {
             "outlinewidth": 0,
             "ticks": ""
            },
            "colorscale": [
             [
              0,
              "#0d0887"
             ],
             [
              0.1111111111111111,
              "#46039f"
             ],
             [
              0.2222222222222222,
              "#7201a8"
             ],
             [
              0.3333333333333333,
              "#9c179e"
             ],
             [
              0.4444444444444444,
              "#bd3786"
             ],
             [
              0.5555555555555556,
              "#d8576b"
             ],
             [
              0.6666666666666666,
              "#ed7953"
             ],
             [
              0.7777777777777778,
              "#fb9f3a"
             ],
             [
              0.8888888888888888,
              "#fdca26"
             ],
             [
              1,
              "#f0f921"
             ]
            ],
            "type": "contour"
           }
          ],
          "contourcarpet": [
           {
            "colorbar": {
             "outlinewidth": 0,
             "ticks": ""
            },
            "type": "contourcarpet"
           }
          ],
          "heatmap": [
           {
            "colorbar": {
             "outlinewidth": 0,
             "ticks": ""
            },
            "colorscale": [
             [
              0,
              "#0d0887"
             ],
             [
              0.1111111111111111,
              "#46039f"
             ],
             [
              0.2222222222222222,
              "#7201a8"
             ],
             [
              0.3333333333333333,
              "#9c179e"
             ],
             [
              0.4444444444444444,
              "#bd3786"
             ],
             [
              0.5555555555555556,
              "#d8576b"
             ],
             [
              0.6666666666666666,
              "#ed7953"
             ],
             [
              0.7777777777777778,
              "#fb9f3a"
             ],
             [
              0.8888888888888888,
              "#fdca26"
             ],
             [
              1,
              "#f0f921"
             ]
            ],
            "type": "heatmap"
           }
          ],
          "heatmapgl": [
           {
            "colorbar": {
             "outlinewidth": 0,
             "ticks": ""
            },
            "colorscale": [
             [
              0,
              "#0d0887"
             ],
             [
              0.1111111111111111,
              "#46039f"
             ],
             [
              0.2222222222222222,
              "#7201a8"
             ],
             [
              0.3333333333333333,
              "#9c179e"
             ],
             [
              0.4444444444444444,
              "#bd3786"
             ],
             [
              0.5555555555555556,
              "#d8576b"
             ],
             [
              0.6666666666666666,
              "#ed7953"
             ],
             [
              0.7777777777777778,
              "#fb9f3a"
             ],
             [
              0.8888888888888888,
              "#fdca26"
             ],
             [
              1,
              "#f0f921"
             ]
            ],
            "type": "heatmapgl"
           }
          ],
          "histogram": [
           {
            "marker": {
             "pattern": {
              "fillmode": "overlay",
              "size": 10,
              "solidity": 0.2
             }
            },
            "type": "histogram"
           }
          ],
          "histogram2d": [
           {
            "colorbar": {
             "outlinewidth": 0,
             "ticks": ""
            },
            "colorscale": [
             [
              0,
              "#0d0887"
             ],
             [
              0.1111111111111111,
              "#46039f"
             ],
             [
              0.2222222222222222,
              "#7201a8"
             ],
             [
              0.3333333333333333,
              "#9c179e"
             ],
             [
              0.4444444444444444,
              "#bd3786"
             ],
             [
              0.5555555555555556,
              "#d8576b"
             ],
             [
              0.6666666666666666,
              "#ed7953"
             ],
             [
              0.7777777777777778,
              "#fb9f3a"
             ],
             [
              0.8888888888888888,
              "#fdca26"
             ],
             [
              1,
              "#f0f921"
             ]
            ],
            "type": "histogram2d"
           }
          ],
          "histogram2dcontour": [
           {
            "colorbar": {
             "outlinewidth": 0,
             "ticks": ""
            },
            "colorscale": [
             [
              0,
              "#0d0887"
             ],
             [
              0.1111111111111111,
              "#46039f"
             ],
             [
              0.2222222222222222,
              "#7201a8"
             ],
             [
              0.3333333333333333,
              "#9c179e"
             ],
             [
              0.4444444444444444,
              "#bd3786"
             ],
             [
              0.5555555555555556,
              "#d8576b"
             ],
             [
              0.6666666666666666,
              "#ed7953"
             ],
             [
              0.7777777777777778,
              "#fb9f3a"
             ],
             [
              0.8888888888888888,
              "#fdca26"
             ],
             [
              1,
              "#f0f921"
             ]
            ],
            "type": "histogram2dcontour"
           }
          ],
          "mesh3d": [
           {
            "colorbar": {
             "outlinewidth": 0,
             "ticks": ""
            },
            "type": "mesh3d"
           }
          ],
          "parcoords": [
           {
            "line": {
             "colorbar": {
              "outlinewidth": 0,
              "ticks": ""
             }
            },
            "type": "parcoords"
           }
          ],
          "pie": [
           {
            "automargin": true,
            "type": "pie"
           }
          ],
          "scatter": [
           {
            "fillpattern": {
             "fillmode": "overlay",
             "size": 10,
             "solidity": 0.2
            },
            "type": "scatter"
           }
          ],
          "scatter3d": [
           {
            "line": {
             "colorbar": {
              "outlinewidth": 0,
              "ticks": ""
             }
            },
            "marker": {
             "colorbar": {
              "outlinewidth": 0,
              "ticks": ""
             }
            },
            "type": "scatter3d"
           }
          ],
          "scattercarpet": [
           {
            "marker": {
             "colorbar": {
              "outlinewidth": 0,
              "ticks": ""
             }
            },
            "type": "scattercarpet"
           }
          ],
          "scattergeo": [
           {
            "marker": {
             "colorbar": {
              "outlinewidth": 0,
              "ticks": ""
             }
            },
            "type": "scattergeo"
           }
          ],
          "scattergl": [
           {
            "marker": {
             "colorbar": {
              "outlinewidth": 0,
              "ticks": ""
             }
            },
            "type": "scattergl"
           }
          ],
          "scattermapbox": [
           {
            "marker": {
             "colorbar": {
              "outlinewidth": 0,
              "ticks": ""
             }
            },
            "type": "scattermapbox"
           }
          ],
          "scatterpolar": [
           {
            "marker": {
             "colorbar": {
              "outlinewidth": 0,
              "ticks": ""
             }
            },
            "type": "scatterpolar"
           }
          ],
          "scatterpolargl": [
           {
            "marker": {
             "colorbar": {
              "outlinewidth": 0,
              "ticks": ""
             }
            },
            "type": "scatterpolargl"
           }
          ],
          "scatterternary": [
           {
            "marker": {
             "colorbar": {
              "outlinewidth": 0,
              "ticks": ""
             }
            },
            "type": "scatterternary"
           }
          ],
          "surface": [
           {
            "colorbar": {
             "outlinewidth": 0,
             "ticks": ""
            },
            "colorscale": [
             [
              0,
              "#0d0887"
             ],
             [
              0.1111111111111111,
              "#46039f"
             ],
             [
              0.2222222222222222,
              "#7201a8"
             ],
             [
              0.3333333333333333,
              "#9c179e"
             ],
             [
              0.4444444444444444,
              "#bd3786"
             ],
             [
              0.5555555555555556,
              "#d8576b"
             ],
             [
              0.6666666666666666,
              "#ed7953"
             ],
             [
              0.7777777777777778,
              "#fb9f3a"
             ],
             [
              0.8888888888888888,
              "#fdca26"
             ],
             [
              1,
              "#f0f921"
             ]
            ],
            "type": "surface"
           }
          ],
          "table": [
           {
            "cells": {
             "fill": {
              "color": "#EBF0F8"
             },
             "line": {
              "color": "white"
             }
            },
            "header": {
             "fill": {
              "color": "#C8D4E3"
             },
             "line": {
              "color": "white"
             }
            },
            "type": "table"
           }
          ]
         },
         "layout": {
          "annotationdefaults": {
           "arrowcolor": "#2a3f5f",
           "arrowhead": 0,
           "arrowwidth": 1
          },
          "autotypenumbers": "strict",
          "coloraxis": {
           "colorbar": {
            "outlinewidth": 0,
            "ticks": ""
           }
          },
          "colorscale": {
           "diverging": [
            [
             0,
             "#8e0152"
            ],
            [
             0.1,
             "#c51b7d"
            ],
            [
             0.2,
             "#de77ae"
            ],
            [
             0.3,
             "#f1b6da"
            ],
            [
             0.4,
             "#fde0ef"
            ],
            [
             0.5,
             "#f7f7f7"
            ],
            [
             0.6,
             "#e6f5d0"
            ],
            [
             0.7,
             "#b8e186"
            ],
            [
             0.8,
             "#7fbc41"
            ],
            [
             0.9,
             "#4d9221"
            ],
            [
             1,
             "#276419"
            ]
           ],
           "sequential": [
            [
             0,
             "#0d0887"
            ],
            [
             0.1111111111111111,
             "#46039f"
            ],
            [
             0.2222222222222222,
             "#7201a8"
            ],
            [
             0.3333333333333333,
             "#9c179e"
            ],
            [
             0.4444444444444444,
             "#bd3786"
            ],
            [
             0.5555555555555556,
             "#d8576b"
            ],
            [
             0.6666666666666666,
             "#ed7953"
            ],
            [
             0.7777777777777778,
             "#fb9f3a"
            ],
            [
             0.8888888888888888,
             "#fdca26"
            ],
            [
             1,
             "#f0f921"
            ]
           ],
           "sequentialminus": [
            [
             0,
             "#0d0887"
            ],
            [
             0.1111111111111111,
             "#46039f"
            ],
            [
             0.2222222222222222,
             "#7201a8"
            ],
            [
             0.3333333333333333,
             "#9c179e"
            ],
            [
             0.4444444444444444,
             "#bd3786"
            ],
            [
             0.5555555555555556,
             "#d8576b"
            ],
            [
             0.6666666666666666,
             "#ed7953"
            ],
            [
             0.7777777777777778,
             "#fb9f3a"
            ],
            [
             0.8888888888888888,
             "#fdca26"
            ],
            [
             1,
             "#f0f921"
            ]
           ]
          },
          "colorway": [
           "#636efa",
           "#EF553B",
           "#00cc96",
           "#ab63fa",
           "#FFA15A",
           "#19d3f3",
           "#FF6692",
           "#B6E880",
           "#FF97FF",
           "#FECB52"
          ],
          "font": {
           "color": "#2a3f5f"
          },
          "geo": {
           "bgcolor": "white",
           "lakecolor": "white",
           "landcolor": "#E5ECF6",
           "showlakes": true,
           "showland": true,
           "subunitcolor": "white"
          },
          "hoverlabel": {
           "align": "left"
          },
          "hovermode": "closest",
          "mapbox": {
           "style": "light"
          },
          "paper_bgcolor": "white",
          "plot_bgcolor": "#E5ECF6",
          "polar": {
           "angularaxis": {
            "gridcolor": "white",
            "linecolor": "white",
            "ticks": ""
           },
           "bgcolor": "#E5ECF6",
           "radialaxis": {
            "gridcolor": "white",
            "linecolor": "white",
            "ticks": ""
           }
          },
          "scene": {
           "xaxis": {
            "backgroundcolor": "#E5ECF6",
            "gridcolor": "white",
            "gridwidth": 2,
            "linecolor": "white",
            "showbackground": true,
            "ticks": "",
            "zerolinecolor": "white"
           },
           "yaxis": {
            "backgroundcolor": "#E5ECF6",
            "gridcolor": "white",
            "gridwidth": 2,
            "linecolor": "white",
            "showbackground": true,
            "ticks": "",
            "zerolinecolor": "white"
           },
           "zaxis": {
            "backgroundcolor": "#E5ECF6",
            "gridcolor": "white",
            "gridwidth": 2,
            "linecolor": "white",
            "showbackground": true,
            "ticks": "",
            "zerolinecolor": "white"
           }
          },
          "shapedefaults": {
           "line": {
            "color": "#2a3f5f"
           }
          },
          "ternary": {
           "aaxis": {
            "gridcolor": "white",
            "linecolor": "white",
            "ticks": ""
           },
           "baxis": {
            "gridcolor": "white",
            "linecolor": "white",
            "ticks": ""
           },
           "bgcolor": "#E5ECF6",
           "caxis": {
            "gridcolor": "white",
            "linecolor": "white",
            "ticks": ""
           }
          },
          "title": {
           "x": 0.05
          },
          "xaxis": {
           "automargin": true,
           "gridcolor": "white",
           "linecolor": "white",
           "ticks": "",
           "title": {
            "standoff": 15
           },
           "zerolinecolor": "white",
           "zerolinewidth": 2
          },
          "yaxis": {
           "automargin": true,
           "gridcolor": "white",
           "linecolor": "white",
           "ticks": "",
           "title": {
            "standoff": 15
           },
           "zerolinecolor": "white",
           "zerolinewidth": 2
          }
         }
        },
        "width": 1000
       }
      },
      "text/html": [
       "<div>                            <div id=\"54f569eb-867a-48b9-84a5-cb24c04bb19e\" class=\"plotly-graph-div\" style=\"height:600px; width:1000px;\"></div>            <script type=\"text/javascript\">                require([\"plotly\"], function(Plotly) {                    window.PLOTLYENV=window.PLOTLYENV || {};                                    if (document.getElementById(\"54f569eb-867a-48b9-84a5-cb24c04bb19e\")) {                    Plotly.newPlot(                        \"54f569eb-867a-48b9-84a5-cb24c04bb19e\",                        [{\"hovertemplate\":\"<b>%{hovertext}</b><br><br>ID=GenesisRightHand: BENamAV8rkibLIBc8asHhQ<br>X=%{x}<br>Y=%{y}<br>Z=%{z}<extra></extra>\",\"hovertext\":[6.917599201202393,6.940023422241211,6.9624199867248535,6.983786106109619,7.0070881843566895,7.02901554107666,7.0508246421813965,7.072983741760254,7.095508098602295,7.117720127105713,7.139720439910889,7.162418842315674,7.184325695037842,7.206518173217773,7.228107452392578,7.251306533813477,7.273608684539795,7.295102596282959,7.318037033081055,7.340132236480713,7.361849784851074,7.3836164474487305,7.406917572021484,7.42883825302124,7.450610160827637,7.473577499389648,7.4955668449401855,7.517750263214111,7.539588451385498,7.5623393058776855,7.584631443023682,7.605971336364746,7.628307819366455,7.65102481842041],\"legendgroup\":\"GenesisRightHand: BENamAV8rkibLIBc8asHhQ\",\"line\":{\"color\":\"#636efa\",\"dash\":\"solid\"},\"marker\":{\"symbol\":\"circle\"},\"mode\":\"lines\",\"name\":\"GenesisRightHand: BENamAV8rkibLIBc8asHhQ\",\"scene\":\"scene\",\"showlegend\":true,\"x\":[165.27859497070312,165.01536560058594,164.89170837402344,164.81283569335938,164.69943237304688,164.47572326660156,164.30055236816406,164.1510772705078,164.05055236816406,163.91981506347656,163.8223876953125,163.7969970703125,163.83702087402344,163.73513793945312,163.6439208984375,164.3218231201172,167.32289123535156,172.87693786621094,175.38427734375,175.7934112548828,174.08163452148438,172.3435516357422,171.32196044921875,169.89947509765625,168.3509063720703,167.14280700683594,166.17532348632812,165.59747314453125,164.7826690673828,164.36129760742188,164.0431365966797,163.86436462402344,163.8582000732422,164.69430541992188],\"y\":[277.7369079589844,278.11932373046875,278.4715270996094,278.6487731933594,278.65692138671875,279.0542297363281,279.5215148925781,280.0511779785156,280.3471374511719,280.2025451660156,280.6158447265625,281.4747619628906,282.6974792480469,282.72515869140625,281.22052001953125,277.96435546875,271.6704406738281,266.0427551269531,263.0250244140625,259.0028381347656,254.43690490722656,249.1360626220703,242.72195434570312,235.75875854492188,230.08554077148438,225.44004821777344,221.4889678955078,218.9482421875,217.5041961669922,216.79730224609375,215.57521057128906,214.18019104003906,213.77919006347656,214.00006103515625],\"z\":[93.95269775390625,93.84833526611328,93.99813842773438,94.10991668701172,94.16368865966797,94.1617202758789,94.09883880615234,93.97236633300781,93.99089050292969,94.24557495117188,94.5044937133789,95.04159545898438,95.43238067626953,95.72438049316406,95.54737091064453,95.01289367675781,94.27349853515625,95.0101318359375,95.7681884765625,97.13707733154297,97.70076751708984,98.56053924560547,98.87995147705078,99.84151458740234,101.2558822631836,102.68875885009766,103.38661193847656,103.70610046386719,103.57054901123047,103.54481506347656,103.4541015625,103.81961822509766,104.10303497314453,104.08638763427734],\"type\":\"scatter3d\"},{\"hovertemplate\":\"<b>%{hovertext}</b><br><br>ID=JaMilch: _pI9DAGyIUGSpUuDn8rEHQ<br>X=%{x}<br>Y=%{y}<br>Z=%{z}<extra></extra>\",\"hovertext\":[6.917599201202393,6.940023422241211,6.9624199867248535,6.983786106109619,7.0070881843566895,7.02901554107666,7.0508246421813965,7.072983741760254,7.095508098602295,7.117720127105713,7.139720439910889,7.162418842315674,7.184325695037842,7.206518173217773,7.228107452392578,7.251306533813477,7.273608684539795,7.295102596282959,7.318037033081055,7.340132236480713,7.361849784851074,7.3836164474487305,7.406917572021484,7.42883825302124,7.450610160827637,7.473577499389648,7.4955668449401855,7.517750263214111,7.539588451385498,7.5623393058776855,7.584631443023682,7.605971336364746,7.628307819366455,7.65102481842041],\"legendgroup\":\"JaMilch: _pI9DAGyIUGSpUuDn8rEHQ\",\"line\":{\"color\":\"#EF553B\",\"dash\":\"solid\"},\"marker\":{\"symbol\":\"circle\"},\"mode\":\"lines\",\"name\":\"JaMilch: _pI9DAGyIUGSpUuDn8rEHQ\",\"scene\":\"scene\",\"showlegend\":true,\"x\":[180.97891235351562,180.97891235351562,180.97891235351562,180.97891235351562,180.97891235351562,180.97891235351562,180.97891235351562,180.97891235351562,180.97891235351562,180.97891235351562,180.97891235351562,180.97891235351562,180.97891235351562,180.97891235351562,180.97891235351562,180.97891235351562,180.97891235351562,182.0947723388672,185.0079803466797,187.85067749023438,190.62831115722656,193.39413452148438,195.6480712890625,197.49549865722656,199.19932556152344,200.9104766845703,202.04067993164062,203.21011352539062,204.51998901367188,205.95626831054688,207.6061553955078,209.35203552246094,211.05406188964844,212.89053344726562],\"y\":[270.853515625,270.853515625,270.853515625,270.853515625,270.853515625,270.853515625,270.853515625,270.853515625,270.853515625,270.853515625,270.853515625,270.853515625,270.853515625,270.853515625,270.853515625,270.853515625,270.853515625,270.1676330566406,267.570556640625,264.9284973144531,262.3893737792969,259.9072570800781,258.0958251953125,255.8150634765625,253.60446166992188,251.34471130371094,249.7445831298828,248.1395721435547,246.43234252929688,244.70123291015625,242.89035034179688,241.1551055908203,240.79197692871094,240.65966796875],\"z\":[93.53721618652344,93.53721618652344,93.53721618652344,93.53721618652344,93.53721618652344,93.53721618652344,93.53721618652344,93.53721618652344,93.53721618652344,93.53721618652344,93.53721618652344,93.53721618652344,93.53721618652344,93.53721618652344,93.53721618652344,93.53721618652344,93.53721618652344,94.28599548339844,94.90885162353516,95.04689025878906,94.71533966064453,93.93971252441406,94.34290313720703,94.83106231689453,94.84868621826172,94.42518615722656,95.1697769165039,95.55992889404297,95.49638366699219,94.94990539550781,93.81436157226562,92.12347412109375,91.82411193847656,91.06761932373047],\"type\":\"scatter3d\"}],                        {\"template\":{\"data\":{\"histogram2dcontour\":[{\"type\":\"histogram2dcontour\",\"colorbar\":{\"outlinewidth\":0,\"ticks\":\"\"},\"colorscale\":[[0.0,\"#0d0887\"],[0.1111111111111111,\"#46039f\"],[0.2222222222222222,\"#7201a8\"],[0.3333333333333333,\"#9c179e\"],[0.4444444444444444,\"#bd3786\"],[0.5555555555555556,\"#d8576b\"],[0.6666666666666666,\"#ed7953\"],[0.7777777777777778,\"#fb9f3a\"],[0.8888888888888888,\"#fdca26\"],[1.0,\"#f0f921\"]]}],\"choropleth\":[{\"type\":\"choropleth\",\"colorbar\":{\"outlinewidth\":0,\"ticks\":\"\"}}],\"histogram2d\":[{\"type\":\"histogram2d\",\"colorbar\":{\"outlinewidth\":0,\"ticks\":\"\"},\"colorscale\":[[0.0,\"#0d0887\"],[0.1111111111111111,\"#46039f\"],[0.2222222222222222,\"#7201a8\"],[0.3333333333333333,\"#9c179e\"],[0.4444444444444444,\"#bd3786\"],[0.5555555555555556,\"#d8576b\"],[0.6666666666666666,\"#ed7953\"],[0.7777777777777778,\"#fb9f3a\"],[0.8888888888888888,\"#fdca26\"],[1.0,\"#f0f921\"]]}],\"heatmap\":[{\"type\":\"heatmap\",\"colorbar\":{\"outlinewidth\":0,\"ticks\":\"\"},\"colorscale\":[[0.0,\"#0d0887\"],[0.1111111111111111,\"#46039f\"],[0.2222222222222222,\"#7201a8\"],[0.3333333333333333,\"#9c179e\"],[0.4444444444444444,\"#bd3786\"],[0.5555555555555556,\"#d8576b\"],[0.6666666666666666,\"#ed7953\"],[0.7777777777777778,\"#fb9f3a\"],[0.8888888888888888,\"#fdca26\"],[1.0,\"#f0f921\"]]}],\"heatmapgl\":[{\"type\":\"heatmapgl\",\"colorbar\":{\"outlinewidth\":0,\"ticks\":\"\"},\"colorscale\":[[0.0,\"#0d0887\"],[0.1111111111111111,\"#46039f\"],[0.2222222222222222,\"#7201a8\"],[0.3333333333333333,\"#9c179e\"],[0.4444444444444444,\"#bd3786\"],[0.5555555555555556,\"#d8576b\"],[0.6666666666666666,\"#ed7953\"],[0.7777777777777778,\"#fb9f3a\"],[0.8888888888888888,\"#fdca26\"],[1.0,\"#f0f921\"]]}],\"contourcarpet\":[{\"type\":\"contourcarpet\",\"colorbar\":{\"outlinewidth\":0,\"ticks\":\"\"}}],\"contour\":[{\"type\":\"contour\",\"colorbar\":{\"outlinewidth\":0,\"ticks\":\"\"},\"colorscale\":[[0.0,\"#0d0887\"],[0.1111111111111111,\"#46039f\"],[0.2222222222222222,\"#7201a8\"],[0.3333333333333333,\"#9c179e\"],[0.4444444444444444,\"#bd3786\"],[0.5555555555555556,\"#d8576b\"],[0.6666666666666666,\"#ed7953\"],[0.7777777777777778,\"#fb9f3a\"],[0.8888888888888888,\"#fdca26\"],[1.0,\"#f0f921\"]]}],\"surface\":[{\"type\":\"surface\",\"colorbar\":{\"outlinewidth\":0,\"ticks\":\"\"},\"colorscale\":[[0.0,\"#0d0887\"],[0.1111111111111111,\"#46039f\"],[0.2222222222222222,\"#7201a8\"],[0.3333333333333333,\"#9c179e\"],[0.4444444444444444,\"#bd3786\"],[0.5555555555555556,\"#d8576b\"],[0.6666666666666666,\"#ed7953\"],[0.7777777777777778,\"#fb9f3a\"],[0.8888888888888888,\"#fdca26\"],[1.0,\"#f0f921\"]]}],\"mesh3d\":[{\"type\":\"mesh3d\",\"colorbar\":{\"outlinewidth\":0,\"ticks\":\"\"}}],\"scatter\":[{\"fillpattern\":{\"fillmode\":\"overlay\",\"size\":10,\"solidity\":0.2},\"type\":\"scatter\"}],\"parcoords\":[{\"type\":\"parcoords\",\"line\":{\"colorbar\":{\"outlinewidth\":0,\"ticks\":\"\"}}}],\"scatterpolargl\":[{\"type\":\"scatterpolargl\",\"marker\":{\"colorbar\":{\"outlinewidth\":0,\"ticks\":\"\"}}}],\"bar\":[{\"error_x\":{\"color\":\"#2a3f5f\"},\"error_y\":{\"color\":\"#2a3f5f\"},\"marker\":{\"line\":{\"color\":\"#E5ECF6\",\"width\":0.5},\"pattern\":{\"fillmode\":\"overlay\",\"size\":10,\"solidity\":0.2}},\"type\":\"bar\"}],\"scattergeo\":[{\"type\":\"scattergeo\",\"marker\":{\"colorbar\":{\"outlinewidth\":0,\"ticks\":\"\"}}}],\"scatterpolar\":[{\"type\":\"scatterpolar\",\"marker\":{\"colorbar\":{\"outlinewidth\":0,\"ticks\":\"\"}}}],\"histogram\":[{\"marker\":{\"pattern\":{\"fillmode\":\"overlay\",\"size\":10,\"solidity\":0.2}},\"type\":\"histogram\"}],\"scattergl\":[{\"type\":\"scattergl\",\"marker\":{\"colorbar\":{\"outlinewidth\":0,\"ticks\":\"\"}}}],\"scatter3d\":[{\"type\":\"scatter3d\",\"line\":{\"colorbar\":{\"outlinewidth\":0,\"ticks\":\"\"}},\"marker\":{\"colorbar\":{\"outlinewidth\":0,\"ticks\":\"\"}}}],\"scattermapbox\":[{\"type\":\"scattermapbox\",\"marker\":{\"colorbar\":{\"outlinewidth\":0,\"ticks\":\"\"}}}],\"scatterternary\":[{\"type\":\"scatterternary\",\"marker\":{\"colorbar\":{\"outlinewidth\":0,\"ticks\":\"\"}}}],\"scattercarpet\":[{\"type\":\"scattercarpet\",\"marker\":{\"colorbar\":{\"outlinewidth\":0,\"ticks\":\"\"}}}],\"carpet\":[{\"aaxis\":{\"endlinecolor\":\"#2a3f5f\",\"gridcolor\":\"white\",\"linecolor\":\"white\",\"minorgridcolor\":\"white\",\"startlinecolor\":\"#2a3f5f\"},\"baxis\":{\"endlinecolor\":\"#2a3f5f\",\"gridcolor\":\"white\",\"linecolor\":\"white\",\"minorgridcolor\":\"white\",\"startlinecolor\":\"#2a3f5f\"},\"type\":\"carpet\"}],\"table\":[{\"cells\":{\"fill\":{\"color\":\"#EBF0F8\"},\"line\":{\"color\":\"white\"}},\"header\":{\"fill\":{\"color\":\"#C8D4E3\"},\"line\":{\"color\":\"white\"}},\"type\":\"table\"}],\"barpolar\":[{\"marker\":{\"line\":{\"color\":\"#E5ECF6\",\"width\":0.5},\"pattern\":{\"fillmode\":\"overlay\",\"size\":10,\"solidity\":0.2}},\"type\":\"barpolar\"}],\"pie\":[{\"automargin\":true,\"type\":\"pie\"}]},\"layout\":{\"autotypenumbers\":\"strict\",\"colorway\":[\"#636efa\",\"#EF553B\",\"#00cc96\",\"#ab63fa\",\"#FFA15A\",\"#19d3f3\",\"#FF6692\",\"#B6E880\",\"#FF97FF\",\"#FECB52\"],\"font\":{\"color\":\"#2a3f5f\"},\"hovermode\":\"closest\",\"hoverlabel\":{\"align\":\"left\"},\"paper_bgcolor\":\"white\",\"plot_bgcolor\":\"#E5ECF6\",\"polar\":{\"bgcolor\":\"#E5ECF6\",\"angularaxis\":{\"gridcolor\":\"white\",\"linecolor\":\"white\",\"ticks\":\"\"},\"radialaxis\":{\"gridcolor\":\"white\",\"linecolor\":\"white\",\"ticks\":\"\"}},\"ternary\":{\"bgcolor\":\"#E5ECF6\",\"aaxis\":{\"gridcolor\":\"white\",\"linecolor\":\"white\",\"ticks\":\"\"},\"baxis\":{\"gridcolor\":\"white\",\"linecolor\":\"white\",\"ticks\":\"\"},\"caxis\":{\"gridcolor\":\"white\",\"linecolor\":\"white\",\"ticks\":\"\"}},\"coloraxis\":{\"colorbar\":{\"outlinewidth\":0,\"ticks\":\"\"}},\"colorscale\":{\"sequential\":[[0.0,\"#0d0887\"],[0.1111111111111111,\"#46039f\"],[0.2222222222222222,\"#7201a8\"],[0.3333333333333333,\"#9c179e\"],[0.4444444444444444,\"#bd3786\"],[0.5555555555555556,\"#d8576b\"],[0.6666666666666666,\"#ed7953\"],[0.7777777777777778,\"#fb9f3a\"],[0.8888888888888888,\"#fdca26\"],[1.0,\"#f0f921\"]],\"sequentialminus\":[[0.0,\"#0d0887\"],[0.1111111111111111,\"#46039f\"],[0.2222222222222222,\"#7201a8\"],[0.3333333333333333,\"#9c179e\"],[0.4444444444444444,\"#bd3786\"],[0.5555555555555556,\"#d8576b\"],[0.6666666666666666,\"#ed7953\"],[0.7777777777777778,\"#fb9f3a\"],[0.8888888888888888,\"#fdca26\"],[1.0,\"#f0f921\"]],\"diverging\":[[0,\"#8e0152\"],[0.1,\"#c51b7d\"],[0.2,\"#de77ae\"],[0.3,\"#f1b6da\"],[0.4,\"#fde0ef\"],[0.5,\"#f7f7f7\"],[0.6,\"#e6f5d0\"],[0.7,\"#b8e186\"],[0.8,\"#7fbc41\"],[0.9,\"#4d9221\"],[1,\"#276419\"]]},\"xaxis\":{\"gridcolor\":\"white\",\"linecolor\":\"white\",\"ticks\":\"\",\"title\":{\"standoff\":15},\"zerolinecolor\":\"white\",\"automargin\":true,\"zerolinewidth\":2},\"yaxis\":{\"gridcolor\":\"white\",\"linecolor\":\"white\",\"ticks\":\"\",\"title\":{\"standoff\":15},\"zerolinecolor\":\"white\",\"automargin\":true,\"zerolinewidth\":2},\"scene\":{\"xaxis\":{\"backgroundcolor\":\"#E5ECF6\",\"gridcolor\":\"white\",\"linecolor\":\"white\",\"showbackground\":true,\"ticks\":\"\",\"zerolinecolor\":\"white\",\"gridwidth\":2},\"yaxis\":{\"backgroundcolor\":\"#E5ECF6\",\"gridcolor\":\"white\",\"linecolor\":\"white\",\"showbackground\":true,\"ticks\":\"\",\"zerolinecolor\":\"white\",\"gridwidth\":2},\"zaxis\":{\"backgroundcolor\":\"#E5ECF6\",\"gridcolor\":\"white\",\"linecolor\":\"white\",\"showbackground\":true,\"ticks\":\"\",\"zerolinecolor\":\"white\",\"gridwidth\":2}},\"shapedefaults\":{\"line\":{\"color\":\"#2a3f5f\"}},\"annotationdefaults\":{\"arrowcolor\":\"#2a3f5f\",\"arrowhead\":0,\"arrowwidth\":1},\"geo\":{\"bgcolor\":\"white\",\"landcolor\":\"#E5ECF6\",\"subunitcolor\":\"white\",\"showland\":true,\"showlakes\":true,\"lakecolor\":\"white\"},\"title\":{\"x\":0.05},\"mapbox\":{\"style\":\"light\"}}},\"scene\":{\"domain\":{\"x\":[0.0,1.0],\"y\":[0.0,1.0]},\"xaxis\":{\"title\":{\"text\":\"X\"}},\"yaxis\":{\"title\":{\"text\":\"Y\"}},\"zaxis\":{\"title\":{\"text\":\"Z\"}}},\"legend\":{\"title\":{\"text\":\"ID\"},\"tracegroupgap\":0},\"margin\":{\"t\":60},\"height\":600,\"width\":1000},                        {\"responsive\": true}                    ).then(function(){\n",
       "                            \n",
       "var gd = document.getElementById('54f569eb-867a-48b9-84a5-cb24c04bb19e');\n",
       "var x = new MutationObserver(function (mutations, observer) {{\n",
       "        var display = window.getComputedStyle(gd).display;\n",
       "        if (!display || display === 'none') {{\n",
       "            console.log([gd, 'removed!']);\n",
       "            Plotly.purge(gd);\n",
       "            observer.disconnect();\n",
       "        }}\n",
       "}});\n",
       "\n",
       "// Listen for the removal of the full notebook cells\n",
       "var notebookContainer = gd.closest('#notebook-container');\n",
       "if (notebookContainer) {{\n",
       "    x.observe(notebookContainer, {childList: true});\n",
       "}}\n",
       "\n",
       "// Listen for the clearing of the current output cell\n",
       "var outputEl = gd.closest('.output');\n",
       "if (outputEl) {{\n",
       "    x.observe(outputEl, {childList: true});\n",
       "}}\n",
       "\n",
       "                        })                };                });            </script>        </div>"
      ]
     },
     "metadata": {},
     "output_type": "display_data"
    },
    {
     "name": "stdout",
     "output_type": "stream",
     "text": [
      "Ids: ['_pI9DAGyIUGSpUuDn8rEHQ', 'XYIgNjEFVU6q-71AupPIzQ'], Start time: 0.511947, End time: 9.961789\n"
     ]
    },
    {
     "data": {
      "application/vnd.plotly.v1+json": {
       "config": {
        "plotlyServerURL": "https://plot.ly"
       },
       "data": [
        {
         "hovertemplate": "<b>%{hovertext}</b><br><br>ID=JaMilch: _pI9DAGyIUGSpUuDn8rEHQ<br>X=%{x}<br>Y=%{y}<br>Z=%{z}<extra></extra>",
         "hovertext": [
          0.5286951065063477,
          0.555486798286438,
          0.5719873905181885,
          0.6048904061317444,
          0.6224220991134644,
          0.639313817024231,
          0.6552737355232239,
          0.6720486283302307,
          0.6892425417900085,
          0.7055651545524597,
          0.7225918769836426,
          0.7398342490196228,
          0.7577523589134216,
          0.7939863801002502,
          0.850547194480896,
          0.9070668816566467,
          0.9616253972053528,
          1.0175074338912964,
          1.073137879371643,
          1.1279748678207397,
          1.1834865808486938,
          1.2404532432556152,
          1.2944074869155884,
          1.3500038385391235,
          1.406014323234558,
          1.4609447717666626,
          1.5169340372085571,
          1.5726712942123413,
          1.6280999183654785,
          1.6839064359664917,
          1.7383676767349243,
          1.7909387350082397,
          1.8136649131774902,
          1.8358211517333984,
          1.8571341037750244,
          1.8790242671966553,
          1.902084231376648,
          1.9250571727752686,
          1.9458484649658203,
          1.9686404466629028,
          1.990531086921692,
          2.0122625827789307,
          2.03536057472229,
          2.0576038360595703,
          2.0796680450439453,
          2.1013007164001465,
          2.1245944499969482,
          2.146121025085449,
          2.1679680347442627,
          2.1915035247802734,
          2.213235855102539,
          2.235090970993042,
          2.256861925125122,
          2.2799172401428223,
          2.3018972873687744,
          2.3239095211029053,
          2.3458991050720215,
          2.3685309886932373,
          2.3905510902404785,
          2.4125730991363525,
          2.4352879524230957,
          2.4571683406829834,
          2.47926926612854,
          2.501400947570801,
          2.5240819454193115,
          2.5458412170410156,
          2.5680816173553467,
          2.5910816192626953,
          2.613337516784668,
          2.6345229148864746,
          2.656644582748413,
          2.679628849029541,
          2.7014050483703613,
          2.7236602306365967,
          2.7464137077331543,
          2.764629602432251,
          2.78631854057312,
          2.808537006378174,
          2.830101728439331,
          2.852806806564331,
          2.875103712081909,
          2.8970298767089844,
          2.9199938774108887,
          2.9418416023254395,
          2.9635541439056396,
          2.9858779907226562,
          3.0083377361297607,
          3.0304393768310547,
          3.052541732788086,
          3.075340509414673,
          3.097153902053833,
          3.1190741062164307,
          3.1421077251434326,
          3.1639838218688965,
          3.185415267944336,
          3.207862377166748,
          3.2299537658691406,
          3.2524850368499756,
          3.27449893951416,
          3.2966368198394775,
          3.319502353668213,
          3.3410489559173584,
          3.3643798828125,
          3.3858375549316406,
          3.407883405685425,
          3.4298095703125,
          3.452366352081299,
          3.474353313446045,
          3.4962666034698486,
          3.519179344177246,
          3.541353225708008,
          3.5628175735473633,
          3.5849592685699463,
          3.6080760955810547,
          3.629925489425659,
          3.6520962715148926,
          3.675363063812256,
          3.697324514389038,
          3.7192909717559814,
          3.741525411605835,
          3.7592387199401855,
          3.781507730484009,
          3.8051671981811523,
          3.826157331466675,
          3.848268508911133,
          3.8708553314208984,
          3.893014907836914,
          3.9152934551239014,
          3.937509775161743,
          3.959310293197632,
          3.9825830459594727,
          4.003824710845947,
          4.025701999664307,
          4.049212455749512,
          4.070664405822754,
          4.092857360839844,
          4.1144537925720215,
          4.137539386749268,
          4.159789085388184,
          4.181347370147705,
          4.204574108123779,
          4.226325511932373,
          4.248147487640381,
          4.270490646362305,
          4.292999267578125,
          4.315051555633545,
          4.337090492248535,
          4.359078884124756,
          4.381832122802734,
          4.403980255126953,
          4.425602912902832,
          4.448779106140137,
          4.471098899841309,
          4.4925312995910645,
          4.515600204467773,
          4.537616729736328,
          4.559331893920898,
          4.58261251449585,
          4.603647232055664,
          4.626277923583984,
          4.648680686950684,
          4.670654773712158,
          4.692486763000488,
          4.714700222015381,
          4.737846851348877,
          4.761399745941162,
          4.783319473266602,
          4.806545257568359,
          4.828364372253418,
          4.850191116333008,
          4.8729939460754395,
          4.894998073577881,
          4.9162774085998535,
          4.940153121948242,
          4.961405277252197,
          4.984344482421875,
          5.006816387176514,
          5.028245449066162,
          5.050201416015625,
          5.072605133056641,
          5.094848155975342,
          5.116912364959717,
          5.139066696166992,
          5.161888599395752,
          5.183533668518066,
          5.205550193786621,
          5.228619575500488,
          5.250289440155029,
          5.2724151611328125,
          5.295369625091553,
          5.317225456237793,
          5.339613437652588,
          5.361414909362793,
          5.3840813636779785,
          5.406040668487549,
          5.428016662597656,
          5.450244426727295,
          5.473025798797607,
          5.494635105133057,
          5.516543865203857,
          5.53996467590332,
          5.561698913574219,
          5.583449840545654,
          5.604979038238525,
          5.628459930419922,
          5.650592803955078,
          5.672412395477295,
          5.6955156326293945,
          5.717191696166992,
          5.739439964294434,
          5.761755466461182,
          5.785126209259033,
          5.807071208953857,
          5.828936576843262,
          5.850784778594971,
          5.874019145965576,
          5.895676612854004,
          5.917157173156738,
          5.940647125244141,
          5.962684154510498,
          5.98463249206543,
          6.006499767303467,
          6.029491901397705,
          6.051388263702393,
          6.073928356170654,
          6.095951080322266,
          6.1177263259887695,
          6.139866352081299,
          6.162204742431641,
          6.184074878692627,
          6.20698881149292,
          6.22886848449707,
          6.2509613037109375,
          6.273252010345459,
          6.295847415924072,
          6.31770133972168,
          6.339972019195557,
          6.362233638763428,
          6.384291172027588,
          6.406674385070801,
          6.429492950439453,
          6.451172351837158,
          6.473511695861816,
          6.4959845542907715,
          6.517918109893799,
          6.54013729095459,
          6.561567306518555,
          6.5847296714782715,
          6.607030868530273,
          6.628598690032959,
          6.650545597076416,
          6.673405170440674,
          6.695412635803223,
          6.7173590660095215,
          6.740264415740967,
          6.762293815612793,
          6.784426689147949,
          6.806399822235107,
          6.829111099243164,
          6.851132392883301,
          6.872943878173828,
          6.895018100738525,
          6.917599201202393,
          6.940023422241211,
          6.9624199867248535,
          6.983786106109619,
          7.0070881843566895,
          7.02901554107666,
          7.0508246421813965,
          7.072983741760254,
          7.095508098602295,
          7.117720127105713,
          7.139720439910889,
          7.162418842315674,
          7.184325695037842,
          7.206518173217773,
          7.228107452392578,
          7.251306533813477,
          7.273608684539795,
          7.295102596282959,
          7.318037033081055,
          7.340132236480713,
          7.361849784851074,
          7.3836164474487305,
          7.406917572021484,
          7.42883825302124,
          7.450610160827637,
          7.473577499389648,
          7.4955668449401855,
          7.517750263214111,
          7.539588451385498,
          7.5623393058776855,
          7.584631443023682,
          7.605971336364746,
          7.628307819366455,
          7.65102481842041,
          7.672778606414795,
          7.695677280426025,
          7.717616081237793,
          7.739680290222168,
          7.7625203132629395,
          7.784345626831055,
          7.80644416809082,
          7.8292107582092285,
          7.85134744644165,
          7.874022483825684,
          7.896541595458984,
          7.917789459228516,
          7.939844131469727,
          7.9623541831970215,
          7.984292030334473,
          8.0062837600708,
          8.029321670532227,
          8.05179214477539,
          8.073432922363281,
          8.09585189819336,
          8.117813110351562,
          8.140179634094238,
          8.162069320678711,
          8.184759140014648,
          8.207344055175781,
          8.228525161743164,
          8.250370979309082,
          8.27363109588623,
          8.295366287231445,
          8.31766128540039,
          8.34058952331543,
          8.362448692321777,
          8.384695053100586,
          8.406122207641602,
          8.429405212402344,
          8.45117473602295,
          8.473119735717773,
          8.49581241607666,
          8.517834663391113,
          8.540238380432129,
          8.56163215637207,
          8.58463191986084,
          8.606779098510742,
          8.628813743591309,
          8.65175724029541,
          8.673613548278809,
          8.695222854614258,
          8.717536926269531,
          8.740388870239258,
          8.762388229370117,
          8.78410530090332,
          8.805925369262695,
          8.828570365905762,
          8.851166725158691,
          8.873109817504883,
          8.895176887512207,
          8.91709041595459,
          8.940448760986328,
          8.961786270141602,
          8.983718872070312,
          9.006738662719727,
          9.028931617736816,
          9.05068588256836,
          9.07344913482666,
          9.095295906066895,
          9.117268562316895,
          9.139631271362305,
          9.162148475646973,
          9.184526443481445,
          9.206266403198242,
          9.228052139282227,
          9.250924110412598,
          9.272765159606934,
          9.295710563659668,
          9.317419052124023,
          9.339512825012207,
          9.36112117767334,
          9.384437561035156,
          9.406508445739746,
          9.42829418182373,
          9.45030689239502,
          9.47314453125,
          9.495072364807129,
          9.517045021057129,
          9.539198875427246,
          9.561902046203613,
          9.58376693725586,
          9.605972290039062,
          9.628819465637207,
          9.650877952575684,
          9.672760009765625,
          9.695381164550781,
          9.717606544494629,
          9.739418029785156,
          9.761310577392578,
          9.78428840637207,
          9.806099891662598,
          9.828356742858887,
          9.849952697753906,
          9.873010635375977,
          9.895281791687012,
          9.917381286621094,
          9.940465927124023
         ],
         "legendgroup": "JaMilch: _pI9DAGyIUGSpUuDn8rEHQ",
         "line": {
          "color": "#636efa",
          "dash": "solid"
         },
         "marker": {
          "symbol": "circle"
         },
         "mode": "lines",
         "name": "JaMilch: _pI9DAGyIUGSpUuDn8rEHQ",
         "scene": "scene",
         "showlegend": true,
         "type": "scatter3d",
         "x": [
          180.97891235351562,
          180.97891235351562,
          180.97891235351562,
          180.97891235351562,
          180.97891235351562,
          180.97891235351562,
          180.97891235351562,
          180.97891235351562,
          180.97891235351562,
          180.97891235351562,
          180.97891235351562,
          180.97891235351562,
          180.97891235351562,
          180.97891235351562,
          180.97891235351562,
          180.97891235351562,
          180.97891235351562,
          180.97891235351562,
          180.97891235351562,
          180.97891235351562,
          180.97891235351562,
          180.97891235351562,
          180.97891235351562,
          180.97891235351562,
          180.97891235351562,
          180.97891235351562,
          180.97891235351562,
          180.97891235351562,
          180.97891235351562,
          180.97891235351562,
          180.97891235351562,
          180.97891235351562,
          180.97891235351562,
          180.97891235351562,
          180.97891235351562,
          180.97891235351562,
          180.97891235351562,
          180.97891235351562,
          180.97891235351562,
          180.97891235351562,
          180.97891235351562,
          180.97891235351562,
          180.97891235351562,
          180.97891235351562,
          180.97891235351562,
          180.97891235351562,
          180.97891235351562,
          180.97891235351562,
          180.97891235351562,
          180.97891235351562,
          180.97891235351562,
          180.97891235351562,
          180.97891235351562,
          180.97891235351562,
          180.97891235351562,
          180.97891235351562,
          180.97891235351562,
          180.97891235351562,
          180.97891235351562,
          180.97891235351562,
          180.97891235351562,
          180.97891235351562,
          180.97891235351562,
          180.97891235351562,
          180.97891235351562,
          180.97891235351562,
          180.97891235351562,
          180.97891235351562,
          180.97891235351562,
          180.97891235351562,
          180.97891235351562,
          180.97891235351562,
          180.97891235351562,
          180.97891235351562,
          180.97891235351562,
          180.97891235351562,
          180.97891235351562,
          180.97891235351562,
          180.97891235351562,
          180.97891235351562,
          180.97891235351562,
          180.97891235351562,
          180.97891235351562,
          180.97891235351562,
          180.97891235351562,
          180.97891235351562,
          180.97891235351562,
          180.97891235351562,
          180.97891235351562,
          180.97891235351562,
          180.97891235351562,
          180.97891235351562,
          180.97891235351562,
          180.97891235351562,
          180.97891235351562,
          180.97891235351562,
          180.97891235351562,
          180.97891235351562,
          180.97891235351562,
          180.97891235351562,
          180.97891235351562,
          180.97891235351562,
          180.97891235351562,
          180.97891235351562,
          180.97891235351562,
          180.97891235351562,
          180.97891235351562,
          180.97891235351562,
          180.97891235351562,
          180.97891235351562,
          180.97891235351562,
          180.97891235351562,
          180.97891235351562,
          180.97891235351562,
          180.97891235351562,
          180.97891235351562,
          180.97891235351562,
          180.97891235351562,
          180.97891235351562,
          180.97891235351562,
          180.97891235351562,
          180.97891235351562,
          180.97891235351562,
          180.97891235351562,
          180.97891235351562,
          180.97891235351562,
          180.97891235351562,
          180.97891235351562,
          180.97891235351562,
          180.97891235351562,
          180.97891235351562,
          180.97891235351562,
          180.97891235351562,
          180.97891235351562,
          180.97891235351562,
          180.97891235351562,
          180.97891235351562,
          180.97891235351562,
          180.97891235351562,
          180.97891235351562,
          180.97891235351562,
          180.97891235351562,
          180.97891235351562,
          180.97891235351562,
          180.97891235351562,
          180.97891235351562,
          180.97891235351562,
          180.97891235351562,
          180.97891235351562,
          180.97891235351562,
          180.97891235351562,
          180.97891235351562,
          180.97891235351562,
          180.97891235351562,
          180.97891235351562,
          180.97891235351562,
          180.97891235351562,
          180.97891235351562,
          180.97891235351562,
          180.97891235351562,
          180.97891235351562,
          180.97891235351562,
          180.97891235351562,
          180.97891235351562,
          180.97891235351562,
          180.97891235351562,
          180.97891235351562,
          180.97891235351562,
          180.97891235351562,
          180.97891235351562,
          180.97891235351562,
          180.97891235351562,
          180.97891235351562,
          180.97891235351562,
          180.97891235351562,
          180.97891235351562,
          180.97891235351562,
          180.97891235351562,
          180.97891235351562,
          180.97891235351562,
          180.97891235351562,
          180.97891235351562,
          180.97891235351562,
          180.97891235351562,
          180.97891235351562,
          180.97891235351562,
          180.97891235351562,
          180.97891235351562,
          180.97891235351562,
          180.97891235351562,
          180.97891235351562,
          180.97891235351562,
          180.97891235351562,
          180.97891235351562,
          180.97891235351562,
          180.97891235351562,
          180.97891235351562,
          180.97891235351562,
          180.97891235351562,
          180.97891235351562,
          180.97891235351562,
          180.97891235351562,
          180.97891235351562,
          180.97891235351562,
          180.97891235351562,
          180.97891235351562,
          180.97891235351562,
          180.97891235351562,
          180.97891235351562,
          180.97891235351562,
          180.97891235351562,
          180.97891235351562,
          180.97891235351562,
          180.97891235351562,
          180.97891235351562,
          180.97891235351562,
          180.97891235351562,
          180.97891235351562,
          180.97891235351562,
          180.97891235351562,
          180.97891235351562,
          180.97891235351562,
          180.97891235351562,
          180.97891235351562,
          180.97891235351562,
          180.97891235351562,
          180.97891235351562,
          180.97891235351562,
          180.97891235351562,
          180.97891235351562,
          180.97891235351562,
          180.97891235351562,
          180.97891235351562,
          180.97891235351562,
          180.97891235351562,
          180.97891235351562,
          180.97891235351562,
          180.97891235351562,
          180.97891235351562,
          180.97891235351562,
          180.97891235351562,
          180.97891235351562,
          180.97891235351562,
          180.97891235351562,
          180.97891235351562,
          180.97891235351562,
          180.97891235351562,
          180.97891235351562,
          180.97891235351562,
          180.97891235351562,
          180.97891235351562,
          180.97891235351562,
          180.97891235351562,
          180.97891235351562,
          180.97891235351562,
          180.97891235351562,
          180.97891235351562,
          180.97891235351562,
          180.97891235351562,
          180.97891235351562,
          180.97891235351562,
          180.97891235351562,
          180.97891235351562,
          180.97891235351562,
          180.97891235351562,
          180.97891235351562,
          180.97891235351562,
          180.97891235351562,
          180.97891235351562,
          180.97891235351562,
          180.97891235351562,
          180.97891235351562,
          180.97891235351562,
          180.97891235351562,
          180.97891235351562,
          180.97891235351562,
          180.97891235351562,
          180.97891235351562,
          180.97891235351562,
          182.0947723388672,
          185.0079803466797,
          187.85067749023438,
          190.62831115722656,
          193.39413452148438,
          195.6480712890625,
          197.49549865722656,
          199.19932556152344,
          200.9104766845703,
          202.04067993164062,
          203.21011352539062,
          204.51998901367188,
          205.95626831054688,
          207.6061553955078,
          209.35203552246094,
          211.05406188964844,
          212.89053344726562,
          214.8499755859375,
          216.72097778320312,
          216.75880432128906,
          216.28843688964844,
          215.97494506835938,
          215.57122802734375,
          215.08770751953125,
          214.7743377685547,
          214.92007446289062,
          215.04798889160156,
          215.302001953125,
          215.6866455078125,
          215.93405151367188,
          215.8621826171875,
          215.6343994140625,
          215.60250854492188,
          215.6396026611328,
          215.6559295654297,
          215.6597900390625,
          215.65658569335938,
          215.654541015625,
          215.6542510986328,
          215.6542510986328,
          215.65451049804688,
          215.65440368652344,
          215.65440368652344,
          215.65467834472656,
          215.65467834472656,
          215.65426635742188,
          215.65426635742188,
          215.65426635742188,
          215.65426635742188,
          215.65426635742188,
          215.65426635742188,
          215.65426635742188,
          215.65426635742188,
          215.65426635742188,
          215.65426635742188,
          215.65426635742188,
          215.65426635742188,
          215.65426635742188,
          215.65426635742188,
          215.65426635742188,
          215.65426635742188,
          215.65426635742188,
          215.65426635742188,
          215.65426635742188,
          215.65426635742188,
          215.65426635742188,
          215.65426635742188,
          215.65426635742188,
          215.65426635742188,
          215.65426635742188,
          215.65426635742188,
          215.65426635742188,
          215.65426635742188,
          215.65426635742188,
          215.65426635742188,
          215.65426635742188,
          215.65426635742188,
          215.65426635742188,
          215.65426635742188,
          215.65426635742188,
          215.65426635742188,
          215.65426635742188,
          215.65426635742188,
          215.65426635742188,
          215.65426635742188,
          215.65426635742188,
          215.65426635742188,
          215.65426635742188,
          215.65426635742188,
          215.65426635742188,
          215.65426635742188,
          215.65426635742188,
          215.65426635742188,
          215.65426635742188,
          215.65426635742188,
          215.65426635742188,
          215.65426635742188,
          215.65426635742188,
          215.65426635742188,
          215.65426635742188,
          215.65426635742188,
          215.65426635742188,
          215.65426635742188,
          215.65426635742188,
          215.65426635742188,
          215.65426635742188,
          215.65426635742188,
          215.65426635742188,
          215.65426635742188,
          215.65426635742188,
          215.65426635742188,
          215.65426635742188,
          215.65426635742188,
          218.82754516601562,
          221.6226806640625,
          224.3905487060547,
          225.67030334472656,
          227.1251678466797,
          227.697509765625,
          226.86460876464844
         ],
         "y": [
          270.8535461425781,
          270.8535461425781,
          270.8535461425781,
          270.8535461425781,
          270.8535461425781,
          270.8535461425781,
          270.8535461425781,
          270.853515625,
          270.853515625,
          270.853515625,
          270.853515625,
          270.853515625,
          270.853515625,
          270.853515625,
          270.853515625,
          270.853515625,
          270.853515625,
          270.853515625,
          270.853515625,
          270.853515625,
          270.853515625,
          270.853515625,
          270.853515625,
          270.853515625,
          270.853515625,
          270.853515625,
          270.853515625,
          270.853515625,
          270.853515625,
          270.853515625,
          270.853515625,
          270.853515625,
          270.853515625,
          270.853515625,
          270.853515625,
          270.853515625,
          270.853515625,
          270.853515625,
          270.853515625,
          270.853515625,
          270.853515625,
          270.853515625,
          270.853515625,
          270.853515625,
          270.853515625,
          270.853515625,
          270.853515625,
          270.853515625,
          270.853515625,
          270.853515625,
          270.853515625,
          270.853515625,
          270.853515625,
          270.853515625,
          270.853515625,
          270.853515625,
          270.853515625,
          270.853515625,
          270.853515625,
          270.853515625,
          270.853515625,
          270.853515625,
          270.853515625,
          270.853515625,
          270.853515625,
          270.853515625,
          270.853515625,
          270.853515625,
          270.853515625,
          270.853515625,
          270.853515625,
          270.853515625,
          270.853515625,
          270.853515625,
          270.853515625,
          270.853515625,
          270.853515625,
          270.853515625,
          270.853515625,
          270.853515625,
          270.853515625,
          270.853515625,
          270.853515625,
          270.853515625,
          270.853515625,
          270.853515625,
          270.853515625,
          270.853515625,
          270.853515625,
          270.853515625,
          270.853515625,
          270.853515625,
          270.853515625,
          270.853515625,
          270.853515625,
          270.853515625,
          270.853515625,
          270.853515625,
          270.853515625,
          270.853515625,
          270.853515625,
          270.853515625,
          270.853515625,
          270.853515625,
          270.853515625,
          270.853515625,
          270.853515625,
          270.853515625,
          270.853515625,
          270.853515625,
          270.853515625,
          270.853515625,
          270.853515625,
          270.853515625,
          270.853515625,
          270.853515625,
          270.853515625,
          270.853515625,
          270.853515625,
          270.853515625,
          270.853515625,
          270.853515625,
          270.853515625,
          270.853515625,
          270.853515625,
          270.853515625,
          270.853515625,
          270.853515625,
          270.853515625,
          270.853515625,
          270.853515625,
          270.853515625,
          270.853515625,
          270.853515625,
          270.853515625,
          270.853515625,
          270.853515625,
          270.853515625,
          270.853515625,
          270.853515625,
          270.853515625,
          270.853515625,
          270.853515625,
          270.853515625,
          270.853515625,
          270.853515625,
          270.853515625,
          270.853515625,
          270.853515625,
          270.853515625,
          270.853515625,
          270.853515625,
          270.853515625,
          270.853515625,
          270.853515625,
          270.853515625,
          270.853515625,
          270.853515625,
          270.853515625,
          270.853515625,
          270.853515625,
          270.853515625,
          270.853515625,
          270.853515625,
          270.853515625,
          270.853515625,
          270.853515625,
          270.853515625,
          270.853515625,
          270.853515625,
          270.853515625,
          270.853515625,
          270.853515625,
          270.853515625,
          270.853515625,
          270.853515625,
          270.853515625,
          270.853515625,
          270.853515625,
          270.853515625,
          270.853515625,
          270.853515625,
          270.853515625,
          270.853515625,
          270.853515625,
          270.853515625,
          270.853515625,
          270.853515625,
          270.853515625,
          270.853515625,
          270.853515625,
          270.853515625,
          270.853515625,
          270.853515625,
          270.853515625,
          270.853515625,
          270.853515625,
          270.853515625,
          270.853515625,
          270.853515625,
          270.853515625,
          270.853515625,
          270.853515625,
          270.853515625,
          270.853515625,
          270.853515625,
          270.853515625,
          270.853515625,
          270.853515625,
          270.853515625,
          270.853515625,
          270.853515625,
          270.853515625,
          270.853515625,
          270.853515625,
          270.853515625,
          270.853515625,
          270.853515625,
          270.853515625,
          270.853515625,
          270.853515625,
          270.853515625,
          270.853515625,
          270.853515625,
          270.853515625,
          270.853515625,
          270.853515625,
          270.853515625,
          270.853515625,
          270.853515625,
          270.853515625,
          270.853515625,
          270.853515625,
          270.853515625,
          270.853515625,
          270.853515625,
          270.853515625,
          270.853515625,
          270.853515625,
          270.853515625,
          270.853515625,
          270.853515625,
          270.853515625,
          270.853515625,
          270.853515625,
          270.853515625,
          270.853515625,
          270.853515625,
          270.853515625,
          270.853515625,
          270.853515625,
          270.853515625,
          270.853515625,
          270.853515625,
          270.853515625,
          270.853515625,
          270.853515625,
          270.853515625,
          270.853515625,
          270.853515625,
          270.853515625,
          270.853515625,
          270.853515625,
          270.853515625,
          270.853515625,
          270.853515625,
          270.853515625,
          270.853515625,
          270.853515625,
          270.853515625,
          270.853515625,
          270.853515625,
          270.853515625,
          270.853515625,
          270.853515625,
          270.853515625,
          270.853515625,
          270.853515625,
          270.853515625,
          270.1676330566406,
          267.570556640625,
          264.9284973144531,
          262.3893737792969,
          259.9072570800781,
          258.0958251953125,
          255.8150634765625,
          253.60446166992188,
          251.34471130371094,
          249.7445831298828,
          248.1395721435547,
          246.43234252929688,
          244.70123291015625,
          242.89035034179688,
          241.1551055908203,
          240.79197692871094,
          240.65966796875,
          240.51803588867188,
          240.45469665527344,
          240.3031768798828,
          240.5610809326172,
          240.63645935058594,
          240.63528442382812,
          240.6207275390625,
          240.3397216796875,
          240.57534790039062,
          240.6709747314453,
          240.69813537597656,
          240.72657775878906,
          240.61387634277344,
          240.68499755859375,
          240.71678161621094,
          240.72654724121094,
          240.7183074951172,
          240.7230224609375,
          240.72177124023438,
          240.72120666503906,
          240.72084045410156,
          240.7207794189453,
          240.7207794189453,
          240.72079467773438,
          240.7207794189453,
          240.7207794189453,
          240.7208251953125,
          240.7208251953125,
          240.7207489013672,
          240.7207489013672,
          240.7207489013672,
          240.7207489013672,
          240.7207489013672,
          240.7207489013672,
          240.7207489013672,
          240.7207489013672,
          240.7207489013672,
          240.7207489013672,
          240.7207489013672,
          240.7207489013672,
          240.7207489013672,
          240.7207489013672,
          240.7207489013672,
          240.7207489013672,
          240.7207489013672,
          240.7207489013672,
          240.7207489013672,
          240.7207489013672,
          240.7207489013672,
          240.7207489013672,
          240.7207489013672,
          240.7207489013672,
          240.7207489013672,
          240.7207489013672,
          240.7207489013672,
          240.7207489013672,
          240.7207489013672,
          240.7207489013672,
          240.7207489013672,
          240.7207489013672,
          240.7207489013672,
          240.7207489013672,
          240.7207489013672,
          240.7207489013672,
          240.7207489013672,
          240.7207489013672,
          240.7207489013672,
          240.7207489013672,
          240.7207489013672,
          240.7207489013672,
          240.7207489013672,
          240.7207489013672,
          240.7207489013672,
          240.7207489013672,
          240.7207489013672,
          240.7207489013672,
          240.7207489013672,
          240.7207489013672,
          240.7207489013672,
          240.7207489013672,
          240.7207489013672,
          240.7207489013672,
          240.7207489013672,
          240.7207489013672,
          240.7207489013672,
          240.7207489013672,
          240.7207489013672,
          240.7207489013672,
          240.7207489013672,
          240.7207489013672,
          240.7207489013672,
          240.7207489013672,
          240.7207489013672,
          240.7207489013672,
          240.7207489013672,
          240.7207489013672,
          238.07864379882812,
          235.2847137451172,
          232.48155212402344,
          230.5579071044922,
          228.56190490722656,
          227.6420135498047,
          225.98435974121094
         ],
         "z": [
          94.02134704589844,
          91.55135345458984,
          93.14004516601562,
          93.45779418945312,
          93.52135467529297,
          93.53406524658203,
          93.53660583496094,
          93.537109375,
          93.53721618652344,
          93.53721618652344,
          93.53721618652344,
          93.53721618652344,
          93.53721618652344,
          93.53721618652344,
          93.53721618652344,
          93.53721618652344,
          93.53721618652344,
          93.53721618652344,
          93.53721618652344,
          93.53721618652344,
          93.53721618652344,
          93.53721618652344,
          93.53721618652344,
          93.53721618652344,
          93.53721618652344,
          93.53721618652344,
          93.53721618652344,
          93.53721618652344,
          93.53721618652344,
          93.53721618652344,
          93.53721618652344,
          93.53721618652344,
          93.53721618652344,
          93.53721618652344,
          93.53721618652344,
          93.53721618652344,
          93.53721618652344,
          93.53721618652344,
          93.53721618652344,
          93.53721618652344,
          93.53721618652344,
          93.53721618652344,
          93.53721618652344,
          93.53721618652344,
          93.53721618652344,
          93.53721618652344,
          93.53721618652344,
          93.53721618652344,
          93.53721618652344,
          93.53721618652344,
          93.53721618652344,
          93.53721618652344,
          93.53721618652344,
          93.53721618652344,
          93.53721618652344,
          93.53721618652344,
          93.53721618652344,
          93.53721618652344,
          93.53721618652344,
          93.53721618652344,
          93.53721618652344,
          93.53721618652344,
          93.53721618652344,
          93.53721618652344,
          93.53721618652344,
          93.53721618652344,
          93.53721618652344,
          93.53721618652344,
          93.53721618652344,
          93.53721618652344,
          93.53721618652344,
          93.53721618652344,
          93.53721618652344,
          93.53721618652344,
          93.53721618652344,
          93.53721618652344,
          93.53721618652344,
          93.53721618652344,
          93.53721618652344,
          93.53721618652344,
          93.53721618652344,
          93.53721618652344,
          93.53721618652344,
          93.53721618652344,
          93.53721618652344,
          93.53721618652344,
          93.53721618652344,
          93.53721618652344,
          93.53721618652344,
          93.53721618652344,
          93.53721618652344,
          93.53721618652344,
          93.53721618652344,
          93.53721618652344,
          93.53721618652344,
          93.53721618652344,
          93.53721618652344,
          93.53721618652344,
          93.53721618652344,
          93.53721618652344,
          93.53721618652344,
          93.53721618652344,
          93.53721618652344,
          93.53721618652344,
          93.53721618652344,
          93.53721618652344,
          93.53721618652344,
          93.53721618652344,
          93.53721618652344,
          93.53721618652344,
          93.53721618652344,
          93.53721618652344,
          93.53721618652344,
          93.53721618652344,
          93.53721618652344,
          93.53721618652344,
          93.53721618652344,
          93.53721618652344,
          93.53721618652344,
          93.53721618652344,
          93.53721618652344,
          93.53721618652344,
          93.53721618652344,
          93.53721618652344,
          93.53721618652344,
          93.53721618652344,
          93.53721618652344,
          93.53721618652344,
          93.53721618652344,
          93.53721618652344,
          93.53721618652344,
          93.53721618652344,
          93.53721618652344,
          93.53721618652344,
          93.53721618652344,
          93.53721618652344,
          93.53721618652344,
          93.53721618652344,
          93.53721618652344,
          93.53721618652344,
          93.53721618652344,
          93.53721618652344,
          93.53721618652344,
          93.53721618652344,
          93.53721618652344,
          93.53721618652344,
          93.53721618652344,
          93.53721618652344,
          93.53721618652344,
          93.53721618652344,
          93.53721618652344,
          93.53721618652344,
          93.53721618652344,
          93.53721618652344,
          93.53721618652344,
          93.53721618652344,
          93.53721618652344,
          93.53721618652344,
          93.53721618652344,
          93.53721618652344,
          93.53721618652344,
          93.53721618652344,
          93.53721618652344,
          93.53721618652344,
          93.53721618652344,
          93.53721618652344,
          93.53721618652344,
          93.53721618652344,
          93.53721618652344,
          93.53721618652344,
          93.53721618652344,
          93.53721618652344,
          93.53721618652344,
          93.53721618652344,
          93.53721618652344,
          93.53721618652344,
          93.53721618652344,
          93.53721618652344,
          93.53721618652344,
          93.53721618652344,
          93.53721618652344,
          93.53721618652344,
          93.53721618652344,
          93.53721618652344,
          93.53721618652344,
          93.53721618652344,
          93.53721618652344,
          93.53721618652344,
          93.53721618652344,
          93.53721618652344,
          93.53721618652344,
          93.53721618652344,
          93.53721618652344,
          93.53721618652344,
          93.53721618652344,
          93.53721618652344,
          93.53721618652344,
          93.53721618652344,
          93.53721618652344,
          93.53721618652344,
          93.53721618652344,
          93.53721618652344,
          93.53721618652344,
          93.53721618652344,
          93.53721618652344,
          93.53721618652344,
          93.53721618652344,
          93.53721618652344,
          93.53721618652344,
          93.53721618652344,
          93.53721618652344,
          93.53721618652344,
          93.53721618652344,
          93.53721618652344,
          93.53721618652344,
          93.53721618652344,
          93.53721618652344,
          93.53721618652344,
          93.53721618652344,
          93.53721618652344,
          93.53721618652344,
          93.53721618652344,
          93.53721618652344,
          93.53721618652344,
          93.53721618652344,
          93.53721618652344,
          93.53721618652344,
          93.53721618652344,
          93.53721618652344,
          93.53721618652344,
          93.53721618652344,
          93.53721618652344,
          93.53721618652344,
          93.53721618652344,
          93.53721618652344,
          93.53721618652344,
          93.53721618652344,
          93.53721618652344,
          93.53721618652344,
          93.53721618652344,
          93.53721618652344,
          93.53721618652344,
          93.53721618652344,
          93.53721618652344,
          93.53721618652344,
          93.53721618652344,
          93.53721618652344,
          93.53721618652344,
          93.53721618652344,
          93.53721618652344,
          93.53721618652344,
          93.53721618652344,
          93.53721618652344,
          93.53721618652344,
          93.53721618652344,
          93.53721618652344,
          93.53721618652344,
          93.53721618652344,
          93.53721618652344,
          93.53721618652344,
          93.53721618652344,
          93.53721618652344,
          93.53721618652344,
          93.53721618652344,
          93.53721618652344,
          93.53721618652344,
          93.53721618652344,
          93.53721618652344,
          93.53721618652344,
          93.53721618652344,
          93.53721618652344,
          93.53721618652344,
          93.53721618652344,
          93.53721618652344,
          93.53721618652344,
          93.53721618652344,
          93.53721618652344,
          93.53721618652344,
          93.53721618652344,
          94.28599548339844,
          94.90885162353516,
          95.04689025878906,
          94.71533966064453,
          93.93971252441406,
          94.34290313720703,
          94.83106231689453,
          94.84868621826172,
          94.42518615722656,
          95.1697769165039,
          95.55992889404297,
          95.49638366699219,
          94.94990539550781,
          93.81436157226562,
          92.12347412109375,
          91.82411193847656,
          91.06761932373047,
          89.51828002929688,
          87.39523315429688,
          88.5335922241211,
          89.39188385009766,
          89.33056640625,
          88.86244201660156,
          88.12266540527344,
          88.47947692871094,
          89.28169250488281,
          89.41368865966797,
          89.19025421142578,
          88.68851470947266,
          88.75237274169922,
          88.94493865966797,
          88.7656478881836,
          88.84788513183594,
          88.8517074584961,
          88.84648132324219,
          88.85513305664062,
          88.85568237304688,
          88.85558319091797,
          88.85557556152344,
          88.85557556152344,
          88.85562133789062,
          88.8556137084961,
          88.8556137084961,
          88.85564422607422,
          88.85564422607422,
          88.85560607910156,
          88.85560607910156,
          88.85560607910156,
          88.85560607910156,
          88.85560607910156,
          88.85560607910156,
          88.85560607910156,
          88.85560607910156,
          88.85560607910156,
          88.85560607910156,
          88.85560607910156,
          88.85560607910156,
          88.85560607910156,
          88.85560607910156,
          88.85560607910156,
          88.85560607910156,
          88.85560607910156,
          88.85560607910156,
          88.85560607910156,
          88.85560607910156,
          88.85560607910156,
          88.85560607910156,
          88.85560607910156,
          88.85560607910156,
          88.85560607910156,
          88.85560607910156,
          88.85560607910156,
          88.85560607910156,
          88.85560607910156,
          88.85560607910156,
          88.85560607910156,
          88.85560607910156,
          88.85560607910156,
          88.85560607910156,
          88.85560607910156,
          88.85560607910156,
          88.85560607910156,
          88.85560607910156,
          88.85560607910156,
          88.85560607910156,
          88.85560607910156,
          88.85560607910156,
          88.85560607910156,
          88.85560607910156,
          88.85560607910156,
          88.85560607910156,
          88.85560607910156,
          88.85560607910156,
          88.85560607910156,
          88.85560607910156,
          88.85560607910156,
          88.85560607910156,
          88.85560607910156,
          88.85560607910156,
          88.85560607910156,
          88.85560607910156,
          88.85560607910156,
          88.85560607910156,
          88.85560607910156,
          88.85560607910156,
          88.85560607910156,
          88.85560607910156,
          88.85560607910156,
          88.85560607910156,
          88.85560607910156,
          88.85560607910156,
          88.85560607910156,
          88.85560607910156,
          88.87158966064453,
          88.9658203125,
          88.62316131591797,
          88.92149353027344,
          88.52716827392578,
          88.80839538574219,
          90.86563873291016
         ]
        },
        {
         "hovertemplate": "<b>%{hovertext}</b><br><br>ID=IAIIslandArea: XYIgNjEFVU6q-71AupPIzQ<br>X=%{x}<br>Y=%{y}<br>Z=%{z}<extra></extra>",
         "hovertext": [
          0.5286951065063477,
          0.555486798286438,
          0.5719873905181885,
          0.6048904061317444,
          0.6224220991134644,
          0.639313817024231,
          0.6552737355232239,
          0.6720486283302307,
          0.6892425417900085,
          0.7055651545524597,
          0.7225918769836426,
          0.7398342490196228,
          0.7577523589134216,
          0.7939863801002502,
          0.850547194480896,
          0.9070668816566467,
          0.9616253972053528,
          1.0175074338912964,
          1.073137879371643,
          1.1279748678207397,
          1.1834865808486938,
          1.2404532432556152,
          1.2944074869155884,
          1.3500038385391235,
          1.406014323234558,
          1.4609447717666626,
          1.5169340372085571,
          1.5726712942123413,
          1.6280999183654785,
          1.6839064359664917,
          1.7383676767349243,
          1.7909387350082397,
          1.8136649131774902,
          1.8358211517333984,
          1.8571341037750244,
          1.8790242671966553,
          1.902084231376648,
          1.9250571727752686,
          1.9458484649658203,
          1.9686404466629028,
          1.990531086921692,
          2.0122625827789307,
          2.03536057472229,
          2.0576038360595703,
          2.0796680450439453,
          2.1013007164001465,
          2.1245944499969482,
          2.146121025085449,
          2.1679680347442627,
          2.1915035247802734,
          2.213235855102539,
          2.235090970993042,
          2.256861925125122,
          2.2799172401428223,
          2.3018972873687744,
          2.3239095211029053,
          2.3458991050720215,
          2.3685309886932373,
          2.3905510902404785,
          2.4125730991363525,
          2.4352879524230957,
          2.4571683406829834,
          2.47926926612854,
          2.501400947570801,
          2.5240819454193115,
          2.5458412170410156,
          2.5680816173553467,
          2.5910816192626953,
          2.613337516784668,
          2.6345229148864746,
          2.656644582748413,
          2.679628849029541,
          2.7014050483703613,
          2.7236602306365967,
          2.7464137077331543,
          2.764629602432251,
          2.78631854057312,
          2.808537006378174,
          2.830101728439331,
          2.852806806564331,
          2.875103712081909,
          2.8970298767089844,
          2.9199938774108887,
          2.9418416023254395,
          2.9635541439056396,
          2.9858779907226562,
          3.0083377361297607,
          3.0304393768310547,
          3.052541732788086,
          3.075340509414673,
          3.097153902053833,
          3.1190741062164307,
          3.1421077251434326,
          3.1639838218688965,
          3.185415267944336,
          3.207862377166748,
          3.2299537658691406,
          3.2524850368499756,
          3.27449893951416,
          3.2966368198394775,
          3.319502353668213,
          3.3410489559173584,
          3.3643798828125,
          3.3858375549316406,
          3.407883405685425,
          3.4298095703125,
          3.452366352081299,
          3.474353313446045,
          3.4962666034698486,
          3.519179344177246,
          3.541353225708008,
          3.5628175735473633,
          3.5849592685699463,
          3.6080760955810547,
          3.629925489425659,
          3.6520962715148926,
          3.675363063812256,
          3.697324514389038,
          3.7192909717559814,
          3.741525411605835,
          3.7592387199401855,
          3.781507730484009,
          3.8051671981811523,
          3.826157331466675,
          3.848268508911133,
          3.8708553314208984,
          3.893014907836914,
          3.9152934551239014,
          3.937509775161743,
          3.959310293197632,
          3.9825830459594727,
          4.003824710845947,
          4.025701999664307,
          4.049212455749512,
          4.070664405822754,
          4.092857360839844,
          4.1144537925720215,
          4.137539386749268,
          4.159789085388184,
          4.181347370147705,
          4.204574108123779,
          4.226325511932373,
          4.248147487640381,
          4.270490646362305,
          4.292999267578125,
          4.315051555633545,
          4.337090492248535,
          4.359078884124756,
          4.381832122802734,
          4.403980255126953,
          4.425602912902832,
          4.448779106140137,
          4.471098899841309,
          4.4925312995910645,
          4.515600204467773,
          4.537616729736328,
          4.559331893920898,
          4.58261251449585,
          4.603647232055664,
          4.626277923583984,
          4.648680686950684,
          4.670654773712158,
          4.692486763000488,
          4.714700222015381,
          4.737846851348877,
          4.761399745941162,
          4.783319473266602,
          4.806545257568359,
          4.828364372253418,
          4.850191116333008,
          4.8729939460754395,
          4.894998073577881,
          4.9162774085998535,
          4.940153121948242,
          4.961405277252197,
          4.984344482421875,
          5.006816387176514,
          5.028245449066162,
          5.050201416015625,
          5.072605133056641,
          5.094848155975342,
          5.116912364959717,
          5.139066696166992,
          5.161888599395752,
          5.183533668518066,
          5.205550193786621,
          5.228619575500488,
          5.250289440155029,
          5.2724151611328125,
          5.295369625091553,
          5.317225456237793,
          5.339613437652588,
          5.361414909362793,
          5.3840813636779785,
          5.406040668487549,
          5.428016662597656,
          5.450244426727295,
          5.473025798797607,
          5.494635105133057,
          5.516543865203857,
          5.53996467590332,
          5.561698913574219,
          5.583449840545654,
          5.604979038238525,
          5.628459930419922,
          5.650592803955078,
          5.672412395477295,
          5.6955156326293945,
          5.717191696166992,
          5.739439964294434,
          5.761755466461182,
          5.785126209259033,
          5.807071208953857,
          5.828936576843262,
          5.850784778594971,
          5.874019145965576,
          5.895676612854004,
          5.917157173156738,
          5.940647125244141,
          5.962684154510498,
          5.98463249206543,
          6.006499767303467,
          6.029491901397705,
          6.051388263702393,
          6.073928356170654,
          6.095951080322266,
          6.1177263259887695,
          6.139866352081299,
          6.162204742431641,
          6.184074878692627,
          6.20698881149292,
          6.22886848449707,
          6.2509613037109375,
          6.273252010345459,
          6.295847415924072,
          6.31770133972168,
          6.339972019195557,
          6.362233638763428,
          6.384291172027588,
          6.406674385070801,
          6.429492950439453,
          6.451172351837158,
          6.473511695861816,
          6.4959845542907715,
          6.517918109893799,
          6.54013729095459,
          6.561567306518555,
          6.5847296714782715,
          6.607030868530273,
          6.628598690032959,
          6.650545597076416,
          6.673405170440674,
          6.695412635803223,
          6.7173590660095215,
          6.740264415740967,
          6.762293815612793,
          6.784426689147949,
          6.806399822235107,
          6.829111099243164,
          6.851132392883301,
          6.872943878173828,
          6.895018100738525,
          6.917599201202393,
          6.940023422241211,
          6.9624199867248535,
          6.983786106109619,
          7.0070881843566895,
          7.02901554107666,
          7.0508246421813965,
          7.072983741760254,
          7.095508098602295,
          7.117720127105713,
          7.139720439910889,
          7.162418842315674,
          7.184325695037842,
          7.206518173217773,
          7.228107452392578,
          7.251306533813477,
          7.273608684539795,
          7.295102596282959,
          7.318037033081055,
          7.340132236480713,
          7.361849784851074,
          7.3836164474487305,
          7.406917572021484,
          7.42883825302124,
          7.450610160827637,
          7.473577499389648,
          7.4955668449401855,
          7.517750263214111,
          7.539588451385498,
          7.5623393058776855,
          7.584631443023682,
          7.605971336364746,
          7.628307819366455,
          7.65102481842041,
          7.672778606414795,
          7.695677280426025,
          7.717616081237793,
          7.739680290222168,
          7.7625203132629395,
          7.784345626831055,
          7.80644416809082,
          7.8292107582092285,
          7.85134744644165,
          7.874022483825684,
          7.896541595458984,
          7.917789459228516,
          7.939844131469727,
          7.9623541831970215,
          7.984292030334473,
          8.0062837600708,
          8.029321670532227,
          8.05179214477539,
          8.073432922363281,
          8.09585189819336,
          8.117813110351562,
          8.140179634094238,
          8.162069320678711,
          8.184759140014648,
          8.207344055175781,
          8.228525161743164,
          8.250370979309082,
          8.27363109588623,
          8.295366287231445,
          8.31766128540039,
          8.34058952331543,
          8.362448692321777,
          8.384695053100586,
          8.406122207641602,
          8.429405212402344,
          8.45117473602295,
          8.473119735717773,
          8.49581241607666,
          8.517834663391113,
          8.540238380432129,
          8.56163215637207,
          8.58463191986084,
          8.606779098510742,
          8.628813743591309,
          8.65175724029541,
          8.673613548278809,
          8.695222854614258,
          8.717536926269531,
          8.740388870239258,
          8.762388229370117,
          8.78410530090332,
          8.805925369262695,
          8.828570365905762,
          8.851166725158691,
          8.873109817504883,
          8.895176887512207,
          8.91709041595459,
          8.940448760986328,
          8.961786270141602,
          8.983718872070312,
          9.006738662719727,
          9.028931617736816,
          9.05068588256836,
          9.07344913482666,
          9.095295906066895,
          9.117268562316895,
          9.139631271362305,
          9.162148475646973,
          9.184526443481445,
          9.206266403198242,
          9.228052139282227,
          9.250924110412598,
          9.272765159606934,
          9.295710563659668,
          9.317419052124023,
          9.339512825012207,
          9.36112117767334,
          9.384437561035156,
          9.406508445739746,
          9.42829418182373,
          9.45030689239502,
          9.47314453125,
          9.495072364807129,
          9.517045021057129,
          9.539198875427246,
          9.561902046203613,
          9.58376693725586,
          9.605972290039062,
          9.628819465637207,
          9.650877952575684,
          9.672760009765625,
          9.695381164550781,
          9.717606544494629,
          9.739418029785156,
          9.761310577392578,
          9.78428840637207,
          9.806099891662598,
          9.828356742858887,
          9.849952697753906,
          9.873010635375977,
          9.895281791687012,
          9.917381286621094,
          9.940465927124023
         ],
         "legendgroup": "IAIIslandArea: XYIgNjEFVU6q-71AupPIzQ",
         "line": {
          "color": "#EF553B",
          "dash": "solid"
         },
         "marker": {
          "symbol": "circle"
         },
         "mode": "lines",
         "name": "IAIIslandArea: XYIgNjEFVU6q-71AupPIzQ",
         "scene": "scene",
         "showlegend": true,
         "type": "scatter3d",
         "x": [
          192.9720458984375,
          192.9720458984375,
          192.9720458984375,
          192.9720458984375,
          192.9720458984375,
          192.9720458984375,
          192.9720458984375,
          192.9720458984375,
          192.9720458984375,
          192.9720458984375,
          192.9720458984375,
          192.9720458984375,
          192.9720458984375,
          192.9720458984375,
          192.9720458984375,
          192.9720458984375,
          192.9720458984375,
          192.9720458984375,
          192.9720458984375,
          192.9720458984375,
          192.9720458984375,
          192.9720458984375,
          192.9720458984375,
          192.9720458984375,
          192.9720458984375,
          192.9720458984375,
          192.9720458984375,
          192.9720458984375,
          192.9720458984375,
          192.9720458984375,
          192.9720458984375,
          192.9720458984375,
          192.9720458984375,
          192.9720458984375,
          192.9720458984375,
          192.9720458984375,
          192.9720458984375,
          192.9720458984375,
          192.9720458984375,
          192.9720458984375,
          192.9720458984375,
          192.9720458984375,
          192.9720458984375,
          192.9720458984375,
          192.9720458984375,
          192.9720458984375,
          192.9720458984375,
          192.9720458984375,
          192.9720458984375,
          192.9720458984375,
          192.9720458984375,
          192.9720458984375,
          192.9720458984375,
          192.9720458984375,
          192.9720458984375,
          192.9720458984375,
          192.9720458984375,
          192.9720458984375,
          192.9720458984375,
          192.9720458984375,
          192.9720458984375,
          192.9720458984375,
          192.9720458984375,
          192.9720458984375,
          192.9720458984375,
          192.9720458984375,
          192.9720458984375,
          192.9720458984375,
          192.9720458984375,
          192.9720458984375,
          192.9720458984375,
          192.9720458984375,
          192.9720458984375,
          192.9720458984375,
          192.9720458984375,
          192.9720458984375,
          192.9720458984375,
          192.9720458984375,
          192.9720458984375,
          192.9720458984375,
          192.9720458984375,
          192.9720458984375,
          192.9720458984375,
          192.9720458984375,
          192.9720458984375,
          192.9720458984375,
          192.9720458984375,
          192.9720458984375,
          192.9720458984375,
          192.9720458984375,
          192.9720458984375,
          192.9720458984375,
          192.9720458984375,
          192.9720458984375,
          192.9720458984375,
          192.9720458984375,
          192.9720458984375,
          192.9720458984375,
          192.9720458984375,
          192.9720458984375,
          192.9720458984375,
          192.9720458984375,
          192.9720458984375,
          192.9720458984375,
          192.9720458984375,
          192.9720458984375,
          192.9720458984375,
          192.9720458984375,
          192.9720458984375,
          192.9720458984375,
          192.9720458984375,
          192.9720458984375,
          192.9720458984375,
          192.9720458984375,
          192.9720458984375,
          192.9720458984375,
          192.9720458984375,
          192.9720458984375,
          192.9720458984375,
          192.9720458984375,
          192.9720458984375,
          192.9720458984375,
          192.9720458984375,
          192.9720458984375,
          192.9720458984375,
          192.9720458984375,
          192.9720458984375,
          192.9720458984375,
          192.9720458984375,
          192.9720458984375,
          192.9720458984375,
          192.9720458984375,
          192.9720458984375,
          192.9720458984375,
          192.9720458984375,
          192.9720458984375,
          192.9720458984375,
          192.9720458984375,
          192.9720458984375,
          192.9720458984375,
          192.9720458984375,
          192.9720458984375,
          192.9720458984375,
          192.9720458984375,
          192.9720458984375,
          192.9720458984375,
          192.9720458984375,
          192.9720458984375,
          192.9720458984375,
          192.9720458984375,
          192.9720458984375,
          192.9720458984375,
          192.9720458984375,
          192.9720458984375,
          192.9720458984375,
          192.9720458984375,
          192.9720458984375,
          192.9720458984375,
          192.9720458984375,
          192.9720458984375,
          192.9720458984375,
          192.9720458984375,
          192.9720458984375,
          192.9720458984375,
          192.9720458984375,
          192.9720458984375,
          192.9720458984375,
          192.9720458984375,
          192.9720458984375,
          192.9720458984375,
          192.9720458984375,
          192.9720458984375,
          192.9720458984375,
          192.9720458984375,
          192.9720458984375,
          192.9720458984375,
          192.9720458984375,
          192.9720458984375,
          192.9720458984375,
          192.9720458984375,
          192.9720458984375,
          192.9720458984375,
          192.9720458984375,
          192.9720458984375,
          192.9720458984375,
          192.9720458984375,
          192.9720458984375,
          192.9720458984375,
          192.9720458984375,
          192.9720458984375,
          192.9720458984375,
          192.9720458984375,
          192.9720458984375,
          192.9720458984375,
          192.9720458984375,
          192.9720458984375,
          192.9720458984375,
          192.9720458984375,
          192.9720458984375,
          192.9720458984375,
          192.9720458984375,
          192.9720458984375,
          192.9720458984375,
          192.9720458984375,
          192.9720458984375,
          192.9720458984375,
          192.9720458984375,
          192.9720458984375,
          192.9720458984375,
          192.9720458984375,
          192.9720458984375,
          192.9720458984375,
          192.9720458984375,
          192.9720458984375,
          192.9720458984375,
          192.9720458984375,
          192.9720458984375,
          192.9720458984375,
          192.9720458984375,
          192.9720458984375,
          192.9720458984375,
          192.9720458984375,
          192.9720458984375,
          192.9720458984375,
          192.9720458984375,
          192.9720458984375,
          192.9720458984375,
          192.9720458984375,
          192.9720458984375,
          192.9720458984375,
          192.9720458984375,
          192.9720458984375,
          192.9720458984375,
          192.9720458984375,
          192.9720458984375,
          192.9720458984375,
          192.9720458984375,
          192.9720458984375,
          192.9720458984375,
          192.9720458984375,
          192.9720458984375,
          192.9720458984375,
          192.9720458984375,
          192.9720458984375,
          192.9720458984375,
          192.9720458984375,
          192.9720458984375,
          192.9720458984375,
          192.9720458984375,
          192.9720458984375,
          192.9720458984375,
          192.9720458984375,
          192.9720458984375,
          192.9720458984375,
          192.9720458984375,
          192.9720458984375,
          192.9720458984375,
          192.9720458984375,
          192.9720458984375,
          192.9720458984375,
          192.9720458984375,
          192.9720458984375,
          192.9720458984375,
          192.9720458984375,
          192.9720458984375,
          192.9720458984375,
          192.9720458984375,
          192.9720458984375,
          192.9720458984375,
          192.9720458984375,
          192.9720458984375,
          192.9720458984375,
          192.9720458984375,
          192.9720458984375,
          192.9720458984375,
          192.9720458984375,
          192.9720458984375,
          192.9720458984375,
          192.9720458984375,
          192.9720458984375,
          192.9720458984375,
          192.9720458984375,
          192.9720458984375,
          192.9720458984375,
          192.9720458984375,
          192.9720458984375,
          192.9720458984375,
          192.9720458984375,
          192.9720458984375,
          192.9720458984375,
          192.9720458984375,
          192.9720458984375,
          192.9720458984375,
          192.9720458984375,
          192.9720458984375,
          192.9720458984375,
          192.9720458984375,
          192.9720458984375,
          192.9720458984375,
          192.9720458984375,
          192.9720458984375,
          192.9720458984375,
          192.9720458984375,
          192.9720458984375,
          192.9720458984375,
          192.9720458984375,
          192.9720458984375,
          192.9720458984375,
          192.9720458984375,
          192.9720458984375,
          192.9720458984375,
          192.9720458984375,
          192.9720458984375,
          192.9720458984375,
          192.9720458984375,
          192.9720458984375,
          192.9720458984375,
          192.9720458984375,
          192.9720458984375,
          192.9720458984375,
          192.9720458984375,
          192.9720458984375,
          192.9720458984375,
          192.9720458984375,
          192.9720458984375,
          192.9720458984375,
          192.9720458984375,
          192.9720458984375,
          192.9720458984375,
          192.9720458984375,
          192.9720458984375,
          192.9720458984375,
          192.9720458984375,
          192.9720458984375,
          192.9720458984375,
          192.9720458984375,
          192.9720458984375,
          192.9720458984375,
          192.9720458984375,
          192.9720458984375,
          192.9720458984375,
          192.9720458984375,
          192.9720458984375,
          192.9720458984375,
          192.9720458984375,
          192.9720458984375,
          192.9720458984375,
          192.9720458984375,
          192.9720458984375,
          192.9720458984375,
          192.9720458984375,
          192.9720458984375,
          192.9720458984375,
          192.9720458984375,
          192.9720458984375,
          192.9720458984375,
          192.9720458984375,
          192.9720458984375,
          192.9720458984375,
          192.9720458984375,
          192.9720458984375,
          192.9720458984375,
          192.9720458984375,
          192.9720458984375,
          192.9720458984375,
          192.9720458984375,
          192.9720458984375,
          192.9720458984375,
          192.9720458984375,
          192.9720458984375,
          192.9720458984375,
          192.9720458984375,
          192.9720458984375,
          192.9720458984375,
          192.9720458984375,
          192.9720458984375,
          192.9720458984375,
          192.9720458984375,
          192.9720458984375,
          192.9720458984375,
          192.9720458984375,
          192.9720458984375,
          192.9720458984375,
          192.9720458984375,
          192.9720458984375,
          192.9720458984375,
          192.9720458984375,
          192.9720458984375,
          192.9720458984375,
          192.9720458984375,
          192.9720458984375,
          192.9720458984375,
          192.9720458984375,
          192.9720458984375,
          192.9720458984375,
          192.9720458984375,
          192.9720458984375,
          192.9720458984375,
          192.9720458984375
         ],
         "y": [
          345.48675537109375,
          345.48675537109375,
          345.48675537109375,
          345.48675537109375,
          345.48675537109375,
          345.48675537109375,
          345.48675537109375,
          345.48675537109375,
          345.48675537109375,
          345.48675537109375,
          345.48675537109375,
          345.48675537109375,
          345.48675537109375,
          345.48675537109375,
          345.48675537109375,
          345.48675537109375,
          345.48675537109375,
          345.48675537109375,
          345.48675537109375,
          345.48675537109375,
          345.48675537109375,
          345.48675537109375,
          345.48675537109375,
          345.48675537109375,
          345.48675537109375,
          345.48675537109375,
          345.48675537109375,
          345.48675537109375,
          345.48675537109375,
          345.48675537109375,
          345.48675537109375,
          345.48675537109375,
          345.48675537109375,
          345.48675537109375,
          345.48675537109375,
          345.48675537109375,
          345.48675537109375,
          345.48675537109375,
          345.48675537109375,
          345.48675537109375,
          345.48675537109375,
          345.48675537109375,
          345.48675537109375,
          345.48675537109375,
          345.48675537109375,
          345.48675537109375,
          345.48675537109375,
          345.48675537109375,
          345.48675537109375,
          345.48675537109375,
          345.48675537109375,
          345.48675537109375,
          345.48675537109375,
          345.48675537109375,
          345.48675537109375,
          345.48675537109375,
          345.48675537109375,
          345.48675537109375,
          345.48675537109375,
          345.48675537109375,
          345.48675537109375,
          345.48675537109375,
          345.48675537109375,
          345.48675537109375,
          345.48675537109375,
          345.48675537109375,
          345.48675537109375,
          345.48675537109375,
          345.48675537109375,
          345.48675537109375,
          345.48675537109375,
          345.48675537109375,
          345.48675537109375,
          345.48675537109375,
          345.48675537109375,
          345.48675537109375,
          345.48675537109375,
          345.48675537109375,
          345.48675537109375,
          345.48675537109375,
          345.48675537109375,
          345.48675537109375,
          345.48675537109375,
          345.48675537109375,
          345.48675537109375,
          345.48675537109375,
          345.48675537109375,
          345.48675537109375,
          345.48675537109375,
          345.48675537109375,
          345.48675537109375,
          345.48675537109375,
          345.48675537109375,
          345.48675537109375,
          345.48675537109375,
          345.48675537109375,
          345.48675537109375,
          345.48675537109375,
          345.48675537109375,
          345.48675537109375,
          345.48675537109375,
          345.48675537109375,
          345.48675537109375,
          345.48675537109375,
          345.48675537109375,
          345.48675537109375,
          345.48675537109375,
          345.48675537109375,
          345.48675537109375,
          345.48675537109375,
          345.48675537109375,
          345.48675537109375,
          345.48675537109375,
          345.48675537109375,
          345.48675537109375,
          345.48675537109375,
          345.48675537109375,
          345.48675537109375,
          345.48675537109375,
          345.48675537109375,
          345.48675537109375,
          345.48675537109375,
          345.48675537109375,
          345.48675537109375,
          345.48675537109375,
          345.48675537109375,
          345.48675537109375,
          345.48675537109375,
          345.48675537109375,
          345.48675537109375,
          345.48675537109375,
          345.48675537109375,
          345.48675537109375,
          345.48675537109375,
          345.48675537109375,
          345.48675537109375,
          345.48675537109375,
          345.48675537109375,
          345.48675537109375,
          345.48675537109375,
          345.48675537109375,
          345.48675537109375,
          345.48675537109375,
          345.48675537109375,
          345.48675537109375,
          345.48675537109375,
          345.48675537109375,
          345.48675537109375,
          345.48675537109375,
          345.48675537109375,
          345.48675537109375,
          345.48675537109375,
          345.48675537109375,
          345.48675537109375,
          345.48675537109375,
          345.48675537109375,
          345.48675537109375,
          345.48675537109375,
          345.48675537109375,
          345.48675537109375,
          345.48675537109375,
          345.48675537109375,
          345.48675537109375,
          345.48675537109375,
          345.48675537109375,
          345.48675537109375,
          345.48675537109375,
          345.48675537109375,
          345.48675537109375,
          345.48675537109375,
          345.48675537109375,
          345.48675537109375,
          345.48675537109375,
          345.48675537109375,
          345.48675537109375,
          345.48675537109375,
          345.48675537109375,
          345.48675537109375,
          345.48675537109375,
          345.48675537109375,
          345.48675537109375,
          345.48675537109375,
          345.48675537109375,
          345.48675537109375,
          345.48675537109375,
          345.48675537109375,
          345.48675537109375,
          345.48675537109375,
          345.48675537109375,
          345.48675537109375,
          345.48675537109375,
          345.48675537109375,
          345.48675537109375,
          345.48675537109375,
          345.48675537109375,
          345.48675537109375,
          345.48675537109375,
          345.48675537109375,
          345.48675537109375,
          345.48675537109375,
          345.48675537109375,
          345.48675537109375,
          345.48675537109375,
          345.48675537109375,
          345.48675537109375,
          345.48675537109375,
          345.48675537109375,
          345.48675537109375,
          345.48675537109375,
          345.48675537109375,
          345.48675537109375,
          345.48675537109375,
          345.48675537109375,
          345.48675537109375,
          345.48675537109375,
          345.48675537109375,
          345.48675537109375,
          345.48675537109375,
          345.48675537109375,
          345.48675537109375,
          345.48675537109375,
          345.48675537109375,
          345.48675537109375,
          345.48675537109375,
          345.48675537109375,
          345.48675537109375,
          345.48675537109375,
          345.48675537109375,
          345.48675537109375,
          345.48675537109375,
          345.48675537109375,
          345.48675537109375,
          345.48675537109375,
          345.48675537109375,
          345.48675537109375,
          345.48675537109375,
          345.48675537109375,
          345.48675537109375,
          345.48675537109375,
          345.48675537109375,
          345.48675537109375,
          345.48675537109375,
          345.48675537109375,
          345.48675537109375,
          345.48675537109375,
          345.48675537109375,
          345.48675537109375,
          345.48675537109375,
          345.48675537109375,
          345.48675537109375,
          345.48675537109375,
          345.48675537109375,
          345.48675537109375,
          345.48675537109375,
          345.48675537109375,
          345.48675537109375,
          345.48675537109375,
          345.48675537109375,
          345.48675537109375,
          345.48675537109375,
          345.48675537109375,
          345.48675537109375,
          345.48675537109375,
          345.48675537109375,
          345.48675537109375,
          345.48675537109375,
          345.48675537109375,
          345.48675537109375,
          345.48675537109375,
          345.48675537109375,
          345.48675537109375,
          345.48675537109375,
          345.48675537109375,
          345.48675537109375,
          345.48675537109375,
          345.48675537109375,
          345.48675537109375,
          345.48675537109375,
          345.48675537109375,
          345.48675537109375,
          345.48675537109375,
          345.48675537109375,
          345.48675537109375,
          345.48675537109375,
          345.48675537109375,
          345.48675537109375,
          345.48675537109375,
          345.48675537109375,
          345.48675537109375,
          345.48675537109375,
          345.48675537109375,
          345.48675537109375,
          345.48675537109375,
          345.48675537109375,
          345.48675537109375,
          345.48675537109375,
          345.48675537109375,
          345.48675537109375,
          345.48675537109375,
          345.48675537109375,
          345.48675537109375,
          345.48675537109375,
          345.48675537109375,
          345.48675537109375,
          345.48675537109375,
          345.48675537109375,
          345.48675537109375,
          345.48675537109375,
          345.48675537109375,
          345.48675537109375,
          345.48675537109375,
          345.48675537109375,
          345.48675537109375,
          345.48675537109375,
          345.48675537109375,
          345.48675537109375,
          345.48675537109375,
          345.48675537109375,
          345.48675537109375,
          345.48675537109375,
          345.48675537109375,
          345.48675537109375,
          345.48675537109375,
          345.48675537109375,
          345.48675537109375,
          345.48675537109375,
          345.48675537109375,
          345.48675537109375,
          345.48675537109375,
          345.48675537109375,
          345.48675537109375,
          345.48675537109375,
          345.48675537109375,
          345.48675537109375,
          345.48675537109375,
          345.48675537109375,
          345.48675537109375,
          345.48675537109375,
          345.48675537109375,
          345.48675537109375,
          345.48675537109375,
          345.48675537109375,
          345.48675537109375,
          345.48675537109375,
          345.48675537109375,
          345.48675537109375,
          345.48675537109375,
          345.48675537109375,
          345.48675537109375,
          345.48675537109375,
          345.48675537109375,
          345.48675537109375,
          345.48675537109375,
          345.48675537109375,
          345.48675537109375,
          345.48675537109375,
          345.48675537109375,
          345.48675537109375,
          345.48675537109375,
          345.48675537109375,
          345.48675537109375,
          345.48675537109375,
          345.48675537109375,
          345.48675537109375,
          345.48675537109375,
          345.48675537109375,
          345.48675537109375,
          345.48675537109375,
          345.48675537109375,
          345.48675537109375,
          345.48675537109375,
          345.48675537109375,
          345.48675537109375,
          345.48675537109375,
          345.48675537109375,
          345.48675537109375,
          345.48675537109375,
          345.48675537109375,
          345.48675537109375,
          345.48675537109375,
          345.48675537109375,
          345.48675537109375,
          345.48675537109375,
          345.48675537109375,
          345.48675537109375,
          345.48675537109375,
          345.48675537109375,
          345.48675537109375,
          345.48675537109375,
          345.48675537109375,
          345.48675537109375,
          345.48675537109375,
          345.48675537109375,
          345.48675537109375,
          345.48675537109375,
          345.48675537109375,
          345.48675537109375,
          345.48675537109375,
          345.48675537109375
         ],
         "z": [
          42.812705993652344,
          42.812705993652344,
          42.812705993652344,
          42.812705993652344,
          42.812705993652344,
          42.812705993652344,
          42.812705993652344,
          42.812705993652344,
          42.812705993652344,
          42.812705993652344,
          42.812705993652344,
          42.812705993652344,
          42.812705993652344,
          42.812705993652344,
          42.812705993652344,
          42.812705993652344,
          42.812705993652344,
          42.812705993652344,
          42.812705993652344,
          42.812705993652344,
          42.812705993652344,
          42.812705993652344,
          42.812705993652344,
          42.812705993652344,
          42.812705993652344,
          42.812705993652344,
          42.812705993652344,
          42.812705993652344,
          42.812705993652344,
          42.812705993652344,
          42.812705993652344,
          42.812705993652344,
          42.812705993652344,
          42.812705993652344,
          42.812705993652344,
          42.812705993652344,
          42.812705993652344,
          42.812705993652344,
          42.812705993652344,
          42.812705993652344,
          42.812705993652344,
          42.812705993652344,
          42.812705993652344,
          42.812705993652344,
          42.812705993652344,
          42.812705993652344,
          42.812705993652344,
          42.812705993652344,
          42.812705993652344,
          42.812705993652344,
          42.812705993652344,
          42.812705993652344,
          42.812705993652344,
          42.812705993652344,
          42.812705993652344,
          42.812705993652344,
          42.812705993652344,
          42.812705993652344,
          42.812705993652344,
          42.812705993652344,
          42.812705993652344,
          42.812705993652344,
          42.812705993652344,
          42.812705993652344,
          42.812705993652344,
          42.812705993652344,
          42.812705993652344,
          42.812705993652344,
          42.812705993652344,
          42.812705993652344,
          42.812705993652344,
          42.812705993652344,
          42.812705993652344,
          42.812705993652344,
          42.812705993652344,
          42.812705993652344,
          42.812705993652344,
          42.812705993652344,
          42.812705993652344,
          42.812705993652344,
          42.812705993652344,
          42.812705993652344,
          42.812705993652344,
          42.812705993652344,
          42.812705993652344,
          42.812705993652344,
          42.812705993652344,
          42.812705993652344,
          42.812705993652344,
          42.812705993652344,
          42.812705993652344,
          42.812705993652344,
          42.812705993652344,
          42.812705993652344,
          42.812705993652344,
          42.812705993652344,
          42.812705993652344,
          42.812705993652344,
          42.812705993652344,
          42.812705993652344,
          42.812705993652344,
          42.812705993652344,
          42.812705993652344,
          42.812705993652344,
          42.812705993652344,
          42.812705993652344,
          42.812705993652344,
          42.812705993652344,
          42.812705993652344,
          42.812705993652344,
          42.812705993652344,
          42.812705993652344,
          42.812705993652344,
          42.812705993652344,
          42.812705993652344,
          42.812705993652344,
          42.812705993652344,
          42.812705993652344,
          42.812705993652344,
          42.812705993652344,
          42.812705993652344,
          42.812705993652344,
          42.812705993652344,
          42.812705993652344,
          42.812705993652344,
          42.812705993652344,
          42.812705993652344,
          42.812705993652344,
          42.812705993652344,
          42.812705993652344,
          42.812705993652344,
          42.812705993652344,
          42.812705993652344,
          42.812705993652344,
          42.812705993652344,
          42.812705993652344,
          42.812705993652344,
          42.812705993652344,
          42.812705993652344,
          42.812705993652344,
          42.812705993652344,
          42.812705993652344,
          42.812705993652344,
          42.812705993652344,
          42.812705993652344,
          42.812705993652344,
          42.812705993652344,
          42.812705993652344,
          42.812705993652344,
          42.812705993652344,
          42.812705993652344,
          42.812705993652344,
          42.812705993652344,
          42.812705993652344,
          42.812705993652344,
          42.812705993652344,
          42.812705993652344,
          42.812705993652344,
          42.812705993652344,
          42.812705993652344,
          42.812705993652344,
          42.812705993652344,
          42.812705993652344,
          42.812705993652344,
          42.812705993652344,
          42.812705993652344,
          42.812705993652344,
          42.812705993652344,
          42.812705993652344,
          42.812705993652344,
          42.812705993652344,
          42.812705993652344,
          42.812705993652344,
          42.812705993652344,
          42.812705993652344,
          42.812705993652344,
          42.812705993652344,
          42.812705993652344,
          42.812705993652344,
          42.812705993652344,
          42.812705993652344,
          42.812705993652344,
          42.812705993652344,
          42.812705993652344,
          42.812705993652344,
          42.812705993652344,
          42.812705993652344,
          42.812705993652344,
          42.812705993652344,
          42.812705993652344,
          42.812705993652344,
          42.812705993652344,
          42.812705993652344,
          42.812705993652344,
          42.812705993652344,
          42.812705993652344,
          42.812705993652344,
          42.812705993652344,
          42.812705993652344,
          42.812705993652344,
          42.812705993652344,
          42.812705993652344,
          42.812705993652344,
          42.812705993652344,
          42.812705993652344,
          42.812705993652344,
          42.812705993652344,
          42.812705993652344,
          42.812705993652344,
          42.812705993652344,
          42.812705993652344,
          42.812705993652344,
          42.812705993652344,
          42.812705993652344,
          42.812705993652344,
          42.812705993652344,
          42.812705993652344,
          42.812705993652344,
          42.812705993652344,
          42.812705993652344,
          42.812705993652344,
          42.812705993652344,
          42.812705993652344,
          42.812705993652344,
          42.812705993652344,
          42.812705993652344,
          42.812705993652344,
          42.812705993652344,
          42.812705993652344,
          42.812705993652344,
          42.812705993652344,
          42.812705993652344,
          42.812705993652344,
          42.812705993652344,
          42.812705993652344,
          42.812705993652344,
          42.812705993652344,
          42.812705993652344,
          42.812705993652344,
          42.812705993652344,
          42.812705993652344,
          42.812705993652344,
          42.812705993652344,
          42.812705993652344,
          42.812705993652344,
          42.812705993652344,
          42.812705993652344,
          42.812705993652344,
          42.812705993652344,
          42.812705993652344,
          42.812705993652344,
          42.812705993652344,
          42.812705993652344,
          42.812705993652344,
          42.812705993652344,
          42.812705993652344,
          42.812705993652344,
          42.812705993652344,
          42.812705993652344,
          42.812705993652344,
          42.812705993652344,
          42.812705993652344,
          42.812705993652344,
          42.812705993652344,
          42.812705993652344,
          42.812705993652344,
          42.812705993652344,
          42.812705993652344,
          42.812705993652344,
          42.812705993652344,
          42.812705993652344,
          42.812705993652344,
          42.812705993652344,
          42.812705993652344,
          42.812705993652344,
          42.812705993652344,
          42.812705993652344,
          42.812705993652344,
          42.812705993652344,
          42.812705993652344,
          42.812705993652344,
          42.812705993652344,
          42.812705993652344,
          42.812705993652344,
          42.812705993652344,
          42.812705993652344,
          42.812705993652344,
          42.812705993652344,
          42.812705993652344,
          42.812705993652344,
          42.812705993652344,
          42.812705993652344,
          42.812705993652344,
          42.812705993652344,
          42.812705993652344,
          42.812705993652344,
          42.812705993652344,
          42.812705993652344,
          42.812705993652344,
          42.812705993652344,
          42.812705993652344,
          42.812705993652344,
          42.812705993652344,
          42.812705993652344,
          42.812705993652344,
          42.812705993652344,
          42.812705993652344,
          42.812705993652344,
          42.812705993652344,
          42.812705993652344,
          42.812705993652344,
          42.812705993652344,
          42.812705993652344,
          42.812705993652344,
          42.812705993652344,
          42.812705993652344,
          42.812705993652344,
          42.812705993652344,
          42.812705993652344,
          42.812705993652344,
          42.812705993652344,
          42.812705993652344,
          42.812705993652344,
          42.812705993652344,
          42.812705993652344,
          42.812705993652344,
          42.812705993652344,
          42.812705993652344,
          42.812705993652344,
          42.812705993652344,
          42.812705993652344,
          42.812705993652344,
          42.812705993652344,
          42.812705993652344,
          42.812705993652344,
          42.812705993652344,
          42.812705993652344,
          42.812705993652344,
          42.812705993652344,
          42.812705993652344,
          42.812705993652344,
          42.812705993652344,
          42.812705993652344,
          42.812705993652344,
          42.812705993652344,
          42.812705993652344,
          42.812705993652344,
          42.812705993652344,
          42.812705993652344,
          42.812705993652344,
          42.812705993652344,
          42.812705993652344,
          42.812705993652344,
          42.812705993652344,
          42.812705993652344,
          42.812705993652344,
          42.812705993652344,
          42.812705993652344,
          42.812705993652344,
          42.812705993652344,
          42.812705993652344,
          42.812705993652344,
          42.812705993652344,
          42.812705993652344,
          42.812705993652344,
          42.812705993652344,
          42.812705993652344,
          42.812705993652344,
          42.812705993652344,
          42.812705993652344,
          42.812705993652344,
          42.812705993652344,
          42.812705993652344,
          42.812705993652344,
          42.812705993652344,
          42.812705993652344,
          42.812705993652344,
          42.812705993652344,
          42.812705993652344,
          42.812705993652344,
          42.812705993652344,
          42.812705993652344,
          42.812705993652344,
          42.812705993652344,
          42.812705993652344,
          42.812705993652344,
          42.812705993652344,
          42.812705993652344,
          42.812705993652344,
          42.812705993652344,
          42.812705993652344,
          42.812705993652344,
          42.812705993652344,
          42.812705993652344,
          42.812705993652344,
          42.812705993652344,
          42.812705993652344,
          42.812705993652344,
          42.812705993652344
         ]
        }
       ],
       "layout": {
        "height": 600,
        "legend": {
         "title": {
          "text": "ID"
         },
         "tracegroupgap": 0
        },
        "margin": {
         "t": 60
        },
        "scene": {
         "aspectmode": "auto",
         "aspectratio": {
          "x": 0.702211267305427,
          "y": 1.7961996577308135,
          "z": 0.7928254761801672
         },
         "domain": {
          "x": [
           0,
           1
          ],
          "y": [
           0,
           1
          ]
         },
         "xaxis": {
          "title": {
           "text": "X"
          },
          "type": "linear"
         },
         "yaxis": {
          "title": {
           "text": "Y"
          },
          "type": "linear"
         },
         "zaxis": {
          "title": {
           "text": "Z"
          },
          "type": "linear"
         }
        },
        "template": {
         "data": {
          "bar": [
           {
            "error_x": {
             "color": "#2a3f5f"
            },
            "error_y": {
             "color": "#2a3f5f"
            },
            "marker": {
             "line": {
              "color": "#E5ECF6",
              "width": 0.5
             },
             "pattern": {
              "fillmode": "overlay",
              "size": 10,
              "solidity": 0.2
             }
            },
            "type": "bar"
           }
          ],
          "barpolar": [
           {
            "marker": {
             "line": {
              "color": "#E5ECF6",
              "width": 0.5
             },
             "pattern": {
              "fillmode": "overlay",
              "size": 10,
              "solidity": 0.2
             }
            },
            "type": "barpolar"
           }
          ],
          "carpet": [
           {
            "aaxis": {
             "endlinecolor": "#2a3f5f",
             "gridcolor": "white",
             "linecolor": "white",
             "minorgridcolor": "white",
             "startlinecolor": "#2a3f5f"
            },
            "baxis": {
             "endlinecolor": "#2a3f5f",
             "gridcolor": "white",
             "linecolor": "white",
             "minorgridcolor": "white",
             "startlinecolor": "#2a3f5f"
            },
            "type": "carpet"
           }
          ],
          "choropleth": [
           {
            "colorbar": {
             "outlinewidth": 0,
             "ticks": ""
            },
            "type": "choropleth"
           }
          ],
          "contour": [
           {
            "colorbar": {
             "outlinewidth": 0,
             "ticks": ""
            },
            "colorscale": [
             [
              0,
              "#0d0887"
             ],
             [
              0.1111111111111111,
              "#46039f"
             ],
             [
              0.2222222222222222,
              "#7201a8"
             ],
             [
              0.3333333333333333,
              "#9c179e"
             ],
             [
              0.4444444444444444,
              "#bd3786"
             ],
             [
              0.5555555555555556,
              "#d8576b"
             ],
             [
              0.6666666666666666,
              "#ed7953"
             ],
             [
              0.7777777777777778,
              "#fb9f3a"
             ],
             [
              0.8888888888888888,
              "#fdca26"
             ],
             [
              1,
              "#f0f921"
             ]
            ],
            "type": "contour"
           }
          ],
          "contourcarpet": [
           {
            "colorbar": {
             "outlinewidth": 0,
             "ticks": ""
            },
            "type": "contourcarpet"
           }
          ],
          "heatmap": [
           {
            "colorbar": {
             "outlinewidth": 0,
             "ticks": ""
            },
            "colorscale": [
             [
              0,
              "#0d0887"
             ],
             [
              0.1111111111111111,
              "#46039f"
             ],
             [
              0.2222222222222222,
              "#7201a8"
             ],
             [
              0.3333333333333333,
              "#9c179e"
             ],
             [
              0.4444444444444444,
              "#bd3786"
             ],
             [
              0.5555555555555556,
              "#d8576b"
             ],
             [
              0.6666666666666666,
              "#ed7953"
             ],
             [
              0.7777777777777778,
              "#fb9f3a"
             ],
             [
              0.8888888888888888,
              "#fdca26"
             ],
             [
              1,
              "#f0f921"
             ]
            ],
            "type": "heatmap"
           }
          ],
          "heatmapgl": [
           {
            "colorbar": {
             "outlinewidth": 0,
             "ticks": ""
            },
            "colorscale": [
             [
              0,
              "#0d0887"
             ],
             [
              0.1111111111111111,
              "#46039f"
             ],
             [
              0.2222222222222222,
              "#7201a8"
             ],
             [
              0.3333333333333333,
              "#9c179e"
             ],
             [
              0.4444444444444444,
              "#bd3786"
             ],
             [
              0.5555555555555556,
              "#d8576b"
             ],
             [
              0.6666666666666666,
              "#ed7953"
             ],
             [
              0.7777777777777778,
              "#fb9f3a"
             ],
             [
              0.8888888888888888,
              "#fdca26"
             ],
             [
              1,
              "#f0f921"
             ]
            ],
            "type": "heatmapgl"
           }
          ],
          "histogram": [
           {
            "marker": {
             "pattern": {
              "fillmode": "overlay",
              "size": 10,
              "solidity": 0.2
             }
            },
            "type": "histogram"
           }
          ],
          "histogram2d": [
           {
            "colorbar": {
             "outlinewidth": 0,
             "ticks": ""
            },
            "colorscale": [
             [
              0,
              "#0d0887"
             ],
             [
              0.1111111111111111,
              "#46039f"
             ],
             [
              0.2222222222222222,
              "#7201a8"
             ],
             [
              0.3333333333333333,
              "#9c179e"
             ],
             [
              0.4444444444444444,
              "#bd3786"
             ],
             [
              0.5555555555555556,
              "#d8576b"
             ],
             [
              0.6666666666666666,
              "#ed7953"
             ],
             [
              0.7777777777777778,
              "#fb9f3a"
             ],
             [
              0.8888888888888888,
              "#fdca26"
             ],
             [
              1,
              "#f0f921"
             ]
            ],
            "type": "histogram2d"
           }
          ],
          "histogram2dcontour": [
           {
            "colorbar": {
             "outlinewidth": 0,
             "ticks": ""
            },
            "colorscale": [
             [
              0,
              "#0d0887"
             ],
             [
              0.1111111111111111,
              "#46039f"
             ],
             [
              0.2222222222222222,
              "#7201a8"
             ],
             [
              0.3333333333333333,
              "#9c179e"
             ],
             [
              0.4444444444444444,
              "#bd3786"
             ],
             [
              0.5555555555555556,
              "#d8576b"
             ],
             [
              0.6666666666666666,
              "#ed7953"
             ],
             [
              0.7777777777777778,
              "#fb9f3a"
             ],
             [
              0.8888888888888888,
              "#fdca26"
             ],
             [
              1,
              "#f0f921"
             ]
            ],
            "type": "histogram2dcontour"
           }
          ],
          "mesh3d": [
           {
            "colorbar": {
             "outlinewidth": 0,
             "ticks": ""
            },
            "type": "mesh3d"
           }
          ],
          "parcoords": [
           {
            "line": {
             "colorbar": {
              "outlinewidth": 0,
              "ticks": ""
             }
            },
            "type": "parcoords"
           }
          ],
          "pie": [
           {
            "automargin": true,
            "type": "pie"
           }
          ],
          "scatter": [
           {
            "fillpattern": {
             "fillmode": "overlay",
             "size": 10,
             "solidity": 0.2
            },
            "type": "scatter"
           }
          ],
          "scatter3d": [
           {
            "line": {
             "colorbar": {
              "outlinewidth": 0,
              "ticks": ""
             }
            },
            "marker": {
             "colorbar": {
              "outlinewidth": 0,
              "ticks": ""
             }
            },
            "type": "scatter3d"
           }
          ],
          "scattercarpet": [
           {
            "marker": {
             "colorbar": {
              "outlinewidth": 0,
              "ticks": ""
             }
            },
            "type": "scattercarpet"
           }
          ],
          "scattergeo": [
           {
            "marker": {
             "colorbar": {
              "outlinewidth": 0,
              "ticks": ""
             }
            },
            "type": "scattergeo"
           }
          ],
          "scattergl": [
           {
            "marker": {
             "colorbar": {
              "outlinewidth": 0,
              "ticks": ""
             }
            },
            "type": "scattergl"
           }
          ],
          "scattermapbox": [
           {
            "marker": {
             "colorbar": {
              "outlinewidth": 0,
              "ticks": ""
             }
            },
            "type": "scattermapbox"
           }
          ],
          "scatterpolar": [
           {
            "marker": {
             "colorbar": {
              "outlinewidth": 0,
              "ticks": ""
             }
            },
            "type": "scatterpolar"
           }
          ],
          "scatterpolargl": [
           {
            "marker": {
             "colorbar": {
              "outlinewidth": 0,
              "ticks": ""
             }
            },
            "type": "scatterpolargl"
           }
          ],
          "scatterternary": [
           {
            "marker": {
             "colorbar": {
              "outlinewidth": 0,
              "ticks": ""
             }
            },
            "type": "scatterternary"
           }
          ],
          "surface": [
           {
            "colorbar": {
             "outlinewidth": 0,
             "ticks": ""
            },
            "colorscale": [
             [
              0,
              "#0d0887"
             ],
             [
              0.1111111111111111,
              "#46039f"
             ],
             [
              0.2222222222222222,
              "#7201a8"
             ],
             [
              0.3333333333333333,
              "#9c179e"
             ],
             [
              0.4444444444444444,
              "#bd3786"
             ],
             [
              0.5555555555555556,
              "#d8576b"
             ],
             [
              0.6666666666666666,
              "#ed7953"
             ],
             [
              0.7777777777777778,
              "#fb9f3a"
             ],
             [
              0.8888888888888888,
              "#fdca26"
             ],
             [
              1,
              "#f0f921"
             ]
            ],
            "type": "surface"
           }
          ],
          "table": [
           {
            "cells": {
             "fill": {
              "color": "#EBF0F8"
             },
             "line": {
              "color": "white"
             }
            },
            "header": {
             "fill": {
              "color": "#C8D4E3"
             },
             "line": {
              "color": "white"
             }
            },
            "type": "table"
           }
          ]
         },
         "layout": {
          "annotationdefaults": {
           "arrowcolor": "#2a3f5f",
           "arrowhead": 0,
           "arrowwidth": 1
          },
          "autotypenumbers": "strict",
          "coloraxis": {
           "colorbar": {
            "outlinewidth": 0,
            "ticks": ""
           }
          },
          "colorscale": {
           "diverging": [
            [
             0,
             "#8e0152"
            ],
            [
             0.1,
             "#c51b7d"
            ],
            [
             0.2,
             "#de77ae"
            ],
            [
             0.3,
             "#f1b6da"
            ],
            [
             0.4,
             "#fde0ef"
            ],
            [
             0.5,
             "#f7f7f7"
            ],
            [
             0.6,
             "#e6f5d0"
            ],
            [
             0.7,
             "#b8e186"
            ],
            [
             0.8,
             "#7fbc41"
            ],
            [
             0.9,
             "#4d9221"
            ],
            [
             1,
             "#276419"
            ]
           ],
           "sequential": [
            [
             0,
             "#0d0887"
            ],
            [
             0.1111111111111111,
             "#46039f"
            ],
            [
             0.2222222222222222,
             "#7201a8"
            ],
            [
             0.3333333333333333,
             "#9c179e"
            ],
            [
             0.4444444444444444,
             "#bd3786"
            ],
            [
             0.5555555555555556,
             "#d8576b"
            ],
            [
             0.6666666666666666,
             "#ed7953"
            ],
            [
             0.7777777777777778,
             "#fb9f3a"
            ],
            [
             0.8888888888888888,
             "#fdca26"
            ],
            [
             1,
             "#f0f921"
            ]
           ],
           "sequentialminus": [
            [
             0,
             "#0d0887"
            ],
            [
             0.1111111111111111,
             "#46039f"
            ],
            [
             0.2222222222222222,
             "#7201a8"
            ],
            [
             0.3333333333333333,
             "#9c179e"
            ],
            [
             0.4444444444444444,
             "#bd3786"
            ],
            [
             0.5555555555555556,
             "#d8576b"
            ],
            [
             0.6666666666666666,
             "#ed7953"
            ],
            [
             0.7777777777777778,
             "#fb9f3a"
            ],
            [
             0.8888888888888888,
             "#fdca26"
            ],
            [
             1,
             "#f0f921"
            ]
           ]
          },
          "colorway": [
           "#636efa",
           "#EF553B",
           "#00cc96",
           "#ab63fa",
           "#FFA15A",
           "#19d3f3",
           "#FF6692",
           "#B6E880",
           "#FF97FF",
           "#FECB52"
          ],
          "font": {
           "color": "#2a3f5f"
          },
          "geo": {
           "bgcolor": "white",
           "lakecolor": "white",
           "landcolor": "#E5ECF6",
           "showlakes": true,
           "showland": true,
           "subunitcolor": "white"
          },
          "hoverlabel": {
           "align": "left"
          },
          "hovermode": "closest",
          "mapbox": {
           "style": "light"
          },
          "paper_bgcolor": "white",
          "plot_bgcolor": "#E5ECF6",
          "polar": {
           "angularaxis": {
            "gridcolor": "white",
            "linecolor": "white",
            "ticks": ""
           },
           "bgcolor": "#E5ECF6",
           "radialaxis": {
            "gridcolor": "white",
            "linecolor": "white",
            "ticks": ""
           }
          },
          "scene": {
           "xaxis": {
            "backgroundcolor": "#E5ECF6",
            "gridcolor": "white",
            "gridwidth": 2,
            "linecolor": "white",
            "showbackground": true,
            "ticks": "",
            "zerolinecolor": "white"
           },
           "yaxis": {
            "backgroundcolor": "#E5ECF6",
            "gridcolor": "white",
            "gridwidth": 2,
            "linecolor": "white",
            "showbackground": true,
            "ticks": "",
            "zerolinecolor": "white"
           },
           "zaxis": {
            "backgroundcolor": "#E5ECF6",
            "gridcolor": "white",
            "gridwidth": 2,
            "linecolor": "white",
            "showbackground": true,
            "ticks": "",
            "zerolinecolor": "white"
           }
          },
          "shapedefaults": {
           "line": {
            "color": "#2a3f5f"
           }
          },
          "ternary": {
           "aaxis": {
            "gridcolor": "white",
            "linecolor": "white",
            "ticks": ""
           },
           "baxis": {
            "gridcolor": "white",
            "linecolor": "white",
            "ticks": ""
           },
           "bgcolor": "#E5ECF6",
           "caxis": {
            "gridcolor": "white",
            "linecolor": "white",
            "ticks": ""
           }
          },
          "title": {
           "x": 0.05
          },
          "xaxis": {
           "automargin": true,
           "gridcolor": "white",
           "linecolor": "white",
           "ticks": "",
           "title": {
            "standoff": 15
           },
           "zerolinecolor": "white",
           "zerolinewidth": 2
          },
          "yaxis": {
           "automargin": true,
           "gridcolor": "white",
           "linecolor": "white",
           "ticks": "",
           "title": {
            "standoff": 15
           },
           "zerolinecolor": "white",
           "zerolinewidth": 2
          }
         }
        },
        "width": 1000
       }
      },
      "text/html": [
       "<div>                            <div id=\"c9e4c086-a4d1-486d-922d-21a383cd96d1\" class=\"plotly-graph-div\" style=\"height:600px; width:1000px;\"></div>            <script type=\"text/javascript\">                require([\"plotly\"], function(Plotly) {                    window.PLOTLYENV=window.PLOTLYENV || {};                                    if (document.getElementById(\"c9e4c086-a4d1-486d-922d-21a383cd96d1\")) {                    Plotly.newPlot(                        \"c9e4c086-a4d1-486d-922d-21a383cd96d1\",                        [{\"hovertemplate\":\"<b>%{hovertext}</b><br><br>ID=JaMilch: _pI9DAGyIUGSpUuDn8rEHQ<br>X=%{x}<br>Y=%{y}<br>Z=%{z}<extra></extra>\",\"hovertext\":[0.5286951065063477,0.555486798286438,0.5719873905181885,0.6048904061317444,0.6224220991134644,0.639313817024231,0.6552737355232239,0.6720486283302307,0.6892425417900085,0.7055651545524597,0.7225918769836426,0.7398342490196228,0.7577523589134216,0.7939863801002502,0.850547194480896,0.9070668816566467,0.9616253972053528,1.0175074338912964,1.073137879371643,1.1279748678207397,1.1834865808486938,1.2404532432556152,1.2944074869155884,1.3500038385391235,1.406014323234558,1.4609447717666626,1.5169340372085571,1.5726712942123413,1.6280999183654785,1.6839064359664917,1.7383676767349243,1.7909387350082397,1.8136649131774902,1.8358211517333984,1.8571341037750244,1.8790242671966553,1.902084231376648,1.9250571727752686,1.9458484649658203,1.9686404466629028,1.990531086921692,2.0122625827789307,2.03536057472229,2.0576038360595703,2.0796680450439453,2.1013007164001465,2.1245944499969482,2.146121025085449,2.1679680347442627,2.1915035247802734,2.213235855102539,2.235090970993042,2.256861925125122,2.2799172401428223,2.3018972873687744,2.3239095211029053,2.3458991050720215,2.3685309886932373,2.3905510902404785,2.4125730991363525,2.4352879524230957,2.4571683406829834,2.47926926612854,2.501400947570801,2.5240819454193115,2.5458412170410156,2.5680816173553467,2.5910816192626953,2.613337516784668,2.6345229148864746,2.656644582748413,2.679628849029541,2.7014050483703613,2.7236602306365967,2.7464137077331543,2.764629602432251,2.78631854057312,2.808537006378174,2.830101728439331,2.852806806564331,2.875103712081909,2.8970298767089844,2.9199938774108887,2.9418416023254395,2.9635541439056396,2.9858779907226562,3.0083377361297607,3.0304393768310547,3.052541732788086,3.075340509414673,3.097153902053833,3.1190741062164307,3.1421077251434326,3.1639838218688965,3.185415267944336,3.207862377166748,3.2299537658691406,3.2524850368499756,3.27449893951416,3.2966368198394775,3.319502353668213,3.3410489559173584,3.3643798828125,3.3858375549316406,3.407883405685425,3.4298095703125,3.452366352081299,3.474353313446045,3.4962666034698486,3.519179344177246,3.541353225708008,3.5628175735473633,3.5849592685699463,3.6080760955810547,3.629925489425659,3.6520962715148926,3.675363063812256,3.697324514389038,3.7192909717559814,3.741525411605835,3.7592387199401855,3.781507730484009,3.8051671981811523,3.826157331466675,3.848268508911133,3.8708553314208984,3.893014907836914,3.9152934551239014,3.937509775161743,3.959310293197632,3.9825830459594727,4.003824710845947,4.025701999664307,4.049212455749512,4.070664405822754,4.092857360839844,4.1144537925720215,4.137539386749268,4.159789085388184,4.181347370147705,4.204574108123779,4.226325511932373,4.248147487640381,4.270490646362305,4.292999267578125,4.315051555633545,4.337090492248535,4.359078884124756,4.381832122802734,4.403980255126953,4.425602912902832,4.448779106140137,4.471098899841309,4.4925312995910645,4.515600204467773,4.537616729736328,4.559331893920898,4.58261251449585,4.603647232055664,4.626277923583984,4.648680686950684,4.670654773712158,4.692486763000488,4.714700222015381,4.737846851348877,4.761399745941162,4.783319473266602,4.806545257568359,4.828364372253418,4.850191116333008,4.8729939460754395,4.894998073577881,4.9162774085998535,4.940153121948242,4.961405277252197,4.984344482421875,5.006816387176514,5.028245449066162,5.050201416015625,5.072605133056641,5.094848155975342,5.116912364959717,5.139066696166992,5.161888599395752,5.183533668518066,5.205550193786621,5.228619575500488,5.250289440155029,5.2724151611328125,5.295369625091553,5.317225456237793,5.339613437652588,5.361414909362793,5.3840813636779785,5.406040668487549,5.428016662597656,5.450244426727295,5.473025798797607,5.494635105133057,5.516543865203857,5.53996467590332,5.561698913574219,5.583449840545654,5.604979038238525,5.628459930419922,5.650592803955078,5.672412395477295,5.6955156326293945,5.717191696166992,5.739439964294434,5.761755466461182,5.785126209259033,5.807071208953857,5.828936576843262,5.850784778594971,5.874019145965576,5.895676612854004,5.917157173156738,5.940647125244141,5.962684154510498,5.98463249206543,6.006499767303467,6.029491901397705,6.051388263702393,6.073928356170654,6.095951080322266,6.1177263259887695,6.139866352081299,6.162204742431641,6.184074878692627,6.20698881149292,6.22886848449707,6.2509613037109375,6.273252010345459,6.295847415924072,6.31770133972168,6.339972019195557,6.362233638763428,6.384291172027588,6.406674385070801,6.429492950439453,6.451172351837158,6.473511695861816,6.4959845542907715,6.517918109893799,6.54013729095459,6.561567306518555,6.5847296714782715,6.607030868530273,6.628598690032959,6.650545597076416,6.673405170440674,6.695412635803223,6.7173590660095215,6.740264415740967,6.762293815612793,6.784426689147949,6.806399822235107,6.829111099243164,6.851132392883301,6.872943878173828,6.895018100738525,6.917599201202393,6.940023422241211,6.9624199867248535,6.983786106109619,7.0070881843566895,7.02901554107666,7.0508246421813965,7.072983741760254,7.095508098602295,7.117720127105713,7.139720439910889,7.162418842315674,7.184325695037842,7.206518173217773,7.228107452392578,7.251306533813477,7.273608684539795,7.295102596282959,7.318037033081055,7.340132236480713,7.361849784851074,7.3836164474487305,7.406917572021484,7.42883825302124,7.450610160827637,7.473577499389648,7.4955668449401855,7.517750263214111,7.539588451385498,7.5623393058776855,7.584631443023682,7.605971336364746,7.628307819366455,7.65102481842041,7.672778606414795,7.695677280426025,7.717616081237793,7.739680290222168,7.7625203132629395,7.784345626831055,7.80644416809082,7.8292107582092285,7.85134744644165,7.874022483825684,7.896541595458984,7.917789459228516,7.939844131469727,7.9623541831970215,7.984292030334473,8.0062837600708,8.029321670532227,8.05179214477539,8.073432922363281,8.09585189819336,8.117813110351562,8.140179634094238,8.162069320678711,8.184759140014648,8.207344055175781,8.228525161743164,8.250370979309082,8.27363109588623,8.295366287231445,8.31766128540039,8.34058952331543,8.362448692321777,8.384695053100586,8.406122207641602,8.429405212402344,8.45117473602295,8.473119735717773,8.49581241607666,8.517834663391113,8.540238380432129,8.56163215637207,8.58463191986084,8.606779098510742,8.628813743591309,8.65175724029541,8.673613548278809,8.695222854614258,8.717536926269531,8.740388870239258,8.762388229370117,8.78410530090332,8.805925369262695,8.828570365905762,8.851166725158691,8.873109817504883,8.895176887512207,8.91709041595459,8.940448760986328,8.961786270141602,8.983718872070312,9.006738662719727,9.028931617736816,9.05068588256836,9.07344913482666,9.095295906066895,9.117268562316895,9.139631271362305,9.162148475646973,9.184526443481445,9.206266403198242,9.228052139282227,9.250924110412598,9.272765159606934,9.295710563659668,9.317419052124023,9.339512825012207,9.36112117767334,9.384437561035156,9.406508445739746,9.42829418182373,9.45030689239502,9.47314453125,9.495072364807129,9.517045021057129,9.539198875427246,9.561902046203613,9.58376693725586,9.605972290039062,9.628819465637207,9.650877952575684,9.672760009765625,9.695381164550781,9.717606544494629,9.739418029785156,9.761310577392578,9.78428840637207,9.806099891662598,9.828356742858887,9.849952697753906,9.873010635375977,9.895281791687012,9.917381286621094,9.940465927124023],\"legendgroup\":\"JaMilch: _pI9DAGyIUGSpUuDn8rEHQ\",\"line\":{\"color\":\"#636efa\",\"dash\":\"solid\"},\"marker\":{\"symbol\":\"circle\"},\"mode\":\"lines\",\"name\":\"JaMilch: _pI9DAGyIUGSpUuDn8rEHQ\",\"scene\":\"scene\",\"showlegend\":true,\"x\":[180.97891235351562,180.97891235351562,180.97891235351562,180.97891235351562,180.97891235351562,180.97891235351562,180.97891235351562,180.97891235351562,180.97891235351562,180.97891235351562,180.97891235351562,180.97891235351562,180.97891235351562,180.97891235351562,180.97891235351562,180.97891235351562,180.97891235351562,180.97891235351562,180.97891235351562,180.97891235351562,180.97891235351562,180.97891235351562,180.97891235351562,180.97891235351562,180.97891235351562,180.97891235351562,180.97891235351562,180.97891235351562,180.97891235351562,180.97891235351562,180.97891235351562,180.97891235351562,180.97891235351562,180.97891235351562,180.97891235351562,180.97891235351562,180.97891235351562,180.97891235351562,180.97891235351562,180.97891235351562,180.97891235351562,180.97891235351562,180.97891235351562,180.97891235351562,180.97891235351562,180.97891235351562,180.97891235351562,180.97891235351562,180.97891235351562,180.97891235351562,180.97891235351562,180.97891235351562,180.97891235351562,180.97891235351562,180.97891235351562,180.97891235351562,180.97891235351562,180.97891235351562,180.97891235351562,180.97891235351562,180.97891235351562,180.97891235351562,180.97891235351562,180.97891235351562,180.97891235351562,180.97891235351562,180.97891235351562,180.97891235351562,180.97891235351562,180.97891235351562,180.97891235351562,180.97891235351562,180.97891235351562,180.97891235351562,180.97891235351562,180.97891235351562,180.97891235351562,180.97891235351562,180.97891235351562,180.97891235351562,180.97891235351562,180.97891235351562,180.97891235351562,180.97891235351562,180.97891235351562,180.97891235351562,180.97891235351562,180.97891235351562,180.97891235351562,180.97891235351562,180.97891235351562,180.97891235351562,180.97891235351562,180.97891235351562,180.97891235351562,180.97891235351562,180.97891235351562,180.97891235351562,180.97891235351562,180.97891235351562,180.97891235351562,180.97891235351562,180.97891235351562,180.97891235351562,180.97891235351562,180.97891235351562,180.97891235351562,180.97891235351562,180.97891235351562,180.97891235351562,180.97891235351562,180.97891235351562,180.97891235351562,180.97891235351562,180.97891235351562,180.97891235351562,180.97891235351562,180.97891235351562,180.97891235351562,180.97891235351562,180.97891235351562,180.97891235351562,180.97891235351562,180.97891235351562,180.97891235351562,180.97891235351562,180.97891235351562,180.97891235351562,180.97891235351562,180.97891235351562,180.97891235351562,180.97891235351562,180.97891235351562,180.97891235351562,180.97891235351562,180.97891235351562,180.97891235351562,180.97891235351562,180.97891235351562,180.97891235351562,180.97891235351562,180.97891235351562,180.97891235351562,180.97891235351562,180.97891235351562,180.97891235351562,180.97891235351562,180.97891235351562,180.97891235351562,180.97891235351562,180.97891235351562,180.97891235351562,180.97891235351562,180.97891235351562,180.97891235351562,180.97891235351562,180.97891235351562,180.97891235351562,180.97891235351562,180.97891235351562,180.97891235351562,180.97891235351562,180.97891235351562,180.97891235351562,180.97891235351562,180.97891235351562,180.97891235351562,180.97891235351562,180.97891235351562,180.97891235351562,180.97891235351562,180.97891235351562,180.97891235351562,180.97891235351562,180.97891235351562,180.97891235351562,180.97891235351562,180.97891235351562,180.97891235351562,180.97891235351562,180.97891235351562,180.97891235351562,180.97891235351562,180.97891235351562,180.97891235351562,180.97891235351562,180.97891235351562,180.97891235351562,180.97891235351562,180.97891235351562,180.97891235351562,180.97891235351562,180.97891235351562,180.97891235351562,180.97891235351562,180.97891235351562,180.97891235351562,180.97891235351562,180.97891235351562,180.97891235351562,180.97891235351562,180.97891235351562,180.97891235351562,180.97891235351562,180.97891235351562,180.97891235351562,180.97891235351562,180.97891235351562,180.97891235351562,180.97891235351562,180.97891235351562,180.97891235351562,180.97891235351562,180.97891235351562,180.97891235351562,180.97891235351562,180.97891235351562,180.97891235351562,180.97891235351562,180.97891235351562,180.97891235351562,180.97891235351562,180.97891235351562,180.97891235351562,180.97891235351562,180.97891235351562,180.97891235351562,180.97891235351562,180.97891235351562,180.97891235351562,180.97891235351562,180.97891235351562,180.97891235351562,180.97891235351562,180.97891235351562,180.97891235351562,180.97891235351562,180.97891235351562,180.97891235351562,180.97891235351562,180.97891235351562,180.97891235351562,180.97891235351562,180.97891235351562,180.97891235351562,180.97891235351562,180.97891235351562,180.97891235351562,180.97891235351562,180.97891235351562,180.97891235351562,180.97891235351562,180.97891235351562,180.97891235351562,180.97891235351562,180.97891235351562,180.97891235351562,180.97891235351562,180.97891235351562,180.97891235351562,180.97891235351562,180.97891235351562,180.97891235351562,180.97891235351562,180.97891235351562,180.97891235351562,180.97891235351562,180.97891235351562,180.97891235351562,180.97891235351562,180.97891235351562,180.97891235351562,180.97891235351562,180.97891235351562,180.97891235351562,180.97891235351562,180.97891235351562,180.97891235351562,180.97891235351562,182.0947723388672,185.0079803466797,187.85067749023438,190.62831115722656,193.39413452148438,195.6480712890625,197.49549865722656,199.19932556152344,200.9104766845703,202.04067993164062,203.21011352539062,204.51998901367188,205.95626831054688,207.6061553955078,209.35203552246094,211.05406188964844,212.89053344726562,214.8499755859375,216.72097778320312,216.75880432128906,216.28843688964844,215.97494506835938,215.57122802734375,215.08770751953125,214.7743377685547,214.92007446289062,215.04798889160156,215.302001953125,215.6866455078125,215.93405151367188,215.8621826171875,215.6343994140625,215.60250854492188,215.6396026611328,215.6559295654297,215.6597900390625,215.65658569335938,215.654541015625,215.6542510986328,215.6542510986328,215.65451049804688,215.65440368652344,215.65440368652344,215.65467834472656,215.65467834472656,215.65426635742188,215.65426635742188,215.65426635742188,215.65426635742188,215.65426635742188,215.65426635742188,215.65426635742188,215.65426635742188,215.65426635742188,215.65426635742188,215.65426635742188,215.65426635742188,215.65426635742188,215.65426635742188,215.65426635742188,215.65426635742188,215.65426635742188,215.65426635742188,215.65426635742188,215.65426635742188,215.65426635742188,215.65426635742188,215.65426635742188,215.65426635742188,215.65426635742188,215.65426635742188,215.65426635742188,215.65426635742188,215.65426635742188,215.65426635742188,215.65426635742188,215.65426635742188,215.65426635742188,215.65426635742188,215.65426635742188,215.65426635742188,215.65426635742188,215.65426635742188,215.65426635742188,215.65426635742188,215.65426635742188,215.65426635742188,215.65426635742188,215.65426635742188,215.65426635742188,215.65426635742188,215.65426635742188,215.65426635742188,215.65426635742188,215.65426635742188,215.65426635742188,215.65426635742188,215.65426635742188,215.65426635742188,215.65426635742188,215.65426635742188,215.65426635742188,215.65426635742188,215.65426635742188,215.65426635742188,215.65426635742188,215.65426635742188,215.65426635742188,215.65426635742188,215.65426635742188,215.65426635742188,215.65426635742188,215.65426635742188,218.82754516601562,221.6226806640625,224.3905487060547,225.67030334472656,227.1251678466797,227.697509765625,226.86460876464844],\"y\":[270.8535461425781,270.8535461425781,270.8535461425781,270.8535461425781,270.8535461425781,270.8535461425781,270.8535461425781,270.853515625,270.853515625,270.853515625,270.853515625,270.853515625,270.853515625,270.853515625,270.853515625,270.853515625,270.853515625,270.853515625,270.853515625,270.853515625,270.853515625,270.853515625,270.853515625,270.853515625,270.853515625,270.853515625,270.853515625,270.853515625,270.853515625,270.853515625,270.853515625,270.853515625,270.853515625,270.853515625,270.853515625,270.853515625,270.853515625,270.853515625,270.853515625,270.853515625,270.853515625,270.853515625,270.853515625,270.853515625,270.853515625,270.853515625,270.853515625,270.853515625,270.853515625,270.853515625,270.853515625,270.853515625,270.853515625,270.853515625,270.853515625,270.853515625,270.853515625,270.853515625,270.853515625,270.853515625,270.853515625,270.853515625,270.853515625,270.853515625,270.853515625,270.853515625,270.853515625,270.853515625,270.853515625,270.853515625,270.853515625,270.853515625,270.853515625,270.853515625,270.853515625,270.853515625,270.853515625,270.853515625,270.853515625,270.853515625,270.853515625,270.853515625,270.853515625,270.853515625,270.853515625,270.853515625,270.853515625,270.853515625,270.853515625,270.853515625,270.853515625,270.853515625,270.853515625,270.853515625,270.853515625,270.853515625,270.853515625,270.853515625,270.853515625,270.853515625,270.853515625,270.853515625,270.853515625,270.853515625,270.853515625,270.853515625,270.853515625,270.853515625,270.853515625,270.853515625,270.853515625,270.853515625,270.853515625,270.853515625,270.853515625,270.853515625,270.853515625,270.853515625,270.853515625,270.853515625,270.853515625,270.853515625,270.853515625,270.853515625,270.853515625,270.853515625,270.853515625,270.853515625,270.853515625,270.853515625,270.853515625,270.853515625,270.853515625,270.853515625,270.853515625,270.853515625,270.853515625,270.853515625,270.853515625,270.853515625,270.853515625,270.853515625,270.853515625,270.853515625,270.853515625,270.853515625,270.853515625,270.853515625,270.853515625,270.853515625,270.853515625,270.853515625,270.853515625,270.853515625,270.853515625,270.853515625,270.853515625,270.853515625,270.853515625,270.853515625,270.853515625,270.853515625,270.853515625,270.853515625,270.853515625,270.853515625,270.853515625,270.853515625,270.853515625,270.853515625,270.853515625,270.853515625,270.853515625,270.853515625,270.853515625,270.853515625,270.853515625,270.853515625,270.853515625,270.853515625,270.853515625,270.853515625,270.853515625,270.853515625,270.853515625,270.853515625,270.853515625,270.853515625,270.853515625,270.853515625,270.853515625,270.853515625,270.853515625,270.853515625,270.853515625,270.853515625,270.853515625,270.853515625,270.853515625,270.853515625,270.853515625,270.853515625,270.853515625,270.853515625,270.853515625,270.853515625,270.853515625,270.853515625,270.853515625,270.853515625,270.853515625,270.853515625,270.853515625,270.853515625,270.853515625,270.853515625,270.853515625,270.853515625,270.853515625,270.853515625,270.853515625,270.853515625,270.853515625,270.853515625,270.853515625,270.853515625,270.853515625,270.853515625,270.853515625,270.853515625,270.853515625,270.853515625,270.853515625,270.853515625,270.853515625,270.853515625,270.853515625,270.853515625,270.853515625,270.853515625,270.853515625,270.853515625,270.853515625,270.853515625,270.853515625,270.853515625,270.853515625,270.853515625,270.853515625,270.853515625,270.853515625,270.853515625,270.853515625,270.853515625,270.853515625,270.853515625,270.853515625,270.853515625,270.853515625,270.853515625,270.853515625,270.853515625,270.853515625,270.853515625,270.853515625,270.853515625,270.853515625,270.853515625,270.853515625,270.853515625,270.853515625,270.853515625,270.853515625,270.853515625,270.853515625,270.853515625,270.853515625,270.853515625,270.853515625,270.1676330566406,267.570556640625,264.9284973144531,262.3893737792969,259.9072570800781,258.0958251953125,255.8150634765625,253.60446166992188,251.34471130371094,249.7445831298828,248.1395721435547,246.43234252929688,244.70123291015625,242.89035034179688,241.1551055908203,240.79197692871094,240.65966796875,240.51803588867188,240.45469665527344,240.3031768798828,240.5610809326172,240.63645935058594,240.63528442382812,240.6207275390625,240.3397216796875,240.57534790039062,240.6709747314453,240.69813537597656,240.72657775878906,240.61387634277344,240.68499755859375,240.71678161621094,240.72654724121094,240.7183074951172,240.7230224609375,240.72177124023438,240.72120666503906,240.72084045410156,240.7207794189453,240.7207794189453,240.72079467773438,240.7207794189453,240.7207794189453,240.7208251953125,240.7208251953125,240.7207489013672,240.7207489013672,240.7207489013672,240.7207489013672,240.7207489013672,240.7207489013672,240.7207489013672,240.7207489013672,240.7207489013672,240.7207489013672,240.7207489013672,240.7207489013672,240.7207489013672,240.7207489013672,240.7207489013672,240.7207489013672,240.7207489013672,240.7207489013672,240.7207489013672,240.7207489013672,240.7207489013672,240.7207489013672,240.7207489013672,240.7207489013672,240.7207489013672,240.7207489013672,240.7207489013672,240.7207489013672,240.7207489013672,240.7207489013672,240.7207489013672,240.7207489013672,240.7207489013672,240.7207489013672,240.7207489013672,240.7207489013672,240.7207489013672,240.7207489013672,240.7207489013672,240.7207489013672,240.7207489013672,240.7207489013672,240.7207489013672,240.7207489013672,240.7207489013672,240.7207489013672,240.7207489013672,240.7207489013672,240.7207489013672,240.7207489013672,240.7207489013672,240.7207489013672,240.7207489013672,240.7207489013672,240.7207489013672,240.7207489013672,240.7207489013672,240.7207489013672,240.7207489013672,240.7207489013672,240.7207489013672,240.7207489013672,240.7207489013672,240.7207489013672,240.7207489013672,240.7207489013672,240.7207489013672,240.7207489013672,238.07864379882812,235.2847137451172,232.48155212402344,230.5579071044922,228.56190490722656,227.6420135498047,225.98435974121094],\"z\":[94.02134704589844,91.55135345458984,93.14004516601562,93.45779418945312,93.52135467529297,93.53406524658203,93.53660583496094,93.537109375,93.53721618652344,93.53721618652344,93.53721618652344,93.53721618652344,93.53721618652344,93.53721618652344,93.53721618652344,93.53721618652344,93.53721618652344,93.53721618652344,93.53721618652344,93.53721618652344,93.53721618652344,93.53721618652344,93.53721618652344,93.53721618652344,93.53721618652344,93.53721618652344,93.53721618652344,93.53721618652344,93.53721618652344,93.53721618652344,93.53721618652344,93.53721618652344,93.53721618652344,93.53721618652344,93.53721618652344,93.53721618652344,93.53721618652344,93.53721618652344,93.53721618652344,93.53721618652344,93.53721618652344,93.53721618652344,93.53721618652344,93.53721618652344,93.53721618652344,93.53721618652344,93.53721618652344,93.53721618652344,93.53721618652344,93.53721618652344,93.53721618652344,93.53721618652344,93.53721618652344,93.53721618652344,93.53721618652344,93.53721618652344,93.53721618652344,93.53721618652344,93.53721618652344,93.53721618652344,93.53721618652344,93.53721618652344,93.53721618652344,93.53721618652344,93.53721618652344,93.53721618652344,93.53721618652344,93.53721618652344,93.53721618652344,93.53721618652344,93.53721618652344,93.53721618652344,93.53721618652344,93.53721618652344,93.53721618652344,93.53721618652344,93.53721618652344,93.53721618652344,93.53721618652344,93.53721618652344,93.53721618652344,93.53721618652344,93.53721618652344,93.53721618652344,93.53721618652344,93.53721618652344,93.53721618652344,93.53721618652344,93.53721618652344,93.53721618652344,93.53721618652344,93.53721618652344,93.53721618652344,93.53721618652344,93.53721618652344,93.53721618652344,93.53721618652344,93.53721618652344,93.53721618652344,93.53721618652344,93.53721618652344,93.53721618652344,93.53721618652344,93.53721618652344,93.53721618652344,93.53721618652344,93.53721618652344,93.53721618652344,93.53721618652344,93.53721618652344,93.53721618652344,93.53721618652344,93.53721618652344,93.53721618652344,93.53721618652344,93.53721618652344,93.53721618652344,93.53721618652344,93.53721618652344,93.53721618652344,93.53721618652344,93.53721618652344,93.53721618652344,93.53721618652344,93.53721618652344,93.53721618652344,93.53721618652344,93.53721618652344,93.53721618652344,93.53721618652344,93.53721618652344,93.53721618652344,93.53721618652344,93.53721618652344,93.53721618652344,93.53721618652344,93.53721618652344,93.53721618652344,93.53721618652344,93.53721618652344,93.53721618652344,93.53721618652344,93.53721618652344,93.53721618652344,93.53721618652344,93.53721618652344,93.53721618652344,93.53721618652344,93.53721618652344,93.53721618652344,93.53721618652344,93.53721618652344,93.53721618652344,93.53721618652344,93.53721618652344,93.53721618652344,93.53721618652344,93.53721618652344,93.53721618652344,93.53721618652344,93.53721618652344,93.53721618652344,93.53721618652344,93.53721618652344,93.53721618652344,93.53721618652344,93.53721618652344,93.53721618652344,93.53721618652344,93.53721618652344,93.53721618652344,93.53721618652344,93.53721618652344,93.53721618652344,93.53721618652344,93.53721618652344,93.53721618652344,93.53721618652344,93.53721618652344,93.53721618652344,93.53721618652344,93.53721618652344,93.53721618652344,93.53721618652344,93.53721618652344,93.53721618652344,93.53721618652344,93.53721618652344,93.53721618652344,93.53721618652344,93.53721618652344,93.53721618652344,93.53721618652344,93.53721618652344,93.53721618652344,93.53721618652344,93.53721618652344,93.53721618652344,93.53721618652344,93.53721618652344,93.53721618652344,93.53721618652344,93.53721618652344,93.53721618652344,93.53721618652344,93.53721618652344,93.53721618652344,93.53721618652344,93.53721618652344,93.53721618652344,93.53721618652344,93.53721618652344,93.53721618652344,93.53721618652344,93.53721618652344,93.53721618652344,93.53721618652344,93.53721618652344,93.53721618652344,93.53721618652344,93.53721618652344,93.53721618652344,93.53721618652344,93.53721618652344,93.53721618652344,93.53721618652344,93.53721618652344,93.53721618652344,93.53721618652344,93.53721618652344,93.53721618652344,93.53721618652344,93.53721618652344,93.53721618652344,93.53721618652344,93.53721618652344,93.53721618652344,93.53721618652344,93.53721618652344,93.53721618652344,93.53721618652344,93.53721618652344,93.53721618652344,93.53721618652344,93.53721618652344,93.53721618652344,93.53721618652344,93.53721618652344,93.53721618652344,93.53721618652344,93.53721618652344,93.53721618652344,93.53721618652344,93.53721618652344,93.53721618652344,93.53721618652344,93.53721618652344,93.53721618652344,93.53721618652344,93.53721618652344,93.53721618652344,93.53721618652344,93.53721618652344,93.53721618652344,93.53721618652344,93.53721618652344,93.53721618652344,93.53721618652344,93.53721618652344,93.53721618652344,93.53721618652344,93.53721618652344,93.53721618652344,93.53721618652344,93.53721618652344,93.53721618652344,93.53721618652344,93.53721618652344,93.53721618652344,94.28599548339844,94.90885162353516,95.04689025878906,94.71533966064453,93.93971252441406,94.34290313720703,94.83106231689453,94.84868621826172,94.42518615722656,95.1697769165039,95.55992889404297,95.49638366699219,94.94990539550781,93.81436157226562,92.12347412109375,91.82411193847656,91.06761932373047,89.51828002929688,87.39523315429688,88.5335922241211,89.39188385009766,89.33056640625,88.86244201660156,88.12266540527344,88.47947692871094,89.28169250488281,89.41368865966797,89.19025421142578,88.68851470947266,88.75237274169922,88.94493865966797,88.7656478881836,88.84788513183594,88.8517074584961,88.84648132324219,88.85513305664062,88.85568237304688,88.85558319091797,88.85557556152344,88.85557556152344,88.85562133789062,88.8556137084961,88.8556137084961,88.85564422607422,88.85564422607422,88.85560607910156,88.85560607910156,88.85560607910156,88.85560607910156,88.85560607910156,88.85560607910156,88.85560607910156,88.85560607910156,88.85560607910156,88.85560607910156,88.85560607910156,88.85560607910156,88.85560607910156,88.85560607910156,88.85560607910156,88.85560607910156,88.85560607910156,88.85560607910156,88.85560607910156,88.85560607910156,88.85560607910156,88.85560607910156,88.85560607910156,88.85560607910156,88.85560607910156,88.85560607910156,88.85560607910156,88.85560607910156,88.85560607910156,88.85560607910156,88.85560607910156,88.85560607910156,88.85560607910156,88.85560607910156,88.85560607910156,88.85560607910156,88.85560607910156,88.85560607910156,88.85560607910156,88.85560607910156,88.85560607910156,88.85560607910156,88.85560607910156,88.85560607910156,88.85560607910156,88.85560607910156,88.85560607910156,88.85560607910156,88.85560607910156,88.85560607910156,88.85560607910156,88.85560607910156,88.85560607910156,88.85560607910156,88.85560607910156,88.85560607910156,88.85560607910156,88.85560607910156,88.85560607910156,88.85560607910156,88.85560607910156,88.85560607910156,88.85560607910156,88.85560607910156,88.85560607910156,88.85560607910156,88.85560607910156,88.85560607910156,88.87158966064453,88.9658203125,88.62316131591797,88.92149353027344,88.52716827392578,88.80839538574219,90.86563873291016],\"type\":\"scatter3d\"},{\"hovertemplate\":\"<b>%{hovertext}</b><br><br>ID=IAIIslandArea: XYIgNjEFVU6q-71AupPIzQ<br>X=%{x}<br>Y=%{y}<br>Z=%{z}<extra></extra>\",\"hovertext\":[0.5286951065063477,0.555486798286438,0.5719873905181885,0.6048904061317444,0.6224220991134644,0.639313817024231,0.6552737355232239,0.6720486283302307,0.6892425417900085,0.7055651545524597,0.7225918769836426,0.7398342490196228,0.7577523589134216,0.7939863801002502,0.850547194480896,0.9070668816566467,0.9616253972053528,1.0175074338912964,1.073137879371643,1.1279748678207397,1.1834865808486938,1.2404532432556152,1.2944074869155884,1.3500038385391235,1.406014323234558,1.4609447717666626,1.5169340372085571,1.5726712942123413,1.6280999183654785,1.6839064359664917,1.7383676767349243,1.7909387350082397,1.8136649131774902,1.8358211517333984,1.8571341037750244,1.8790242671966553,1.902084231376648,1.9250571727752686,1.9458484649658203,1.9686404466629028,1.990531086921692,2.0122625827789307,2.03536057472229,2.0576038360595703,2.0796680450439453,2.1013007164001465,2.1245944499969482,2.146121025085449,2.1679680347442627,2.1915035247802734,2.213235855102539,2.235090970993042,2.256861925125122,2.2799172401428223,2.3018972873687744,2.3239095211029053,2.3458991050720215,2.3685309886932373,2.3905510902404785,2.4125730991363525,2.4352879524230957,2.4571683406829834,2.47926926612854,2.501400947570801,2.5240819454193115,2.5458412170410156,2.5680816173553467,2.5910816192626953,2.613337516784668,2.6345229148864746,2.656644582748413,2.679628849029541,2.7014050483703613,2.7236602306365967,2.7464137077331543,2.764629602432251,2.78631854057312,2.808537006378174,2.830101728439331,2.852806806564331,2.875103712081909,2.8970298767089844,2.9199938774108887,2.9418416023254395,2.9635541439056396,2.9858779907226562,3.0083377361297607,3.0304393768310547,3.052541732788086,3.075340509414673,3.097153902053833,3.1190741062164307,3.1421077251434326,3.1639838218688965,3.185415267944336,3.207862377166748,3.2299537658691406,3.2524850368499756,3.27449893951416,3.2966368198394775,3.319502353668213,3.3410489559173584,3.3643798828125,3.3858375549316406,3.407883405685425,3.4298095703125,3.452366352081299,3.474353313446045,3.4962666034698486,3.519179344177246,3.541353225708008,3.5628175735473633,3.5849592685699463,3.6080760955810547,3.629925489425659,3.6520962715148926,3.675363063812256,3.697324514389038,3.7192909717559814,3.741525411605835,3.7592387199401855,3.781507730484009,3.8051671981811523,3.826157331466675,3.848268508911133,3.8708553314208984,3.893014907836914,3.9152934551239014,3.937509775161743,3.959310293197632,3.9825830459594727,4.003824710845947,4.025701999664307,4.049212455749512,4.070664405822754,4.092857360839844,4.1144537925720215,4.137539386749268,4.159789085388184,4.181347370147705,4.204574108123779,4.226325511932373,4.248147487640381,4.270490646362305,4.292999267578125,4.315051555633545,4.337090492248535,4.359078884124756,4.381832122802734,4.403980255126953,4.425602912902832,4.448779106140137,4.471098899841309,4.4925312995910645,4.515600204467773,4.537616729736328,4.559331893920898,4.58261251449585,4.603647232055664,4.626277923583984,4.648680686950684,4.670654773712158,4.692486763000488,4.714700222015381,4.737846851348877,4.761399745941162,4.783319473266602,4.806545257568359,4.828364372253418,4.850191116333008,4.8729939460754395,4.894998073577881,4.9162774085998535,4.940153121948242,4.961405277252197,4.984344482421875,5.006816387176514,5.028245449066162,5.050201416015625,5.072605133056641,5.094848155975342,5.116912364959717,5.139066696166992,5.161888599395752,5.183533668518066,5.205550193786621,5.228619575500488,5.250289440155029,5.2724151611328125,5.295369625091553,5.317225456237793,5.339613437652588,5.361414909362793,5.3840813636779785,5.406040668487549,5.428016662597656,5.450244426727295,5.473025798797607,5.494635105133057,5.516543865203857,5.53996467590332,5.561698913574219,5.583449840545654,5.604979038238525,5.628459930419922,5.650592803955078,5.672412395477295,5.6955156326293945,5.717191696166992,5.739439964294434,5.761755466461182,5.785126209259033,5.807071208953857,5.828936576843262,5.850784778594971,5.874019145965576,5.895676612854004,5.917157173156738,5.940647125244141,5.962684154510498,5.98463249206543,6.006499767303467,6.029491901397705,6.051388263702393,6.073928356170654,6.095951080322266,6.1177263259887695,6.139866352081299,6.162204742431641,6.184074878692627,6.20698881149292,6.22886848449707,6.2509613037109375,6.273252010345459,6.295847415924072,6.31770133972168,6.339972019195557,6.362233638763428,6.384291172027588,6.406674385070801,6.429492950439453,6.451172351837158,6.473511695861816,6.4959845542907715,6.517918109893799,6.54013729095459,6.561567306518555,6.5847296714782715,6.607030868530273,6.628598690032959,6.650545597076416,6.673405170440674,6.695412635803223,6.7173590660095215,6.740264415740967,6.762293815612793,6.784426689147949,6.806399822235107,6.829111099243164,6.851132392883301,6.872943878173828,6.895018100738525,6.917599201202393,6.940023422241211,6.9624199867248535,6.983786106109619,7.0070881843566895,7.02901554107666,7.0508246421813965,7.072983741760254,7.095508098602295,7.117720127105713,7.139720439910889,7.162418842315674,7.184325695037842,7.206518173217773,7.228107452392578,7.251306533813477,7.273608684539795,7.295102596282959,7.318037033081055,7.340132236480713,7.361849784851074,7.3836164474487305,7.406917572021484,7.42883825302124,7.450610160827637,7.473577499389648,7.4955668449401855,7.517750263214111,7.539588451385498,7.5623393058776855,7.584631443023682,7.605971336364746,7.628307819366455,7.65102481842041,7.672778606414795,7.695677280426025,7.717616081237793,7.739680290222168,7.7625203132629395,7.784345626831055,7.80644416809082,7.8292107582092285,7.85134744644165,7.874022483825684,7.896541595458984,7.917789459228516,7.939844131469727,7.9623541831970215,7.984292030334473,8.0062837600708,8.029321670532227,8.05179214477539,8.073432922363281,8.09585189819336,8.117813110351562,8.140179634094238,8.162069320678711,8.184759140014648,8.207344055175781,8.228525161743164,8.250370979309082,8.27363109588623,8.295366287231445,8.31766128540039,8.34058952331543,8.362448692321777,8.384695053100586,8.406122207641602,8.429405212402344,8.45117473602295,8.473119735717773,8.49581241607666,8.517834663391113,8.540238380432129,8.56163215637207,8.58463191986084,8.606779098510742,8.628813743591309,8.65175724029541,8.673613548278809,8.695222854614258,8.717536926269531,8.740388870239258,8.762388229370117,8.78410530090332,8.805925369262695,8.828570365905762,8.851166725158691,8.873109817504883,8.895176887512207,8.91709041595459,8.940448760986328,8.961786270141602,8.983718872070312,9.006738662719727,9.028931617736816,9.05068588256836,9.07344913482666,9.095295906066895,9.117268562316895,9.139631271362305,9.162148475646973,9.184526443481445,9.206266403198242,9.228052139282227,9.250924110412598,9.272765159606934,9.295710563659668,9.317419052124023,9.339512825012207,9.36112117767334,9.384437561035156,9.406508445739746,9.42829418182373,9.45030689239502,9.47314453125,9.495072364807129,9.517045021057129,9.539198875427246,9.561902046203613,9.58376693725586,9.605972290039062,9.628819465637207,9.650877952575684,9.672760009765625,9.695381164550781,9.717606544494629,9.739418029785156,9.761310577392578,9.78428840637207,9.806099891662598,9.828356742858887,9.849952697753906,9.873010635375977,9.895281791687012,9.917381286621094,9.940465927124023],\"legendgroup\":\"IAIIslandArea: XYIgNjEFVU6q-71AupPIzQ\",\"line\":{\"color\":\"#EF553B\",\"dash\":\"solid\"},\"marker\":{\"symbol\":\"circle\"},\"mode\":\"lines\",\"name\":\"IAIIslandArea: XYIgNjEFVU6q-71AupPIzQ\",\"scene\":\"scene\",\"showlegend\":true,\"x\":[192.9720458984375,192.9720458984375,192.9720458984375,192.9720458984375,192.9720458984375,192.9720458984375,192.9720458984375,192.9720458984375,192.9720458984375,192.9720458984375,192.9720458984375,192.9720458984375,192.9720458984375,192.9720458984375,192.9720458984375,192.9720458984375,192.9720458984375,192.9720458984375,192.9720458984375,192.9720458984375,192.9720458984375,192.9720458984375,192.9720458984375,192.9720458984375,192.9720458984375,192.9720458984375,192.9720458984375,192.9720458984375,192.9720458984375,192.9720458984375,192.9720458984375,192.9720458984375,192.9720458984375,192.9720458984375,192.9720458984375,192.9720458984375,192.9720458984375,192.9720458984375,192.9720458984375,192.9720458984375,192.9720458984375,192.9720458984375,192.9720458984375,192.9720458984375,192.9720458984375,192.9720458984375,192.9720458984375,192.9720458984375,192.9720458984375,192.9720458984375,192.9720458984375,192.9720458984375,192.9720458984375,192.9720458984375,192.9720458984375,192.9720458984375,192.9720458984375,192.9720458984375,192.9720458984375,192.9720458984375,192.9720458984375,192.9720458984375,192.9720458984375,192.9720458984375,192.9720458984375,192.9720458984375,192.9720458984375,192.9720458984375,192.9720458984375,192.9720458984375,192.9720458984375,192.9720458984375,192.9720458984375,192.9720458984375,192.9720458984375,192.9720458984375,192.9720458984375,192.9720458984375,192.9720458984375,192.9720458984375,192.9720458984375,192.9720458984375,192.9720458984375,192.9720458984375,192.9720458984375,192.9720458984375,192.9720458984375,192.9720458984375,192.9720458984375,192.9720458984375,192.9720458984375,192.9720458984375,192.9720458984375,192.9720458984375,192.9720458984375,192.9720458984375,192.9720458984375,192.9720458984375,192.9720458984375,192.9720458984375,192.9720458984375,192.9720458984375,192.9720458984375,192.9720458984375,192.9720458984375,192.9720458984375,192.9720458984375,192.9720458984375,192.9720458984375,192.9720458984375,192.9720458984375,192.9720458984375,192.9720458984375,192.9720458984375,192.9720458984375,192.9720458984375,192.9720458984375,192.9720458984375,192.9720458984375,192.9720458984375,192.9720458984375,192.9720458984375,192.9720458984375,192.9720458984375,192.9720458984375,192.9720458984375,192.9720458984375,192.9720458984375,192.9720458984375,192.9720458984375,192.9720458984375,192.9720458984375,192.9720458984375,192.9720458984375,192.9720458984375,192.9720458984375,192.9720458984375,192.9720458984375,192.9720458984375,192.9720458984375,192.9720458984375,192.9720458984375,192.9720458984375,192.9720458984375,192.9720458984375,192.9720458984375,192.9720458984375,192.9720458984375,192.9720458984375,192.9720458984375,192.9720458984375,192.9720458984375,192.9720458984375,192.9720458984375,192.9720458984375,192.9720458984375,192.9720458984375,192.9720458984375,192.9720458984375,192.9720458984375,192.9720458984375,192.9720458984375,192.9720458984375,192.9720458984375,192.9720458984375,192.9720458984375,192.9720458984375,192.9720458984375,192.9720458984375,192.9720458984375,192.9720458984375,192.9720458984375,192.9720458984375,192.9720458984375,192.9720458984375,192.9720458984375,192.9720458984375,192.9720458984375,192.9720458984375,192.9720458984375,192.9720458984375,192.9720458984375,192.9720458984375,192.9720458984375,192.9720458984375,192.9720458984375,192.9720458984375,192.9720458984375,192.9720458984375,192.9720458984375,192.9720458984375,192.9720458984375,192.9720458984375,192.9720458984375,192.9720458984375,192.9720458984375,192.9720458984375,192.9720458984375,192.9720458984375,192.9720458984375,192.9720458984375,192.9720458984375,192.9720458984375,192.9720458984375,192.9720458984375,192.9720458984375,192.9720458984375,192.9720458984375,192.9720458984375,192.9720458984375,192.9720458984375,192.9720458984375,192.9720458984375,192.9720458984375,192.9720458984375,192.9720458984375,192.9720458984375,192.9720458984375,192.9720458984375,192.9720458984375,192.9720458984375,192.9720458984375,192.9720458984375,192.9720458984375,192.9720458984375,192.9720458984375,192.9720458984375,192.9720458984375,192.9720458984375,192.9720458984375,192.9720458984375,192.9720458984375,192.9720458984375,192.9720458984375,192.9720458984375,192.9720458984375,192.9720458984375,192.9720458984375,192.9720458984375,192.9720458984375,192.9720458984375,192.9720458984375,192.9720458984375,192.9720458984375,192.9720458984375,192.9720458984375,192.9720458984375,192.9720458984375,192.9720458984375,192.9720458984375,192.9720458984375,192.9720458984375,192.9720458984375,192.9720458984375,192.9720458984375,192.9720458984375,192.9720458984375,192.9720458984375,192.9720458984375,192.9720458984375,192.9720458984375,192.9720458984375,192.9720458984375,192.9720458984375,192.9720458984375,192.9720458984375,192.9720458984375,192.9720458984375,192.9720458984375,192.9720458984375,192.9720458984375,192.9720458984375,192.9720458984375,192.9720458984375,192.9720458984375,192.9720458984375,192.9720458984375,192.9720458984375,192.9720458984375,192.9720458984375,192.9720458984375,192.9720458984375,192.9720458984375,192.9720458984375,192.9720458984375,192.9720458984375,192.9720458984375,192.9720458984375,192.9720458984375,192.9720458984375,192.9720458984375,192.9720458984375,192.9720458984375,192.9720458984375,192.9720458984375,192.9720458984375,192.9720458984375,192.9720458984375,192.9720458984375,192.9720458984375,192.9720458984375,192.9720458984375,192.9720458984375,192.9720458984375,192.9720458984375,192.9720458984375,192.9720458984375,192.9720458984375,192.9720458984375,192.9720458984375,192.9720458984375,192.9720458984375,192.9720458984375,192.9720458984375,192.9720458984375,192.9720458984375,192.9720458984375,192.9720458984375,192.9720458984375,192.9720458984375,192.9720458984375,192.9720458984375,192.9720458984375,192.9720458984375,192.9720458984375,192.9720458984375,192.9720458984375,192.9720458984375,192.9720458984375,192.9720458984375,192.9720458984375,192.9720458984375,192.9720458984375,192.9720458984375,192.9720458984375,192.9720458984375,192.9720458984375,192.9720458984375,192.9720458984375,192.9720458984375,192.9720458984375,192.9720458984375,192.9720458984375,192.9720458984375,192.9720458984375,192.9720458984375,192.9720458984375,192.9720458984375,192.9720458984375,192.9720458984375,192.9720458984375,192.9720458984375,192.9720458984375,192.9720458984375,192.9720458984375,192.9720458984375,192.9720458984375,192.9720458984375,192.9720458984375,192.9720458984375,192.9720458984375,192.9720458984375,192.9720458984375,192.9720458984375,192.9720458984375,192.9720458984375,192.9720458984375,192.9720458984375,192.9720458984375,192.9720458984375,192.9720458984375,192.9720458984375,192.9720458984375,192.9720458984375,192.9720458984375,192.9720458984375,192.9720458984375,192.9720458984375,192.9720458984375,192.9720458984375,192.9720458984375,192.9720458984375,192.9720458984375,192.9720458984375,192.9720458984375,192.9720458984375,192.9720458984375,192.9720458984375,192.9720458984375,192.9720458984375,192.9720458984375,192.9720458984375,192.9720458984375,192.9720458984375,192.9720458984375,192.9720458984375,192.9720458984375,192.9720458984375,192.9720458984375],\"y\":[345.48675537109375,345.48675537109375,345.48675537109375,345.48675537109375,345.48675537109375,345.48675537109375,345.48675537109375,345.48675537109375,345.48675537109375,345.48675537109375,345.48675537109375,345.48675537109375,345.48675537109375,345.48675537109375,345.48675537109375,345.48675537109375,345.48675537109375,345.48675537109375,345.48675537109375,345.48675537109375,345.48675537109375,345.48675537109375,345.48675537109375,345.48675537109375,345.48675537109375,345.48675537109375,345.48675537109375,345.48675537109375,345.48675537109375,345.48675537109375,345.48675537109375,345.48675537109375,345.48675537109375,345.48675537109375,345.48675537109375,345.48675537109375,345.48675537109375,345.48675537109375,345.48675537109375,345.48675537109375,345.48675537109375,345.48675537109375,345.48675537109375,345.48675537109375,345.48675537109375,345.48675537109375,345.48675537109375,345.48675537109375,345.48675537109375,345.48675537109375,345.48675537109375,345.48675537109375,345.48675537109375,345.48675537109375,345.48675537109375,345.48675537109375,345.48675537109375,345.48675537109375,345.48675537109375,345.48675537109375,345.48675537109375,345.48675537109375,345.48675537109375,345.48675537109375,345.48675537109375,345.48675537109375,345.48675537109375,345.48675537109375,345.48675537109375,345.48675537109375,345.48675537109375,345.48675537109375,345.48675537109375,345.48675537109375,345.48675537109375,345.48675537109375,345.48675537109375,345.48675537109375,345.48675537109375,345.48675537109375,345.48675537109375,345.48675537109375,345.48675537109375,345.48675537109375,345.48675537109375,345.48675537109375,345.48675537109375,345.48675537109375,345.48675537109375,345.48675537109375,345.48675537109375,345.48675537109375,345.48675537109375,345.48675537109375,345.48675537109375,345.48675537109375,345.48675537109375,345.48675537109375,345.48675537109375,345.48675537109375,345.48675537109375,345.48675537109375,345.48675537109375,345.48675537109375,345.48675537109375,345.48675537109375,345.48675537109375,345.48675537109375,345.48675537109375,345.48675537109375,345.48675537109375,345.48675537109375,345.48675537109375,345.48675537109375,345.48675537109375,345.48675537109375,345.48675537109375,345.48675537109375,345.48675537109375,345.48675537109375,345.48675537109375,345.48675537109375,345.48675537109375,345.48675537109375,345.48675537109375,345.48675537109375,345.48675537109375,345.48675537109375,345.48675537109375,345.48675537109375,345.48675537109375,345.48675537109375,345.48675537109375,345.48675537109375,345.48675537109375,345.48675537109375,345.48675537109375,345.48675537109375,345.48675537109375,345.48675537109375,345.48675537109375,345.48675537109375,345.48675537109375,345.48675537109375,345.48675537109375,345.48675537109375,345.48675537109375,345.48675537109375,345.48675537109375,345.48675537109375,345.48675537109375,345.48675537109375,345.48675537109375,345.48675537109375,345.48675537109375,345.48675537109375,345.48675537109375,345.48675537109375,345.48675537109375,345.48675537109375,345.48675537109375,345.48675537109375,345.48675537109375,345.48675537109375,345.48675537109375,345.48675537109375,345.48675537109375,345.48675537109375,345.48675537109375,345.48675537109375,345.48675537109375,345.48675537109375,345.48675537109375,345.48675537109375,345.48675537109375,345.48675537109375,345.48675537109375,345.48675537109375,345.48675537109375,345.48675537109375,345.48675537109375,345.48675537109375,345.48675537109375,345.48675537109375,345.48675537109375,345.48675537109375,345.48675537109375,345.48675537109375,345.48675537109375,345.48675537109375,345.48675537109375,345.48675537109375,345.48675537109375,345.48675537109375,345.48675537109375,345.48675537109375,345.48675537109375,345.48675537109375,345.48675537109375,345.48675537109375,345.48675537109375,345.48675537109375,345.48675537109375,345.48675537109375,345.48675537109375,345.48675537109375,345.48675537109375,345.48675537109375,345.48675537109375,345.48675537109375,345.48675537109375,345.48675537109375,345.48675537109375,345.48675537109375,345.48675537109375,345.48675537109375,345.48675537109375,345.48675537109375,345.48675537109375,345.48675537109375,345.48675537109375,345.48675537109375,345.48675537109375,345.48675537109375,345.48675537109375,345.48675537109375,345.48675537109375,345.48675537109375,345.48675537109375,345.48675537109375,345.48675537109375,345.48675537109375,345.48675537109375,345.48675537109375,345.48675537109375,345.48675537109375,345.48675537109375,345.48675537109375,345.48675537109375,345.48675537109375,345.48675537109375,345.48675537109375,345.48675537109375,345.48675537109375,345.48675537109375,345.48675537109375,345.48675537109375,345.48675537109375,345.48675537109375,345.48675537109375,345.48675537109375,345.48675537109375,345.48675537109375,345.48675537109375,345.48675537109375,345.48675537109375,345.48675537109375,345.48675537109375,345.48675537109375,345.48675537109375,345.48675537109375,345.48675537109375,345.48675537109375,345.48675537109375,345.48675537109375,345.48675537109375,345.48675537109375,345.48675537109375,345.48675537109375,345.48675537109375,345.48675537109375,345.48675537109375,345.48675537109375,345.48675537109375,345.48675537109375,345.48675537109375,345.48675537109375,345.48675537109375,345.48675537109375,345.48675537109375,345.48675537109375,345.48675537109375,345.48675537109375,345.48675537109375,345.48675537109375,345.48675537109375,345.48675537109375,345.48675537109375,345.48675537109375,345.48675537109375,345.48675537109375,345.48675537109375,345.48675537109375,345.48675537109375,345.48675537109375,345.48675537109375,345.48675537109375,345.48675537109375,345.48675537109375,345.48675537109375,345.48675537109375,345.48675537109375,345.48675537109375,345.48675537109375,345.48675537109375,345.48675537109375,345.48675537109375,345.48675537109375,345.48675537109375,345.48675537109375,345.48675537109375,345.48675537109375,345.48675537109375,345.48675537109375,345.48675537109375,345.48675537109375,345.48675537109375,345.48675537109375,345.48675537109375,345.48675537109375,345.48675537109375,345.48675537109375,345.48675537109375,345.48675537109375,345.48675537109375,345.48675537109375,345.48675537109375,345.48675537109375,345.48675537109375,345.48675537109375,345.48675537109375,345.48675537109375,345.48675537109375,345.48675537109375,345.48675537109375,345.48675537109375,345.48675537109375,345.48675537109375,345.48675537109375,345.48675537109375,345.48675537109375,345.48675537109375,345.48675537109375,345.48675537109375,345.48675537109375,345.48675537109375,345.48675537109375,345.48675537109375,345.48675537109375,345.48675537109375,345.48675537109375,345.48675537109375,345.48675537109375,345.48675537109375,345.48675537109375,345.48675537109375,345.48675537109375,345.48675537109375,345.48675537109375,345.48675537109375,345.48675537109375,345.48675537109375,345.48675537109375,345.48675537109375,345.48675537109375,345.48675537109375,345.48675537109375,345.48675537109375,345.48675537109375,345.48675537109375,345.48675537109375,345.48675537109375,345.48675537109375,345.48675537109375,345.48675537109375,345.48675537109375,345.48675537109375,345.48675537109375,345.48675537109375,345.48675537109375,345.48675537109375,345.48675537109375,345.48675537109375,345.48675537109375,345.48675537109375,345.48675537109375,345.48675537109375,345.48675537109375,345.48675537109375,345.48675537109375,345.48675537109375,345.48675537109375,345.48675537109375,345.48675537109375,345.48675537109375,345.48675537109375,345.48675537109375,345.48675537109375,345.48675537109375],\"z\":[42.812705993652344,42.812705993652344,42.812705993652344,42.812705993652344,42.812705993652344,42.812705993652344,42.812705993652344,42.812705993652344,42.812705993652344,42.812705993652344,42.812705993652344,42.812705993652344,42.812705993652344,42.812705993652344,42.812705993652344,42.812705993652344,42.812705993652344,42.812705993652344,42.812705993652344,42.812705993652344,42.812705993652344,42.812705993652344,42.812705993652344,42.812705993652344,42.812705993652344,42.812705993652344,42.812705993652344,42.812705993652344,42.812705993652344,42.812705993652344,42.812705993652344,42.812705993652344,42.812705993652344,42.812705993652344,42.812705993652344,42.812705993652344,42.812705993652344,42.812705993652344,42.812705993652344,42.812705993652344,42.812705993652344,42.812705993652344,42.812705993652344,42.812705993652344,42.812705993652344,42.812705993652344,42.812705993652344,42.812705993652344,42.812705993652344,42.812705993652344,42.812705993652344,42.812705993652344,42.812705993652344,42.812705993652344,42.812705993652344,42.812705993652344,42.812705993652344,42.812705993652344,42.812705993652344,42.812705993652344,42.812705993652344,42.812705993652344,42.812705993652344,42.812705993652344,42.812705993652344,42.812705993652344,42.812705993652344,42.812705993652344,42.812705993652344,42.812705993652344,42.812705993652344,42.812705993652344,42.812705993652344,42.812705993652344,42.812705993652344,42.812705993652344,42.812705993652344,42.812705993652344,42.812705993652344,42.812705993652344,42.812705993652344,42.812705993652344,42.812705993652344,42.812705993652344,42.812705993652344,42.812705993652344,42.812705993652344,42.812705993652344,42.812705993652344,42.812705993652344,42.812705993652344,42.812705993652344,42.812705993652344,42.812705993652344,42.812705993652344,42.812705993652344,42.812705993652344,42.812705993652344,42.812705993652344,42.812705993652344,42.812705993652344,42.812705993652344,42.812705993652344,42.812705993652344,42.812705993652344,42.812705993652344,42.812705993652344,42.812705993652344,42.812705993652344,42.812705993652344,42.812705993652344,42.812705993652344,42.812705993652344,42.812705993652344,42.812705993652344,42.812705993652344,42.812705993652344,42.812705993652344,42.812705993652344,42.812705993652344,42.812705993652344,42.812705993652344,42.812705993652344,42.812705993652344,42.812705993652344,42.812705993652344,42.812705993652344,42.812705993652344,42.812705993652344,42.812705993652344,42.812705993652344,42.812705993652344,42.812705993652344,42.812705993652344,42.812705993652344,42.812705993652344,42.812705993652344,42.812705993652344,42.812705993652344,42.812705993652344,42.812705993652344,42.812705993652344,42.812705993652344,42.812705993652344,42.812705993652344,42.812705993652344,42.812705993652344,42.812705993652344,42.812705993652344,42.812705993652344,42.812705993652344,42.812705993652344,42.812705993652344,42.812705993652344,42.812705993652344,42.812705993652344,42.812705993652344,42.812705993652344,42.812705993652344,42.812705993652344,42.812705993652344,42.812705993652344,42.812705993652344,42.812705993652344,42.812705993652344,42.812705993652344,42.812705993652344,42.812705993652344,42.812705993652344,42.812705993652344,42.812705993652344,42.812705993652344,42.812705993652344,42.812705993652344,42.812705993652344,42.812705993652344,42.812705993652344,42.812705993652344,42.812705993652344,42.812705993652344,42.812705993652344,42.812705993652344,42.812705993652344,42.812705993652344,42.812705993652344,42.812705993652344,42.812705993652344,42.812705993652344,42.812705993652344,42.812705993652344,42.812705993652344,42.812705993652344,42.812705993652344,42.812705993652344,42.812705993652344,42.812705993652344,42.812705993652344,42.812705993652344,42.812705993652344,42.812705993652344,42.812705993652344,42.812705993652344,42.812705993652344,42.812705993652344,42.812705993652344,42.812705993652344,42.812705993652344,42.812705993652344,42.812705993652344,42.812705993652344,42.812705993652344,42.812705993652344,42.812705993652344,42.812705993652344,42.812705993652344,42.812705993652344,42.812705993652344,42.812705993652344,42.812705993652344,42.812705993652344,42.812705993652344,42.812705993652344,42.812705993652344,42.812705993652344,42.812705993652344,42.812705993652344,42.812705993652344,42.812705993652344,42.812705993652344,42.812705993652344,42.812705993652344,42.812705993652344,42.812705993652344,42.812705993652344,42.812705993652344,42.812705993652344,42.812705993652344,42.812705993652344,42.812705993652344,42.812705993652344,42.812705993652344,42.812705993652344,42.812705993652344,42.812705993652344,42.812705993652344,42.812705993652344,42.812705993652344,42.812705993652344,42.812705993652344,42.812705993652344,42.812705993652344,42.812705993652344,42.812705993652344,42.812705993652344,42.812705993652344,42.812705993652344,42.812705993652344,42.812705993652344,42.812705993652344,42.812705993652344,42.812705993652344,42.812705993652344,42.812705993652344,42.812705993652344,42.812705993652344,42.812705993652344,42.812705993652344,42.812705993652344,42.812705993652344,42.812705993652344,42.812705993652344,42.812705993652344,42.812705993652344,42.812705993652344,42.812705993652344,42.812705993652344,42.812705993652344,42.812705993652344,42.812705993652344,42.812705993652344,42.812705993652344,42.812705993652344,42.812705993652344,42.812705993652344,42.812705993652344,42.812705993652344,42.812705993652344,42.812705993652344,42.812705993652344,42.812705993652344,42.812705993652344,42.812705993652344,42.812705993652344,42.812705993652344,42.812705993652344,42.812705993652344,42.812705993652344,42.812705993652344,42.812705993652344,42.812705993652344,42.812705993652344,42.812705993652344,42.812705993652344,42.812705993652344,42.812705993652344,42.812705993652344,42.812705993652344,42.812705993652344,42.812705993652344,42.812705993652344,42.812705993652344,42.812705993652344,42.812705993652344,42.812705993652344,42.812705993652344,42.812705993652344,42.812705993652344,42.812705993652344,42.812705993652344,42.812705993652344,42.812705993652344,42.812705993652344,42.812705993652344,42.812705993652344,42.812705993652344,42.812705993652344,42.812705993652344,42.812705993652344,42.812705993652344,42.812705993652344,42.812705993652344,42.812705993652344,42.812705993652344,42.812705993652344,42.812705993652344,42.812705993652344,42.812705993652344,42.812705993652344,42.812705993652344,42.812705993652344,42.812705993652344,42.812705993652344,42.812705993652344,42.812705993652344,42.812705993652344,42.812705993652344,42.812705993652344,42.812705993652344,42.812705993652344,42.812705993652344,42.812705993652344,42.812705993652344,42.812705993652344,42.812705993652344,42.812705993652344,42.812705993652344,42.812705993652344,42.812705993652344,42.812705993652344,42.812705993652344,42.812705993652344,42.812705993652344,42.812705993652344,42.812705993652344,42.812705993652344,42.812705993652344,42.812705993652344,42.812705993652344,42.812705993652344,42.812705993652344,42.812705993652344,42.812705993652344,42.812705993652344,42.812705993652344,42.812705993652344,42.812705993652344,42.812705993652344,42.812705993652344,42.812705993652344,42.812705993652344,42.812705993652344,42.812705993652344,42.812705993652344,42.812705993652344,42.812705993652344,42.812705993652344,42.812705993652344,42.812705993652344,42.812705993652344,42.812705993652344,42.812705993652344,42.812705993652344,42.812705993652344,42.812705993652344,42.812705993652344,42.812705993652344,42.812705993652344,42.812705993652344,42.812705993652344],\"type\":\"scatter3d\"}],                        {\"template\":{\"data\":{\"histogram2dcontour\":[{\"type\":\"histogram2dcontour\",\"colorbar\":{\"outlinewidth\":0,\"ticks\":\"\"},\"colorscale\":[[0.0,\"#0d0887\"],[0.1111111111111111,\"#46039f\"],[0.2222222222222222,\"#7201a8\"],[0.3333333333333333,\"#9c179e\"],[0.4444444444444444,\"#bd3786\"],[0.5555555555555556,\"#d8576b\"],[0.6666666666666666,\"#ed7953\"],[0.7777777777777778,\"#fb9f3a\"],[0.8888888888888888,\"#fdca26\"],[1.0,\"#f0f921\"]]}],\"choropleth\":[{\"type\":\"choropleth\",\"colorbar\":{\"outlinewidth\":0,\"ticks\":\"\"}}],\"histogram2d\":[{\"type\":\"histogram2d\",\"colorbar\":{\"outlinewidth\":0,\"ticks\":\"\"},\"colorscale\":[[0.0,\"#0d0887\"],[0.1111111111111111,\"#46039f\"],[0.2222222222222222,\"#7201a8\"],[0.3333333333333333,\"#9c179e\"],[0.4444444444444444,\"#bd3786\"],[0.5555555555555556,\"#d8576b\"],[0.6666666666666666,\"#ed7953\"],[0.7777777777777778,\"#fb9f3a\"],[0.8888888888888888,\"#fdca26\"],[1.0,\"#f0f921\"]]}],\"heatmap\":[{\"type\":\"heatmap\",\"colorbar\":{\"outlinewidth\":0,\"ticks\":\"\"},\"colorscale\":[[0.0,\"#0d0887\"],[0.1111111111111111,\"#46039f\"],[0.2222222222222222,\"#7201a8\"],[0.3333333333333333,\"#9c179e\"],[0.4444444444444444,\"#bd3786\"],[0.5555555555555556,\"#d8576b\"],[0.6666666666666666,\"#ed7953\"],[0.7777777777777778,\"#fb9f3a\"],[0.8888888888888888,\"#fdca26\"],[1.0,\"#f0f921\"]]}],\"heatmapgl\":[{\"type\":\"heatmapgl\",\"colorbar\":{\"outlinewidth\":0,\"ticks\":\"\"},\"colorscale\":[[0.0,\"#0d0887\"],[0.1111111111111111,\"#46039f\"],[0.2222222222222222,\"#7201a8\"],[0.3333333333333333,\"#9c179e\"],[0.4444444444444444,\"#bd3786\"],[0.5555555555555556,\"#d8576b\"],[0.6666666666666666,\"#ed7953\"],[0.7777777777777778,\"#fb9f3a\"],[0.8888888888888888,\"#fdca26\"],[1.0,\"#f0f921\"]]}],\"contourcarpet\":[{\"type\":\"contourcarpet\",\"colorbar\":{\"outlinewidth\":0,\"ticks\":\"\"}}],\"contour\":[{\"type\":\"contour\",\"colorbar\":{\"outlinewidth\":0,\"ticks\":\"\"},\"colorscale\":[[0.0,\"#0d0887\"],[0.1111111111111111,\"#46039f\"],[0.2222222222222222,\"#7201a8\"],[0.3333333333333333,\"#9c179e\"],[0.4444444444444444,\"#bd3786\"],[0.5555555555555556,\"#d8576b\"],[0.6666666666666666,\"#ed7953\"],[0.7777777777777778,\"#fb9f3a\"],[0.8888888888888888,\"#fdca26\"],[1.0,\"#f0f921\"]]}],\"surface\":[{\"type\":\"surface\",\"colorbar\":{\"outlinewidth\":0,\"ticks\":\"\"},\"colorscale\":[[0.0,\"#0d0887\"],[0.1111111111111111,\"#46039f\"],[0.2222222222222222,\"#7201a8\"],[0.3333333333333333,\"#9c179e\"],[0.4444444444444444,\"#bd3786\"],[0.5555555555555556,\"#d8576b\"],[0.6666666666666666,\"#ed7953\"],[0.7777777777777778,\"#fb9f3a\"],[0.8888888888888888,\"#fdca26\"],[1.0,\"#f0f921\"]]}],\"mesh3d\":[{\"type\":\"mesh3d\",\"colorbar\":{\"outlinewidth\":0,\"ticks\":\"\"}}],\"scatter\":[{\"fillpattern\":{\"fillmode\":\"overlay\",\"size\":10,\"solidity\":0.2},\"type\":\"scatter\"}],\"parcoords\":[{\"type\":\"parcoords\",\"line\":{\"colorbar\":{\"outlinewidth\":0,\"ticks\":\"\"}}}],\"scatterpolargl\":[{\"type\":\"scatterpolargl\",\"marker\":{\"colorbar\":{\"outlinewidth\":0,\"ticks\":\"\"}}}],\"bar\":[{\"error_x\":{\"color\":\"#2a3f5f\"},\"error_y\":{\"color\":\"#2a3f5f\"},\"marker\":{\"line\":{\"color\":\"#E5ECF6\",\"width\":0.5},\"pattern\":{\"fillmode\":\"overlay\",\"size\":10,\"solidity\":0.2}},\"type\":\"bar\"}],\"scattergeo\":[{\"type\":\"scattergeo\",\"marker\":{\"colorbar\":{\"outlinewidth\":0,\"ticks\":\"\"}}}],\"scatterpolar\":[{\"type\":\"scatterpolar\",\"marker\":{\"colorbar\":{\"outlinewidth\":0,\"ticks\":\"\"}}}],\"histogram\":[{\"marker\":{\"pattern\":{\"fillmode\":\"overlay\",\"size\":10,\"solidity\":0.2}},\"type\":\"histogram\"}],\"scattergl\":[{\"type\":\"scattergl\",\"marker\":{\"colorbar\":{\"outlinewidth\":0,\"ticks\":\"\"}}}],\"scatter3d\":[{\"type\":\"scatter3d\",\"line\":{\"colorbar\":{\"outlinewidth\":0,\"ticks\":\"\"}},\"marker\":{\"colorbar\":{\"outlinewidth\":0,\"ticks\":\"\"}}}],\"scattermapbox\":[{\"type\":\"scattermapbox\",\"marker\":{\"colorbar\":{\"outlinewidth\":0,\"ticks\":\"\"}}}],\"scatterternary\":[{\"type\":\"scatterternary\",\"marker\":{\"colorbar\":{\"outlinewidth\":0,\"ticks\":\"\"}}}],\"scattercarpet\":[{\"type\":\"scattercarpet\",\"marker\":{\"colorbar\":{\"outlinewidth\":0,\"ticks\":\"\"}}}],\"carpet\":[{\"aaxis\":{\"endlinecolor\":\"#2a3f5f\",\"gridcolor\":\"white\",\"linecolor\":\"white\",\"minorgridcolor\":\"white\",\"startlinecolor\":\"#2a3f5f\"},\"baxis\":{\"endlinecolor\":\"#2a3f5f\",\"gridcolor\":\"white\",\"linecolor\":\"white\",\"minorgridcolor\":\"white\",\"startlinecolor\":\"#2a3f5f\"},\"type\":\"carpet\"}],\"table\":[{\"cells\":{\"fill\":{\"color\":\"#EBF0F8\"},\"line\":{\"color\":\"white\"}},\"header\":{\"fill\":{\"color\":\"#C8D4E3\"},\"line\":{\"color\":\"white\"}},\"type\":\"table\"}],\"barpolar\":[{\"marker\":{\"line\":{\"color\":\"#E5ECF6\",\"width\":0.5},\"pattern\":{\"fillmode\":\"overlay\",\"size\":10,\"solidity\":0.2}},\"type\":\"barpolar\"}],\"pie\":[{\"automargin\":true,\"type\":\"pie\"}]},\"layout\":{\"autotypenumbers\":\"strict\",\"colorway\":[\"#636efa\",\"#EF553B\",\"#00cc96\",\"#ab63fa\",\"#FFA15A\",\"#19d3f3\",\"#FF6692\",\"#B6E880\",\"#FF97FF\",\"#FECB52\"],\"font\":{\"color\":\"#2a3f5f\"},\"hovermode\":\"closest\",\"hoverlabel\":{\"align\":\"left\"},\"paper_bgcolor\":\"white\",\"plot_bgcolor\":\"#E5ECF6\",\"polar\":{\"bgcolor\":\"#E5ECF6\",\"angularaxis\":{\"gridcolor\":\"white\",\"linecolor\":\"white\",\"ticks\":\"\"},\"radialaxis\":{\"gridcolor\":\"white\",\"linecolor\":\"white\",\"ticks\":\"\"}},\"ternary\":{\"bgcolor\":\"#E5ECF6\",\"aaxis\":{\"gridcolor\":\"white\",\"linecolor\":\"white\",\"ticks\":\"\"},\"baxis\":{\"gridcolor\":\"white\",\"linecolor\":\"white\",\"ticks\":\"\"},\"caxis\":{\"gridcolor\":\"white\",\"linecolor\":\"white\",\"ticks\":\"\"}},\"coloraxis\":{\"colorbar\":{\"outlinewidth\":0,\"ticks\":\"\"}},\"colorscale\":{\"sequential\":[[0.0,\"#0d0887\"],[0.1111111111111111,\"#46039f\"],[0.2222222222222222,\"#7201a8\"],[0.3333333333333333,\"#9c179e\"],[0.4444444444444444,\"#bd3786\"],[0.5555555555555556,\"#d8576b\"],[0.6666666666666666,\"#ed7953\"],[0.7777777777777778,\"#fb9f3a\"],[0.8888888888888888,\"#fdca26\"],[1.0,\"#f0f921\"]],\"sequentialminus\":[[0.0,\"#0d0887\"],[0.1111111111111111,\"#46039f\"],[0.2222222222222222,\"#7201a8\"],[0.3333333333333333,\"#9c179e\"],[0.4444444444444444,\"#bd3786\"],[0.5555555555555556,\"#d8576b\"],[0.6666666666666666,\"#ed7953\"],[0.7777777777777778,\"#fb9f3a\"],[0.8888888888888888,\"#fdca26\"],[1.0,\"#f0f921\"]],\"diverging\":[[0,\"#8e0152\"],[0.1,\"#c51b7d\"],[0.2,\"#de77ae\"],[0.3,\"#f1b6da\"],[0.4,\"#fde0ef\"],[0.5,\"#f7f7f7\"],[0.6,\"#e6f5d0\"],[0.7,\"#b8e186\"],[0.8,\"#7fbc41\"],[0.9,\"#4d9221\"],[1,\"#276419\"]]},\"xaxis\":{\"gridcolor\":\"white\",\"linecolor\":\"white\",\"ticks\":\"\",\"title\":{\"standoff\":15},\"zerolinecolor\":\"white\",\"automargin\":true,\"zerolinewidth\":2},\"yaxis\":{\"gridcolor\":\"white\",\"linecolor\":\"white\",\"ticks\":\"\",\"title\":{\"standoff\":15},\"zerolinecolor\":\"white\",\"automargin\":true,\"zerolinewidth\":2},\"scene\":{\"xaxis\":{\"backgroundcolor\":\"#E5ECF6\",\"gridcolor\":\"white\",\"linecolor\":\"white\",\"showbackground\":true,\"ticks\":\"\",\"zerolinecolor\":\"white\",\"gridwidth\":2},\"yaxis\":{\"backgroundcolor\":\"#E5ECF6\",\"gridcolor\":\"white\",\"linecolor\":\"white\",\"showbackground\":true,\"ticks\":\"\",\"zerolinecolor\":\"white\",\"gridwidth\":2},\"zaxis\":{\"backgroundcolor\":\"#E5ECF6\",\"gridcolor\":\"white\",\"linecolor\":\"white\",\"showbackground\":true,\"ticks\":\"\",\"zerolinecolor\":\"white\",\"gridwidth\":2}},\"shapedefaults\":{\"line\":{\"color\":\"#2a3f5f\"}},\"annotationdefaults\":{\"arrowcolor\":\"#2a3f5f\",\"arrowhead\":0,\"arrowwidth\":1},\"geo\":{\"bgcolor\":\"white\",\"landcolor\":\"#E5ECF6\",\"subunitcolor\":\"white\",\"showland\":true,\"showlakes\":true,\"lakecolor\":\"white\"},\"title\":{\"x\":0.05},\"mapbox\":{\"style\":\"light\"}}},\"scene\":{\"domain\":{\"x\":[0.0,1.0],\"y\":[0.0,1.0]},\"xaxis\":{\"title\":{\"text\":\"X\"}},\"yaxis\":{\"title\":{\"text\":\"Y\"}},\"zaxis\":{\"title\":{\"text\":\"Z\"}}},\"legend\":{\"title\":{\"text\":\"ID\"},\"tracegroupgap\":0},\"margin\":{\"t\":60},\"height\":600,\"width\":1000},                        {\"responsive\": true}                    ).then(function(){\n",
       "                            \n",
       "var gd = document.getElementById('c9e4c086-a4d1-486d-922d-21a383cd96d1');\n",
       "var x = new MutationObserver(function (mutations, observer) {{\n",
       "        var display = window.getComputedStyle(gd).display;\n",
       "        if (!display || display === 'none') {{\n",
       "            console.log([gd, 'removed!']);\n",
       "            Plotly.purge(gd);\n",
       "            observer.disconnect();\n",
       "        }}\n",
       "}});\n",
       "\n",
       "// Listen for the removal of the full notebook cells\n",
       "var notebookContainer = gd.closest('#notebook-container');\n",
       "if (notebookContainer) {{\n",
       "    x.observe(notebookContainer, {childList: true});\n",
       "}}\n",
       "\n",
       "// Listen for the clearing of the current output cell\n",
       "var outputEl = gd.closest('.output');\n",
       "if (outputEl) {{\n",
       "    x.observe(outputEl, {childList: true});\n",
       "}}\n",
       "\n",
       "                        })                };                });            </script>        </div>"
      ]
     },
     "metadata": {},
     "output_type": "display_data"
    },
    {
     "name": "stdout",
     "output_type": "stream",
     "text": [
      "Ids: ['BENamAV8rkibLIBc8asHhQ', '_pI9DAGyIUGSpUuDn8rEHQ'], Start time: 9.895282, End time: 10.273262\n"
     ]
    },
    {
     "data": {
      "application/vnd.plotly.v1+json": {
       "config": {
        "plotlyServerURL": "https://plot.ly"
       },
       "data": [
        {
         "hovertemplate": "<b>%{hovertext}</b><br><br>ID=JaMilch: _pI9DAGyIUGSpUuDn8rEHQ<br>X=%{x}<br>Y=%{y}<br>Z=%{z}<extra></extra>",
         "hovertext": [
          9.917381286621094,
          9.940465927124023,
          9.96178913116455,
          9.983575820922852,
          10.005447387695312,
          10.02840518951416,
          10.050226211547852,
          10.073311805725098,
          10.094818115234375,
          10.117302894592285,
          10.139849662780762,
          10.161126136779785,
          10.184244155883789,
          10.206238746643066,
          10.22815990447998,
          10.250113487243652
         ],
         "legendgroup": "JaMilch: _pI9DAGyIUGSpUuDn8rEHQ",
         "line": {
          "color": "#636efa",
          "dash": "solid"
         },
         "marker": {
          "symbol": "circle"
         },
         "mode": "lines",
         "name": "JaMilch: _pI9DAGyIUGSpUuDn8rEHQ",
         "scene": "scene",
         "showlegend": true,
         "type": "scatter3d",
         "x": [
          227.697509765625,
          226.86460876464844,
          226.02230834960938,
          225.29473876953125,
          224.53506469726562,
          223.69491577148438,
          222.690673828125,
          221.62261962890625,
          220.41722106933594,
          219.28939819335938,
          218.17446899414062,
          217.17054748535156,
          216.33689880371094,
          215.52330017089844,
          214.77651977539062,
          213.98922729492188
         ],
         "y": [
          227.6420135498047,
          225.98435974121094,
          224.3950653076172,
          223.02679443359375,
          221.57977294921875,
          219.94554138183594,
          217.95578002929688,
          215.8177490234375,
          213.40045166015625,
          211.1509246826172,
          208.95277404785156,
          207.00668334960938,
          205.41966247558594,
          203.88941955566406,
          202.4803924560547,
          200.9684295654297
         ],
         "z": [
          88.80839538574219,
          90.86563873291016,
          92.87322998046875,
          94.54259490966797,
          96.05973815917969,
          97.32081604003906,
          98.19400787353516,
          98.44989013671875,
          97.94088745117188,
          96.72654724121094,
          94.71627807617188,
          92.0887451171875,
          89.2229232788086,
          85.80655670166016,
          82.37489318847656,
          78.74862670898438
         ]
        },
        {
         "hovertemplate": "<b>%{hovertext}</b><br><br>ID=GenesisRightHand: BENamAV8rkibLIBc8asHhQ<br>X=%{x}<br>Y=%{y}<br>Z=%{z}<extra></extra>",
         "hovertext": [
          9.917381286621094,
          9.940465927124023,
          9.96178913116455,
          9.983575820922852,
          10.005447387695312,
          10.02840518951416,
          10.050226211547852,
          10.073311805725098,
          10.094818115234375,
          10.117302894592285,
          10.139849662780762,
          10.161126136779785,
          10.184244155883789,
          10.206238746643066,
          10.22815990447998,
          10.250113487243652
         ],
         "legendgroup": "GenesisRightHand: BENamAV8rkibLIBc8asHhQ",
         "line": {
          "color": "#EF553B",
          "dash": "solid"
         },
         "marker": {
          "symbol": "circle"
         },
         "mode": "lines",
         "name": "GenesisRightHand: BENamAV8rkibLIBc8asHhQ",
         "scene": "scene",
         "showlegend": true,
         "type": "scatter3d",
         "x": [
          212.64707946777344,
          210.1275177001953,
          207.28627014160156,
          205.23277282714844,
          204.49795532226562,
          204.7058563232422,
          205.8412628173828,
          205.78065490722656,
          204.21905517578125,
          202.43289184570312,
          200.8673553466797,
          199.70718383789062,
          198.9447479248047,
          198.25042724609375,
          197.71234130859375,
          197.39224243164062
         ],
         "y": [
          209.99583435058594,
          204.36264038085938,
          199.5352783203125,
          196.9617919921875,
          194.95046997070312,
          193.39486694335938,
          191.77789306640625,
          188.59417724609375,
          185.7265167236328,
          183.88612365722656,
          182.8252716064453,
          181.85275268554688,
          181.07859802246094,
          181.30303955078125,
          182.82142639160156,
          186.04916381835938
         ],
         "z": [
          97.95381164550781,
          97.1799087524414,
          97.182861328125,
          98.07694244384766,
          98.53916931152344,
          98.10820770263672,
          96.99163818359375,
          96.80867004394531,
          98.2721939086914,
          99.52664184570312,
          99.78953552246094,
          100.02615356445312,
          100.17184448242188,
          101.4090576171875,
          102.2666244506836,
          102.9442138671875
         ]
        }
       ],
       "layout": {
        "height": 600,
        "legend": {
         "title": {
          "text": "ID"
         },
         "tracegroupgap": 0
        },
        "margin": {
         "t": 60
        },
        "scene": {
         "aspectmode": "auto",
         "aspectratio": {
          "x": 0.9341538642360965,
          "y": 1.4353080627050325,
          "z": 0.7458241827139519
         },
         "domain": {
          "x": [
           0,
           1
          ],
          "y": [
           0,
           1
          ]
         },
         "xaxis": {
          "title": {
           "text": "X"
          },
          "type": "linear"
         },
         "yaxis": {
          "title": {
           "text": "Y"
          },
          "type": "linear"
         },
         "zaxis": {
          "title": {
           "text": "Z"
          },
          "type": "linear"
         }
        },
        "template": {
         "data": {
          "bar": [
           {
            "error_x": {
             "color": "#2a3f5f"
            },
            "error_y": {
             "color": "#2a3f5f"
            },
            "marker": {
             "line": {
              "color": "#E5ECF6",
              "width": 0.5
             },
             "pattern": {
              "fillmode": "overlay",
              "size": 10,
              "solidity": 0.2
             }
            },
            "type": "bar"
           }
          ],
          "barpolar": [
           {
            "marker": {
             "line": {
              "color": "#E5ECF6",
              "width": 0.5
             },
             "pattern": {
              "fillmode": "overlay",
              "size": 10,
              "solidity": 0.2
             }
            },
            "type": "barpolar"
           }
          ],
          "carpet": [
           {
            "aaxis": {
             "endlinecolor": "#2a3f5f",
             "gridcolor": "white",
             "linecolor": "white",
             "minorgridcolor": "white",
             "startlinecolor": "#2a3f5f"
            },
            "baxis": {
             "endlinecolor": "#2a3f5f",
             "gridcolor": "white",
             "linecolor": "white",
             "minorgridcolor": "white",
             "startlinecolor": "#2a3f5f"
            },
            "type": "carpet"
           }
          ],
          "choropleth": [
           {
            "colorbar": {
             "outlinewidth": 0,
             "ticks": ""
            },
            "type": "choropleth"
           }
          ],
          "contour": [
           {
            "colorbar": {
             "outlinewidth": 0,
             "ticks": ""
            },
            "colorscale": [
             [
              0,
              "#0d0887"
             ],
             [
              0.1111111111111111,
              "#46039f"
             ],
             [
              0.2222222222222222,
              "#7201a8"
             ],
             [
              0.3333333333333333,
              "#9c179e"
             ],
             [
              0.4444444444444444,
              "#bd3786"
             ],
             [
              0.5555555555555556,
              "#d8576b"
             ],
             [
              0.6666666666666666,
              "#ed7953"
             ],
             [
              0.7777777777777778,
              "#fb9f3a"
             ],
             [
              0.8888888888888888,
              "#fdca26"
             ],
             [
              1,
              "#f0f921"
             ]
            ],
            "type": "contour"
           }
          ],
          "contourcarpet": [
           {
            "colorbar": {
             "outlinewidth": 0,
             "ticks": ""
            },
            "type": "contourcarpet"
           }
          ],
          "heatmap": [
           {
            "colorbar": {
             "outlinewidth": 0,
             "ticks": ""
            },
            "colorscale": [
             [
              0,
              "#0d0887"
             ],
             [
              0.1111111111111111,
              "#46039f"
             ],
             [
              0.2222222222222222,
              "#7201a8"
             ],
             [
              0.3333333333333333,
              "#9c179e"
             ],
             [
              0.4444444444444444,
              "#bd3786"
             ],
             [
              0.5555555555555556,
              "#d8576b"
             ],
             [
              0.6666666666666666,
              "#ed7953"
             ],
             [
              0.7777777777777778,
              "#fb9f3a"
             ],
             [
              0.8888888888888888,
              "#fdca26"
             ],
             [
              1,
              "#f0f921"
             ]
            ],
            "type": "heatmap"
           }
          ],
          "heatmapgl": [
           {
            "colorbar": {
             "outlinewidth": 0,
             "ticks": ""
            },
            "colorscale": [
             [
              0,
              "#0d0887"
             ],
             [
              0.1111111111111111,
              "#46039f"
             ],
             [
              0.2222222222222222,
              "#7201a8"
             ],
             [
              0.3333333333333333,
              "#9c179e"
             ],
             [
              0.4444444444444444,
              "#bd3786"
             ],
             [
              0.5555555555555556,
              "#d8576b"
             ],
             [
              0.6666666666666666,
              "#ed7953"
             ],
             [
              0.7777777777777778,
              "#fb9f3a"
             ],
             [
              0.8888888888888888,
              "#fdca26"
             ],
             [
              1,
              "#f0f921"
             ]
            ],
            "type": "heatmapgl"
           }
          ],
          "histogram": [
           {
            "marker": {
             "pattern": {
              "fillmode": "overlay",
              "size": 10,
              "solidity": 0.2
             }
            },
            "type": "histogram"
           }
          ],
          "histogram2d": [
           {
            "colorbar": {
             "outlinewidth": 0,
             "ticks": ""
            },
            "colorscale": [
             [
              0,
              "#0d0887"
             ],
             [
              0.1111111111111111,
              "#46039f"
             ],
             [
              0.2222222222222222,
              "#7201a8"
             ],
             [
              0.3333333333333333,
              "#9c179e"
             ],
             [
              0.4444444444444444,
              "#bd3786"
             ],
             [
              0.5555555555555556,
              "#d8576b"
             ],
             [
              0.6666666666666666,
              "#ed7953"
             ],
             [
              0.7777777777777778,
              "#fb9f3a"
             ],
             [
              0.8888888888888888,
              "#fdca26"
             ],
             [
              1,
              "#f0f921"
             ]
            ],
            "type": "histogram2d"
           }
          ],
          "histogram2dcontour": [
           {
            "colorbar": {
             "outlinewidth": 0,
             "ticks": ""
            },
            "colorscale": [
             [
              0,
              "#0d0887"
             ],
             [
              0.1111111111111111,
              "#46039f"
             ],
             [
              0.2222222222222222,
              "#7201a8"
             ],
             [
              0.3333333333333333,
              "#9c179e"
             ],
             [
              0.4444444444444444,
              "#bd3786"
             ],
             [
              0.5555555555555556,
              "#d8576b"
             ],
             [
              0.6666666666666666,
              "#ed7953"
             ],
             [
              0.7777777777777778,
              "#fb9f3a"
             ],
             [
              0.8888888888888888,
              "#fdca26"
             ],
             [
              1,
              "#f0f921"
             ]
            ],
            "type": "histogram2dcontour"
           }
          ],
          "mesh3d": [
           {
            "colorbar": {
             "outlinewidth": 0,
             "ticks": ""
            },
            "type": "mesh3d"
           }
          ],
          "parcoords": [
           {
            "line": {
             "colorbar": {
              "outlinewidth": 0,
              "ticks": ""
             }
            },
            "type": "parcoords"
           }
          ],
          "pie": [
           {
            "automargin": true,
            "type": "pie"
           }
          ],
          "scatter": [
           {
            "fillpattern": {
             "fillmode": "overlay",
             "size": 10,
             "solidity": 0.2
            },
            "type": "scatter"
           }
          ],
          "scatter3d": [
           {
            "line": {
             "colorbar": {
              "outlinewidth": 0,
              "ticks": ""
             }
            },
            "marker": {
             "colorbar": {
              "outlinewidth": 0,
              "ticks": ""
             }
            },
            "type": "scatter3d"
           }
          ],
          "scattercarpet": [
           {
            "marker": {
             "colorbar": {
              "outlinewidth": 0,
              "ticks": ""
             }
            },
            "type": "scattercarpet"
           }
          ],
          "scattergeo": [
           {
            "marker": {
             "colorbar": {
              "outlinewidth": 0,
              "ticks": ""
             }
            },
            "type": "scattergeo"
           }
          ],
          "scattergl": [
           {
            "marker": {
             "colorbar": {
              "outlinewidth": 0,
              "ticks": ""
             }
            },
            "type": "scattergl"
           }
          ],
          "scattermapbox": [
           {
            "marker": {
             "colorbar": {
              "outlinewidth": 0,
              "ticks": ""
             }
            },
            "type": "scattermapbox"
           }
          ],
          "scatterpolar": [
           {
            "marker": {
             "colorbar": {
              "outlinewidth": 0,
              "ticks": ""
             }
            },
            "type": "scatterpolar"
           }
          ],
          "scatterpolargl": [
           {
            "marker": {
             "colorbar": {
              "outlinewidth": 0,
              "ticks": ""
             }
            },
            "type": "scatterpolargl"
           }
          ],
          "scatterternary": [
           {
            "marker": {
             "colorbar": {
              "outlinewidth": 0,
              "ticks": ""
             }
            },
            "type": "scatterternary"
           }
          ],
          "surface": [
           {
            "colorbar": {
             "outlinewidth": 0,
             "ticks": ""
            },
            "colorscale": [
             [
              0,
              "#0d0887"
             ],
             [
              0.1111111111111111,
              "#46039f"
             ],
             [
              0.2222222222222222,
              "#7201a8"
             ],
             [
              0.3333333333333333,
              "#9c179e"
             ],
             [
              0.4444444444444444,
              "#bd3786"
             ],
             [
              0.5555555555555556,
              "#d8576b"
             ],
             [
              0.6666666666666666,
              "#ed7953"
             ],
             [
              0.7777777777777778,
              "#fb9f3a"
             ],
             [
              0.8888888888888888,
              "#fdca26"
             ],
             [
              1,
              "#f0f921"
             ]
            ],
            "type": "surface"
           }
          ],
          "table": [
           {
            "cells": {
             "fill": {
              "color": "#EBF0F8"
             },
             "line": {
              "color": "white"
             }
            },
            "header": {
             "fill": {
              "color": "#C8D4E3"
             },
             "line": {
              "color": "white"
             }
            },
            "type": "table"
           }
          ]
         },
         "layout": {
          "annotationdefaults": {
           "arrowcolor": "#2a3f5f",
           "arrowhead": 0,
           "arrowwidth": 1
          },
          "autotypenumbers": "strict",
          "coloraxis": {
           "colorbar": {
            "outlinewidth": 0,
            "ticks": ""
           }
          },
          "colorscale": {
           "diverging": [
            [
             0,
             "#8e0152"
            ],
            [
             0.1,
             "#c51b7d"
            ],
            [
             0.2,
             "#de77ae"
            ],
            [
             0.3,
             "#f1b6da"
            ],
            [
             0.4,
             "#fde0ef"
            ],
            [
             0.5,
             "#f7f7f7"
            ],
            [
             0.6,
             "#e6f5d0"
            ],
            [
             0.7,
             "#b8e186"
            ],
            [
             0.8,
             "#7fbc41"
            ],
            [
             0.9,
             "#4d9221"
            ],
            [
             1,
             "#276419"
            ]
           ],
           "sequential": [
            [
             0,
             "#0d0887"
            ],
            [
             0.1111111111111111,
             "#46039f"
            ],
            [
             0.2222222222222222,
             "#7201a8"
            ],
            [
             0.3333333333333333,
             "#9c179e"
            ],
            [
             0.4444444444444444,
             "#bd3786"
            ],
            [
             0.5555555555555556,
             "#d8576b"
            ],
            [
             0.6666666666666666,
             "#ed7953"
            ],
            [
             0.7777777777777778,
             "#fb9f3a"
            ],
            [
             0.8888888888888888,
             "#fdca26"
            ],
            [
             1,
             "#f0f921"
            ]
           ],
           "sequentialminus": [
            [
             0,
             "#0d0887"
            ],
            [
             0.1111111111111111,
             "#46039f"
            ],
            [
             0.2222222222222222,
             "#7201a8"
            ],
            [
             0.3333333333333333,
             "#9c179e"
            ],
            [
             0.4444444444444444,
             "#bd3786"
            ],
            [
             0.5555555555555556,
             "#d8576b"
            ],
            [
             0.6666666666666666,
             "#ed7953"
            ],
            [
             0.7777777777777778,
             "#fb9f3a"
            ],
            [
             0.8888888888888888,
             "#fdca26"
            ],
            [
             1,
             "#f0f921"
            ]
           ]
          },
          "colorway": [
           "#636efa",
           "#EF553B",
           "#00cc96",
           "#ab63fa",
           "#FFA15A",
           "#19d3f3",
           "#FF6692",
           "#B6E880",
           "#FF97FF",
           "#FECB52"
          ],
          "font": {
           "color": "#2a3f5f"
          },
          "geo": {
           "bgcolor": "white",
           "lakecolor": "white",
           "landcolor": "#E5ECF6",
           "showlakes": true,
           "showland": true,
           "subunitcolor": "white"
          },
          "hoverlabel": {
           "align": "left"
          },
          "hovermode": "closest",
          "mapbox": {
           "style": "light"
          },
          "paper_bgcolor": "white",
          "plot_bgcolor": "#E5ECF6",
          "polar": {
           "angularaxis": {
            "gridcolor": "white",
            "linecolor": "white",
            "ticks": ""
           },
           "bgcolor": "#E5ECF6",
           "radialaxis": {
            "gridcolor": "white",
            "linecolor": "white",
            "ticks": ""
           }
          },
          "scene": {
           "xaxis": {
            "backgroundcolor": "#E5ECF6",
            "gridcolor": "white",
            "gridwidth": 2,
            "linecolor": "white",
            "showbackground": true,
            "ticks": "",
            "zerolinecolor": "white"
           },
           "yaxis": {
            "backgroundcolor": "#E5ECF6",
            "gridcolor": "white",
            "gridwidth": 2,
            "linecolor": "white",
            "showbackground": true,
            "ticks": "",
            "zerolinecolor": "white"
           },
           "zaxis": {
            "backgroundcolor": "#E5ECF6",
            "gridcolor": "white",
            "gridwidth": 2,
            "linecolor": "white",
            "showbackground": true,
            "ticks": "",
            "zerolinecolor": "white"
           }
          },
          "shapedefaults": {
           "line": {
            "color": "#2a3f5f"
           }
          },
          "ternary": {
           "aaxis": {
            "gridcolor": "white",
            "linecolor": "white",
            "ticks": ""
           },
           "baxis": {
            "gridcolor": "white",
            "linecolor": "white",
            "ticks": ""
           },
           "bgcolor": "#E5ECF6",
           "caxis": {
            "gridcolor": "white",
            "linecolor": "white",
            "ticks": ""
           }
          },
          "title": {
           "x": 0.05
          },
          "xaxis": {
           "automargin": true,
           "gridcolor": "white",
           "linecolor": "white",
           "ticks": "",
           "title": {
            "standoff": 15
           },
           "zerolinecolor": "white",
           "zerolinewidth": 2
          },
          "yaxis": {
           "automargin": true,
           "gridcolor": "white",
           "linecolor": "white",
           "ticks": "",
           "title": {
            "standoff": 15
           },
           "zerolinecolor": "white",
           "zerolinewidth": 2
          }
         }
        },
        "width": 1000
       }
      },
      "text/html": [
       "<div>                            <div id=\"5ef7abc9-096f-4e1e-8a3e-0612c51840cc\" class=\"plotly-graph-div\" style=\"height:600px; width:1000px;\"></div>            <script type=\"text/javascript\">                require([\"plotly\"], function(Plotly) {                    window.PLOTLYENV=window.PLOTLYENV || {};                                    if (document.getElementById(\"5ef7abc9-096f-4e1e-8a3e-0612c51840cc\")) {                    Plotly.newPlot(                        \"5ef7abc9-096f-4e1e-8a3e-0612c51840cc\",                        [{\"hovertemplate\":\"<b>%{hovertext}</b><br><br>ID=JaMilch: _pI9DAGyIUGSpUuDn8rEHQ<br>X=%{x}<br>Y=%{y}<br>Z=%{z}<extra></extra>\",\"hovertext\":[9.917381286621094,9.940465927124023,9.96178913116455,9.983575820922852,10.005447387695312,10.02840518951416,10.050226211547852,10.073311805725098,10.094818115234375,10.117302894592285,10.139849662780762,10.161126136779785,10.184244155883789,10.206238746643066,10.22815990447998,10.250113487243652],\"legendgroup\":\"JaMilch: _pI9DAGyIUGSpUuDn8rEHQ\",\"line\":{\"color\":\"#636efa\",\"dash\":\"solid\"},\"marker\":{\"symbol\":\"circle\"},\"mode\":\"lines\",\"name\":\"JaMilch: _pI9DAGyIUGSpUuDn8rEHQ\",\"scene\":\"scene\",\"showlegend\":true,\"x\":[227.697509765625,226.86460876464844,226.02230834960938,225.29473876953125,224.53506469726562,223.69491577148438,222.690673828125,221.62261962890625,220.41722106933594,219.28939819335938,218.17446899414062,217.17054748535156,216.33689880371094,215.52330017089844,214.77651977539062,213.98922729492188],\"y\":[227.6420135498047,225.98435974121094,224.3950653076172,223.02679443359375,221.57977294921875,219.94554138183594,217.95578002929688,215.8177490234375,213.40045166015625,211.1509246826172,208.95277404785156,207.00668334960938,205.41966247558594,203.88941955566406,202.4803924560547,200.9684295654297],\"z\":[88.80839538574219,90.86563873291016,92.87322998046875,94.54259490966797,96.05973815917969,97.32081604003906,98.19400787353516,98.44989013671875,97.94088745117188,96.72654724121094,94.71627807617188,92.0887451171875,89.2229232788086,85.80655670166016,82.37489318847656,78.74862670898438],\"type\":\"scatter3d\"},{\"hovertemplate\":\"<b>%{hovertext}</b><br><br>ID=GenesisRightHand: BENamAV8rkibLIBc8asHhQ<br>X=%{x}<br>Y=%{y}<br>Z=%{z}<extra></extra>\",\"hovertext\":[9.917381286621094,9.940465927124023,9.96178913116455,9.983575820922852,10.005447387695312,10.02840518951416,10.050226211547852,10.073311805725098,10.094818115234375,10.117302894592285,10.139849662780762,10.161126136779785,10.184244155883789,10.206238746643066,10.22815990447998,10.250113487243652],\"legendgroup\":\"GenesisRightHand: BENamAV8rkibLIBc8asHhQ\",\"line\":{\"color\":\"#EF553B\",\"dash\":\"solid\"},\"marker\":{\"symbol\":\"circle\"},\"mode\":\"lines\",\"name\":\"GenesisRightHand: BENamAV8rkibLIBc8asHhQ\",\"scene\":\"scene\",\"showlegend\":true,\"x\":[212.64707946777344,210.1275177001953,207.28627014160156,205.23277282714844,204.49795532226562,204.7058563232422,205.8412628173828,205.78065490722656,204.21905517578125,202.43289184570312,200.8673553466797,199.70718383789062,198.9447479248047,198.25042724609375,197.71234130859375,197.39224243164062],\"y\":[209.99583435058594,204.36264038085938,199.5352783203125,196.9617919921875,194.95046997070312,193.39486694335938,191.77789306640625,188.59417724609375,185.7265167236328,183.88612365722656,182.8252716064453,181.85275268554688,181.07859802246094,181.30303955078125,182.82142639160156,186.04916381835938],\"z\":[97.95381164550781,97.1799087524414,97.182861328125,98.07694244384766,98.53916931152344,98.10820770263672,96.99163818359375,96.80867004394531,98.2721939086914,99.52664184570312,99.78953552246094,100.02615356445312,100.17184448242188,101.4090576171875,102.2666244506836,102.9442138671875],\"type\":\"scatter3d\"}],                        {\"template\":{\"data\":{\"histogram2dcontour\":[{\"type\":\"histogram2dcontour\",\"colorbar\":{\"outlinewidth\":0,\"ticks\":\"\"},\"colorscale\":[[0.0,\"#0d0887\"],[0.1111111111111111,\"#46039f\"],[0.2222222222222222,\"#7201a8\"],[0.3333333333333333,\"#9c179e\"],[0.4444444444444444,\"#bd3786\"],[0.5555555555555556,\"#d8576b\"],[0.6666666666666666,\"#ed7953\"],[0.7777777777777778,\"#fb9f3a\"],[0.8888888888888888,\"#fdca26\"],[1.0,\"#f0f921\"]]}],\"choropleth\":[{\"type\":\"choropleth\",\"colorbar\":{\"outlinewidth\":0,\"ticks\":\"\"}}],\"histogram2d\":[{\"type\":\"histogram2d\",\"colorbar\":{\"outlinewidth\":0,\"ticks\":\"\"},\"colorscale\":[[0.0,\"#0d0887\"],[0.1111111111111111,\"#46039f\"],[0.2222222222222222,\"#7201a8\"],[0.3333333333333333,\"#9c179e\"],[0.4444444444444444,\"#bd3786\"],[0.5555555555555556,\"#d8576b\"],[0.6666666666666666,\"#ed7953\"],[0.7777777777777778,\"#fb9f3a\"],[0.8888888888888888,\"#fdca26\"],[1.0,\"#f0f921\"]]}],\"heatmap\":[{\"type\":\"heatmap\",\"colorbar\":{\"outlinewidth\":0,\"ticks\":\"\"},\"colorscale\":[[0.0,\"#0d0887\"],[0.1111111111111111,\"#46039f\"],[0.2222222222222222,\"#7201a8\"],[0.3333333333333333,\"#9c179e\"],[0.4444444444444444,\"#bd3786\"],[0.5555555555555556,\"#d8576b\"],[0.6666666666666666,\"#ed7953\"],[0.7777777777777778,\"#fb9f3a\"],[0.8888888888888888,\"#fdca26\"],[1.0,\"#f0f921\"]]}],\"heatmapgl\":[{\"type\":\"heatmapgl\",\"colorbar\":{\"outlinewidth\":0,\"ticks\":\"\"},\"colorscale\":[[0.0,\"#0d0887\"],[0.1111111111111111,\"#46039f\"],[0.2222222222222222,\"#7201a8\"],[0.3333333333333333,\"#9c179e\"],[0.4444444444444444,\"#bd3786\"],[0.5555555555555556,\"#d8576b\"],[0.6666666666666666,\"#ed7953\"],[0.7777777777777778,\"#fb9f3a\"],[0.8888888888888888,\"#fdca26\"],[1.0,\"#f0f921\"]]}],\"contourcarpet\":[{\"type\":\"contourcarpet\",\"colorbar\":{\"outlinewidth\":0,\"ticks\":\"\"}}],\"contour\":[{\"type\":\"contour\",\"colorbar\":{\"outlinewidth\":0,\"ticks\":\"\"},\"colorscale\":[[0.0,\"#0d0887\"],[0.1111111111111111,\"#46039f\"],[0.2222222222222222,\"#7201a8\"],[0.3333333333333333,\"#9c179e\"],[0.4444444444444444,\"#bd3786\"],[0.5555555555555556,\"#d8576b\"],[0.6666666666666666,\"#ed7953\"],[0.7777777777777778,\"#fb9f3a\"],[0.8888888888888888,\"#fdca26\"],[1.0,\"#f0f921\"]]}],\"surface\":[{\"type\":\"surface\",\"colorbar\":{\"outlinewidth\":0,\"ticks\":\"\"},\"colorscale\":[[0.0,\"#0d0887\"],[0.1111111111111111,\"#46039f\"],[0.2222222222222222,\"#7201a8\"],[0.3333333333333333,\"#9c179e\"],[0.4444444444444444,\"#bd3786\"],[0.5555555555555556,\"#d8576b\"],[0.6666666666666666,\"#ed7953\"],[0.7777777777777778,\"#fb9f3a\"],[0.8888888888888888,\"#fdca26\"],[1.0,\"#f0f921\"]]}],\"mesh3d\":[{\"type\":\"mesh3d\",\"colorbar\":{\"outlinewidth\":0,\"ticks\":\"\"}}],\"scatter\":[{\"fillpattern\":{\"fillmode\":\"overlay\",\"size\":10,\"solidity\":0.2},\"type\":\"scatter\"}],\"parcoords\":[{\"type\":\"parcoords\",\"line\":{\"colorbar\":{\"outlinewidth\":0,\"ticks\":\"\"}}}],\"scatterpolargl\":[{\"type\":\"scatterpolargl\",\"marker\":{\"colorbar\":{\"outlinewidth\":0,\"ticks\":\"\"}}}],\"bar\":[{\"error_x\":{\"color\":\"#2a3f5f\"},\"error_y\":{\"color\":\"#2a3f5f\"},\"marker\":{\"line\":{\"color\":\"#E5ECF6\",\"width\":0.5},\"pattern\":{\"fillmode\":\"overlay\",\"size\":10,\"solidity\":0.2}},\"type\":\"bar\"}],\"scattergeo\":[{\"type\":\"scattergeo\",\"marker\":{\"colorbar\":{\"outlinewidth\":0,\"ticks\":\"\"}}}],\"scatterpolar\":[{\"type\":\"scatterpolar\",\"marker\":{\"colorbar\":{\"outlinewidth\":0,\"ticks\":\"\"}}}],\"histogram\":[{\"marker\":{\"pattern\":{\"fillmode\":\"overlay\",\"size\":10,\"solidity\":0.2}},\"type\":\"histogram\"}],\"scattergl\":[{\"type\":\"scattergl\",\"marker\":{\"colorbar\":{\"outlinewidth\":0,\"ticks\":\"\"}}}],\"scatter3d\":[{\"type\":\"scatter3d\",\"line\":{\"colorbar\":{\"outlinewidth\":0,\"ticks\":\"\"}},\"marker\":{\"colorbar\":{\"outlinewidth\":0,\"ticks\":\"\"}}}],\"scattermapbox\":[{\"type\":\"scattermapbox\",\"marker\":{\"colorbar\":{\"outlinewidth\":0,\"ticks\":\"\"}}}],\"scatterternary\":[{\"type\":\"scatterternary\",\"marker\":{\"colorbar\":{\"outlinewidth\":0,\"ticks\":\"\"}}}],\"scattercarpet\":[{\"type\":\"scattercarpet\",\"marker\":{\"colorbar\":{\"outlinewidth\":0,\"ticks\":\"\"}}}],\"carpet\":[{\"aaxis\":{\"endlinecolor\":\"#2a3f5f\",\"gridcolor\":\"white\",\"linecolor\":\"white\",\"minorgridcolor\":\"white\",\"startlinecolor\":\"#2a3f5f\"},\"baxis\":{\"endlinecolor\":\"#2a3f5f\",\"gridcolor\":\"white\",\"linecolor\":\"white\",\"minorgridcolor\":\"white\",\"startlinecolor\":\"#2a3f5f\"},\"type\":\"carpet\"}],\"table\":[{\"cells\":{\"fill\":{\"color\":\"#EBF0F8\"},\"line\":{\"color\":\"white\"}},\"header\":{\"fill\":{\"color\":\"#C8D4E3\"},\"line\":{\"color\":\"white\"}},\"type\":\"table\"}],\"barpolar\":[{\"marker\":{\"line\":{\"color\":\"#E5ECF6\",\"width\":0.5},\"pattern\":{\"fillmode\":\"overlay\",\"size\":10,\"solidity\":0.2}},\"type\":\"barpolar\"}],\"pie\":[{\"automargin\":true,\"type\":\"pie\"}]},\"layout\":{\"autotypenumbers\":\"strict\",\"colorway\":[\"#636efa\",\"#EF553B\",\"#00cc96\",\"#ab63fa\",\"#FFA15A\",\"#19d3f3\",\"#FF6692\",\"#B6E880\",\"#FF97FF\",\"#FECB52\"],\"font\":{\"color\":\"#2a3f5f\"},\"hovermode\":\"closest\",\"hoverlabel\":{\"align\":\"left\"},\"paper_bgcolor\":\"white\",\"plot_bgcolor\":\"#E5ECF6\",\"polar\":{\"bgcolor\":\"#E5ECF6\",\"angularaxis\":{\"gridcolor\":\"white\",\"linecolor\":\"white\",\"ticks\":\"\"},\"radialaxis\":{\"gridcolor\":\"white\",\"linecolor\":\"white\",\"ticks\":\"\"}},\"ternary\":{\"bgcolor\":\"#E5ECF6\",\"aaxis\":{\"gridcolor\":\"white\",\"linecolor\":\"white\",\"ticks\":\"\"},\"baxis\":{\"gridcolor\":\"white\",\"linecolor\":\"white\",\"ticks\":\"\"},\"caxis\":{\"gridcolor\":\"white\",\"linecolor\":\"white\",\"ticks\":\"\"}},\"coloraxis\":{\"colorbar\":{\"outlinewidth\":0,\"ticks\":\"\"}},\"colorscale\":{\"sequential\":[[0.0,\"#0d0887\"],[0.1111111111111111,\"#46039f\"],[0.2222222222222222,\"#7201a8\"],[0.3333333333333333,\"#9c179e\"],[0.4444444444444444,\"#bd3786\"],[0.5555555555555556,\"#d8576b\"],[0.6666666666666666,\"#ed7953\"],[0.7777777777777778,\"#fb9f3a\"],[0.8888888888888888,\"#fdca26\"],[1.0,\"#f0f921\"]],\"sequentialminus\":[[0.0,\"#0d0887\"],[0.1111111111111111,\"#46039f\"],[0.2222222222222222,\"#7201a8\"],[0.3333333333333333,\"#9c179e\"],[0.4444444444444444,\"#bd3786\"],[0.5555555555555556,\"#d8576b\"],[0.6666666666666666,\"#ed7953\"],[0.7777777777777778,\"#fb9f3a\"],[0.8888888888888888,\"#fdca26\"],[1.0,\"#f0f921\"]],\"diverging\":[[0,\"#8e0152\"],[0.1,\"#c51b7d\"],[0.2,\"#de77ae\"],[0.3,\"#f1b6da\"],[0.4,\"#fde0ef\"],[0.5,\"#f7f7f7\"],[0.6,\"#e6f5d0\"],[0.7,\"#b8e186\"],[0.8,\"#7fbc41\"],[0.9,\"#4d9221\"],[1,\"#276419\"]]},\"xaxis\":{\"gridcolor\":\"white\",\"linecolor\":\"white\",\"ticks\":\"\",\"title\":{\"standoff\":15},\"zerolinecolor\":\"white\",\"automargin\":true,\"zerolinewidth\":2},\"yaxis\":{\"gridcolor\":\"white\",\"linecolor\":\"white\",\"ticks\":\"\",\"title\":{\"standoff\":15},\"zerolinecolor\":\"white\",\"automargin\":true,\"zerolinewidth\":2},\"scene\":{\"xaxis\":{\"backgroundcolor\":\"#E5ECF6\",\"gridcolor\":\"white\",\"linecolor\":\"white\",\"showbackground\":true,\"ticks\":\"\",\"zerolinecolor\":\"white\",\"gridwidth\":2},\"yaxis\":{\"backgroundcolor\":\"#E5ECF6\",\"gridcolor\":\"white\",\"linecolor\":\"white\",\"showbackground\":true,\"ticks\":\"\",\"zerolinecolor\":\"white\",\"gridwidth\":2},\"zaxis\":{\"backgroundcolor\":\"#E5ECF6\",\"gridcolor\":\"white\",\"linecolor\":\"white\",\"showbackground\":true,\"ticks\":\"\",\"zerolinecolor\":\"white\",\"gridwidth\":2}},\"shapedefaults\":{\"line\":{\"color\":\"#2a3f5f\"}},\"annotationdefaults\":{\"arrowcolor\":\"#2a3f5f\",\"arrowhead\":0,\"arrowwidth\":1},\"geo\":{\"bgcolor\":\"white\",\"landcolor\":\"#E5ECF6\",\"subunitcolor\":\"white\",\"showland\":true,\"showlakes\":true,\"lakecolor\":\"white\"},\"title\":{\"x\":0.05},\"mapbox\":{\"style\":\"light\"}}},\"scene\":{\"domain\":{\"x\":[0.0,1.0],\"y\":[0.0,1.0]},\"xaxis\":{\"title\":{\"text\":\"X\"}},\"yaxis\":{\"title\":{\"text\":\"Y\"}},\"zaxis\":{\"title\":{\"text\":\"Z\"}}},\"legend\":{\"title\":{\"text\":\"ID\"},\"tracegroupgap\":0},\"margin\":{\"t\":60},\"height\":600,\"width\":1000},                        {\"responsive\": true}                    ).then(function(){\n",
       "                            \n",
       "var gd = document.getElementById('5ef7abc9-096f-4e1e-8a3e-0612c51840cc');\n",
       "var x = new MutationObserver(function (mutations, observer) {{\n",
       "        var display = window.getComputedStyle(gd).display;\n",
       "        if (!display || display === 'none') {{\n",
       "            console.log([gd, 'removed!']);\n",
       "            Plotly.purge(gd);\n",
       "            observer.disconnect();\n",
       "        }}\n",
       "}});\n",
       "\n",
       "// Listen for the removal of the full notebook cells\n",
       "var notebookContainer = gd.closest('#notebook-container');\n",
       "if (notebookContainer) {{\n",
       "    x.observe(notebookContainer, {childList: true});\n",
       "}}\n",
       "\n",
       "// Listen for the clearing of the current output cell\n",
       "var outputEl = gd.closest('.output');\n",
       "if (outputEl) {{\n",
       "    x.observe(outputEl, {childList: true});\n",
       "}}\n",
       "\n",
       "                        })                };                });            </script>        </div>"
      ]
     },
     "metadata": {},
     "output_type": "display_data"
    },
    {
     "name": "stdout",
     "output_type": "stream",
     "text": [
      "Ids: ['_pI9DAGyIUGSpUuDn8rEHQ', '9jrJzTZvSkqUjwIvPEavYA'], Start time: 10.472583, End time: 13.094099\n"
     ]
    },
    {
     "data": {
      "application/vnd.plotly.v1+json": {
       "config": {
        "plotlyServerURL": "https://plot.ly"
       },
       "data": [
        {
         "hovertemplate": "<b>%{hovertext}</b><br><br>ID=IAILabFloor: 9jrJzTZvSkqUjwIvPEavYA<br>X=%{x}<br>Y=%{y}<br>Z=%{z}<extra></extra>",
         "hovertext": [
          10.494370460510254,
          10.517280578613281,
          10.539387702941895,
          10.561199188232422,
          10.584084510803223,
          10.60628890991211,
          10.627903938293457,
          10.649981498718262,
          10.672840118408203,
          10.694761276245117,
          10.716547012329102,
          10.73884391784668,
          10.761651992797852,
          10.782955169677734,
          10.806230545043945,
          10.82817554473877,
          10.85002326965332,
          10.872964859008789,
          10.89484691619873,
          10.917051315307617,
          10.939299583435059,
          10.961816787719727,
          10.983302116394043,
          11.006412506103516,
          11.028586387634277,
          11.05056095123291,
          11.073382377624512,
          11.095088005065918,
          11.117218017578125,
          11.13917064666748,
          11.161911010742188,
          11.183330535888672,
          11.206302642822266,
          11.228330612182617,
          11.250240325927734,
          11.272128105163574,
          11.294915199279785,
          11.316758155822754,
          11.339262962341309,
          11.361969947814941,
          11.383944511413574,
          11.405776977539062,
          11.427753448486328,
          11.45051383972168,
          11.472752571105957,
          11.49458122253418,
          11.516858100891113,
          11.540064811706543,
          11.562079429626465,
          11.583449363708496,
          11.606216430664062,
          11.628467559814453,
          11.650782585144043,
          11.671988487243652,
          11.694681167602539,
          11.716659545898438,
          11.738702774047852,
          11.759147644042969,
          11.781205177307129,
          11.804388999938965,
          11.826157569885254,
          11.848121643066406,
          11.870094299316406,
          11.892892837524414,
          11.91444206237793,
          11.936944007873535,
          11.959982872009277,
          11.981698989868164,
          12.003706932067871,
          12.02563190460205,
          12.048543930053711,
          12.070333480834961,
          12.09247875213623,
          12.114425659179688,
          12.13728141784668,
          12.15943717956543,
          12.181204795837402,
          12.204475402832031,
          12.226088523864746,
          12.24821949005127,
          12.270332336425781,
          12.29287338256836,
          12.31503963470459,
          12.337198257446289,
          12.359825134277344,
          12.381914138793945,
          12.403839111328125,
          12.425689697265625,
          12.448731422424316,
          12.470693588256836,
          12.493085861206055,
          12.515203475952148,
          12.537125587463379,
          12.559974670410156,
          12.5819730758667,
          12.604264259338379,
          12.626276016235352,
          12.648159980773926,
          12.67025089263916,
          12.692855834960938,
          12.714852333068848,
          12.737947463989258,
          12.759719848632812,
          12.781245231628418,
          12.804508209228516,
          12.826868057250977,
          12.84882640838623,
          12.871498107910156,
          12.893357276916504,
          12.91531753540039,
          12.937531471252441,
          12.96057415008545,
          12.98263168334961,
          13.005290985107422,
          13.028182029724121,
          13.050135612487793,
          13.071192741394043
         ],
         "legendgroup": "IAILabFloor: 9jrJzTZvSkqUjwIvPEavYA",
         "line": {
          "color": "#636efa",
          "dash": "solid"
         },
         "marker": {
          "symbol": "circle"
         },
         "mode": "lines",
         "name": "IAILabFloor: 9jrJzTZvSkqUjwIvPEavYA",
         "scene": "scene",
         "showlegend": true,
         "type": "scatter3d",
         "x": [
          454.7149353027344,
          454.7149353027344,
          454.7149353027344,
          454.7149353027344,
          454.7149353027344,
          454.7149353027344,
          454.7149353027344,
          454.7149353027344,
          454.7149353027344,
          454.7149353027344,
          454.7149353027344,
          454.7149353027344,
          454.7149353027344,
          454.7149353027344,
          454.7149353027344,
          454.7149353027344,
          454.7149353027344,
          454.7149353027344,
          454.7149353027344,
          454.7149353027344,
          454.7149353027344,
          454.7149353027344,
          454.7149353027344,
          454.7149353027344,
          454.7149353027344,
          454.7149353027344,
          454.7149353027344,
          454.7149353027344,
          454.7149353027344,
          454.7149353027344,
          454.7149353027344,
          454.7149353027344,
          454.7149353027344,
          454.7149353027344,
          454.7149353027344,
          454.7149353027344,
          454.7149353027344,
          454.7149353027344,
          454.7149353027344,
          454.7149353027344,
          454.7149353027344,
          454.7149353027344,
          454.7149353027344,
          454.7149353027344,
          454.7149353027344,
          454.7149353027344,
          454.7149353027344,
          454.7149353027344,
          454.7149353027344,
          454.7149353027344,
          454.7149353027344,
          454.7149353027344,
          454.7149353027344,
          454.7149353027344,
          454.7149353027344,
          454.7149353027344,
          454.7149353027344,
          454.7149353027344,
          454.7149353027344,
          454.7149353027344,
          454.7149353027344,
          454.7149353027344,
          454.7149353027344,
          454.7149353027344,
          454.7149353027344,
          454.7149353027344,
          454.7149353027344,
          454.7149353027344,
          454.7149353027344,
          454.7149353027344,
          454.7149353027344,
          454.7149353027344,
          454.7149353027344,
          454.7149353027344,
          454.7149353027344,
          454.7149353027344,
          454.7149353027344,
          454.7149353027344,
          454.7149353027344,
          454.7149353027344,
          454.7149353027344,
          454.7149353027344,
          454.7149353027344,
          454.7149353027344,
          454.7149353027344,
          454.7149353027344,
          454.7149353027344,
          454.7149353027344,
          454.7149353027344,
          454.7149353027344,
          454.7149353027344,
          454.7149353027344,
          454.7149353027344,
          454.7149353027344,
          454.7149353027344,
          454.7149353027344,
          454.7149353027344,
          454.7149353027344,
          454.7149353027344,
          454.7149353027344,
          454.7149353027344,
          454.7149353027344,
          454.7149353027344,
          454.7149353027344,
          454.7149353027344,
          454.7149353027344,
          454.7149353027344,
          454.7149353027344,
          454.7149353027344,
          454.7149353027344,
          454.7149353027344,
          454.7149353027344,
          454.7149353027344,
          454.7149353027344,
          454.7149353027344,
          454.7149353027344,
          454.7149353027344
         ],
         "y": [
          -186.34361267089844,
          -186.34361267089844,
          -186.34361267089844,
          -186.34361267089844,
          -186.34361267089844,
          -186.34361267089844,
          -186.34361267089844,
          -186.34361267089844,
          -186.34361267089844,
          -186.34361267089844,
          -186.34361267089844,
          -186.34361267089844,
          -186.34361267089844,
          -186.34361267089844,
          -186.34361267089844,
          -186.34361267089844,
          -186.34361267089844,
          -186.34361267089844,
          -186.34361267089844,
          -186.34361267089844,
          -186.34361267089844,
          -186.34361267089844,
          -186.34361267089844,
          -186.34361267089844,
          -186.34361267089844,
          -186.34361267089844,
          -186.34361267089844,
          -186.34361267089844,
          -186.34361267089844,
          -186.34361267089844,
          -186.34361267089844,
          -186.34361267089844,
          -186.34361267089844,
          -186.34361267089844,
          -186.34361267089844,
          -186.34361267089844,
          -186.34361267089844,
          -186.34361267089844,
          -186.34361267089844,
          -186.34361267089844,
          -186.34361267089844,
          -186.34361267089844,
          -186.34361267089844,
          -186.34361267089844,
          -186.34361267089844,
          -186.34361267089844,
          -186.34361267089844,
          -186.34361267089844,
          -186.34361267089844,
          -186.34361267089844,
          -186.34361267089844,
          -186.34361267089844,
          -186.34361267089844,
          -186.34361267089844,
          -186.34361267089844,
          -186.34361267089844,
          -186.34361267089844,
          -186.34361267089844,
          -186.34361267089844,
          -186.34361267089844,
          -186.34361267089844,
          -186.34361267089844,
          -186.34361267089844,
          -186.34361267089844,
          -186.34361267089844,
          -186.34361267089844,
          -186.34361267089844,
          -186.34361267089844,
          -186.34361267089844,
          -186.34361267089844,
          -186.34361267089844,
          -186.34361267089844,
          -186.34361267089844,
          -186.34361267089844,
          -186.34361267089844,
          -186.34361267089844,
          -186.34361267089844,
          -186.34361267089844,
          -186.34361267089844,
          -186.34361267089844,
          -186.34361267089844,
          -186.34361267089844,
          -186.34361267089844,
          -186.34361267089844,
          -186.34361267089844,
          -186.34361267089844,
          -186.34361267089844,
          -186.34361267089844,
          -186.34361267089844,
          -186.34361267089844,
          -186.34361267089844,
          -186.34361267089844,
          -186.34361267089844,
          -186.34361267089844,
          -186.34361267089844,
          -186.34361267089844,
          -186.34361267089844,
          -186.34361267089844,
          -186.34361267089844,
          -186.34361267089844,
          -186.34361267089844,
          -186.34361267089844,
          -186.34361267089844,
          -186.34361267089844,
          -186.34361267089844,
          -186.34361267089844,
          -186.34361267089844,
          -186.34361267089844,
          -186.34361267089844,
          -186.34361267089844,
          -186.34361267089844,
          -186.34361267089844,
          -186.34361267089844,
          -186.34361267089844,
          -186.34361267089844,
          -186.34361267089844,
          -186.34361267089844
         ],
         "z": [
          -1.0001287460327148,
          -1.0001287460327148,
          -1.0001287460327148,
          -1.0001287460327148,
          -1.0001287460327148,
          -1.0001287460327148,
          -1.0001287460327148,
          -1.0001287460327148,
          -1.0001287460327148,
          -1.0001287460327148,
          -1.0001287460327148,
          -1.0001287460327148,
          -1.0001287460327148,
          -1.0001287460327148,
          -1.0001287460327148,
          -1.0001287460327148,
          -1.0001287460327148,
          -1.0001287460327148,
          -1.0001287460327148,
          -1.0001287460327148,
          -1.0001287460327148,
          -1.0001287460327148,
          -1.0001287460327148,
          -1.0001287460327148,
          -1.0001287460327148,
          -1.0001287460327148,
          -1.0001287460327148,
          -1.0001287460327148,
          -1.0001287460327148,
          -1.0001287460327148,
          -1.0001287460327148,
          -1.0001287460327148,
          -1.0001287460327148,
          -1.0001287460327148,
          -1.0001287460327148,
          -1.0001287460327148,
          -1.0001287460327148,
          -1.0001287460327148,
          -1.0001287460327148,
          -1.0001287460327148,
          -1.0001287460327148,
          -1.0001287460327148,
          -1.0001287460327148,
          -1.0001287460327148,
          -1.0001287460327148,
          -1.0001287460327148,
          -1.0001287460327148,
          -1.0001287460327148,
          -1.0001287460327148,
          -1.0001287460327148,
          -1.0001287460327148,
          -1.0001287460327148,
          -1.0001287460327148,
          -1.0001287460327148,
          -1.0001287460327148,
          -1.0001287460327148,
          -1.0001287460327148,
          -1.0001287460327148,
          -1.0001287460327148,
          -1.0001287460327148,
          -1.0001287460327148,
          -1.0001287460327148,
          -1.0001287460327148,
          -1.0001287460327148,
          -1.0001287460327148,
          -1.0001287460327148,
          -1.0001287460327148,
          -1.0001287460327148,
          -1.0001287460327148,
          -1.0001287460327148,
          -1.0001287460327148,
          -1.0001287460327148,
          -1.0001287460327148,
          -1.0001287460327148,
          -1.0001287460327148,
          -1.0001287460327148,
          -1.0001287460327148,
          -1.0001287460327148,
          -1.0001287460327148,
          -1.0001287460327148,
          -1.0001287460327148,
          -1.0001287460327148,
          -1.0001287460327148,
          -1.0001287460327148,
          -1.0001287460327148,
          -1.0001287460327148,
          -1.0001287460327148,
          -1.0001287460327148,
          -1.0001287460327148,
          -1.0001287460327148,
          -1.0001287460327148,
          -1.0001287460327148,
          -1.0001287460327148,
          -1.0001287460327148,
          -1.0001287460327148,
          -1.0001287460327148,
          -1.0001287460327148,
          -1.0001287460327148,
          -1.0001287460327148,
          -1.0001287460327148,
          -1.0001287460327148,
          -1.0001287460327148,
          -1.0001287460327148,
          -1.0001287460327148,
          -1.0001287460327148,
          -1.0001287460327148,
          -1.0001287460327148,
          -1.0001287460327148,
          -1.0001287460327148,
          -1.0001287460327148,
          -1.0001287460327148,
          -1.0001287460327148,
          -1.0001287460327148,
          -1.0001287460327148,
          -1.0001287460327148,
          -1.0001287460327148,
          -1.0001287460327148
         ]
        },
        {
         "hovertemplate": "<b>%{hovertext}</b><br><br>ID=JaMilch: _pI9DAGyIUGSpUuDn8rEHQ<br>X=%{x}<br>Y=%{y}<br>Z=%{z}<extra></extra>",
         "hovertext": [
          10.494370460510254,
          10.517280578613281,
          10.539387702941895,
          10.561199188232422,
          10.584084510803223,
          10.60628890991211,
          10.627903938293457,
          10.649981498718262,
          10.672840118408203,
          10.694761276245117,
          10.716547012329102,
          10.73884391784668,
          10.761651992797852,
          10.782955169677734,
          10.806230545043945,
          10.82817554473877,
          10.85002326965332,
          10.872964859008789,
          10.89484691619873,
          10.917051315307617,
          10.939299583435059,
          10.961816787719727,
          10.983302116394043,
          11.006412506103516,
          11.028586387634277,
          11.05056095123291,
          11.073382377624512,
          11.095088005065918,
          11.117218017578125,
          11.13917064666748,
          11.161911010742188,
          11.183330535888672,
          11.206302642822266,
          11.228330612182617,
          11.250240325927734,
          11.272128105163574,
          11.294915199279785,
          11.316758155822754,
          11.339262962341309,
          11.361969947814941,
          11.383944511413574,
          11.405776977539062,
          11.427753448486328,
          11.45051383972168,
          11.472752571105957,
          11.49458122253418,
          11.516858100891113,
          11.540064811706543,
          11.562079429626465,
          11.583449363708496,
          11.606216430664062,
          11.628467559814453,
          11.650782585144043,
          11.671988487243652,
          11.694681167602539,
          11.716659545898438,
          11.738702774047852,
          11.759147644042969,
          11.781205177307129,
          11.804388999938965,
          11.826157569885254,
          11.848121643066406,
          11.870094299316406,
          11.892892837524414,
          11.91444206237793,
          11.936944007873535,
          11.959982872009277,
          11.981698989868164,
          12.003706932067871,
          12.02563190460205,
          12.048543930053711,
          12.070333480834961,
          12.09247875213623,
          12.114425659179688,
          12.13728141784668,
          12.15943717956543,
          12.181204795837402,
          12.204475402832031,
          12.226088523864746,
          12.24821949005127,
          12.270332336425781,
          12.29287338256836,
          12.31503963470459,
          12.337198257446289,
          12.359825134277344,
          12.381914138793945,
          12.403839111328125,
          12.425689697265625,
          12.448731422424316,
          12.470693588256836,
          12.493085861206055,
          12.515203475952148,
          12.537125587463379,
          12.559974670410156,
          12.5819730758667,
          12.604264259338379,
          12.626276016235352,
          12.648159980773926,
          12.67025089263916,
          12.692855834960938,
          12.714852333068848,
          12.737947463989258,
          12.759719848632812,
          12.781245231628418,
          12.804508209228516,
          12.826868057250977,
          12.84882640838623,
          12.871498107910156,
          12.893357276916504,
          12.91531753540039,
          12.937531471252441,
          12.96057415008545,
          12.98263168334961,
          13.005290985107422,
          13.028182029724121,
          13.050135612487793,
          13.071192741394043
         ],
         "legendgroup": "JaMilch: _pI9DAGyIUGSpUuDn8rEHQ",
         "line": {
          "color": "#EF553B",
          "dash": "solid"
         },
         "marker": {
          "symbol": "circle"
         },
         "mode": "lines",
         "name": "JaMilch: _pI9DAGyIUGSpUuDn8rEHQ",
         "scene": "scene",
         "showlegend": true,
         "type": "scatter3d",
         "x": [
          203.4591522216797,
          200.24740600585938,
          200.42724609375,
          201.1213836669922,
          201.28427124023438,
          201.44261169433594,
          201.583984375,
          201.7100372314453,
          201.82716369628906,
          201.9362335205078,
          201.74591064453125,
          201.3991241455078,
          200.88954162597656,
          200.27931213378906,
          199.66661071777344,
          198.98641967773438,
          199.50978088378906,
          199.50897216796875,
          199.52244567871094,
          199.496337890625,
          199.478271484375,
          199.4908447265625,
          199.49342346191406,
          199.4966583251953,
          199.4923095703125,
          199.48989868164062,
          199.48623657226562,
          199.4854736328125,
          199.4860382080078,
          199.4861602783203,
          199.4861602783203,
          199.4861602783203,
          199.4861602783203,
          199.4861602783203,
          199.4861602783203,
          199.4861602783203,
          199.4861602783203,
          199.4861602783203,
          199.4861602783203,
          199.4861602783203,
          199.4861602783203,
          199.4861602783203,
          199.4861602783203,
          199.4861602783203,
          199.4861602783203,
          199.4861602783203,
          199.4861602783203,
          199.4861602783203,
          199.4861602783203,
          199.4861602783203,
          199.4861602783203,
          199.4861602783203,
          199.4861602783203,
          199.4861602783203,
          199.4861602783203,
          199.4861602783203,
          199.4861602783203,
          199.4861602783203,
          199.4861602783203,
          199.4861602783203,
          199.4861602783203,
          199.4861602783203,
          199.4861602783203,
          199.4861602783203,
          199.4861602783203,
          199.4861602783203,
          199.4861602783203,
          199.4861602783203,
          199.4861602783203,
          199.4861602783203,
          199.4861602783203,
          199.4861602783203,
          199.4861602783203,
          199.4861602783203,
          199.4861602783203,
          199.4861602783203,
          199.4861602783203,
          199.4861602783203,
          199.4861602783203,
          199.4861602783203,
          199.4861602783203,
          199.4861602783203,
          199.4861602783203,
          199.4861602783203,
          199.4861602783203,
          199.4861602783203,
          199.4861602783203,
          199.4861602783203,
          199.4861602783203,
          199.4861602783203,
          199.4861602783203,
          199.4861602783203,
          199.4861602783203,
          199.4861602783203,
          199.4861602783203,
          199.4861602783203,
          199.4861602783203,
          199.4861602783203,
          199.4861602783203,
          199.4861602783203,
          199.4861602783203,
          199.4861602783203,
          199.4861602783203,
          199.4861602783203,
          199.4861602783203,
          199.4861602783203,
          199.4861602783203,
          199.4861602783203,
          199.4861602783203,
          199.4861602783203,
          199.4861602783203,
          199.4861602783203,
          199.4861602783203,
          199.4861602783203,
          199.4861602783203,
          199.4861602783203,
          199.4861602783203
         ],
         "y": [
          180.3824920654297,
          177.20767211914062,
          176.91944885253906,
          177.47018432617188,
          177.3663330078125,
          177.2572784423828,
          177.1511688232422,
          177.04734802246094,
          176.94058227539062,
          176.82907104492188,
          177.0798797607422,
          177.4382781982422,
          177.53140258789062,
          177.580810546875,
          177.58892822265625,
          177.7054443359375,
          178.65206909179688,
          178.05381774902344,
          177.67855834960938,
          177.39527893066406,
          177.3368377685547,
          177.38592529296875,
          177.41543579101562,
          177.41835021972656,
          177.40234375,
          177.3993682861328,
          177.3878631591797,
          177.3834686279297,
          177.3854217529297,
          177.3860626220703,
          177.3860626220703,
          177.3860626220703,
          177.3860626220703,
          177.3860626220703,
          177.3860626220703,
          177.3860626220703,
          177.3860626220703,
          177.3860626220703,
          177.3860626220703,
          177.3860626220703,
          177.3860626220703,
          177.3860626220703,
          177.3860626220703,
          177.3860626220703,
          177.3860626220703,
          177.3860626220703,
          177.3860626220703,
          177.3860626220703,
          177.3860626220703,
          177.3860626220703,
          177.3860626220703,
          177.3860626220703,
          177.3860626220703,
          177.3860626220703,
          177.3860626220703,
          177.3860626220703,
          177.3860626220703,
          177.3860626220703,
          177.3860626220703,
          177.3860626220703,
          177.3860626220703,
          177.3860626220703,
          177.3860626220703,
          177.3860626220703,
          177.3860626220703,
          177.3860626220703,
          177.3860626220703,
          177.3860626220703,
          177.3860626220703,
          177.3860626220703,
          177.3860626220703,
          177.3860626220703,
          177.3860626220703,
          177.3860626220703,
          177.3860626220703,
          177.3860626220703,
          177.3860626220703,
          177.3860626220703,
          177.3860626220703,
          177.3860626220703,
          177.3860626220703,
          177.3860626220703,
          177.3860626220703,
          177.3860626220703,
          177.3860626220703,
          177.3860626220703,
          177.3860626220703,
          177.3860626220703,
          177.3860626220703,
          177.3860626220703,
          177.3860626220703,
          177.3860626220703,
          177.3860626220703,
          177.3860626220703,
          177.3860626220703,
          177.3860626220703,
          177.3860626220703,
          177.3860626220703,
          177.3860626220703,
          177.3860626220703,
          177.3860626220703,
          177.3860626220703,
          177.3860626220703,
          177.3860626220703,
          177.3860626220703,
          177.3860626220703,
          177.3860626220703,
          177.3860626220703,
          177.3860626220703,
          177.3860626220703,
          177.3860626220703,
          177.3860626220703,
          177.3860626220703,
          177.3860626220703,
          177.3860626220703,
          177.3860626220703,
          177.3860626220703
         ],
         "z": [
          3.0268545150756836,
          -2.9490647315979004,
          -0.29352521896362305,
          3.5853867530822754,
          5.224542617797852,
          6.430384635925293,
          7.117471694946289,
          7.329627990722656,
          7.070781707763672,
          6.29395866394043,
          5.959826469421387,
          5.431875228881836,
          5.049016952514648,
          4.290521621704102,
          3.258516550064087,
          1.92429780960083,
          1.169743537902832,
          3.040698289871216,
          3.339862823486328,
          3.1094295978546143,
          3.1871795654296875,
          3.187434673309326,
          3.183986186981201,
          3.1838717460632324,
          3.185576915740967,
          3.1839003562927246,
          3.182325839996338,
          3.1829886436462402,
          3.1827497482299805,
          3.1826276779174805,
          3.1826276779174805,
          3.1826276779174805,
          3.1826276779174805,
          3.1826276779174805,
          3.1826276779174805,
          3.1826276779174805,
          3.1826276779174805,
          3.1826276779174805,
          3.1826276779174805,
          3.1826276779174805,
          3.1826276779174805,
          3.1826276779174805,
          3.1826276779174805,
          3.1826276779174805,
          3.1826276779174805,
          3.1826276779174805,
          3.1826276779174805,
          3.1826276779174805,
          3.1826276779174805,
          3.1826276779174805,
          3.1826276779174805,
          3.1826276779174805,
          3.1826276779174805,
          3.1826276779174805,
          3.1826276779174805,
          3.1826276779174805,
          3.1826276779174805,
          3.1826276779174805,
          3.1826276779174805,
          3.1826276779174805,
          3.1826276779174805,
          3.1826276779174805,
          3.1826276779174805,
          3.1826276779174805,
          3.1826276779174805,
          3.1826276779174805,
          3.1826276779174805,
          3.1826276779174805,
          3.1826276779174805,
          3.1826276779174805,
          3.1826276779174805,
          3.1826276779174805,
          3.1826276779174805,
          3.1826276779174805,
          3.1826276779174805,
          3.1826276779174805,
          3.1826276779174805,
          3.1826276779174805,
          3.1826276779174805,
          3.1826276779174805,
          3.1826276779174805,
          3.1826276779174805,
          3.1826276779174805,
          3.1826276779174805,
          3.1826276779174805,
          3.1826276779174805,
          3.1826276779174805,
          3.1826276779174805,
          3.1826276779174805,
          3.1826276779174805,
          3.1826276779174805,
          3.1826276779174805,
          3.1826276779174805,
          3.1826276779174805,
          3.1826276779174805,
          3.1826276779174805,
          3.1826276779174805,
          3.1826276779174805,
          3.1826276779174805,
          3.1826276779174805,
          3.1826276779174805,
          3.1826276779174805,
          3.1826276779174805,
          3.1826276779174805,
          3.1826276779174805,
          3.1826276779174805,
          3.1826276779174805,
          3.1826276779174805,
          3.1826276779174805,
          3.1826276779174805,
          3.1826276779174805,
          3.1826276779174805,
          3.1826276779174805,
          3.1826276779174805,
          3.1826276779174805,
          3.1826276779174805,
          3.1826276779174805
         ]
        }
       ],
       "layout": {
        "height": 600,
        "legend": {
         "title": {
          "text": "ID"
         },
         "tracegroupgap": 0
        },
        "margin": {
         "t": 60
        },
        "scene": {
         "aspectmode": "auto",
         "aspectratio": {
          "x": 1,
          "y": 1,
          "z": 1
         },
         "domain": {
          "x": [
           0,
           1
          ],
          "y": [
           0,
           1
          ]
         },
         "xaxis": {
          "title": {
           "text": "X"
          },
          "type": "linear"
         },
         "yaxis": {
          "title": {
           "text": "Y"
          },
          "type": "linear"
         },
         "zaxis": {
          "title": {
           "text": "Z"
          },
          "type": "linear"
         }
        },
        "template": {
         "data": {
          "bar": [
           {
            "error_x": {
             "color": "#2a3f5f"
            },
            "error_y": {
             "color": "#2a3f5f"
            },
            "marker": {
             "line": {
              "color": "#E5ECF6",
              "width": 0.5
             },
             "pattern": {
              "fillmode": "overlay",
              "size": 10,
              "solidity": 0.2
             }
            },
            "type": "bar"
           }
          ],
          "barpolar": [
           {
            "marker": {
             "line": {
              "color": "#E5ECF6",
              "width": 0.5
             },
             "pattern": {
              "fillmode": "overlay",
              "size": 10,
              "solidity": 0.2
             }
            },
            "type": "barpolar"
           }
          ],
          "carpet": [
           {
            "aaxis": {
             "endlinecolor": "#2a3f5f",
             "gridcolor": "white",
             "linecolor": "white",
             "minorgridcolor": "white",
             "startlinecolor": "#2a3f5f"
            },
            "baxis": {
             "endlinecolor": "#2a3f5f",
             "gridcolor": "white",
             "linecolor": "white",
             "minorgridcolor": "white",
             "startlinecolor": "#2a3f5f"
            },
            "type": "carpet"
           }
          ],
          "choropleth": [
           {
            "colorbar": {
             "outlinewidth": 0,
             "ticks": ""
            },
            "type": "choropleth"
           }
          ],
          "contour": [
           {
            "colorbar": {
             "outlinewidth": 0,
             "ticks": ""
            },
            "colorscale": [
             [
              0,
              "#0d0887"
             ],
             [
              0.1111111111111111,
              "#46039f"
             ],
             [
              0.2222222222222222,
              "#7201a8"
             ],
             [
              0.3333333333333333,
              "#9c179e"
             ],
             [
              0.4444444444444444,
              "#bd3786"
             ],
             [
              0.5555555555555556,
              "#d8576b"
             ],
             [
              0.6666666666666666,
              "#ed7953"
             ],
             [
              0.7777777777777778,
              "#fb9f3a"
             ],
             [
              0.8888888888888888,
              "#fdca26"
             ],
             [
              1,
              "#f0f921"
             ]
            ],
            "type": "contour"
           }
          ],
          "contourcarpet": [
           {
            "colorbar": {
             "outlinewidth": 0,
             "ticks": ""
            },
            "type": "contourcarpet"
           }
          ],
          "heatmap": [
           {
            "colorbar": {
             "outlinewidth": 0,
             "ticks": ""
            },
            "colorscale": [
             [
              0,
              "#0d0887"
             ],
             [
              0.1111111111111111,
              "#46039f"
             ],
             [
              0.2222222222222222,
              "#7201a8"
             ],
             [
              0.3333333333333333,
              "#9c179e"
             ],
             [
              0.4444444444444444,
              "#bd3786"
             ],
             [
              0.5555555555555556,
              "#d8576b"
             ],
             [
              0.6666666666666666,
              "#ed7953"
             ],
             [
              0.7777777777777778,
              "#fb9f3a"
             ],
             [
              0.8888888888888888,
              "#fdca26"
             ],
             [
              1,
              "#f0f921"
             ]
            ],
            "type": "heatmap"
           }
          ],
          "heatmapgl": [
           {
            "colorbar": {
             "outlinewidth": 0,
             "ticks": ""
            },
            "colorscale": [
             [
              0,
              "#0d0887"
             ],
             [
              0.1111111111111111,
              "#46039f"
             ],
             [
              0.2222222222222222,
              "#7201a8"
             ],
             [
              0.3333333333333333,
              "#9c179e"
             ],
             [
              0.4444444444444444,
              "#bd3786"
             ],
             [
              0.5555555555555556,
              "#d8576b"
             ],
             [
              0.6666666666666666,
              "#ed7953"
             ],
             [
              0.7777777777777778,
              "#fb9f3a"
             ],
             [
              0.8888888888888888,
              "#fdca26"
             ],
             [
              1,
              "#f0f921"
             ]
            ],
            "type": "heatmapgl"
           }
          ],
          "histogram": [
           {
            "marker": {
             "pattern": {
              "fillmode": "overlay",
              "size": 10,
              "solidity": 0.2
             }
            },
            "type": "histogram"
           }
          ],
          "histogram2d": [
           {
            "colorbar": {
             "outlinewidth": 0,
             "ticks": ""
            },
            "colorscale": [
             [
              0,
              "#0d0887"
             ],
             [
              0.1111111111111111,
              "#46039f"
             ],
             [
              0.2222222222222222,
              "#7201a8"
             ],
             [
              0.3333333333333333,
              "#9c179e"
             ],
             [
              0.4444444444444444,
              "#bd3786"
             ],
             [
              0.5555555555555556,
              "#d8576b"
             ],
             [
              0.6666666666666666,
              "#ed7953"
             ],
             [
              0.7777777777777778,
              "#fb9f3a"
             ],
             [
              0.8888888888888888,
              "#fdca26"
             ],
             [
              1,
              "#f0f921"
             ]
            ],
            "type": "histogram2d"
           }
          ],
          "histogram2dcontour": [
           {
            "colorbar": {
             "outlinewidth": 0,
             "ticks": ""
            },
            "colorscale": [
             [
              0,
              "#0d0887"
             ],
             [
              0.1111111111111111,
              "#46039f"
             ],
             [
              0.2222222222222222,
              "#7201a8"
             ],
             [
              0.3333333333333333,
              "#9c179e"
             ],
             [
              0.4444444444444444,
              "#bd3786"
             ],
             [
              0.5555555555555556,
              "#d8576b"
             ],
             [
              0.6666666666666666,
              "#ed7953"
             ],
             [
              0.7777777777777778,
              "#fb9f3a"
             ],
             [
              0.8888888888888888,
              "#fdca26"
             ],
             [
              1,
              "#f0f921"
             ]
            ],
            "type": "histogram2dcontour"
           }
          ],
          "mesh3d": [
           {
            "colorbar": {
             "outlinewidth": 0,
             "ticks": ""
            },
            "type": "mesh3d"
           }
          ],
          "parcoords": [
           {
            "line": {
             "colorbar": {
              "outlinewidth": 0,
              "ticks": ""
             }
            },
            "type": "parcoords"
           }
          ],
          "pie": [
           {
            "automargin": true,
            "type": "pie"
           }
          ],
          "scatter": [
           {
            "fillpattern": {
             "fillmode": "overlay",
             "size": 10,
             "solidity": 0.2
            },
            "type": "scatter"
           }
          ],
          "scatter3d": [
           {
            "line": {
             "colorbar": {
              "outlinewidth": 0,
              "ticks": ""
             }
            },
            "marker": {
             "colorbar": {
              "outlinewidth": 0,
              "ticks": ""
             }
            },
            "type": "scatter3d"
           }
          ],
          "scattercarpet": [
           {
            "marker": {
             "colorbar": {
              "outlinewidth": 0,
              "ticks": ""
             }
            },
            "type": "scattercarpet"
           }
          ],
          "scattergeo": [
           {
            "marker": {
             "colorbar": {
              "outlinewidth": 0,
              "ticks": ""
             }
            },
            "type": "scattergeo"
           }
          ],
          "scattergl": [
           {
            "marker": {
             "colorbar": {
              "outlinewidth": 0,
              "ticks": ""
             }
            },
            "type": "scattergl"
           }
          ],
          "scattermapbox": [
           {
            "marker": {
             "colorbar": {
              "outlinewidth": 0,
              "ticks": ""
             }
            },
            "type": "scattermapbox"
           }
          ],
          "scatterpolar": [
           {
            "marker": {
             "colorbar": {
              "outlinewidth": 0,
              "ticks": ""
             }
            },
            "type": "scatterpolar"
           }
          ],
          "scatterpolargl": [
           {
            "marker": {
             "colorbar": {
              "outlinewidth": 0,
              "ticks": ""
             }
            },
            "type": "scatterpolargl"
           }
          ],
          "scatterternary": [
           {
            "marker": {
             "colorbar": {
              "outlinewidth": 0,
              "ticks": ""
             }
            },
            "type": "scatterternary"
           }
          ],
          "surface": [
           {
            "colorbar": {
             "outlinewidth": 0,
             "ticks": ""
            },
            "colorscale": [
             [
              0,
              "#0d0887"
             ],
             [
              0.1111111111111111,
              "#46039f"
             ],
             [
              0.2222222222222222,
              "#7201a8"
             ],
             [
              0.3333333333333333,
              "#9c179e"
             ],
             [
              0.4444444444444444,
              "#bd3786"
             ],
             [
              0.5555555555555556,
              "#d8576b"
             ],
             [
              0.6666666666666666,
              "#ed7953"
             ],
             [
              0.7777777777777778,
              "#fb9f3a"
             ],
             [
              0.8888888888888888,
              "#fdca26"
             ],
             [
              1,
              "#f0f921"
             ]
            ],
            "type": "surface"
           }
          ],
          "table": [
           {
            "cells": {
             "fill": {
              "color": "#EBF0F8"
             },
             "line": {
              "color": "white"
             }
            },
            "header": {
             "fill": {
              "color": "#C8D4E3"
             },
             "line": {
              "color": "white"
             }
            },
            "type": "table"
           }
          ]
         },
         "layout": {
          "annotationdefaults": {
           "arrowcolor": "#2a3f5f",
           "arrowhead": 0,
           "arrowwidth": 1
          },
          "autotypenumbers": "strict",
          "coloraxis": {
           "colorbar": {
            "outlinewidth": 0,
            "ticks": ""
           }
          },
          "colorscale": {
           "diverging": [
            [
             0,
             "#8e0152"
            ],
            [
             0.1,
             "#c51b7d"
            ],
            [
             0.2,
             "#de77ae"
            ],
            [
             0.3,
             "#f1b6da"
            ],
            [
             0.4,
             "#fde0ef"
            ],
            [
             0.5,
             "#f7f7f7"
            ],
            [
             0.6,
             "#e6f5d0"
            ],
            [
             0.7,
             "#b8e186"
            ],
            [
             0.8,
             "#7fbc41"
            ],
            [
             0.9,
             "#4d9221"
            ],
            [
             1,
             "#276419"
            ]
           ],
           "sequential": [
            [
             0,
             "#0d0887"
            ],
            [
             0.1111111111111111,
             "#46039f"
            ],
            [
             0.2222222222222222,
             "#7201a8"
            ],
            [
             0.3333333333333333,
             "#9c179e"
            ],
            [
             0.4444444444444444,
             "#bd3786"
            ],
            [
             0.5555555555555556,
             "#d8576b"
            ],
            [
             0.6666666666666666,
             "#ed7953"
            ],
            [
             0.7777777777777778,
             "#fb9f3a"
            ],
            [
             0.8888888888888888,
             "#fdca26"
            ],
            [
             1,
             "#f0f921"
            ]
           ],
           "sequentialminus": [
            [
             0,
             "#0d0887"
            ],
            [
             0.1111111111111111,
             "#46039f"
            ],
            [
             0.2222222222222222,
             "#7201a8"
            ],
            [
             0.3333333333333333,
             "#9c179e"
            ],
            [
             0.4444444444444444,
             "#bd3786"
            ],
            [
             0.5555555555555556,
             "#d8576b"
            ],
            [
             0.6666666666666666,
             "#ed7953"
            ],
            [
             0.7777777777777778,
             "#fb9f3a"
            ],
            [
             0.8888888888888888,
             "#fdca26"
            ],
            [
             1,
             "#f0f921"
            ]
           ]
          },
          "colorway": [
           "#636efa",
           "#EF553B",
           "#00cc96",
           "#ab63fa",
           "#FFA15A",
           "#19d3f3",
           "#FF6692",
           "#B6E880",
           "#FF97FF",
           "#FECB52"
          ],
          "font": {
           "color": "#2a3f5f"
          },
          "geo": {
           "bgcolor": "white",
           "lakecolor": "white",
           "landcolor": "#E5ECF6",
           "showlakes": true,
           "showland": true,
           "subunitcolor": "white"
          },
          "hoverlabel": {
           "align": "left"
          },
          "hovermode": "closest",
          "mapbox": {
           "style": "light"
          },
          "paper_bgcolor": "white",
          "plot_bgcolor": "#E5ECF6",
          "polar": {
           "angularaxis": {
            "gridcolor": "white",
            "linecolor": "white",
            "ticks": ""
           },
           "bgcolor": "#E5ECF6",
           "radialaxis": {
            "gridcolor": "white",
            "linecolor": "white",
            "ticks": ""
           }
          },
          "scene": {
           "xaxis": {
            "backgroundcolor": "#E5ECF6",
            "gridcolor": "white",
            "gridwidth": 2,
            "linecolor": "white",
            "showbackground": true,
            "ticks": "",
            "zerolinecolor": "white"
           },
           "yaxis": {
            "backgroundcolor": "#E5ECF6",
            "gridcolor": "white",
            "gridwidth": 2,
            "linecolor": "white",
            "showbackground": true,
            "ticks": "",
            "zerolinecolor": "white"
           },
           "zaxis": {
            "backgroundcolor": "#E5ECF6",
            "gridcolor": "white",
            "gridwidth": 2,
            "linecolor": "white",
            "showbackground": true,
            "ticks": "",
            "zerolinecolor": "white"
           }
          },
          "shapedefaults": {
           "line": {
            "color": "#2a3f5f"
           }
          },
          "ternary": {
           "aaxis": {
            "gridcolor": "white",
            "linecolor": "white",
            "ticks": ""
           },
           "baxis": {
            "gridcolor": "white",
            "linecolor": "white",
            "ticks": ""
           },
           "bgcolor": "#E5ECF6",
           "caxis": {
            "gridcolor": "white",
            "linecolor": "white",
            "ticks": ""
           }
          },
          "title": {
           "x": 0.05
          },
          "xaxis": {
           "automargin": true,
           "gridcolor": "white",
           "linecolor": "white",
           "ticks": "",
           "title": {
            "standoff": 15
           },
           "zerolinecolor": "white",
           "zerolinewidth": 2
          },
          "yaxis": {
           "automargin": true,
           "gridcolor": "white",
           "linecolor": "white",
           "ticks": "",
           "title": {
            "standoff": 15
           },
           "zerolinecolor": "white",
           "zerolinewidth": 2
          }
         }
        },
        "width": 1000
       }
      },
      "text/html": [
       "<div>                            <div id=\"b1292e6c-a83d-4bd7-ada3-4e440a44f73b\" class=\"plotly-graph-div\" style=\"height:600px; width:1000px;\"></div>            <script type=\"text/javascript\">                require([\"plotly\"], function(Plotly) {                    window.PLOTLYENV=window.PLOTLYENV || {};                                    if (document.getElementById(\"b1292e6c-a83d-4bd7-ada3-4e440a44f73b\")) {                    Plotly.newPlot(                        \"b1292e6c-a83d-4bd7-ada3-4e440a44f73b\",                        [{\"hovertemplate\":\"<b>%{hovertext}</b><br><br>ID=IAILabFloor: 9jrJzTZvSkqUjwIvPEavYA<br>X=%{x}<br>Y=%{y}<br>Z=%{z}<extra></extra>\",\"hovertext\":[10.494370460510254,10.517280578613281,10.539387702941895,10.561199188232422,10.584084510803223,10.60628890991211,10.627903938293457,10.649981498718262,10.672840118408203,10.694761276245117,10.716547012329102,10.73884391784668,10.761651992797852,10.782955169677734,10.806230545043945,10.82817554473877,10.85002326965332,10.872964859008789,10.89484691619873,10.917051315307617,10.939299583435059,10.961816787719727,10.983302116394043,11.006412506103516,11.028586387634277,11.05056095123291,11.073382377624512,11.095088005065918,11.117218017578125,11.13917064666748,11.161911010742188,11.183330535888672,11.206302642822266,11.228330612182617,11.250240325927734,11.272128105163574,11.294915199279785,11.316758155822754,11.339262962341309,11.361969947814941,11.383944511413574,11.405776977539062,11.427753448486328,11.45051383972168,11.472752571105957,11.49458122253418,11.516858100891113,11.540064811706543,11.562079429626465,11.583449363708496,11.606216430664062,11.628467559814453,11.650782585144043,11.671988487243652,11.694681167602539,11.716659545898438,11.738702774047852,11.759147644042969,11.781205177307129,11.804388999938965,11.826157569885254,11.848121643066406,11.870094299316406,11.892892837524414,11.91444206237793,11.936944007873535,11.959982872009277,11.981698989868164,12.003706932067871,12.02563190460205,12.048543930053711,12.070333480834961,12.09247875213623,12.114425659179688,12.13728141784668,12.15943717956543,12.181204795837402,12.204475402832031,12.226088523864746,12.24821949005127,12.270332336425781,12.29287338256836,12.31503963470459,12.337198257446289,12.359825134277344,12.381914138793945,12.403839111328125,12.425689697265625,12.448731422424316,12.470693588256836,12.493085861206055,12.515203475952148,12.537125587463379,12.559974670410156,12.5819730758667,12.604264259338379,12.626276016235352,12.648159980773926,12.67025089263916,12.692855834960938,12.714852333068848,12.737947463989258,12.759719848632812,12.781245231628418,12.804508209228516,12.826868057250977,12.84882640838623,12.871498107910156,12.893357276916504,12.91531753540039,12.937531471252441,12.96057415008545,12.98263168334961,13.005290985107422,13.028182029724121,13.050135612487793,13.071192741394043],\"legendgroup\":\"IAILabFloor: 9jrJzTZvSkqUjwIvPEavYA\",\"line\":{\"color\":\"#636efa\",\"dash\":\"solid\"},\"marker\":{\"symbol\":\"circle\"},\"mode\":\"lines\",\"name\":\"IAILabFloor: 9jrJzTZvSkqUjwIvPEavYA\",\"scene\":\"scene\",\"showlegend\":true,\"x\":[454.7149353027344,454.7149353027344,454.7149353027344,454.7149353027344,454.7149353027344,454.7149353027344,454.7149353027344,454.7149353027344,454.7149353027344,454.7149353027344,454.7149353027344,454.7149353027344,454.7149353027344,454.7149353027344,454.7149353027344,454.7149353027344,454.7149353027344,454.7149353027344,454.7149353027344,454.7149353027344,454.7149353027344,454.7149353027344,454.7149353027344,454.7149353027344,454.7149353027344,454.7149353027344,454.7149353027344,454.7149353027344,454.7149353027344,454.7149353027344,454.7149353027344,454.7149353027344,454.7149353027344,454.7149353027344,454.7149353027344,454.7149353027344,454.7149353027344,454.7149353027344,454.7149353027344,454.7149353027344,454.7149353027344,454.7149353027344,454.7149353027344,454.7149353027344,454.7149353027344,454.7149353027344,454.7149353027344,454.7149353027344,454.7149353027344,454.7149353027344,454.7149353027344,454.7149353027344,454.7149353027344,454.7149353027344,454.7149353027344,454.7149353027344,454.7149353027344,454.7149353027344,454.7149353027344,454.7149353027344,454.7149353027344,454.7149353027344,454.7149353027344,454.7149353027344,454.7149353027344,454.7149353027344,454.7149353027344,454.7149353027344,454.7149353027344,454.7149353027344,454.7149353027344,454.7149353027344,454.7149353027344,454.7149353027344,454.7149353027344,454.7149353027344,454.7149353027344,454.7149353027344,454.7149353027344,454.7149353027344,454.7149353027344,454.7149353027344,454.7149353027344,454.7149353027344,454.7149353027344,454.7149353027344,454.7149353027344,454.7149353027344,454.7149353027344,454.7149353027344,454.7149353027344,454.7149353027344,454.7149353027344,454.7149353027344,454.7149353027344,454.7149353027344,454.7149353027344,454.7149353027344,454.7149353027344,454.7149353027344,454.7149353027344,454.7149353027344,454.7149353027344,454.7149353027344,454.7149353027344,454.7149353027344,454.7149353027344,454.7149353027344,454.7149353027344,454.7149353027344,454.7149353027344,454.7149353027344,454.7149353027344,454.7149353027344,454.7149353027344,454.7149353027344,454.7149353027344],\"y\":[-186.34361267089844,-186.34361267089844,-186.34361267089844,-186.34361267089844,-186.34361267089844,-186.34361267089844,-186.34361267089844,-186.34361267089844,-186.34361267089844,-186.34361267089844,-186.34361267089844,-186.34361267089844,-186.34361267089844,-186.34361267089844,-186.34361267089844,-186.34361267089844,-186.34361267089844,-186.34361267089844,-186.34361267089844,-186.34361267089844,-186.34361267089844,-186.34361267089844,-186.34361267089844,-186.34361267089844,-186.34361267089844,-186.34361267089844,-186.34361267089844,-186.34361267089844,-186.34361267089844,-186.34361267089844,-186.34361267089844,-186.34361267089844,-186.34361267089844,-186.34361267089844,-186.34361267089844,-186.34361267089844,-186.34361267089844,-186.34361267089844,-186.34361267089844,-186.34361267089844,-186.34361267089844,-186.34361267089844,-186.34361267089844,-186.34361267089844,-186.34361267089844,-186.34361267089844,-186.34361267089844,-186.34361267089844,-186.34361267089844,-186.34361267089844,-186.34361267089844,-186.34361267089844,-186.34361267089844,-186.34361267089844,-186.34361267089844,-186.34361267089844,-186.34361267089844,-186.34361267089844,-186.34361267089844,-186.34361267089844,-186.34361267089844,-186.34361267089844,-186.34361267089844,-186.34361267089844,-186.34361267089844,-186.34361267089844,-186.34361267089844,-186.34361267089844,-186.34361267089844,-186.34361267089844,-186.34361267089844,-186.34361267089844,-186.34361267089844,-186.34361267089844,-186.34361267089844,-186.34361267089844,-186.34361267089844,-186.34361267089844,-186.34361267089844,-186.34361267089844,-186.34361267089844,-186.34361267089844,-186.34361267089844,-186.34361267089844,-186.34361267089844,-186.34361267089844,-186.34361267089844,-186.34361267089844,-186.34361267089844,-186.34361267089844,-186.34361267089844,-186.34361267089844,-186.34361267089844,-186.34361267089844,-186.34361267089844,-186.34361267089844,-186.34361267089844,-186.34361267089844,-186.34361267089844,-186.34361267089844,-186.34361267089844,-186.34361267089844,-186.34361267089844,-186.34361267089844,-186.34361267089844,-186.34361267089844,-186.34361267089844,-186.34361267089844,-186.34361267089844,-186.34361267089844,-186.34361267089844,-186.34361267089844,-186.34361267089844,-186.34361267089844,-186.34361267089844,-186.34361267089844,-186.34361267089844],\"z\":[-1.0001287460327148,-1.0001287460327148,-1.0001287460327148,-1.0001287460327148,-1.0001287460327148,-1.0001287460327148,-1.0001287460327148,-1.0001287460327148,-1.0001287460327148,-1.0001287460327148,-1.0001287460327148,-1.0001287460327148,-1.0001287460327148,-1.0001287460327148,-1.0001287460327148,-1.0001287460327148,-1.0001287460327148,-1.0001287460327148,-1.0001287460327148,-1.0001287460327148,-1.0001287460327148,-1.0001287460327148,-1.0001287460327148,-1.0001287460327148,-1.0001287460327148,-1.0001287460327148,-1.0001287460327148,-1.0001287460327148,-1.0001287460327148,-1.0001287460327148,-1.0001287460327148,-1.0001287460327148,-1.0001287460327148,-1.0001287460327148,-1.0001287460327148,-1.0001287460327148,-1.0001287460327148,-1.0001287460327148,-1.0001287460327148,-1.0001287460327148,-1.0001287460327148,-1.0001287460327148,-1.0001287460327148,-1.0001287460327148,-1.0001287460327148,-1.0001287460327148,-1.0001287460327148,-1.0001287460327148,-1.0001287460327148,-1.0001287460327148,-1.0001287460327148,-1.0001287460327148,-1.0001287460327148,-1.0001287460327148,-1.0001287460327148,-1.0001287460327148,-1.0001287460327148,-1.0001287460327148,-1.0001287460327148,-1.0001287460327148,-1.0001287460327148,-1.0001287460327148,-1.0001287460327148,-1.0001287460327148,-1.0001287460327148,-1.0001287460327148,-1.0001287460327148,-1.0001287460327148,-1.0001287460327148,-1.0001287460327148,-1.0001287460327148,-1.0001287460327148,-1.0001287460327148,-1.0001287460327148,-1.0001287460327148,-1.0001287460327148,-1.0001287460327148,-1.0001287460327148,-1.0001287460327148,-1.0001287460327148,-1.0001287460327148,-1.0001287460327148,-1.0001287460327148,-1.0001287460327148,-1.0001287460327148,-1.0001287460327148,-1.0001287460327148,-1.0001287460327148,-1.0001287460327148,-1.0001287460327148,-1.0001287460327148,-1.0001287460327148,-1.0001287460327148,-1.0001287460327148,-1.0001287460327148,-1.0001287460327148,-1.0001287460327148,-1.0001287460327148,-1.0001287460327148,-1.0001287460327148,-1.0001287460327148,-1.0001287460327148,-1.0001287460327148,-1.0001287460327148,-1.0001287460327148,-1.0001287460327148,-1.0001287460327148,-1.0001287460327148,-1.0001287460327148,-1.0001287460327148,-1.0001287460327148,-1.0001287460327148,-1.0001287460327148,-1.0001287460327148,-1.0001287460327148,-1.0001287460327148,-1.0001287460327148],\"type\":\"scatter3d\"},{\"hovertemplate\":\"<b>%{hovertext}</b><br><br>ID=JaMilch: _pI9DAGyIUGSpUuDn8rEHQ<br>X=%{x}<br>Y=%{y}<br>Z=%{z}<extra></extra>\",\"hovertext\":[10.494370460510254,10.517280578613281,10.539387702941895,10.561199188232422,10.584084510803223,10.60628890991211,10.627903938293457,10.649981498718262,10.672840118408203,10.694761276245117,10.716547012329102,10.73884391784668,10.761651992797852,10.782955169677734,10.806230545043945,10.82817554473877,10.85002326965332,10.872964859008789,10.89484691619873,10.917051315307617,10.939299583435059,10.961816787719727,10.983302116394043,11.006412506103516,11.028586387634277,11.05056095123291,11.073382377624512,11.095088005065918,11.117218017578125,11.13917064666748,11.161911010742188,11.183330535888672,11.206302642822266,11.228330612182617,11.250240325927734,11.272128105163574,11.294915199279785,11.316758155822754,11.339262962341309,11.361969947814941,11.383944511413574,11.405776977539062,11.427753448486328,11.45051383972168,11.472752571105957,11.49458122253418,11.516858100891113,11.540064811706543,11.562079429626465,11.583449363708496,11.606216430664062,11.628467559814453,11.650782585144043,11.671988487243652,11.694681167602539,11.716659545898438,11.738702774047852,11.759147644042969,11.781205177307129,11.804388999938965,11.826157569885254,11.848121643066406,11.870094299316406,11.892892837524414,11.91444206237793,11.936944007873535,11.959982872009277,11.981698989868164,12.003706932067871,12.02563190460205,12.048543930053711,12.070333480834961,12.09247875213623,12.114425659179688,12.13728141784668,12.15943717956543,12.181204795837402,12.204475402832031,12.226088523864746,12.24821949005127,12.270332336425781,12.29287338256836,12.31503963470459,12.337198257446289,12.359825134277344,12.381914138793945,12.403839111328125,12.425689697265625,12.448731422424316,12.470693588256836,12.493085861206055,12.515203475952148,12.537125587463379,12.559974670410156,12.5819730758667,12.604264259338379,12.626276016235352,12.648159980773926,12.67025089263916,12.692855834960938,12.714852333068848,12.737947463989258,12.759719848632812,12.781245231628418,12.804508209228516,12.826868057250977,12.84882640838623,12.871498107910156,12.893357276916504,12.91531753540039,12.937531471252441,12.96057415008545,12.98263168334961,13.005290985107422,13.028182029724121,13.050135612487793,13.071192741394043],\"legendgroup\":\"JaMilch: _pI9DAGyIUGSpUuDn8rEHQ\",\"line\":{\"color\":\"#EF553B\",\"dash\":\"solid\"},\"marker\":{\"symbol\":\"circle\"},\"mode\":\"lines\",\"name\":\"JaMilch: _pI9DAGyIUGSpUuDn8rEHQ\",\"scene\":\"scene\",\"showlegend\":true,\"x\":[203.4591522216797,200.24740600585938,200.42724609375,201.1213836669922,201.28427124023438,201.44261169433594,201.583984375,201.7100372314453,201.82716369628906,201.9362335205078,201.74591064453125,201.3991241455078,200.88954162597656,200.27931213378906,199.66661071777344,198.98641967773438,199.50978088378906,199.50897216796875,199.52244567871094,199.496337890625,199.478271484375,199.4908447265625,199.49342346191406,199.4966583251953,199.4923095703125,199.48989868164062,199.48623657226562,199.4854736328125,199.4860382080078,199.4861602783203,199.4861602783203,199.4861602783203,199.4861602783203,199.4861602783203,199.4861602783203,199.4861602783203,199.4861602783203,199.4861602783203,199.4861602783203,199.4861602783203,199.4861602783203,199.4861602783203,199.4861602783203,199.4861602783203,199.4861602783203,199.4861602783203,199.4861602783203,199.4861602783203,199.4861602783203,199.4861602783203,199.4861602783203,199.4861602783203,199.4861602783203,199.4861602783203,199.4861602783203,199.4861602783203,199.4861602783203,199.4861602783203,199.4861602783203,199.4861602783203,199.4861602783203,199.4861602783203,199.4861602783203,199.4861602783203,199.4861602783203,199.4861602783203,199.4861602783203,199.4861602783203,199.4861602783203,199.4861602783203,199.4861602783203,199.4861602783203,199.4861602783203,199.4861602783203,199.4861602783203,199.4861602783203,199.4861602783203,199.4861602783203,199.4861602783203,199.4861602783203,199.4861602783203,199.4861602783203,199.4861602783203,199.4861602783203,199.4861602783203,199.4861602783203,199.4861602783203,199.4861602783203,199.4861602783203,199.4861602783203,199.4861602783203,199.4861602783203,199.4861602783203,199.4861602783203,199.4861602783203,199.4861602783203,199.4861602783203,199.4861602783203,199.4861602783203,199.4861602783203,199.4861602783203,199.4861602783203,199.4861602783203,199.4861602783203,199.4861602783203,199.4861602783203,199.4861602783203,199.4861602783203,199.4861602783203,199.4861602783203,199.4861602783203,199.4861602783203,199.4861602783203,199.4861602783203,199.4861602783203,199.4861602783203,199.4861602783203],\"y\":[180.3824920654297,177.20767211914062,176.91944885253906,177.47018432617188,177.3663330078125,177.2572784423828,177.1511688232422,177.04734802246094,176.94058227539062,176.82907104492188,177.0798797607422,177.4382781982422,177.53140258789062,177.580810546875,177.58892822265625,177.7054443359375,178.65206909179688,178.05381774902344,177.67855834960938,177.39527893066406,177.3368377685547,177.38592529296875,177.41543579101562,177.41835021972656,177.40234375,177.3993682861328,177.3878631591797,177.3834686279297,177.3854217529297,177.3860626220703,177.3860626220703,177.3860626220703,177.3860626220703,177.3860626220703,177.3860626220703,177.3860626220703,177.3860626220703,177.3860626220703,177.3860626220703,177.3860626220703,177.3860626220703,177.3860626220703,177.3860626220703,177.3860626220703,177.3860626220703,177.3860626220703,177.3860626220703,177.3860626220703,177.3860626220703,177.3860626220703,177.3860626220703,177.3860626220703,177.3860626220703,177.3860626220703,177.3860626220703,177.3860626220703,177.3860626220703,177.3860626220703,177.3860626220703,177.3860626220703,177.3860626220703,177.3860626220703,177.3860626220703,177.3860626220703,177.3860626220703,177.3860626220703,177.3860626220703,177.3860626220703,177.3860626220703,177.3860626220703,177.3860626220703,177.3860626220703,177.3860626220703,177.3860626220703,177.3860626220703,177.3860626220703,177.3860626220703,177.3860626220703,177.3860626220703,177.3860626220703,177.3860626220703,177.3860626220703,177.3860626220703,177.3860626220703,177.3860626220703,177.3860626220703,177.3860626220703,177.3860626220703,177.3860626220703,177.3860626220703,177.3860626220703,177.3860626220703,177.3860626220703,177.3860626220703,177.3860626220703,177.3860626220703,177.3860626220703,177.3860626220703,177.3860626220703,177.3860626220703,177.3860626220703,177.3860626220703,177.3860626220703,177.3860626220703,177.3860626220703,177.3860626220703,177.3860626220703,177.3860626220703,177.3860626220703,177.3860626220703,177.3860626220703,177.3860626220703,177.3860626220703,177.3860626220703,177.3860626220703,177.3860626220703,177.3860626220703],\"z\":[3.0268545150756836,-2.9490647315979004,-0.29352521896362305,3.5853867530822754,5.224542617797852,6.430384635925293,7.117471694946289,7.329627990722656,7.070781707763672,6.29395866394043,5.959826469421387,5.431875228881836,5.049016952514648,4.290521621704102,3.258516550064087,1.92429780960083,1.169743537902832,3.040698289871216,3.339862823486328,3.1094295978546143,3.1871795654296875,3.187434673309326,3.183986186981201,3.1838717460632324,3.185576915740967,3.1839003562927246,3.182325839996338,3.1829886436462402,3.1827497482299805,3.1826276779174805,3.1826276779174805,3.1826276779174805,3.1826276779174805,3.1826276779174805,3.1826276779174805,3.1826276779174805,3.1826276779174805,3.1826276779174805,3.1826276779174805,3.1826276779174805,3.1826276779174805,3.1826276779174805,3.1826276779174805,3.1826276779174805,3.1826276779174805,3.1826276779174805,3.1826276779174805,3.1826276779174805,3.1826276779174805,3.1826276779174805,3.1826276779174805,3.1826276779174805,3.1826276779174805,3.1826276779174805,3.1826276779174805,3.1826276779174805,3.1826276779174805,3.1826276779174805,3.1826276779174805,3.1826276779174805,3.1826276779174805,3.1826276779174805,3.1826276779174805,3.1826276779174805,3.1826276779174805,3.1826276779174805,3.1826276779174805,3.1826276779174805,3.1826276779174805,3.1826276779174805,3.1826276779174805,3.1826276779174805,3.1826276779174805,3.1826276779174805,3.1826276779174805,3.1826276779174805,3.1826276779174805,3.1826276779174805,3.1826276779174805,3.1826276779174805,3.1826276779174805,3.1826276779174805,3.1826276779174805,3.1826276779174805,3.1826276779174805,3.1826276779174805,3.1826276779174805,3.1826276779174805,3.1826276779174805,3.1826276779174805,3.1826276779174805,3.1826276779174805,3.1826276779174805,3.1826276779174805,3.1826276779174805,3.1826276779174805,3.1826276779174805,3.1826276779174805,3.1826276779174805,3.1826276779174805,3.1826276779174805,3.1826276779174805,3.1826276779174805,3.1826276779174805,3.1826276779174805,3.1826276779174805,3.1826276779174805,3.1826276779174805,3.1826276779174805,3.1826276779174805,3.1826276779174805,3.1826276779174805,3.1826276779174805,3.1826276779174805,3.1826276779174805,3.1826276779174805,3.1826276779174805],\"type\":\"scatter3d\"}],                        {\"template\":{\"data\":{\"histogram2dcontour\":[{\"type\":\"histogram2dcontour\",\"colorbar\":{\"outlinewidth\":0,\"ticks\":\"\"},\"colorscale\":[[0.0,\"#0d0887\"],[0.1111111111111111,\"#46039f\"],[0.2222222222222222,\"#7201a8\"],[0.3333333333333333,\"#9c179e\"],[0.4444444444444444,\"#bd3786\"],[0.5555555555555556,\"#d8576b\"],[0.6666666666666666,\"#ed7953\"],[0.7777777777777778,\"#fb9f3a\"],[0.8888888888888888,\"#fdca26\"],[1.0,\"#f0f921\"]]}],\"choropleth\":[{\"type\":\"choropleth\",\"colorbar\":{\"outlinewidth\":0,\"ticks\":\"\"}}],\"histogram2d\":[{\"type\":\"histogram2d\",\"colorbar\":{\"outlinewidth\":0,\"ticks\":\"\"},\"colorscale\":[[0.0,\"#0d0887\"],[0.1111111111111111,\"#46039f\"],[0.2222222222222222,\"#7201a8\"],[0.3333333333333333,\"#9c179e\"],[0.4444444444444444,\"#bd3786\"],[0.5555555555555556,\"#d8576b\"],[0.6666666666666666,\"#ed7953\"],[0.7777777777777778,\"#fb9f3a\"],[0.8888888888888888,\"#fdca26\"],[1.0,\"#f0f921\"]]}],\"heatmap\":[{\"type\":\"heatmap\",\"colorbar\":{\"outlinewidth\":0,\"ticks\":\"\"},\"colorscale\":[[0.0,\"#0d0887\"],[0.1111111111111111,\"#46039f\"],[0.2222222222222222,\"#7201a8\"],[0.3333333333333333,\"#9c179e\"],[0.4444444444444444,\"#bd3786\"],[0.5555555555555556,\"#d8576b\"],[0.6666666666666666,\"#ed7953\"],[0.7777777777777778,\"#fb9f3a\"],[0.8888888888888888,\"#fdca26\"],[1.0,\"#f0f921\"]]}],\"heatmapgl\":[{\"type\":\"heatmapgl\",\"colorbar\":{\"outlinewidth\":0,\"ticks\":\"\"},\"colorscale\":[[0.0,\"#0d0887\"],[0.1111111111111111,\"#46039f\"],[0.2222222222222222,\"#7201a8\"],[0.3333333333333333,\"#9c179e\"],[0.4444444444444444,\"#bd3786\"],[0.5555555555555556,\"#d8576b\"],[0.6666666666666666,\"#ed7953\"],[0.7777777777777778,\"#fb9f3a\"],[0.8888888888888888,\"#fdca26\"],[1.0,\"#f0f921\"]]}],\"contourcarpet\":[{\"type\":\"contourcarpet\",\"colorbar\":{\"outlinewidth\":0,\"ticks\":\"\"}}],\"contour\":[{\"type\":\"contour\",\"colorbar\":{\"outlinewidth\":0,\"ticks\":\"\"},\"colorscale\":[[0.0,\"#0d0887\"],[0.1111111111111111,\"#46039f\"],[0.2222222222222222,\"#7201a8\"],[0.3333333333333333,\"#9c179e\"],[0.4444444444444444,\"#bd3786\"],[0.5555555555555556,\"#d8576b\"],[0.6666666666666666,\"#ed7953\"],[0.7777777777777778,\"#fb9f3a\"],[0.8888888888888888,\"#fdca26\"],[1.0,\"#f0f921\"]]}],\"surface\":[{\"type\":\"surface\",\"colorbar\":{\"outlinewidth\":0,\"ticks\":\"\"},\"colorscale\":[[0.0,\"#0d0887\"],[0.1111111111111111,\"#46039f\"],[0.2222222222222222,\"#7201a8\"],[0.3333333333333333,\"#9c179e\"],[0.4444444444444444,\"#bd3786\"],[0.5555555555555556,\"#d8576b\"],[0.6666666666666666,\"#ed7953\"],[0.7777777777777778,\"#fb9f3a\"],[0.8888888888888888,\"#fdca26\"],[1.0,\"#f0f921\"]]}],\"mesh3d\":[{\"type\":\"mesh3d\",\"colorbar\":{\"outlinewidth\":0,\"ticks\":\"\"}}],\"scatter\":[{\"fillpattern\":{\"fillmode\":\"overlay\",\"size\":10,\"solidity\":0.2},\"type\":\"scatter\"}],\"parcoords\":[{\"type\":\"parcoords\",\"line\":{\"colorbar\":{\"outlinewidth\":0,\"ticks\":\"\"}}}],\"scatterpolargl\":[{\"type\":\"scatterpolargl\",\"marker\":{\"colorbar\":{\"outlinewidth\":0,\"ticks\":\"\"}}}],\"bar\":[{\"error_x\":{\"color\":\"#2a3f5f\"},\"error_y\":{\"color\":\"#2a3f5f\"},\"marker\":{\"line\":{\"color\":\"#E5ECF6\",\"width\":0.5},\"pattern\":{\"fillmode\":\"overlay\",\"size\":10,\"solidity\":0.2}},\"type\":\"bar\"}],\"scattergeo\":[{\"type\":\"scattergeo\",\"marker\":{\"colorbar\":{\"outlinewidth\":0,\"ticks\":\"\"}}}],\"scatterpolar\":[{\"type\":\"scatterpolar\",\"marker\":{\"colorbar\":{\"outlinewidth\":0,\"ticks\":\"\"}}}],\"histogram\":[{\"marker\":{\"pattern\":{\"fillmode\":\"overlay\",\"size\":10,\"solidity\":0.2}},\"type\":\"histogram\"}],\"scattergl\":[{\"type\":\"scattergl\",\"marker\":{\"colorbar\":{\"outlinewidth\":0,\"ticks\":\"\"}}}],\"scatter3d\":[{\"type\":\"scatter3d\",\"line\":{\"colorbar\":{\"outlinewidth\":0,\"ticks\":\"\"}},\"marker\":{\"colorbar\":{\"outlinewidth\":0,\"ticks\":\"\"}}}],\"scattermapbox\":[{\"type\":\"scattermapbox\",\"marker\":{\"colorbar\":{\"outlinewidth\":0,\"ticks\":\"\"}}}],\"scatterternary\":[{\"type\":\"scatterternary\",\"marker\":{\"colorbar\":{\"outlinewidth\":0,\"ticks\":\"\"}}}],\"scattercarpet\":[{\"type\":\"scattercarpet\",\"marker\":{\"colorbar\":{\"outlinewidth\":0,\"ticks\":\"\"}}}],\"carpet\":[{\"aaxis\":{\"endlinecolor\":\"#2a3f5f\",\"gridcolor\":\"white\",\"linecolor\":\"white\",\"minorgridcolor\":\"white\",\"startlinecolor\":\"#2a3f5f\"},\"baxis\":{\"endlinecolor\":\"#2a3f5f\",\"gridcolor\":\"white\",\"linecolor\":\"white\",\"minorgridcolor\":\"white\",\"startlinecolor\":\"#2a3f5f\"},\"type\":\"carpet\"}],\"table\":[{\"cells\":{\"fill\":{\"color\":\"#EBF0F8\"},\"line\":{\"color\":\"white\"}},\"header\":{\"fill\":{\"color\":\"#C8D4E3\"},\"line\":{\"color\":\"white\"}},\"type\":\"table\"}],\"barpolar\":[{\"marker\":{\"line\":{\"color\":\"#E5ECF6\",\"width\":0.5},\"pattern\":{\"fillmode\":\"overlay\",\"size\":10,\"solidity\":0.2}},\"type\":\"barpolar\"}],\"pie\":[{\"automargin\":true,\"type\":\"pie\"}]},\"layout\":{\"autotypenumbers\":\"strict\",\"colorway\":[\"#636efa\",\"#EF553B\",\"#00cc96\",\"#ab63fa\",\"#FFA15A\",\"#19d3f3\",\"#FF6692\",\"#B6E880\",\"#FF97FF\",\"#FECB52\"],\"font\":{\"color\":\"#2a3f5f\"},\"hovermode\":\"closest\",\"hoverlabel\":{\"align\":\"left\"},\"paper_bgcolor\":\"white\",\"plot_bgcolor\":\"#E5ECF6\",\"polar\":{\"bgcolor\":\"#E5ECF6\",\"angularaxis\":{\"gridcolor\":\"white\",\"linecolor\":\"white\",\"ticks\":\"\"},\"radialaxis\":{\"gridcolor\":\"white\",\"linecolor\":\"white\",\"ticks\":\"\"}},\"ternary\":{\"bgcolor\":\"#E5ECF6\",\"aaxis\":{\"gridcolor\":\"white\",\"linecolor\":\"white\",\"ticks\":\"\"},\"baxis\":{\"gridcolor\":\"white\",\"linecolor\":\"white\",\"ticks\":\"\"},\"caxis\":{\"gridcolor\":\"white\",\"linecolor\":\"white\",\"ticks\":\"\"}},\"coloraxis\":{\"colorbar\":{\"outlinewidth\":0,\"ticks\":\"\"}},\"colorscale\":{\"sequential\":[[0.0,\"#0d0887\"],[0.1111111111111111,\"#46039f\"],[0.2222222222222222,\"#7201a8\"],[0.3333333333333333,\"#9c179e\"],[0.4444444444444444,\"#bd3786\"],[0.5555555555555556,\"#d8576b\"],[0.6666666666666666,\"#ed7953\"],[0.7777777777777778,\"#fb9f3a\"],[0.8888888888888888,\"#fdca26\"],[1.0,\"#f0f921\"]],\"sequentialminus\":[[0.0,\"#0d0887\"],[0.1111111111111111,\"#46039f\"],[0.2222222222222222,\"#7201a8\"],[0.3333333333333333,\"#9c179e\"],[0.4444444444444444,\"#bd3786\"],[0.5555555555555556,\"#d8576b\"],[0.6666666666666666,\"#ed7953\"],[0.7777777777777778,\"#fb9f3a\"],[0.8888888888888888,\"#fdca26\"],[1.0,\"#f0f921\"]],\"diverging\":[[0,\"#8e0152\"],[0.1,\"#c51b7d\"],[0.2,\"#de77ae\"],[0.3,\"#f1b6da\"],[0.4,\"#fde0ef\"],[0.5,\"#f7f7f7\"],[0.6,\"#e6f5d0\"],[0.7,\"#b8e186\"],[0.8,\"#7fbc41\"],[0.9,\"#4d9221\"],[1,\"#276419\"]]},\"xaxis\":{\"gridcolor\":\"white\",\"linecolor\":\"white\",\"ticks\":\"\",\"title\":{\"standoff\":15},\"zerolinecolor\":\"white\",\"automargin\":true,\"zerolinewidth\":2},\"yaxis\":{\"gridcolor\":\"white\",\"linecolor\":\"white\",\"ticks\":\"\",\"title\":{\"standoff\":15},\"zerolinecolor\":\"white\",\"automargin\":true,\"zerolinewidth\":2},\"scene\":{\"xaxis\":{\"backgroundcolor\":\"#E5ECF6\",\"gridcolor\":\"white\",\"linecolor\":\"white\",\"showbackground\":true,\"ticks\":\"\",\"zerolinecolor\":\"white\",\"gridwidth\":2},\"yaxis\":{\"backgroundcolor\":\"#E5ECF6\",\"gridcolor\":\"white\",\"linecolor\":\"white\",\"showbackground\":true,\"ticks\":\"\",\"zerolinecolor\":\"white\",\"gridwidth\":2},\"zaxis\":{\"backgroundcolor\":\"#E5ECF6\",\"gridcolor\":\"white\",\"linecolor\":\"white\",\"showbackground\":true,\"ticks\":\"\",\"zerolinecolor\":\"white\",\"gridwidth\":2}},\"shapedefaults\":{\"line\":{\"color\":\"#2a3f5f\"}},\"annotationdefaults\":{\"arrowcolor\":\"#2a3f5f\",\"arrowhead\":0,\"arrowwidth\":1},\"geo\":{\"bgcolor\":\"white\",\"landcolor\":\"#E5ECF6\",\"subunitcolor\":\"white\",\"showland\":true,\"showlakes\":true,\"lakecolor\":\"white\"},\"title\":{\"x\":0.05},\"mapbox\":{\"style\":\"light\"}}},\"scene\":{\"domain\":{\"x\":[0.0,1.0],\"y\":[0.0,1.0]},\"xaxis\":{\"title\":{\"text\":\"X\"}},\"yaxis\":{\"title\":{\"text\":\"Y\"}},\"zaxis\":{\"title\":{\"text\":\"Z\"}}},\"legend\":{\"title\":{\"text\":\"ID\"},\"tracegroupgap\":0},\"margin\":{\"t\":60},\"height\":600,\"width\":1000},                        {\"responsive\": true}                    ).then(function(){\n",
       "                            \n",
       "var gd = document.getElementById('b1292e6c-a83d-4bd7-ada3-4e440a44f73b');\n",
       "var x = new MutationObserver(function (mutations, observer) {{\n",
       "        var display = window.getComputedStyle(gd).display;\n",
       "        if (!display || display === 'none') {{\n",
       "            console.log([gd, 'removed!']);\n",
       "            Plotly.purge(gd);\n",
       "            observer.disconnect();\n",
       "        }}\n",
       "}});\n",
       "\n",
       "// Listen for the removal of the full notebook cells\n",
       "var notebookContainer = gd.closest('#notebook-container');\n",
       "if (notebookContainer) {{\n",
       "    x.observe(notebookContainer, {childList: true});\n",
       "}}\n",
       "\n",
       "// Listen for the clearing of the current output cell\n",
       "var outputEl = gd.closest('.output');\n",
       "if (outputEl) {{\n",
       "    x.observe(outputEl, {childList: true});\n",
       "}}\n",
       "\n",
       "                        })                };                });            </script>        </div>"
      ]
     },
     "metadata": {},
     "output_type": "display_data"
    }
   ],
   "source": [
    "for event in touching_situations:\n",
    "    print(f'Ids: {event[\"objects\"]}, Start time: {event[\"start_time\"]}, End time: {event[\"end_time\"]}')    \n",
    "    plot_trajectories(event[\"objects\"], event[\"start_time\"], event[\"end_time\"])\n"
   ]
  },
  {
   "cell_type": "code",
   "execution_count": null,
   "id": "8ff841ba-7ff9-4488-b75b-ac8c9bfddd2c",
   "metadata": {},
   "outputs": [],
   "source": []
  }
 ],
 "metadata": {
  "kernelspec": {
   "display_name": "Python 3 (ipykernel)",
   "language": "python",
   "name": "python3"
  },
  "language_info": {
   "codemirror_mode": {
    "name": "ipython",
    "version": 3
   },
   "file_extension": ".py",
   "mimetype": "text/x-python",
   "name": "python",
   "nbconvert_exporter": "python",
   "pygments_lexer": "ipython3",
   "version": "3.11.0"
  }
 },
 "nbformat": 4,
 "nbformat_minor": 5
}
